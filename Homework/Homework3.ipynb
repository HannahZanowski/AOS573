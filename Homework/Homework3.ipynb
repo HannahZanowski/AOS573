{
 "cells": [
  {
   "cell_type": "markdown",
   "metadata": {},
   "source": [
    "<b><font size=20, color='#A020F0'>Homework 3</font></b>"
   ]
  },
  {
   "cell_type": "markdown",
   "metadata": {},
   "source": [
    "#### In this homework you'll further explore xarray by working with atmospheric data from ERA5 reanalysis. \n",
    "You'll also get a chance to put together some nicer figures and work more with cartopy!\n",
    "\n",
    "<b><font color='red'>Due Date: 22 October 2025</font></b><br>(by the beginning of class)\n",
    "\n",
    "<b>How you will turn in this assignment</b><br> When you are ready to turn in your homework, do the following steps:\n",
    "1. Execute all cells in your notebook so that the results are visible, and save one more time. It is ok if you have code that you practiced with, but <b><u>make sure your final answers to each question are clearly marked so that your TA and I know what to grade</u></b>. (You can also collapse the code and outputs that you _don't_ want us to grade; options to collapse and expand code are in the 'View' menu in the upper left)\n",
    "2. Open a terminal and navigate to your local `aos573_completed_assignments` repository and make a new directory called `completed_HW3`\n",
    "3. Move your completed jupyter notebook (<u>and _only_ your notebook</u>) into this directory\n",
    "4. `add` and `commit` the `completed_HW3` directory and its contents to your local `aos573_completed_assignments` repository\n",
    "5. `push` your changes to your remote `aos573_completed_assignments` repository: `git push finished_work main` (you'll need to enter your username and personal access token)\n",
    "6. <b><font color='red'>REMINDER: DO NOT TRACK OR PUSH THE DATA USED IN THE NOTEBOOK</font></b>\n",
    "\n",
    "\n",
    "<b>Some Acknowledgements:</b>\n",
    "Thanks to R. Abernathey's Research Computing class for inspiration for one of the problems in this assignment and Haochang Luo for initially downloading the ERA5 data that was subsequently adapted for this assignment."
   ]
  },
  {
   "cell_type": "markdown",
   "metadata": {},
   "source": [
    "---"
   ]
  },
  {
   "cell_type": "markdown",
   "metadata": {},
   "source": [
    "## Part 1: Reading in and exploring the data\n",
    "The data we'll be using for this homework is from [ERA5 reanalysis](https://www.ecmwf.int/en/forecasts/dataset/ecmwf-reanalysis-v5). We'll be using the following gridded (netcdf) atmospheric fields:\n",
    "\n",
    "1. Air temperature\n",
    "2. Geopotential Height (at 500 mb only)\n",
    "3. Zonal (u) and meridional (v) velocity\n",
    "4. Mean Sea Level Pressure (MSLP)\n",
    "\n",
    "The data are located in our shared directory on our jupyterhub: `/share/Homework_data/HW3_data/`<br>"
   ]
  },
  {
   "cell_type": "markdown",
   "metadata": {},
   "source": [
    "### Q1.1 Load the data and combine it\n",
    "Use xarray to read in each of the four datasets and combine them so that you have one dataset with all four variables. This combined dataset is what you will use for this assignment. \n",
    "> <font color='green'><b>Hint:</b></font> Check out [merge()](http://xarray.pydata.org/en/stable/user-guide/combining.html)"
   ]
  },
  {
   "cell_type": "code",
   "execution_count": null,
   "metadata": {},
   "outputs": [],
   "source": []
  },
  {
   "cell_type": "markdown",
   "metadata": {},
   "source": [
    "### Q1.2 Get some basic information about your dataset"
   ]
  },
  {
   "cell_type": "markdown",
   "metadata": {},
   "source": [
    "#### Q1.2.1 What dates does the time dimension span?"
   ]
  },
  {
   "cell_type": "code",
   "execution_count": null,
   "metadata": {},
   "outputs": [],
   "source": []
  },
  {
   "cell_type": "markdown",
   "metadata": {},
   "source": [
    "#### Q1.2.2 What are the units of each of the data variables?"
   ]
  },
  {
   "cell_type": "code",
   "execution_count": null,
   "metadata": {},
   "outputs": [],
   "source": []
  },
  {
   "cell_type": "markdown",
   "metadata": {},
   "source": [
    "#### Q1.2.3 What are the dimensions of each of the data variables?\n",
    "Here I want two things:\n",
    "1. The names of the dimensions for each variable\n",
    "2. The sizes of those dimensions (i.e., the shape of each data variable)"
   ]
  },
  {
   "cell_type": "code",
   "execution_count": null,
   "metadata": {},
   "outputs": [],
   "source": []
  },
  {
   "cell_type": "markdown",
   "metadata": {},
   "source": [
    "#### Q1.2.4 What is the first value of latitude in the dataset? What is the last?"
   ]
  },
  {
   "cell_type": "code",
   "execution_count": null,
   "metadata": {},
   "outputs": [],
   "source": []
  },
  {
   "cell_type": "markdown",
   "metadata": {},
   "source": [
    "### Q1.3 Doing some conversions"
   ]
  },
  {
   "cell_type": "markdown",
   "metadata": {},
   "source": [
    "#### Q1.3.1 Convert the 2m air temperature to ˚C and the MSLP to hPa. \n",
    "Keep the original attributes of each variable by using [set_options()](http://xarray.pydata.org/en/stable/generated/xarray.set_options.html), but <b>change the units attribute</b> once you do the conversion.\n",
    "\n",
    "><font color='blue'><b>Note:</b></font> For your own reference, here are a couple of nice packages for easily handling unit conversions that are not currently in our environment: [cf_units](https://pypi.org/project/cf-units/) and [pint](https://pint.readthedocs.io/en/stable/)"
   ]
  },
  {
   "cell_type": "code",
   "execution_count": null,
   "metadata": {},
   "outputs": [],
   "source": []
  },
  {
   "cell_type": "markdown",
   "metadata": {},
   "source": [
    "#### Q1.3.2 Create a new data variable in your dataset for geopotential height\n",
    "Geopotential height is the geopotential divided by g=9.8 m s$^{-2}$. Call your variable `phi` and make sure it has the correct units. Then do the following:\n",
    "1. Add the units of phi as an attribute\n",
    "2. Add a 'long_name' attribute for your variable and set this as 'geopotential height'\n",
    "3. Drop the geopotential variable from your dataset."
   ]
  },
  {
   "cell_type": "code",
   "execution_count": null,
   "metadata": {},
   "outputs": [],
   "source": []
  },
  {
   "cell_type": "markdown",
   "metadata": {},
   "source": [
    "### Q1.4 Reindexing\n",
    "Reindex your dataset so that latitude starts at 90˚S and ends at 90˚N"
   ]
  },
  {
   "cell_type": "code",
   "execution_count": null,
   "metadata": {},
   "outputs": [],
   "source": []
  },
  {
   "cell_type": "markdown",
   "metadata": {},
   "source": [
    "## Part 2: Working with the data\n",
    "In this section, you'll do some basic computations on the data variables in your dataset and practice making nice plots with them. The focus is heavy on the plotting part of it, so give yourself enough time to work on these and ask questions!"
   ]
  },
  {
   "cell_type": "markdown",
   "metadata": {},
   "source": [
    "### Q2.1 Revisiting the Southern Oscillation Index"
   ]
  },
  {
   "cell_type": "markdown",
   "metadata": {
    "tags": []
   },
   "source": [
    "#### Q2.1.1 Compute the Southern Oscillation Index\n",
    "Using your MSLP data, compute the Southern Oscillation Index (SOI). The SOI is computed as the difference in _standardized_ monthly mean sea level pressure between Tahiti and Darwin, divided by the standard deviation of their difference. So that means you need to standardize the individual Tahiti and Darwin time series first, then subtract the Darwin time series from the Tahiti time series, and then divide by the standard deviation of that difference. \n",
    "\n",
    "Here's what it looks like in math form:\n",
    "\n",
    "$\\frac{Tahiti_{standardized}-Darwin_{standardized}}{\\sigma_{difference}}$\n",
    "\n",
    "$\\sigma_{difference}=\\sqrt(\\frac{\\sum(Tahiti_{standardized}-Darwin_{standardized})^{2}}{N})$ where $N$ is the length of the time series.\n",
    "\n",
    "To compute the SOI with ERA5 MSLP data, choose the closest latitude and longitude in the data to the actual latitude and longitude of the locations.\n",
    "\n",
    "Tahiti Coordinates: 17.65˚S, 149.43˚W<br>\n",
    "Darwin Coordinates: 12.46˚S, 130.84˚E\n",
    "\n",
    "><font color='darkmagenta'><b>Reminder:</b></font> to standardize a time series, you subtract the mean and divide by the standard deviation of the data: $x_{standardized}=\\frac{x_{i}-\\bar{x}}{\\sigma_{x}}$"
   ]
  },
  {
   "cell_type": "code",
   "execution_count": null,
   "metadata": {},
   "outputs": [],
   "source": []
  },
  {
   "cell_type": "markdown",
   "metadata": {},
   "source": [
    "#### Q2.1.2 Creating a categorical SOI index\n",
    "Create a new categorical DataArray that contains labels for the SOI index based on a $\\pm$ 1 standard deviation threshold. The labels in this array should be as follows:\n",
    "1. SOI>=+1 standard deviation : 'strong_positive_SOI'\n",
    "2. SOI<=-1 standard deviation : 'strong_negative_SOI'\n",
    "3. -1<SOI<1 : 'normal_SOI'\n",
    "\n",
    "When you create your categorical DataArray, set the datatype to be 'U20' (this is a 20 character unicode string). \n",
    "\n",
    "Once you've created your DataArray, <b>add it to your dataset.</b> It should have dimensions of time only, just like the SOI index itself, and each entry should say either 'strong_positive_SOI', 'strong_negative_SOI', or 'normal_SOI'"
   ]
  },
  {
   "cell_type": "code",
   "execution_count": null,
   "metadata": {},
   "outputs": [],
   "source": []
  },
  {
   "cell_type": "markdown",
   "metadata": {},
   "source": [
    "#### Q2.1.3 Spatial composites\n",
    "Using your new SOI categories, make composites (averages) of the global spatial pattern of MSLP when the SOI is strongly positive and when the SOI is strongly negative. To achieve this, you should use groupby on your global MSLP data based on your categories from 1 and 2 above."
   ]
  },
  {
   "cell_type": "code",
   "execution_count": null,
   "metadata": {},
   "outputs": [],
   "source": []
  },
  {
   "cell_type": "markdown",
   "metadata": {},
   "source": [
    "#### Q2.1.4 Plotting your results\n",
    "Create a 3-panel set of plots that show the following:\n",
    "1. A line plot of your SOI index from Q.2.1.1 over time\n",
    "2. A global filled contour map of 'strong positive SOI' MSLP composite anomalies relative to the time mean MSLP\n",
    "3. A global filled contour map of 'strong negative SOI' MSLP composite anomalies relative to the time mean MSLP\n",
    "\n",
    "You should use matplotlib's [gridspec](https://matplotlib.org/stable/tutorials/intermediate/gridspec.html) to create the layout for the plots. They should have the following aspect ratios, and the maps should be on the two bottom subplots:<br>\n",
    "<img src='Images/HW3_Q2.1.4.png' width='400' height='400'/>\n",
    "\n",
    "> <font color='red'><b>Note:</b></font> When you provide a map projection to a subplot call, the map projection will not fill the entire area of the subplot. It will probably make your aspect ratios look different as a result, <b>but this is totally fine for this problem</b>. I recommend trying to set up gridspec without the map projection calls in the subplot commands first, so that you can see that the aspect ratios actually are correct.\n",
    "\n",
    "Additional plotting parameters:\n",
    "1. For the line plot, fill the areas between the y=0 line and the positive SOI index one color and the areas between the y=0 line and the negative SOI values another color. You'll need to use [fill_between()](https://matplotlib.org/stable/gallery/lines_bars_and_markers/fill_between_demo.html)\n",
    "2. For the spatial plots, use a cartopy Mollweide projection, and set the central_longitude to be in the middle of the Pacific Ocean (~160˚W). Put a land outline on the map and place stars at the locations of Tahiti and Darwin. Make sure the stars are large enough to be visible.\n",
    "3. Include a single horizontal colorbar that sits below the two map plots and spans their combined width. You will need to make sure your anomalies cover the same range of values for both plots, and choose a colormap and contour levels that make it easy to interpret what you are showing. \n",
    "4. Include titles for each plot and axis labels for the time series plot. Label your colorbar. <b>Don't forget to include units where appropriate.</b>"
   ]
  },
  {
   "cell_type": "code",
   "execution_count": null,
   "metadata": {},
   "outputs": [],
   "source": []
  },
  {
   "cell_type": "markdown",
   "metadata": {},
   "source": [
    "### Q2.2 Zonal mean temperature and winds"
   ]
  },
  {
   "cell_type": "markdown",
   "metadata": {},
   "source": [
    "#### Q2.2.1 Compute the zonal mean temperature\n",
    "A zonal mean is a mean in the longitudinal, or x-direction."
   ]
  },
  {
   "cell_type": "code",
   "execution_count": null,
   "metadata": {},
   "outputs": [],
   "source": []
  },
  {
   "cell_type": "markdown",
   "metadata": {},
   "source": [
    "#### Q2.2.2 Compute the zonal mean zonal wind (u)\n",
    "The zonal wind is the wind in the longitudinal, or x-direction."
   ]
  },
  {
   "cell_type": "code",
   "execution_count": null,
   "metadata": {},
   "outputs": [],
   "source": []
  },
  {
   "cell_type": "markdown",
   "metadata": {},
   "source": [
    "#### Q2.2.3 Compute the meridional gradient of the zonal mean temperature\n",
    "Take a look at [differentiate()](http://xarray.pydata.org/en/stable/generated/xarray.DataArray.differentiate.html). The meridional gradient is the gradient in the latitudinal, or y-direction. dT/dy should have units of ˚C/m, which means you need to convert latitude to meters. The radius of the Earth is 6371 km. \n",
    "><font color='green'><b>Hint:</b></font> If you've done the conversion correctly, the y-spacing (in meters) between each grid point should be exactly the same. Before you use differentiate, it may be easiest to create a new DataArray for your zonal mean temperature values that have level and your calculated y-values as the coordinates."
   ]
  },
  {
   "cell_type": "code",
   "execution_count": null,
   "metadata": {},
   "outputs": [],
   "source": []
  },
  {
   "cell_type": "markdown",
   "metadata": {},
   "source": [
    "#### Q2.2.4 Plotting your zonal mean T, u, and dT/dy\n",
    "Make a 2x1 plot of the following:\n",
    "1. A filled contour plot of your zonal mean temperature (pressure on the y-axis and latitude on the x-axis) \n",
    "2. A filled contour plot of your meridional temperature gradient (pressure on the y-axis and latitude on the x-axis)\n",
    "\n",
    "On both plots overlay unfilled contours of the zonal mean zonal wind. Make all of your unfilled contours the same color, but make the negative contours dashed lines and the positive contours solid lines\n",
    "\n",
    "Additional plotting parameters:\n",
    "1. Pressure should decrease with height for both plots\n",
    "2. Use the same x-axis for both plots\n",
    "3. Use different colormaps for each plot. Use the [chroma.js Color Palette Helper](https://vis4.net/palettes/#/9|s|00429d,96ffea,ffffe0|ffffe0,ff005e,93003a|1|1) to create a colorblind-friendly colormap for the first plot. You can also use [this color picker](http://tristen.ca/hcl-picker/#/hlc/12/1.09/461F24/DEB646) (or any other color picker you prefer), but you'll have to check on your own if your palette is colorblind-friendly. To create the colormap in matplotlib, use [ListedColormap()](https://matplotlib.org/stable/api/_as_gen/matplotlib.colors.ListedColormap.html) from matplotlib.colors. For the second plot, you can use one of matplotlib's built-in colormaps.\n",
    "4. Include colorbars for both plots\n",
    "5. Include titles for your plots, labels for your colorbars, and label each plot's x- and y-axes. Include units where appropriate.\n",
    "6. Set your x-axis ticks to go from 90˚S to 90˚N by 30˚\n",
    "7. Make your x-axis ticklabels show latitude in ˚S and ˚N"
   ]
  },
  {
   "cell_type": "code",
   "execution_count": null,
   "metadata": {},
   "outputs": [],
   "source": []
  },
  {
   "cell_type": "markdown",
   "metadata": {},
   "source": [
    "### Q2.3 Time mean MSLP and wind vectors"
   ]
  },
  {
   "cell_type": "markdown",
   "metadata": {},
   "source": [
    "#### Q2.3.1 Compute the time mean MSLP and extract u and v at 1000 mb"
   ]
  },
  {
   "cell_type": "code",
   "execution_count": null,
   "metadata": {},
   "outputs": [],
   "source": []
  },
  {
   "cell_type": "markdown",
   "metadata": {},
   "source": [
    "#### Q2.3.2 Compute the magnitude of the 1000 mb wind velocity vector"
   ]
  },
  {
   "cell_type": "code",
   "execution_count": null,
   "metadata": {},
   "outputs": [],
   "source": []
  },
  {
   "cell_type": "markdown",
   "metadata": {},
   "source": [
    "#### Q2.3.3 Plotting MSLP and velocity vectors\n",
    "Make a filled contour plot of time mean MSLP with the 1000 mb wind velocity vectors overlaid. Check out [quiver()](https://matplotlib.org/stable/api/_as_gen/matplotlib.pyplot.quiver.html) for plotting vectors.\n",
    "\n",
    "Additional plotting parameters:\n",
    "1. Make your wind vectors unit length\n",
    "2. Do not plot a vector at every single point, as this will be exceedingly hard to see anything useful\n",
    "3. Plot everything on a Robinson projection\n",
    "4. Choose a colormap other than the default and contour levels that show your MSLP data clearly\n",
    "5. Include a land outline on your plot\n",
    "6. Include a title, label your colorbar, and include units\n",
    "7. Change the default parameters for the arrow size and dimensions\n",
    "\n",
    "><font color='red'><b>Note 1:</b></font> If you are getting a weird error about 2D boolean indexing not being supported when you try to subset your wind vectors, try using just the values with `.values`\n",
    "\n",
    "><font color='red'><b>Note 2:</b></font> If you end up with a vertical white line in the middle of your plot, you need to [add a cyclic point](https://cartopy.readthedocs.io/stable/reference/generated/cartopy.util.add_cyclic_point.html#cartopy.util.add_cyclic_point) (see the second example) to your data before plotting\n",
    "\n",
    "><font color='red'><b>Note 3:</b></font> If you get a warning about vectors at source domain corners not being transformed correctly, you can ignore it for now"
   ]
  },
  {
   "cell_type": "code",
   "execution_count": null,
   "metadata": {},
   "outputs": [],
   "source": []
  },
  {
   "cell_type": "markdown",
   "metadata": {},
   "source": [
    "### Q2.4 Seasonal geopotential height anomalies"
   ]
  },
  {
   "cell_type": "markdown",
   "metadata": {},
   "source": [
    "#### Q2.4.1 Compute the seasonal mean Southern Hemisphere 500 mb geopotential height anomalies\n",
    "Only use data south of 40˚S. Compute anomalies relative to the full time mean of the data (1979-2020) rather than the 1979-2020 mean for each season."
   ]
  },
  {
   "cell_type": "code",
   "execution_count": null,
   "metadata": {},
   "outputs": [],
   "source": []
  },
  {
   "cell_type": "markdown",
   "metadata": {},
   "source": [
    "#### Q2.4.2 Plot the seasonal Southern Hemisphere geopotential height anomalies\n",
    "Make sure your plot adheres to the following parameters:\n",
    "1. The subplots should be on a 2x2 grid\n",
    "2. The subplots should use a cartopy south polar stereographic projection\n",
    "3. Each subplot should have a title for the season it is showing. The overall plot should have a title as well. For all of the titles, use a font different from the default\n",
    "4. Plot a single colorbar for the anomalies. This colorbar should be vertical, it should span the width of two of the subplots, and it should be on the right of the figure. It should have a label that includes the name of the variable and the units\n",
    "5. Use a colormap that shows the anomalies clearly (do not use the default colormap), and choose an appropriate range for the contour levels\n",
    "6. Add a land outline and gridlines to your subplots that are clearly distinguishable from the colors of your chosen colormap\n",
    "7. Your plot should be large enough to tell what is going on in each subplot, and all titles and labels should be legible\n",
    "\n",
    "><font color='blue'><b>Note 1:</b></font> If you want the bounding box of each subplot axis to be circular, check out [this example from cartopy](https://cartopy.readthedocs.io/v0.25.0.post2/gallery/lines_and_polygons/always_circular_stereo.html#sphx-glr-gallery-lines-and-polygons-always-circular-stereo-py)\n",
    "\n",
    "><font color='red'><b>Note 2:</b></font> If you keep getting a warning about your font family not being found, this is because we only have standard linux fonts available on the jupyterhub. You can choose one of these standard fonts (you'll have to look up some linux fonts yourself and test them out; they won't all work), or you can leave things as is. As long as you demonstrate in your code that you provided the correct command to change the default font, you will get full points for that part of the problem, whether or not the font actually changes on your plot."
   ]
  },
  {
   "cell_type": "code",
   "execution_count": null,
   "metadata": {},
   "outputs": [],
   "source": []
  }
 ],
 "metadata": {
  "kernelspec": {
   "display_name": "Python [conda env:uw-fall-2025]",
   "language": "python",
   "name": "conda-env-uw-fall-2025-py"
  },
  "language_info": {
   "codemirror_mode": {
    "name": "ipython",
    "version": 3
   },
   "file_extension": ".py",
   "mimetype": "text/x-python",
   "name": "python",
   "nbconvert_exporter": "python",
   "pygments_lexer": "ipython3",
   "version": "3.11.13"
  }
 },
 "nbformat": 4,
 "nbformat_minor": 4
}
