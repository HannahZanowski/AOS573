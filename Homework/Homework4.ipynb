{
 "cells": [
  {
   "cell_type": "markdown",
   "metadata": {},
   "source": [
    "<b><font size=20, color='#A020F0'>Homework 4</font></b>"
   ]
  },
  {
   "cell_type": "markdown",
   "metadata": {},
   "source": [
    "#### In this homework you'll further explore xESMF and xgcm\n",
    "\n",
    "<b><font color='red'>Due Date: 20 November 2023</font></b><br>(by the beginning of class)\n",
    "\n",
    "<b>How you will turn in this assignment</b><br> When you are ready to turn in your homework, do the following steps:\n",
    "1. Execute all cells in your notebook so that the results are visible, and save one more time. It is ok if you have code that you practiced with, but <b><u>make sure your final answers to each question are clearly marked so that your TA and I know what to grade</u></b>. (You can also collapse the code and outputs that you _don't_ want us to grade; options to collapse and expand code are in the 'View' menu in the upper left)\n",
    "2. Open a terminal and navigate to your local `aos573_completed_assignments` repository and make a new directory called `completed_HW4`\n",
    "3. Move your completed jupyter notebook (<u>and _only_ your notebook</u>) into this directory\n",
    "4. `add` and `commit` the `completed_HW4` directory and its contents to your local `aos573_completed_assignments` repository\n",
    "5. `push` your changes to your remote `aos573_completed_assignments` repository: `git push finished_work main` (you'll need to enter your username and personal access token)\n",
    "6. <b><font color='red'>REMINDER: DO NOT TRACK OR PUSH THE DATA USED IN THE NOTEBOOK</font></b>"
   ]
  },
  {
   "cell_type": "markdown",
   "metadata": {},
   "source": [
    "---"
   ]
  },
  {
   "cell_type": "markdown",
   "metadata": {},
   "source": [
    "## Part 1: Regridding with xESMF"
   ]
  },
  {
   "cell_type": "markdown",
   "metadata": {},
   "source": [
    "### Q1.1 Comparing regridding methods\n",
    "In this question you'll use xESMF to regrid some \"data\" that you'll create below and then compare the regridded output"
   ]
  },
  {
   "cell_type": "markdown",
   "metadata": {},
   "source": [
    "#### Q1.1.1 Create a grid for your data\n",
    "Create a global 5˚x 5˚ grid using xESMF. This is the original grid your data will be on"
   ]
  },
  {
   "cell_type": "code",
   "execution_count": null,
   "metadata": {},
   "outputs": [],
   "source": []
  },
  {
   "cell_type": "markdown",
   "metadata": {},
   "source": [
    "#### Q1.1.2 Create some data\n",
    "Create some data for regridding that adheres to the following:<br>\n",
    "$data=cos(\\phi)*sin((\\theta-\\phi)^{2})-cos(\\theta)*sin((\\theta+\\phi)^{2})$, where $\\phi$ is latitude in radians and $\\theta$ is longitude, also in radians.<br>\n",
    "\n",
    "Compute your data using the latitude and longitude you created in Q1.1.1. and add it to your grid dataset"
   ]
  },
  {
   "cell_type": "code",
   "execution_count": null,
   "metadata": {},
   "outputs": [],
   "source": []
  },
  {
   "cell_type": "markdown",
   "metadata": {},
   "source": [
    "#### Q1.1.3 Create the target grid\n",
    "Create a 2.5˚ x 2.5˚ target grid onto which you will regrid your data"
   ]
  },
  {
   "cell_type": "code",
   "execution_count": null,
   "metadata": {},
   "outputs": [],
   "source": []
  },
  {
   "cell_type": "markdown",
   "metadata": {},
   "source": [
    "#### Q1.1.4 Regrid your data\n",
    "Regrid your data onto your target grid using the nearest_s2d, nearest_d2s, bilinear, conservative, and patch methods"
   ]
  },
  {
   "cell_type": "code",
   "execution_count": null,
   "metadata": {},
   "outputs": [],
   "source": []
  },
  {
   "cell_type": "markdown",
   "metadata": {},
   "source": [
    "#### Q1.1.5 Compare the results\n",
    "1. Make a 2x3 panel of pcolormesh plots showing your original data compared to each regridding method. These need not be super nice, but make sure each subplot has a colorbar and a title for the regridding method used.\n",
    "2. Compare the results of each method to the original data by computing the sum of each regridded field. Express your answers as a fraction of the sum of the original data. \n",
    "\n",
    "><b><font color='green'>Hint:</font></b> To correctly compare the results, you will need to scale your regridded fields by a factor that relates the grid spacing of the original and target grids.\n",
    "\n",
    "3. Which method(s) seem to reliably match the original input? Which (if any) don't?"
   ]
  },
  {
   "cell_type": "code",
   "execution_count": null,
   "metadata": {},
   "outputs": [],
   "source": []
  },
  {
   "cell_type": "markdown",
   "metadata": {},
   "source": [
    "#### Q1.1.6 Switching grids\n",
    "Repeat Q1.1.1-1.1.4 but this time with the following parameters:\n",
    "1. Original grid: 2.5˚x2.5˚\n",
    "2. Target grid: 5.0˚x5.0˚\n",
    "\n",
    "Compare your results again by making the same set of plots you did in Q1.1.5 but with your new output (there is no need to sum the fields like you originally did in Q1.1.5, just make the plot). \n",
    "\n",
    "Which method(s) seem to reliably match the original input this time? Which (if any) don't?"
   ]
  },
  {
   "cell_type": "code",
   "execution_count": null,
   "metadata": {},
   "outputs": [],
   "source": []
  },
  {
   "cell_type": "markdown",
   "metadata": {},
   "source": [
    "### Q1.2 Revisiting MERRA2\n",
    "For this question you'll need some of the MERRA2 data from `/share/Notebook_data/MERRA2/`. The file you should be using is `MERRA2.tavgC_2d_ltm_Nx.198101_201001.nc4`"
   ]
  },
  {
   "cell_type": "markdown",
   "metadata": {},
   "source": [
    "#### Q1.2.1 Regridding total precipitation\n",
    "Regrid the variable `PRECTOT` onto a global 2˚ x 2˚ grid using the bilinear method"
   ]
  },
  {
   "cell_type": "code",
   "execution_count": null,
   "metadata": {},
   "outputs": [],
   "source": []
  },
  {
   "cell_type": "markdown",
   "metadata": {},
   "source": [
    "#### Q1.2.2 Comparing your results\n",
    "Make a single plot with the following:\n",
    "1. A line plot of zonal mean PRECTOT from the original data vs the original latitude\n",
    "2. A line plot of the regridded zonal mean PRECTOT vs the regridded latitude\n",
    "Make sure your plot includes a title, x and y axes labels, and a legend.<br>\n",
    "\n",
    "Where do you see differences between the original and regridded zonal mean data (you can give a latitude range as your answer)? Based on what the original zonal mean data _look like_, why do you suppose this is the case? \n",
    "\n",
    "><b><font color='blue'>Note:</font></b> Do not try to provide some sort of physical mechanism here; this answer should be about the regridding algorithm you used."
   ]
  },
  {
   "cell_type": "code",
   "execution_count": null,
   "metadata": {},
   "outputs": [],
   "source": []
  },
  {
   "cell_type": "markdown",
   "metadata": {},
   "source": [
    "---"
   ]
  },
  {
   "cell_type": "markdown",
   "metadata": {},
   "source": [
    "## Part 2: Using xgcm\n",
    "In this section you'll be using some sea ice variables from [CanESM5](https://gmd.copernicus.org/articles/12/4823/2019/gmd-12-4823-2019.html), one of the models in the [Coupled Model Intercomparison Project Phase 6](https://www.wcrp-climate.org/wgcm-cmip/wgcm-cmip6) (CMIP6). The variables you'll be using are the following:\n",
    "1. sea ice concentration (siconc)--the percentage of a model grid cell covered by sea ice\n",
    "2. sea ice zonal velocity (siu)\n",
    "3. sea ice meridional velocity (siv)\n",
    "4. ocean grid cell area (grid_cell_area)\n",
    "\n",
    "Each sea ice variable is a 2D field of the mean value from 1850-2015. The output from CanESM5 is in the file called `SImon_CanESM5_historical_r1i1p2f1_gn_185001-201412_mean.nc` and it's in the `Homework/data/` folder of our course repo."
   ]
  },
  {
   "cell_type": "markdown",
   "metadata": {},
   "source": [
    "### Q2.1 Determining the grid your data are on\n",
    "Read in the data and determine the Arakawa grid that your model output is on. The following information will help:\n",
    "1. siconc is a tracer point; its associated latitude and longitude are called 'lat' and 'lon' in the output\n",
    "2. The associated latitude and longitude for siu points are called 'lat_u' and 'lon_u' in the output\n",
    "3. The associated latitude and longitude for siv points are called 'lat_v' and 'lon_v' in the output\n",
    "\n",
    "It may also help to make a scatter plot showing a single lat/lon location for each variable so that you can see the relationship between their coordinates."
   ]
  },
  {
   "cell_type": "code",
   "execution_count": null,
   "metadata": {},
   "outputs": [],
   "source": []
  },
  {
   "cell_type": "markdown",
   "metadata": {},
   "source": [
    "### Q2.2 Determine the grid axes shifts\n",
    "How are the sea ice velocity points shifted relative to the sea ice concentration points? Express your answer in terms of cardinal directions, i.e, \"siu points are southwest of siconc points\", etc."
   ]
  },
  {
   "cell_type": "code",
   "execution_count": null,
   "metadata": {},
   "outputs": [],
   "source": []
  },
  {
   "cell_type": "markdown",
   "metadata": {},
   "source": [
    "### Q2.3 Create an xgcm grid for your dataset\n",
    "Now that you know how the siu and siv points are related to the siconc points, create an xgcm grid that accounts for this."
   ]
  },
  {
   "cell_type": "code",
   "execution_count": null,
   "metadata": {},
   "outputs": [],
   "source": []
  },
  {
   "cell_type": "markdown",
   "metadata": {},
   "source": [
    "### Q2.4 Interpolate your sea ice velocities onto your siconc points\n",
    "Use xarray's built-in plotting commands to make a 1x2 set of pcolormesh plots showing your interpolated siu and siv fields. Give each plot a title. These need not look super nice."
   ]
  },
  {
   "cell_type": "code",
   "execution_count": null,
   "metadata": {},
   "outputs": [],
   "source": []
  },
  {
   "cell_type": "markdown",
   "metadata": {},
   "source": [
    "### Q2.5 Weighted interpolation\n",
    "The above computation assumes that all grid cell widths and heights are the same size along their respective dimensions, but this isn't true, especially as you go toward the North Pole in this model. To account for this, xgcm can also do weighted interpolation. \n",
    "\n",
    "For this problem, interpolate siu and siv onto the siconc points again, but this time weight the interpolation with the appropriate metrics, i.e., the widths and/or heights associated with each grid cell. You will need to create these metrics for the dataset and add them to your xgcm grid so that you can tell xgcm to weight the interpolation. You will also need to decide which metrics you actually need in order to do the interpolation that you want.\n",
    "\n",
    "><b><font color='green'>Hint:</font></b> I <b>_strongly_</b> recommend drawing a picture similar to the grids I showed in lecture, to help you understand what metrics you need to compute to use as the weights. Your widths and heights should be distances in units of meters."
   ]
  },
  {
   "cell_type": "markdown",
   "metadata": {},
   "source": [
    "#### Q2.5.1 Compute the metrics that you need for interpolating siu and siv onto siconc points"
   ]
  },
  {
   "cell_type": "code",
   "execution_count": null,
   "metadata": {},
   "outputs": [],
   "source": []
  },
  {
   "cell_type": "markdown",
   "metadata": {},
   "source": [
    "#### Q2.5.2 Create an xgcm grid with your metrics\n",
    "Create the same xgcm grid as you did in Q2.3 but now include the metrics"
   ]
  },
  {
   "cell_type": "code",
   "execution_count": null,
   "metadata": {},
   "outputs": [],
   "source": []
  },
  {
   "cell_type": "markdown",
   "metadata": {},
   "source": [
    "#### Q2.5.3 Interpolate siu and siv onto the siconc grid again\n",
    "Don't forget to include the weighting, and be sure to check that your interpolated siu and siv output is actually on the siconc grid!"
   ]
  },
  {
   "cell_type": "code",
   "execution_count": null,
   "metadata": {},
   "outputs": [],
   "source": []
  },
  {
   "cell_type": "markdown",
   "metadata": {},
   "source": [
    "#### Q2.5.4 Plot the sea ice transport\n",
    "Make a 2-panel set of filled contour (or pcolormesh) plots of the Arctic and Antarctic sea ice transport magnitude with unit vectors overlaid that show the transport direction.\n",
    "\n",
    "For our purposes we'll define 'sea ice transport' as the sea ice area multiplied by the sea ice velocity. You will need to compute the sea ice area, which is just the sea ice concentration (expressed as a fraction) multiplied by the grid cell area.\n",
    "\n",
    "<b>For the Arctic, only plot the unit vectors for sea ice transport magnitudes greater than $1.5\\times10^{8}$ $m^{3} s^{-1}$</b>\n",
    "\n",
    "Additional plotting parameters:\n",
    "1. Use a polar stereographic projection for each plot\n",
    "2. For the Arctic, only plot 50˚N and northward; for the Antarctic only plot 50˚S and southward\n",
    "3. Add land boundaries to your plots\n",
    "4. Choose an appropriate colormap for the data\n",
    "5. Add colorbars (or a single colorbar for both plots) and label them; include units!!\n",
    "6. Add a title to each subplot"
   ]
  },
  {
   "cell_type": "code",
   "execution_count": null,
   "metadata": {},
   "outputs": [],
   "source": []
  },
  {
   "cell_type": "markdown",
   "metadata": {},
   "source": [
    "---"
   ]
  }
 ],
 "metadata": {
  "kernelspec": {
   "display_name": "Python [conda env:uwb-fall-2023]",
   "language": "python",
   "name": "conda-env-uwb-fall-2023-py"
  },
  "language_info": {
   "codemirror_mode": {
    "name": "ipython",
    "version": 3
   },
   "file_extension": ".py",
   "mimetype": "text/x-python",
   "name": "python",
   "nbconvert_exporter": "python",
   "pygments_lexer": "ipython3",
   "version": "3.8.17"
  }
 },
 "nbformat": 4,
 "nbformat_minor": 4
}
