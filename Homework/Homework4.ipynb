{
 "cells": [
  {
   "cell_type": "markdown",
   "metadata": {},
   "source": [
    "<b><font size=20, color='#A020F0'>Homework 4</font></b>"
   ]
  },
  {
   "cell_type": "markdown",
   "metadata": {},
   "source": [
    "#### In this homework you'll further explore MetPy and you'll get a chance to practice packaging code \n",
    "\n",
    "<b><font color='red'>Due Date: 8 November 2021</font></b><br>(by the beginning of class)\n",
    "\n",
    "<b>How you will turn in this assignment</b><br> When you are ready to turn in your homework, do the following steps:\n",
    "1. Execute all cells in your notebook so that the results are visible, and save one more time. It is ok if you have code that you practiced with, but <b><u>make sure your final answers to each question are clearly marked so that your TA and I know what to grade</u></b>. (You can also collapse the code and outputs that you _don't_ want us to grade; options to collapse and expand code are in the 'View' menu in the upper left)\n",
    "2. Open a terminal and navigate to your local `AOS573` repository and make a new directory called `completed_HW4`\n",
    "3. Move your completed jupyter notebook into this directory, <b><font color='red'> and if you haven't yet done so, move your `make_skew_t` directory and its contents here as well.</font></b>\n",
    "4. `add` and `commit` the `completed_HW4` directory and its contents to your local `AOS573` repository\n",
    "5. `push` your changes to your remote `aos573_completed_assignments` repository: `git push finished_work main` (you'll need to enter your username and personal access token)"
   ]
  },
  {
   "cell_type": "markdown",
   "metadata": {},
   "source": [
    "---"
   ]
  },
  {
   "cell_type": "markdown",
   "metadata": {},
   "source": [
    "## Part 1: Reading in the data\n",
    "The data we'll be using for this homework is a sounding from Springfield, Missouri on May 22, 2011, the day of the devastating Joplin, MO tornado. Twice a day at locations across the U.S., the National Weather Service (NWS) launches [radiosondes](https://www.weather.gov/upperair/factsheet) (on weather balloons) that measure various atmospheric properties including pressure, temperature, humidity, windspeed and direction, etc. The information collected from the radiosonde is known as an upper air sounding. You can get past sounding data from stations all over North America from this [sounding database](http://weather.uwyo.edu/upperair/sounding.html) from the University of Wyoming. You can also get present [sounding data](https://www.spc.noaa.gov/exper/soundings/) (and much more) from the [NWS Storm Prediction Center](https://www.spc.noaa.gov/). "
   ]
  },
  {
   "cell_type": "markdown",
   "metadata": {},
   "source": [
    "### Q1.1 Load the data\n",
    "Load the sounding data file 'SGF2011052212Z.txt'. You may want to open the data and look at it first to figure out how you should read it in. The sounding file contains 11 variables:\n",
    "1. Pressure (PRES)\n",
    "2. Height (HGHT)\n",
    "3. Air temperature (TEMP)\n",
    "4. Dewpoint (DWPT)\n",
    "5. Relative humidity (RELH)\n",
    "6. Mixing ratio (MIXR)\n",
    "7. Wind direction (DRCT)\n",
    "8. Wind speed (SKNT)\n",
    "9. Potential temperature (THTA)\n",
    "10. Equivalent potential temperature (THTE)\n",
    "11. Virtual temperature (THTV)"
   ]
  },
  {
   "cell_type": "code",
   "execution_count": null,
   "metadata": {},
   "outputs": [],
   "source": []
  },
  {
   "cell_type": "markdown",
   "metadata": {},
   "source": [
    "### Q1.2 Use metpy to add units to your data\n",
    "Add units to each variable in the dataset"
   ]
  },
  {
   "cell_type": "code",
   "execution_count": null,
   "metadata": {},
   "outputs": [],
   "source": []
  },
  {
   "cell_type": "markdown",
   "metadata": {},
   "source": [
    "---"
   ]
  },
  {
   "cell_type": "markdown",
   "metadata": {},
   "source": [
    "## Part 2: Working with the data\n",
    "In this section, you'll do some basic computations on your dataset and use this information to make a more complex Skew-T diagram. The metpy calculation section for [soundings](https://unidata.github.io/MetPy/latest/api/generated/metpy.calc.html#soundings) will be useful."
   ]
  },
  {
   "cell_type": "markdown",
   "metadata": {},
   "source": [
    "### Q2.1 Compute the pressure and temperature of the lifting condensation level\n",
    "The lifting condensation level (LCL) is the level at which an air parcel becomes saturated. Use metpy's built-in function for computing the LCL, and use the first valid temperature, dewpoint, and pressure in the data as your starting point."
   ]
  },
  {
   "cell_type": "code",
   "execution_count": null,
   "metadata": {
    "tags": []
   },
   "outputs": [],
   "source": []
  },
  {
   "cell_type": "markdown",
   "metadata": {},
   "source": [
    "### Q2.2 Calculate the parcel profile\n",
    "Use metpy's [parcel_profile](https://unidata.github.io/MetPy/latest/api/generated/metpy.calc.parcel_profile.html#metpy.calc.parcel_profile) to calculate a parcel profile starting at the same temperature and dewpoint as you did in Q2.1. Only compute the profile for <b>_every other_</b> pressure value, and convert the result to ˚C"
   ]
  },
  {
   "cell_type": "code",
   "execution_count": null,
   "metadata": {},
   "outputs": [],
   "source": []
  },
  {
   "cell_type": "markdown",
   "metadata": {},
   "source": [
    "### Q2.3 Compute the vector components of the wind\n",
    "Given the windspeed and direction, compute the u and v components of the wind using metpy's [wind_components()](https://unidata.github.io/MetPy/latest/api/generated/metpy.calc.wind_components.html#metpy.calc.wind_components) function. You must convert your windspeed from knots to m/s first!"
   ]
  },
  {
   "cell_type": "code",
   "execution_count": null,
   "metadata": {},
   "outputs": [],
   "source": []
  },
  {
   "cell_type": "markdown",
   "metadata": {},
   "source": [
    "### Q2.4 Plot a Skew-T with your data and your results from Q2.1-2.3\n",
    "Make a Skew-T diagram with the following parameters. You will need to refer to metpy's [SkewT documentation](https://unidata.github.io/MetPy/latest/api/generated/metpy.plots.SkewT.html#metpy.plots.SkewT) to be able to do some of the following:\n",
    "1. Plot the air temperature profile\n",
    "2. Plot the dewpoint profile\n",
    "3. Plot wind barbs on the side of your Skew T\n",
    "4. Plot a star at the location of the lifting condensation level (make it big enough to be visible)\n",
    "5. Plot the parcel profile\n",
    "6. Plot the dry and moist adiabats\n",
    "8. Set the y-axis limits to be 1000 hPa (lower limit) and 100 hPa (upper limit). Choose a reasonable set of x-axis limits.\n",
    "9. Add a title to your plot and x- and y-axis labels\n",
    "\n",
    "Please be thoughtful about the colors you use for the lines in 1,2,5, and 6. You may also want to thin out your wind barbs so that they are plotted every few points. It's up to you to decide what you think looks nicest. "
   ]
  },
  {
   "cell_type": "code",
   "execution_count": null,
   "metadata": {},
   "outputs": [],
   "source": []
  },
  {
   "cell_type": "markdown",
   "metadata": {},
   "source": [
    "---"
   ]
  },
  {
   "cell_type": "markdown",
   "metadata": {},
   "source": [
    "## Part 3: Packaging your code\n",
    "In this section you'll use what you did in the first two parts of the assignment to create a module that plots a Skew-T diagram given an input sounding file like the one you used for this assignment. Your module should have appropriate docstrings, and you'll then turn it into a package by creating a new directory with the structure and contents that we talked about in class. \n",
    "\n",
    "<b>Please note: <font color='red'>I will be testing your module on a different sounding profile, so do your best to make it as general as possible! </font></b>\n",
    "\n",
    "To help make sure you cover everything, we'll go through this step-by-step:"
   ]
  },
  {
   "cell_type": "markdown",
   "metadata": {},
   "source": [
    "### 3.1 Write a function for making a skew T diagram\n",
    "Write a function called `my_skew_t` that takes as an argument a .txt file containing upper air sounding data and plots a skew-T diagram of the data. For simplicity, assume that the input is exactly the same as in the sounding file you used for Parts 1 and 2 (when I test your module I will make sure that the data is in the same format). Your function may include other arguments if you wish, but one must be the data file.\n",
    "\n",
    "The plot your function creates should be a simplified version of Q2.4 in which only the temperature profile, the dewpoint, and the moist and dry adiabats are shown. The plot should have a title containing time and location information and x and y axis labels. Please do not compute or plot the lifting condensation level, the parcel profile, or the wind barbs.\n",
    "\n",
    "<b>Note:</b> Beware of certain hard-coded values in your function! These will stay the same even if you apply your function to a new dataset, and you may not want that!"
   ]
  },
  {
   "cell_type": "code",
   "execution_count": null,
   "metadata": {},
   "outputs": [],
   "source": []
  },
  {
   "cell_type": "markdown",
   "metadata": {},
   "source": [
    "### 3.2 Turn your function into a module\n",
    "Once you have your function and you are sure it works, copy it to a file called my_skew_t.py. Make sure your .py file has complete and properly formatted docstrings and that all of the necessary packages that you need to import are there as well. I should be able to tell what your function is doing only with the information your provide in the docstrings and comments."
   ]
  },
  {
   "cell_type": "markdown",
   "metadata": {},
   "source": [
    "### 3.3 Package your code\n",
    "Create a new folder called `make_skew_t` with the correct directory structure for a python package. You can create this directory in your `completed_HW4` directory, as you'll need to move it there to turn it in anyway. Within your `make_skew_t` directory, include a `README` and a `setup.py` file for installing your package. Include a subdirectory for your `my_skew_t` module, and don't forget to include an `__init__.py` file in this subdirectory!"
   ]
  },
  {
   "cell_type": "markdown",
   "metadata": {},
   "source": [
    "---"
   ]
  }
 ],
 "metadata": {
  "kernelspec": {
   "display_name": "Python [conda env:AOS573_F21] *",
   "language": "python",
   "name": "conda-env-AOS573_F21-py"
  },
  "language_info": {
   "codemirror_mode": {
    "name": "ipython",
    "version": 3
   },
   "file_extension": ".py",
   "mimetype": "text/x-python",
   "name": "python",
   "nbconvert_exporter": "python",
   "pygments_lexer": "ipython3",
   "version": "3.7.10"
  }
 },
 "nbformat": 4,
 "nbformat_minor": 4
}
