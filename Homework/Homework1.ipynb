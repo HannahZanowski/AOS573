{
 "cells": [
  {
   "cell_type": "markdown",
   "metadata": {},
   "source": [
    "<b><font size=20, color='#A020F0'>Homework 1</font></b>"
   ]
  },
  {
   "cell_type": "markdown",
   "metadata": {},
   "source": [
    "#### In this homework you'll further explore basic python, numpy, and matplotlib. You'll also get a chance to download your own python distribution and build your own python environment.\n",
    "\n",
    "<b><font color='red'>Due Date: 24 September 2025</font></b><br>(by the beginning of class)\n",
    "\n",
    "<b>How you will turn in this assignment</b><br> When you are ready to turn in your homework, do the following steps:\n",
    "1. Execute all cells in your notebook so that the results are visible. It is ok if you have code that you practiced with, but <b><u>make sure your final answers to each question are clearly marked so that your TA and I know what to grade</u></b>. (See example setup in Question 1 below. You can also collapse the code and outputs that you _don't_ want us to grade; options to collapse and expand code are in the 'View' menu in the upper left)\n",
    "2. Open a terminal and navigate to your local `aos573_completed_assignments` repository and make a new directory called `completed_HW1`\n",
    "3. Move your completed jupyter notebook, your external .py script (Q1.3), and your .yml python environment file (Exercise 3.3) into this directory (when you do this git will effectively assume you deleted the files from the current directory, so you need to add and commit those changes as well)\n",
    "4. `add` and `commit` the `completed_HW1` directory and its contents to your local `aos573_completed_assignments` repository\n",
    "5. Finally, `push` your changes to your remote `aos573_completed_assignments` repository: `git push finished_work main` (you'll need to enter your username and personal access token)"
   ]
  },
  {
   "cell_type": "markdown",
   "metadata": {},
   "source": [
    "---"
   ]
  },
  {
   "cell_type": "markdown",
   "metadata": {},
   "source": [
    "## Part 1: Basic Python"
   ]
  },
  {
   "cell_type": "markdown",
   "metadata": {},
   "source": [
    "### Q1.1 Write a for loop that takes two lists of numbers and multiplies them\n",
    "You can make whatever lists of numbers you want. The lists should both be 1D and the multiplication should be elementwise."
   ]
  },
  {
   "cell_type": "markdown",
   "metadata": {},
   "source": [
    "#### A1.1 You can put your answer below a heading like this if you want"
   ]
  },
  {
   "cell_type": "code",
   "execution_count": null,
   "metadata": {},
   "outputs": [],
   "source": []
  },
  {
   "cell_type": "markdown",
   "metadata": {},
   "source": [
    "### Q1.2 Conditional statements\n",
    "Say I have the following list of numbers and animals: `1,2,3,'dog','cat',7,11,'bird'`<br>\n",
    "I want to write some code that does the following:\n",
    "1. Checks if the number or animal I provide is in the list or not (and tells me so by printing a statement telling me that)\n",
    "2. If the animal or number I provide IS in the list I want the code to tell me whether it's a number or an animal"
   ]
  },
  {
   "cell_type": "code",
   "execution_count": null,
   "metadata": {},
   "outputs": [],
   "source": []
  },
  {
   "cell_type": "markdown",
   "metadata": {},
   "source": [
    "### Q1.3 Create a script\n",
    "Create a python script that runs the code your wrote in Q1.2 so you that can run it on the command line with `python my_script.py` (you can name your .py file whatever you want). <b>Make sure the script works by testing it on the command line, <u>and include a screenshot of your script test below.</u></b> You just need to be able to run the script and have it produce some output (I don't care what the script looks like or how you do it). The script doesn't need to take command line inputs, but if you want to try that, I recommend an internet search of 'python `sys.argv`'. <b><font color='red'> Don't forget to include your .py script AND your screenshot when turning in your notebook!"
   ]
  },
  {
   "cell_type": "markdown",
   "metadata": {},
   "source": []
  },
  {
   "cell_type": "markdown",
   "metadata": {},
   "source": [
    "### Q1.4 Writing your own function \n",
    "Given the following information about some random people I made up, write a function that compares the age of any two of them and returns the person that is older. Your function should have two inputs (for the names of the two people you want to compare), and it should output the name of the person that is oldest. Be sure to include comments in your code that describes what your function does and how to use it. <b>Show that your function works by testing it in a new cell below where you write your code in this notebook.</b>\n",
    "\n",
    "People info:\n",
    "\n",
    "$\\begin{array}{|c|c|}\n",
    " \\hline\n",
    " Name & Age \\\\\n",
    " \\hline\n",
    " Larry & 97 \\\\ \n",
    " Barry & 16 \\\\\n",
    " Gary & 34 \\\\\n",
    " Jerry & 55 \\\\\n",
    " \\hline\n",
    "\\end{array}$"
   ]
  },
  {
   "cell_type": "code",
   "execution_count": null,
   "metadata": {},
   "outputs": [],
   "source": []
  },
  {
   "cell_type": "markdown",
   "metadata": {},
   "source": [
    "### Q1.5 Missing values, nan, and zip"
   ]
  },
  {
   "cell_type": "markdown",
   "metadata": {},
   "source": [
    "#### Q1.5.1 Using nan and checking whether something is finite\n",
    "In our line of work we often have missing values in our data, which can be represented as a particular number (like -99 for example), or nan (not a number). Given the list of numbers below, write some code that does the following:\n",
    "1. Replaces all values of -99 with nan (hint: you'll need to import a package to use nan)\n",
    "2. Makes a new list with only the finite (non-nan) values in it\n",
    "\n",
    "$a=[1,2,3,4,-99,6,7,-99,9,-99]$"
   ]
  },
  {
   "cell_type": "code",
   "execution_count": null,
   "metadata": {},
   "outputs": [],
   "source": []
  },
  {
   "cell_type": "markdown",
   "metadata": {},
   "source": [
    "#### Q1.5.2 Turn the result of 1.5.1 into a function\n",
    "Make a function that takes as input an arbitrary list of numbers with missing values and returns a list without those missing values. Design your function so it has a `missing_value` argument, with a default of -99. Test your function with the default missing value by using the original list in 1.5.1. Then test it with the following list, where -999 is the missing value:\n",
    "\n",
    "$b=[10,20,30,-999,80,-999,-999,-999,90,10]$"
   ]
  },
  {
   "cell_type": "code",
   "execution_count": null,
   "metadata": {},
   "outputs": [],
   "source": []
  },
  {
   "cell_type": "markdown",
   "metadata": {},
   "source": [
    "#### Q1.5.3 \n",
    "Take your lists a and b from 1.5.1 and 1.5.2 (the ones that have replaced the missing values by nans) and construct a loop that returns _only_ the pairs of values (as tuples) from a and b in which _neither_ a _nor_ b is nan. \n",
    "\n",
    "><b><font color='green'>Hint:</font></b> [python documentation on zip](https://docs.python.org/3/library/functions.html#zip)"
   ]
  },
  {
   "cell_type": "code",
   "execution_count": null,
   "metadata": {},
   "outputs": [],
   "source": []
  },
  {
   "cell_type": "markdown",
   "metadata": {},
   "source": [
    "---"
   ]
  },
  {
   "cell_type": "markdown",
   "metadata": {},
   "source": [
    "## Part 2: Numpy and Matplotlib"
   ]
  },
  {
   "cell_type": "markdown",
   "metadata": {},
   "source": [
    "For the next few questions we will work more with numpy arrays. Don't forget to import [numpy](https://numpy.org/doc/stable/)!"
   ]
  },
  {
   "cell_type": "markdown",
   "metadata": {},
   "source": [
    "### Q2.1 Practice working with numpy arrays\n",
    "Given the following array, calculate:\n",
    "1. The mean and standard deviation along the first axis\n",
    "2. The total mean and standard deviation \n",
    "3. The eigenvalues (you'll need the `eig()` function from numpy's [linear algebra functions](https://numpy.org/doc/stable/reference/generated/numpy.linalg.eig.html#numpy.linalg.eig))\n",
    "\n",
    "$M=\\begin{bmatrix}\n",
    "1 & 2 & 3 & 4\\\\\n",
    "5 & 6 & 7 & 8\\\\\n",
    "1 & 2 & 3 & 4\\\\\n",
    "9 & 10 & 11 & 12\\\\\n",
    "\\end{bmatrix}$"
   ]
  },
  {
   "cell_type": "code",
   "execution_count": null,
   "metadata": {},
   "outputs": [],
   "source": []
  },
  {
   "cell_type": "markdown",
   "metadata": {},
   "source": [
    "### Q2.2 Dot products"
   ]
  },
  {
   "cell_type": "markdown",
   "metadata": {},
   "source": [
    "#### Q2.2.1\n",
    "Write a function that computes the dot product of two vectors (<b>do not use the built-in dot product functions that exist in python/numpy</b>). \n",
    "1. Use `%timeit` with 1000 loops and 10 repeats to test how long your function takes when multiplying two vectors of length 100 (use `ones()` to make these two test vectors!).\n",
    "2. Use `%timeit` (with 1000 loops and 10 repeats) to see how long it takes to do the same operation with the numpy functions `dot()` and `matmul()`. How long does your function take? Which is fastest?"
   ]
  },
  {
   "cell_type": "code",
   "execution_count": null,
   "metadata": {},
   "outputs": [],
   "source": []
  },
  {
   "cell_type": "markdown",
   "metadata": {},
   "source": [
    "#### Q2.2.2 \n",
    "Once you've created and tested your function with `%timeit`, import the dot product function from `another_dot_product.py` below. Time this function using the same parameters as above (and the same vectors!). What does this tell you about `for` loops?"
   ]
  },
  {
   "cell_type": "code",
   "execution_count": null,
   "metadata": {},
   "outputs": [],
   "source": []
  },
  {
   "cell_type": "markdown",
   "metadata": {},
   "source": [
    "### Q2.3 Broadcasting"
   ]
  },
  {
   "cell_type": "markdown",
   "metadata": {},
   "source": [
    "Say I have a 2x3 array of ocean temperatures, T, with the first dimension (2, the number of rows) representing the depth of the values and the second dimension (3, the number of columns) representing latitude. I also have a 2x1 vector of the actual depths, D. Use [broadcasting](https://numpy.org/doc/stable/reference/generated/numpy.broadcast_to.html) to multiply the temperatures at each depth by the value of the depth, and _then_ take the meridional mean (the mean along the latitude dimension). T and D are provided below:\n",
    "\n",
    "$T=\\begin{bmatrix}\n",
    "27.4 & 27.6 & 27.8\\\\\n",
    "26.2 & 26.6 & 26.5\\\\\n",
    "\\end{bmatrix}$\n",
    "\n",
    "$D=\\begin{bmatrix}\n",
    "100\\\\\n",
    "200\\\\\n",
    "\\end{bmatrix}$\n",
    "\n",
    "><b><font color='green'>Hint:</font></b> Your result should be a 2x1 array with two values, the first representing the mean of depth1 temperatures x depth1, and the second representing the mean of depth2 temperatures x depth2. "
   ]
  },
  {
   "cell_type": "code",
   "execution_count": null,
   "metadata": {},
   "outputs": [],
   "source": []
  },
  {
   "cell_type": "markdown",
   "metadata": {},
   "source": [
    "---"
   ]
  },
  {
   "cell_type": "markdown",
   "metadata": {},
   "source": [
    "### Switching gears: It's time for Argo!\n",
    "\n",
    "For the following questions you'll be using a simplified [Argo](https://argo.ucsd.edu/) float profile from the equatorial Indian Ocean. Import [matplotlib](https://matplotlib.org/stable/index.html) so that you can easily access and use the pyplot plotting commands. Realistically, you wouldn't use numpy to read-in or analyze Argo data as there are better packages out there that make it more streamlined and intuitive, like [argopy](https://argopy.readthedocs.io/en/latest/) and [xarray](http://xarray.pydata.org/en/stable/) (we'll learn xarray soon!), but this is a nice way to get you used to making plots with actual data."
   ]
  },
  {
   "cell_type": "markdown",
   "metadata": {},
   "source": [
    "### Q2.4 Load the Argo float profile data \n",
    "The argo data is in the file ```20210901_IndianOcean.npz``` which is in the ```Homework/data/``` directory in our course material repo. To see the variables in the file, append `.files` to the name of the variable into which you loaded the data. For example, if my loaded file is called data I'd type `data.files` to see the names of the variables in the file."
   ]
  },
  {
   "cell_type": "code",
   "execution_count": null,
   "metadata": {},
   "outputs": [],
   "source": []
  },
  {
   "cell_type": "markdown",
   "metadata": {},
   "source": [
    "### Q2.5 What are the dimensions of each variable in the file?\n",
    "Make a list of your answers in a cell that uses markdown or write code that prints all of the answers at the same time. Answers should be of the form variable name : dimensions. \n",
    "><b>Note:</b> I do not want to know how _many_ dimensions each variable has (i.e., 1-D, 2-D, 3-D), but rather the _lengths_ of those dimensions, as in how we think about dimensions of matrices (i.e, 2x1, 4x4, etc)\n"
   ]
  },
  {
   "cell_type": "code",
   "execution_count": null,
   "metadata": {},
   "outputs": [],
   "source": []
  },
  {
   "cell_type": "markdown",
   "metadata": {},
   "source": [
    "### Q2.6 What are the values of temperature and salinity at the 5th pressure level in the file?"
   ]
  },
  {
   "cell_type": "code",
   "execution_count": null,
   "metadata": {},
   "outputs": [],
   "source": []
  },
  {
   "cell_type": "markdown",
   "metadata": {},
   "source": [
    "### Q2.7 Calculate the mean temperature and salinity\n",
    "Remember, you will need to check for missing values and deal with those appropriately"
   ]
  },
  {
   "cell_type": "code",
   "execution_count": null,
   "metadata": {},
   "outputs": [],
   "source": []
  },
  {
   "cell_type": "markdown",
   "metadata": {},
   "source": [
    "### Q2.8 Make a line plot of temperature vs pressure\n",
    "Temperature units are [˚C], salinity units are [psu] (psu=practical salinity unit; it's actually unitless), and pressure units are [dbar] (decibar)\n",
    "\n",
    "1. Pressure should be on the y-axis and inverted so that it is increasing downward. \n",
    "2. Change the y-axis limits to start at the maximum value of pressure and end at 0. \n",
    "3. Change the x-axis limits to range from 0 to the maximum value of temperature. \n",
    "4. Change the default line color and style. Label your x- and y-axes (including units) and include a descriptive title that has the coordinates of the profile (the latitude and longitude).  "
   ]
  },
  {
   "cell_type": "code",
   "execution_count": null,
   "metadata": {},
   "outputs": [],
   "source": []
  },
  {
   "cell_type": "markdown",
   "metadata": {},
   "source": [
    "### Q2.9 Make a multi-panel plot\n",
    "The plot should be 1x3, and individual panels should be \n",
    "1. a line plot of pressure vs temperature\n",
    "2. a line plot of pressure vs salinity\n",
    "3. a scatterplot of temperature vs salinity.\n",
    "\n",
    "The first two plots should be formatted as in Q2.8 (but feel free to change colors, axes ranges, etc again). The last plot should have temperature on the y-axis and include gridlines. Individual panel titles need not include the lat/lon, but you should create a title for the entire plot using [suptitle()](https://matplotlib.org/stable/api/_as_gen/matplotlib.pyplot.suptitle.html) that does contain the lat/lon. Change the default scatterplot marker symbol and size, and color the markers based on pressure. Include a colorbar with a label."
   ]
  },
  {
   "cell_type": "code",
   "execution_count": null,
   "metadata": {},
   "outputs": [],
   "source": []
  },
  {
   "cell_type": "markdown",
   "metadata": {},
   "source": [
    "### Q2.10 Downloading and Plotting the NAO Index\n",
    "For this problem you will download a monthly time series of the [North Atlantic Oscillation (NAO)](https://www.cpc.ncep.noaa.gov/data/teledoc/nao.shtml) Index. You can read about the NAO and access the data by clicking the link in the previous sentence.\n",
    "\n",
    "1. To download the data, click on the <b>'Historical Index'</b> link once you make it to the NAO landing page (a pop-up should occur when you do this!). You will need to upload your downloaded file to the jupyterhub by using the `upload files` button in the upper left of the hub control panel\n",
    "2. Use numpy's [genfromtxt](https://numpy.org/doc/stable/reference/generated/numpy.genfromtxt.html) function to read in the data (no using [pandas](https://pandas.pydata.org/) yet, folks!)\n",
    "><b><font color ='green'>Hint:</font></b> It will help to open your `nao_index.tim` data file (double click on it in the jupyterhub panel on the left once you have uploaded the data to the jupyterhub) in order to figure out which arguments you need to provide to `genfromtext` to properly read in the data.\n",
    "\n",
    "3. Make a plot of the monthly NAO index that adheres to the following parameters\n",
    "> 1. Change the figure size so that the plot is 12 inches long and 3 inches tall.\n",
    "> 2. Change the linewidth to be thinner than the default linewidth and change the line color\n",
    "> 3. Change the x-axis ticks and labels to show the time every 10 years, and change the x-limits of the plot to span the length of the data\n",
    "> 4. Include a title for the plot and label your axes"
   ]
  },
  {
   "cell_type": "code",
   "execution_count": null,
   "metadata": {},
   "outputs": [],
   "source": []
  },
  {
   "cell_type": "markdown",
   "metadata": {},
   "source": [
    "---"
   ]
  },
  {
   "cell_type": "markdown",
   "metadata": {},
   "source": [
    "## Part 3: Downloading your own version of python and making your first environment"
   ]
  },
  {
   "cell_type": "markdown",
   "metadata": {},
   "source": [
    "### 3.1 Download your own python distribution locally on your laptop <font color='red'>(NOT ON THE CLASS JUPYTERHUB)</font>\n",
    "We'll do this with [miniconda](https://docs.conda.io/en/latest/miniconda.html), which is a lightweight version of anaconda that doesn't come with the massive set of packages that are standard in anaconda. <br>Click the miniconda link above and choose the right download option for your system. <b><font color='red'>If you already have an anaconda or miniconda distribution on your computer, you do not need to do 3.1 and 3.2 (skip to 3.3 instead)!</font></b>"
   ]
  },
  {
   "cell_type": "markdown",
   "metadata": {},
   "source": [
    "### 3.2 Set up your miniconda\n",
    "For example, if you downloaded the bash option for MacOS, you'll want to open up a terminal and run the command `bash [your_miniconda_download].sh` in the directory where you downloaded miniconda (just follow the prompts and type yes when you're supposed to)."
   ]
  },
  {
   "cell_type": "markdown",
   "metadata": {},
   "source": [
    "### 3.3 Create a new environment\n",
    "If you used bash to install conda, quit and reopen your terminal. If you didn't, open a terminal. If you installed miniconda correctly, when you open a terminal you should see `(base)` before the shell prompt. Do the following:\n",
    "\n",
    "1. Make a new environment in a .yml file with the following channels and dependencies (make sure you name your environment!):\n",
    "- <b>channels</b>:\n",
    "     - conda-forge\n",
    "     - defaults\n",
    "- <b>dependencies</b>:\n",
    "     - python (version 3.9)\n",
    "     - xarray\n",
    "     - matplotlib\n",
    "     - numpy (at _least_ version 1.19)\n",
    "2. Create this environment using the `conda env create -f` command from class\n",
    "3. Activate your newly-created environment. If you were successful, instead of `(base)` you should see `(your_environment_name)` before the shell prompt\n",
    "4. Export this environment to a new .yml file <b>with the `--from-history` flag</b>. Make sure your new .yml file has a different name from the one you created in Step 1, otherwise you'll overwrite your original file. <b><font color='red'>This exported environment is what you will turn in for this problem!</b></font> (You'll need to upload the file to the class jupyterhub and add it to your repository)"
   ]
  },
  {
   "cell_type": "code",
   "execution_count": null,
   "metadata": {},
   "outputs": [],
   "source": []
  }
 ],
 "metadata": {
  "kernelspec": {
   "display_name": "Python [conda env:uw-fall-2025]",
   "language": "python",
   "name": "conda-env-uw-fall-2025-py"
  },
  "language_info": {
   "codemirror_mode": {
    "name": "ipython",
    "version": 3
   },
   "file_extension": ".py",
   "mimetype": "text/x-python",
   "name": "python",
   "nbconvert_exporter": "python",
   "pygments_lexer": "ipython3",
   "version": "3.11.13"
  }
 },
 "nbformat": 4,
 "nbformat_minor": 4
}
