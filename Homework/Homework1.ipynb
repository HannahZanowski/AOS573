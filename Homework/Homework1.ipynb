{
 "cells": [
  {
   "cell_type": "markdown",
   "metadata": {},
   "source": [
    "<b><font size=20, color='#A020F0'>Homework 1"
   ]
  },
  {
   "cell_type": "markdown",
   "metadata": {},
   "source": [
    "#### In this homework you'll further explore basic python, numpy, and matplotlib. You'll also get a chance to download your own python distribution and build your own python environment.\n",
    "\n",
    "<b><font color='red'>Due Date: 04 October 2021</font></b><br>(by the beginning of class)\n",
    "\n",
    "<b>How you will turn in this assignment</b><br> When you are ready to turn in your homework, do the following steps:\n",
    "1. Execute all cells in your notebook so that the results are visible. It is ok if you have code that you practiced with, but <b><u>make sure your final answers to each question are clearly marked so that Cam and I know what to grade</u></b>. (See example setup in Question 1 below. You can also collapse the code and outputs that you _don't_ want us to grade; options to collapse and expand code are in the 'View' menu in the upper left)\n",
    "2. Open a terminal and navigate to your local `AOS573` repository and make a new directory called `completed_HW1`\n",
    "3. Move your completed jupyter notebook, your external .py script (Q1.3), and your .yml python environment file (Exercise 3.3) into this directory\n",
    "4. `add` and `commit` the `completed_HW1` directory and its contents to your local `AOS573` repository\n",
    "5. Finally, `push` your changes to your remote `aos573_completed_assignments` repository: `git push finished_work main` (you'll need to enter your username and personal access token)"
   ]
  },
  {
   "cell_type": "markdown",
   "metadata": {},
   "source": [
    "---"
   ]
  },
  {
   "cell_type": "markdown",
   "metadata": {},
   "source": [
    "## Part 1: Basic Python"
   ]
  },
  {
   "cell_type": "markdown",
   "metadata": {},
   "source": [
    "### Q1.1 Write a for loop that takes two lists of numbers and multiplies them\n",
    "You can make whatever lists of numbers you want"
   ]
  },
  {
   "cell_type": "markdown",
   "metadata": {},
   "source": [
    "#### A1.1 You can put your answer below a heading like this if you want"
   ]
  },
  {
   "cell_type": "code",
   "execution_count": 102,
   "metadata": {},
   "outputs": [
    {
     "data": {
      "text/plain": [
       "[5, 12, 21, 32]"
      ]
     },
     "execution_count": 102,
     "metadata": {},
     "output_type": "execute_result"
    }
   ],
   "source": []
  },
  {
   "cell_type": "markdown",
   "metadata": {},
   "source": [
    "### Q1.2 Conditional statements\n",
    "Say I have the following list of numbers and animals: `1,2,3,'dog','cat',7,11,'bird'`<br>\n",
    "I want to write some code that does the following:\n",
    "1. Checks if the number or animal I provide is in the list or not (and tells me so by printing a statement telling me that)\n",
    "2. If the animal or number I provide IS in the list I want the code to tell me whether it's a number or an animal"
   ]
  },
  {
   "cell_type": "code",
   "execution_count": 97,
   "metadata": {},
   "outputs": [
    {
     "name": "stdout",
     "output_type": "stream",
     "text": [
      "1 is in the list\n",
      "1 is a number!\n"
     ]
    }
   ],
   "source": []
  },
  {
   "cell_type": "markdown",
   "metadata": {},
   "source": [
    "### Q1.3 Create a script\n",
    "Create a python script that runs the code your wrote in Q1.2 so you that can run it on the command line with `python my_script.py` (you can name your .py file whatever you want). Make sure the script works by testing it on the command line. You just need to be able to run the script and have it produce some output. It doesn't need to take command line inputs, but if you want to try that, I recommend an internet search of 'python `sys.argv`'. <b><font color='red'> Don't forget to include your .py script when turning in your notebook!"
   ]
  },
  {
   "cell_type": "markdown",
   "metadata": {},
   "source": [
    "### Q1.4 Writing your own function and running python on the command line\n",
    "Given the following information about my favorite dobermans, write a function that compares the age of any two of them and returns the one that is older. Your function should have two inputs (for the names of the two dogs you want to compare), and it should output the name of the dog that is oldest. Be sure to include comments in your code that describes what your function does and how to use it.\n",
    "\n",
    "Doberman info:\n",
    "\n",
    "`Name        Age\n",
    " Ruger       9 \n",
    " Bijoux      8 \n",
    " Louis       4 `"
   ]
  },
  {
   "cell_type": "code",
   "execution_count": null,
   "metadata": {},
   "outputs": [],
   "source": []
  },
  {
   "cell_type": "markdown",
   "metadata": {},
   "source": [
    "---"
   ]
  },
  {
   "cell_type": "markdown",
   "metadata": {},
   "source": [
    "## Part 2: Numpy and Matplotlib"
   ]
  },
  {
   "cell_type": "markdown",
   "metadata": {},
   "source": [
    "For the next few questions we will work more with numpy arrays. Don't forget to import [numpy](https://numpy.org/doc/stable/)!"
   ]
  },
  {
   "cell_type": "markdown",
   "metadata": {},
   "source": [
    "### Q2.1 Practice working with numpy arrays\n",
    "Given the following array calculate:\n",
    "1. The mean and standard deviation along the first axis\n",
    "2. The total mean and standard deviation \n",
    "3. The eigenvalues (you'll need the `eig()` function from numpy's [linear algebra functions](https://numpy.org/doc/stable/reference/generated/numpy.linalg.eig.html#numpy.linalg.eig))\n",
    "\n",
    "$M=\\begin{bmatrix}\n",
    "1 & 2 & 3 & 4\\\\\n",
    "5 & 6 & 7 & 8\\\\\n",
    "1 & 2 & 3 & 4\\\\\n",
    "9 & 10 & 11 & 12\\\\\n",
    "\\end{bmatrix}$"
   ]
  },
  {
   "cell_type": "code",
   "execution_count": 5,
   "metadata": {},
   "outputs": [
    {
     "data": {
      "text/plain": [
       "array([ 2.36885775e+01, -1.68857754e+00, -1.73936892e-15, -5.64121495e-16])"
      ]
     },
     "execution_count": 5,
     "metadata": {},
     "output_type": "execute_result"
    }
   ],
   "source": []
  },
  {
   "cell_type": "markdown",
   "metadata": {},
   "source": [
    "### Q2.2 Dot products\n",
    "A. Write a function that computes the dot product of two vectors. Use `%timeit` with 1000 loops and 10 repeats to test how long your function takes when multiplying two vectors of length 100 (use `ones()` to make these two test vectors!). Now use `%timeit` (with 1000 loops and 10 repeats) to see how long it takes to do the same operation with the numpy functions `dot()` and `matmul()`. How long does your function take? Which is fastest?"
   ]
  },
  {
   "cell_type": "code",
   "execution_count": 6,
   "metadata": {},
   "outputs": [],
   "source": []
  },
  {
   "cell_type": "markdown",
   "metadata": {},
   "source": [
    "B. Once you've created and tested your function with `%timeit`, expand the following code (click on the three dots). Time this function using the same parameters as above (and the same vectors!). What does this tell you about `for` loops?"
   ]
  },
  {
   "cell_type": "code",
   "execution_count": 33,
   "metadata": {
    "jupyter": {
     "source_hidden": true
    }
   },
   "outputs": [],
   "source": [
    "def another_dot_product(vec1,vec2):\n",
    "    mult=[]\n",
    "    for i in range(0,len()):\n",
    "        mult.append(vec1[i]*vec2[i]) \n",
    "    dot=np.sum(mult)\n",
    "    return(dot)    "
   ]
  },
  {
   "cell_type": "markdown",
   "metadata": {},
   "source": [
    "### Q2.3 Broadcasting"
   ]
  },
  {
   "cell_type": "markdown",
   "metadata": {},
   "source": [
    "Say I have a 2x3 array of ocean temperatures, T, with the first dimension representing the depth of the values and the second representing latitude. I also have a 2x1 vector of the actual depths, D. Use [broadcasting](https://numpy.org/doc/stable/reference/generated/numpy.broadcast_to.html) to multiply the temperatures at each depth by the value of the depth, and take the meridional mean (the mean along latitude). T and D are provided below.\n",
    "<br><b>Hint:</b> Your result should be an array with two values, the first representing the mean of the depth1 temperatures multiplied by the value of depth1, and the second representing the mean of the depth2 temperatures multiplied by the value of depth2. "
   ]
  },
  {
   "cell_type": "code",
   "execution_count": 10,
   "metadata": {},
   "outputs": [],
   "source": [
    "T=27.4*np.ones((2,3))\n",
    "D=np.array([100,200])"
   ]
  },
  {
   "cell_type": "code",
   "execution_count": 11,
   "metadata": {},
   "outputs": [
    {
     "data": {
      "text/plain": [
       "array([2740., 5480.])"
      ]
     },
     "execution_count": 11,
     "metadata": {},
     "output_type": "execute_result"
    }
   ],
   "source": []
  },
  {
   "cell_type": "markdown",
   "metadata": {},
   "source": [
    "---"
   ]
  },
  {
   "cell_type": "markdown",
   "metadata": {},
   "source": [
    "#### Switching gears: It's time for Argo!\n",
    "\n",
    "For the following questions you'll be using a simplified [Argo](https://argo.ucsd.edu/) float profile from the equatorial Indian Ocean. Import [matplotlib](https://matplotlib.org/stable/index.html) so that you can easily access and use the pyplot plotting commands. Realistically, you wouldn't use numpy to manipulate Argo data as there are better packages out there that would make it more streamlined, like [argopy](https://argopy.readthedocs.io/en/latest/) and [xarray](http://xarray.pydata.org/en/stable/) (we'll learn xarray soon!), but this is a nice way to get you used to making plots with actual data."
   ]
  },
  {
   "cell_type": "markdown",
   "metadata": {},
   "source": [
    "### Q2.4 Load the Argo float profile data \n",
    "The argo data is in the file '20210901_IndianOcean.npz'<br>\n",
    "To see the variables in the file append `.files` to the name of the variable into which you loaded the data. For example, if my loaded file is called data I'd type `data.files` to see the names of the variables in the file."
   ]
  },
  {
   "cell_type": "code",
   "execution_count": 115,
   "metadata": {},
   "outputs": [
    {
     "data": {
      "text/plain": [
       "['temperature', 'salinity', 'pressure', 'latitude', 'longitude']"
      ]
     },
     "execution_count": 115,
     "metadata": {},
     "output_type": "execute_result"
    }
   ],
   "source": []
  },
  {
   "cell_type": "markdown",
   "metadata": {},
   "source": [
    "### Q2.5 What are the dimensions of each variable in the file?\n",
    "Make a list of your answers in a cell that uses markdown. Answers should be of the form variable : dimensions"
   ]
  },
  {
   "cell_type": "code",
   "execution_count": 138,
   "metadata": {},
   "outputs": [
    {
     "name": "stdout",
     "output_type": "stream",
     "text": [
      "Temperature:  (1218,)\n",
      "Salinity:  (1218,)\n",
      "Pressure:  (1218,)\n",
      "Latitude:  ()\n",
      "Longitude:  ()\n"
     ]
    }
   ],
   "source": []
  },
  {
   "cell_type": "markdown",
   "metadata": {},
   "source": [
    "### Q2.6 What are the values of temperature and salinity at the 5th pressure level?"
   ]
  },
  {
   "cell_type": "code",
   "execution_count": 122,
   "metadata": {},
   "outputs": [
    {
     "name": "stdout",
     "output_type": "stream",
     "text": [
      "28.304\n",
      "34.965\n"
     ]
    }
   ],
   "source": []
  },
  {
   "cell_type": "markdown",
   "metadata": {},
   "source": [
    "### Q2.7 Calculate the mean temperature and salinity\n",
    "Remember, you will need to check for missing values and deal with those with a mask!"
   ]
  },
  {
   "cell_type": "code",
   "execution_count": 126,
   "metadata": {},
   "outputs": [
    {
     "name": "stdout",
     "output_type": "stream",
     "text": [
      "13.543298554002194\n",
      "34.9669831928454\n"
     ]
    }
   ],
   "source": []
  },
  {
   "cell_type": "markdown",
   "metadata": {},
   "source": [
    "### Q2.8 Make a line plot of temperature vs pressure\n",
    "Pressure should be on the y-axis and inverted so that it is increasing downward. Change the y-axis limits to start at the maximum value of pressure and end at 0. Change the x-axis limits to range from 0 to the maximum value of temperature. Change the default line color and style. Label your x- and y-axes (including units) and include a descriptive title that has the coordinates of the profile (the latitude and longitude).  Temperature units are [˚C], salinity units are [psu] (psu=practical salinity unit; it's actually unitless), and pressure units are [dbar] (decibar)"
   ]
  },
  {
   "cell_type": "code",
   "execution_count": 137,
   "metadata": {},
   "outputs": [
    {
     "data": {
      "image/png": "[encoded data removed]",
      "text/plain": [
       "<Figure size 432x288 with 1 Axes>"
      ]
     },
     "metadata": {
      "needs_background": "light"
     },
     "output_type": "display_data"
    }
   ],
   "source": []
  },
  {
   "cell_type": "markdown",
   "metadata": {},
   "source": [
    "### Q2.9 Make a multi-panel plot\n",
    "The plot should be 1x3, and individual panels should be a line plot of pressure vs temperature, a line plot of pressure vs salinity, and a scatterplot of temperature vs salinity. The first two should be formatted as in Q2.8 (but feel free to change colors, etc again). The last plot should have temperature on the y-axis and include gridlines. Individual panel titles need not include the lat/lon, but you should create a title for the entire plot using [suptitle()](https://matplotlib.org/stable/api/_as_gen/matplotlib.pyplot.suptitle.html) that does contain the lat/lon. Change the default scatterplot marker symbol and size, and color the markers based on pressure. Include a colorbar with a label."
   ]
  },
  {
   "cell_type": "code",
   "execution_count": null,
   "metadata": {},
   "outputs": [],
   "source": []
  },
  {
   "cell_type": "markdown",
   "metadata": {},
   "source": [
    "---"
   ]
  },
  {
   "cell_type": "markdown",
   "metadata": {},
   "source": [
    "## Part 3: Downloading your own version of python and making your first environment"
   ]
  },
  {
   "cell_type": "markdown",
   "metadata": {},
   "source": [
    "### 3.1 Download your own python distribution locally on your laptop (NOT ON THE AOS JUPYTERHUB).\n",
    "We'll do this with [miniconda](https://docs.conda.io/en/latest/miniconda.html), which is a lightweight version of anaconda that doesn't come with the massive set of packages that are standard in anaconda. Click the link above and choose the right download option for your system."
   ]
  },
  {
   "cell_type": "markdown",
   "metadata": {},
   "source": [
    "### 3.2 Set up your miniconda\n",
    "For example, if you downloaded the bash option for MacOS, you'll want to open up a terminal and run the command `bash [your_miniconda_download].sh` in the directory where you downloaded miniconda (just follow the prompts and type yes when you're supposed to)."
   ]
  },
  {
   "cell_type": "markdown",
   "metadata": {},
   "source": [
    "### 3.3 Create a new environment\n",
    "If you used bash to install conda, quit and reopen your terminal. If you didn't, open a terminal. If you installed miniconda correctly, when you open a terminal you should see `(base)` before the shell prompt. Do the following:\n",
    "\n",
    "1. Make a new environment in a .yml file with the following channels and dependencies (make sure you name your environment!)\n",
    "- channels:\n",
    " - conda-forge\n",
    " - defaults\n",
    "- dependencies:\n",
    " - python (version 3.9)\n",
    " - xarray\n",
    " - matplotlib\n",
    " - numpy (at _least_ version 1.19)\n",
    "2. Create this environment using the `conda env create -f` command from class\n",
    "3. Activate your newly-created environment. If you were successful, instead of `(base)` you should see `(your_environment_name)` before the shell prompt\n",
    "4. Export this environment to a new .yml file with a different name. <b><font color='red'>This exported environment is what you will turn in for this problem!</b></font> (You'll need to upload the file to the AOS jupyterhub and add it to your repository)"
   ]
  }
 ],
 "metadata": {
  "kernelspec": {
   "display_name": "Python [conda env:AOS573_F21]",
   "language": "python",
   "name": "conda-env-AOS573_F21-py"
  },
  "language_info": {
   "codemirror_mode": {
    "name": "ipython",
    "version": 3
   },
   "file_extension": ".py",
   "mimetype": "text/x-python",
   "name": "python",
   "nbconvert_exporter": "python",
   "pygments_lexer": "ipython3",
   "version": "3.7.10"
  }
 },
 "nbformat": 4,
 "nbformat_minor": 4
}
