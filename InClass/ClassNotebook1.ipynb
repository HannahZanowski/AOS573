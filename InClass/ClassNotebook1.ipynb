{
 "cells": [
  {
   "cell_type": "markdown",
   "metadata": {},
   "source": [
    "<b><font size=20, color='#A020F0'>Class Notebook 1</font></b>"
   ]
  },
  {
   "cell_type": "markdown",
   "metadata": {},
   "source": [
    "## Welcome to your first in-class jupyter notebook activity!\n",
    "In this notebook you'll get more practice with numpy and matplotlib. We'll be downloading a few [ENSO (El Niño-Southern Oscillation) Indices](https://www.weather.gov/fwd/indices) from the [NOAA Climate Prediction Center (CPC)](https://www.cpc.ncep.noaa.gov/) and working with them. If you are not familiar with ENSO, you can read more about it [here](https://www.climate.gov/enso)\n",
    "\n",
    "---\n",
    "\n",
    "<b><font color='red'>Due Date: 23 September 2024 @ 9 am</font></b><br>\n",
    "\n",
    "<b>How you will turn in this assignment</b><br> When you are ready to turn in your notebook, do the following:\n",
    "1. Save your notebook and make sure your results are visible (cells have been executed)\n",
    "2. Open a terminal and navigate to your local `aos573_completed_assignments` repository and make a new directory called `Class_Notebooks`\n",
    "3. Move or copy your completed in-class notebook into this directory\n",
    "4. `add` and `commit` the `Class_Notebooks` directory and its contents to your local `aos573_completed_assignments` repository\n",
    "5. Finally, `push` your changes to your remote `aos573_completed_assignments` repository: `git push finished_work main` (you'll need to enter your username and personal access token)"
   ]
  },
  {
   "cell_type": "markdown",
   "metadata": {},
   "source": [
    "---"
   ]
  },
  {
   "cell_type": "markdown",
   "metadata": {},
   "source": [
    "## 1. Downloading and reading in the data"
   ]
  },
  {
   "cell_type": "markdown",
   "metadata": {},
   "source": [
    "#### 1.1 Download the Monthly Niño3.4 Index \n",
    "The Nino3.4 Index is defined as the sea surface temperature (SST) anomaly averaged in the region 5°N to 5°S, 170°W to 120°W in the Pacific Ocean. It is closely related to the [Oceanic Niño Index (ONI)](https://origin.cpc.ncep.noaa.gov/products/analysis_monitoring/ensostuff/ONI_v5.php), which is the three-month running mean of the monthly Nino3.4 Index\n",
    "><font color='blue'><b>Sidenote:</b></font> Thanks to continued warming in the equatorial Pacific, the CPC has [recently updated](https://origin.cpc.ncep.noaa.gov/products/analysis_monitoring/ensostuff/ONI_change.shtml) how we compute the ONI\n",
    "\n",
    "\n",
    "To download the monthly Niño3.4 Index, run the following command in the cell below: \n",
    "\n",
    "````bash\n",
    "!curl -O https://www.cpc.ncep.noaa.gov/products/analysis_monitoring/ensostuff/detrend.nino34.ascii.txt\n",
    "````\n",
    "\n",
    "This will download a file to your _current_ working directory called 'detrend.nino34.ascii.txt' (be patient; it will take a few seconds for the file to show up in your directory contents list on the left after the download is complete)"
   ]
  },
  {
   "cell_type": "code",
   "execution_count": null,
   "metadata": {},
   "outputs": [],
   "source": []
  },
  {
   "cell_type": "markdown",
   "metadata": {},
   "source": [
    "#### 1.2 Download the monthly Southern Oscillation Index\n",
    "The [Southern Oscillation Index (SOI)](https://climatedataguide.ucar.edu/climate-data/southern-oscillation-indices-signal-noise-and-tahitidarwin-slp-soi) is a sea-level-pressure-based ENSO index, computed as the mean sea level pressure (SLP) difference between Tahiti, French Polynesia and Darwin, Australia. \n",
    "\n",
    "To download the monthly SOI, run the following command in the cell below: \n",
    "\n",
    "````bash\n",
    "!curl -o soi.txt https://www.cpc.ncep.noaa.gov/data/indices/soi\n",
    "````\n",
    "\n",
    "This will download a file to your _current_ working directory called 'soi.txt' (be patient; it will take a few seconds for the file to show up in your directory contents list on the left after the download is complete)"
   ]
  },
  {
   "cell_type": "code",
   "execution_count": null,
   "metadata": {},
   "outputs": [],
   "source": []
  },
  {
   "cell_type": "markdown",
   "metadata": {},
   "source": [
    "#### 1.3 Look at your data\n",
    "Open both files in the text editor (just double-click on them in the directory contents panel on the left) and look at them. Some questions to think about (you'll answer some of these in the exercises that follow):\n",
    ">1. How are the files organized?\n",
    ">2. What do the rows and columns represent in each?\n",
    ">3. What time periods are covered?"
   ]
  },
  {
   "cell_type": "markdown",
   "metadata": {},
   "source": [
    "#### 1.4 Read in your data\n",
    "Use [genfromtxt()](https://numpy.org/doc/stable/reference/generated/numpy.genfromtxt.html#numpy.genfromtxt) to read in the data from `detrend.nino34.ascii.txt` and `soi.txt` into variables called `nino34` and `soi`, respectively.\n",
    "\n",
    "1. For `detrend.nino34.ascii.txt` skip the first line\n",
    "2. For `soi.txt` skip the first 4 lines and the last 91 lines"
   ]
  },
  {
   "cell_type": "code",
   "execution_count": null,
   "metadata": {},
   "outputs": [],
   "source": []
  },
  {
   "cell_type": "markdown",
   "metadata": {},
   "source": [
    "---"
   ]
  },
  {
   "cell_type": "markdown",
   "metadata": {},
   "source": [
    "## 2 Questions about your data"
   ]
  },
  {
   "cell_type": "markdown",
   "metadata": {},
   "source": [
    "#### 2.1 What are the dimensions of nino34 and soi?\n",
    "I'm not asking whether they are 1-D or 2-D etc, but rather what are the dimensions of the data if we think about it like a matrix?"
   ]
  },
  {
   "cell_type": "code",
   "execution_count": null,
   "metadata": {},
   "outputs": [],
   "source": []
  },
  {
   "cell_type": "markdown",
   "metadata": {},
   "source": [
    "#### 2.2 What do each of the columns represent in nino34 vs soi?\n",
    "Use markdown to write your answer below. Click on the cell, then go to the menu bar at the top of the notebook (below the tabs for your open notebooks) and from the dropdown menu where it says `code` select markdown (you can also do this by clicking on a cell to make it active and then hitting esc m; the square brackets to the left of the cell should disappear, indicating that it is not a code cell)"
   ]
  },
  {
   "cell_type": "code",
   "execution_count": null,
   "metadata": {},
   "outputs": [],
   "source": []
  },
  {
   "cell_type": "markdown",
   "metadata": {},
   "source": [
    "#### 2.3 Which column of nino34 holds the actual SST anomalies?"
   ]
  },
  {
   "cell_type": "code",
   "execution_count": null,
   "metadata": {},
   "outputs": [],
   "source": []
  },
  {
   "cell_type": "markdown",
   "metadata": {},
   "source": [
    "#### 2.4 What are the dates (month and year) of the first and last entries of nino34 and soi?"
   ]
  },
  {
   "cell_type": "code",
   "execution_count": null,
   "metadata": {},
   "outputs": [],
   "source": []
  },
  {
   "cell_type": "markdown",
   "metadata": {},
   "source": [
    "#### 2.5 Over what time period do nino34 and soi overlap?\n",
    "Give the month and year"
   ]
  },
  {
   "cell_type": "code",
   "execution_count": null,
   "metadata": {},
   "outputs": [],
   "source": []
  },
  {
   "cell_type": "markdown",
   "metadata": {},
   "source": [
    "---"
   ]
  },
  {
   "cell_type": "markdown",
   "metadata": {},
   "source": [
    "## 3 Working with your data\n",
    "In this section you'll subset your nino34 and soi arrays to facilitate working with and doing computations on them"
   ]
  },
  {
   "cell_type": "markdown",
   "metadata": {},
   "source": [
    "#### 3.1 Extract the nino34 SST anomalies from your nino34 array, and write them into a new variable called n34_sst_vals"
   ]
  },
  {
   "cell_type": "code",
   "execution_count": null,
   "metadata": {},
   "outputs": [],
   "source": []
  },
  {
   "cell_type": "markdown",
   "metadata": {},
   "source": [
    "#### 3.2 What are the dimensions of your new variable?"
   ]
  },
  {
   "cell_type": "code",
   "execution_count": null,
   "metadata": {},
   "outputs": [],
   "source": []
  },
  {
   "cell_type": "markdown",
   "metadata": {},
   "source": [
    "#### 3.3 Extract only the sea level pressure (SLP) anomalies from your soi array and write them into a new variable called soi_slp_vals"
   ]
  },
  {
   "cell_type": "code",
   "execution_count": null,
   "metadata": {},
   "outputs": [],
   "source": []
  },
  {
   "cell_type": "markdown",
   "metadata": {},
   "source": [
    "#### 3.4 What are the dimensions of your new variable?"
   ]
  },
  {
   "cell_type": "code",
   "execution_count": null,
   "metadata": {},
   "outputs": [],
   "source": []
  },
  {
   "cell_type": "markdown",
   "metadata": {},
   "source": [
    "#### 3.5 Reshape your soi variable so that the months and years are combined into one dimension like in n34_sst_vals"
   ]
  },
  {
   "cell_type": "code",
   "execution_count": null,
   "metadata": {},
   "outputs": [],
   "source": []
  },
  {
   "cell_type": "markdown",
   "metadata": {},
   "source": [
    "#### 3.6 Print the first 24 elements of your reshaped array\n",
    "Do they correspond to the first 24 months (the first two rows) of soi_slp_vals before you changed its shape? Use [array_equal()](https://numpy.org/doc/stable/reference/generated/numpy.array_equal.html) to determine this\n",
    "><b><font color='green'>Hint:</font></b> `array_equal()` cares about array _shape_ as well as the elements within the array; you'll need to make sure the arrays are the same shape before you can compare the elements, otherwise the result will always be false)"
   ]
  },
  {
   "cell_type": "code",
   "execution_count": null,
   "metadata": {},
   "outputs": [],
   "source": []
  },
  {
   "cell_type": "markdown",
   "metadata": {
    "tags": []
   },
   "source": [
    "#### 3.7 Extract the nino34 SST anomalies that cover the same time period as the SLP anomalies in your reshaped soi array from exercise 3.5\n",
    "Make sure both of your variables are now 1D time series of the same length!"
   ]
  },
  {
   "cell_type": "code",
   "execution_count": null,
   "metadata": {},
   "outputs": [],
   "source": []
  },
  {
   "cell_type": "code",
   "execution_count": null,
   "metadata": {},
   "outputs": [],
   "source": []
  },
  {
   "cell_type": "markdown",
   "metadata": {},
   "source": [
    "#### 3.8 Standardize your 1D Niño34 SST anomalies and your 1D SOI SLP anomalies\n",
    "To standardize a time series, you subtract the mean and divide by the standard deviation of the data:\n",
    "\n",
    "$x_{standardized}=\\frac{x_{i}-\\bar{x}}{\\sigma_{x}}$\n",
    "\n",
    ">You can use numpy's [std()](https://numpy.org/doc/stable/reference/generated/numpy.std.html) function (with ddof=1) to compute the standard deviation."
   ]
  },
  {
   "cell_type": "code",
   "execution_count": null,
   "metadata": {},
   "outputs": [],
   "source": []
  },
  {
   "cell_type": "markdown",
   "metadata": {},
   "source": [
    "#### 3.9 Calculate the correlation of the two standardized time series from 3.8\n",
    "Compute the [Pearson correlation coefficent](https://en.wikipedia.org/wiki/Pearson_correlation_coefficient). Instead of [np.corrcoef()](https://numpy.org/doc/stable/reference/generated/numpy.corrcoef.html), use [scipy.stats.pearsonr()](https://docs.scipy.org/doc/scipy/reference/generated/scipy.stats.pearsonr.html). Do you think your time series are strongly correlated?"
   ]
  },
  {
   "cell_type": "code",
   "execution_count": null,
   "metadata": {},
   "outputs": [],
   "source": []
  },
  {
   "cell_type": "markdown",
   "metadata": {},
   "source": [
    "---"
   ]
  },
  {
   "cell_type": "markdown",
   "metadata": {},
   "source": [
    "## 4 Plotting your data"
   ]
  },
  {
   "cell_type": "markdown",
   "metadata": {},
   "source": [
    "#### 4.1 Plot your standardized time series of nino3.4 SST anomalies and SOI slp anomalies vs time on a single panel\n",
    "1. First create a numerical array for time that matches the times in your data (monthly output starting from January 1951 and ending December 2023)\n",
    "2. Make the lines different colors and change the linewidth to 1\n",
    "3. Include a title and x- and y-axis labels\n",
    "4. Change the x-axis limits to exactly span the start and end times of your data. Choose a reasonable y-axis range that places a standard deviation of zero at the center of your plot\n",
    "5. Include a [legend](https://matplotlib.org/stable/api/_as_gen/matplotlib.pyplot.legend.html)"
   ]
  },
  {
   "cell_type": "code",
   "execution_count": null,
   "metadata": {},
   "outputs": [],
   "source": []
  },
  {
   "cell_type": "markdown",
   "metadata": {},
   "source": [
    "#### 4.2 Make a [scatterplot](https://matplotlib.org/stable/api/_as_gen/matplotlib.pyplot.scatter.html) of your standardized nino3.4 SST anomalies vs your standardized SOI slp anomalies with a linear regression line overlaid\n",
    "Make the standardized nino3.4 SST anomalies the independent variable\n",
    "1. Change the default marker style, color, and size\n",
    "2. Make your axes square with [set_aspect()](https://matplotlib.org/stable/api/_as_gen/matplotlib.axes.Axes.set_aspect.html)\n",
    "3. Set the x-and y-axis limits to both span [-3.3,3.3]\n",
    "3. Use [linregress](https://docs.scipy.org/doc/scipy/reference/generated/scipy.stats.linregress.html) from scipy.stats to compute the linear regression (<b><font color='green'>Hint:</font></b> you'll need the slope and y-intercept output from this to make a line that you can plot!). Make sure your regression line spans the length of the plot.\n",
    "4. Add a title and x and y-axis labels\n",
    "5. Add a legend that includes the scatterplot data and the regression line and place it in the upper right corner of your plot"
   ]
  },
  {
   "cell_type": "code",
   "execution_count": null,
   "metadata": {},
   "outputs": [],
   "source": []
  },
  {
   "cell_type": "markdown",
   "metadata": {},
   "source": [
    "#### 4.3 Creating and plotting a monthly climatology"
   ]
  },
  {
   "cell_type": "markdown",
   "metadata": {},
   "source": [
    "##### 4.3.1 Create a monthly climatology for the period 2000-2023 for your Niño3.4 SST anomalies\n",
    "Use the actual anomalies, not the standardized anomalies from Exercise 3.8\n",
    "\n",
    "A climatology is just the mean of a climate variable over a specific period. A monthly climatology is the long-term mean of a given variable in each month of the year--for example, the climatological mean Niño3.4 SST anomaly for January over the period 2000-2023 would be an average of all of the Januarys within that period, for February it would be the mean of all of the Februarys in that period, and so on... Your result should be an array of 12 values, where each is the 2000-2023 mean of a particular month.\n",
    "\n",
    "To help get you started, you'll need to reshape your Niño3.4 SST anomalies so that you have an array with the rows representing years and the columns representing the months of the year, and you'll need to subset your anomalies to only cover January 2000-December 2023 (you can start with your output from exercise 3.7). I recommend using what we learned in exercise 3.6 to make sure you're covering the correct time period."
   ]
  },
  {
   "cell_type": "code",
   "execution_count": null,
   "metadata": {},
   "outputs": [],
   "source": []
  },
  {
   "cell_type": "markdown",
   "metadata": {},
   "source": [
    "##### 4.3.2 Once you have your climatology, make a line plot of the values vs month of the year\n",
    "1. Your x-axis labels should show the name of each month. If you didn't plot vs. the name of the month, but instead used a numerical value, you'll need [set_xticks()](https://matplotlib.org/stable/api/_as_gen/matplotlib.axes.Axes.set_xticks.html#matplotlib.axes.Axes.set_xticks) and [set_xticklabels()](https://matplotlib.org/stable/api/_as_gen/matplotlib.axes.Axes.set_xticklabels.html). These are axes commands so you need to use them in conjunction with an axes instance.\n",
    "2. Add a title and x and y-axis labels"
   ]
  },
  {
   "cell_type": "code",
   "execution_count": null,
   "metadata": {},
   "outputs": [],
   "source": []
  }
 ],
 "metadata": {
  "kernelspec": {
   "display_name": "Python [conda env:uw-fall-2024]",
   "language": "python",
   "name": "conda-env-uw-fall-2024-py"
  },
  "language_info": {
   "codemirror_mode": {
    "name": "ipython",
    "version": 3
   },
   "file_extension": ".py",
   "mimetype": "text/x-python",
   "name": "python",
   "nbconvert_exporter": "python",
   "pygments_lexer": "ipython3",
   "version": "3.11.10"
  }
 },
 "nbformat": 4,
 "nbformat_minor": 4
}
