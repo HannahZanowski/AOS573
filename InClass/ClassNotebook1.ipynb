{
 "cells": [
  {
   "cell_type": "markdown",
   "metadata": {},
   "source": [
    "<b><font size=20, color='#A020F0'>Class Notebook 1"
   ]
  },
  {
   "cell_type": "markdown",
   "metadata": {},
   "source": [
    "#### Welcome to your first in-class jupyter notebook activity!\n",
    "In this notebook you'll get more practice with basic python including functions and loops and the math and datetime modules\n",
    "\n",
    "<b><font color='red'>Due Date: 24 September 2021</font></b><br>(by the end of class)\n",
    "\n",
    "<b>How you will turn in this assignment</b><br> When you are ready to turn in your notebook, do the following:\n",
    "1. Open a terminal and navigate to your local `AOS573` repository and make a new directory called `In_Class`\n",
    "3. Move your completed in-class notebook into this directory\n",
    "4. `add` and `commit` the `In_Class` directory and its contents to your local `AOS573` repository\n",
    "5. Finally, `push` your changes to your remote `aos573_completed_assignments` repository: `git push finished_work main` (you'll need to enter your username and personal access token)"
   ]
  },
  {
   "cell_type": "markdown",
   "metadata": {},
   "source": [
    "---"
   ]
  },
  {
   "cell_type": "markdown",
   "metadata": {},
   "source": [
    "## 1. The math and datetime modules"
   ]
  },
  {
   "cell_type": "markdown",
   "metadata": {},
   "source": [
    "#### 1.1 Import the datetime module"
   ]
  },
  {
   "cell_type": "code",
   "execution_count": null,
   "metadata": {},
   "outputs": [],
   "source": []
  },
  {
   "cell_type": "markdown",
   "metadata": {},
   "source": [
    "#### 1.2 Use `help()` to read about the `date()` function that is part of datetime"
   ]
  },
  {
   "cell_type": "code",
   "execution_count": null,
   "metadata": {},
   "outputs": [],
   "source": []
  },
  {
   "cell_type": "markdown",
   "metadata": {},
   "source": [
    "#### 1.3 Using `date()`\n",
    "Create a date object for 27 April 1965 and use one of the other modules within `date()` to tell you what day of the week it was. Check your answer using google! "
   ]
  },
  {
   "cell_type": "code",
   "execution_count": null,
   "metadata": {},
   "outputs": [],
   "source": []
  },
  {
   "cell_type": "markdown",
   "metadata": {},
   "source": [
    "#### 1.4 Converting weekdays from numbers to strings\n",
    "Write a wrapper function that takes the date as input (year, month, and day), feeds that to `datetime.date()` and returns the actual name of the weekday instead of the numerical weekday output from `datetime.date()` (Hint: Try using a dictionary to help). Test your function to make sure it works. "
   ]
  },
  {
   "cell_type": "code",
   "execution_count": null,
   "metadata": {},
   "outputs": [],
   "source": []
  },
  {
   "cell_type": "markdown",
   "metadata": {},
   "source": [
    "#### 1.5 Import the math module"
   ]
  },
  {
   "cell_type": "code",
   "execution_count": null,
   "metadata": {},
   "outputs": [],
   "source": []
  },
  {
   "cell_type": "markdown",
   "metadata": {
    "tags": []
   },
   "source": [
    "#### 1.6 List the contents of the math module\n",
    "`dir(module_name)`. Use `help()` to read about what some of the functions do!"
   ]
  },
  {
   "cell_type": "code",
   "execution_count": null,
   "metadata": {},
   "outputs": [],
   "source": []
  },
  {
   "cell_type": "markdown",
   "metadata": {},
   "source": [
    "#### 1.7 Using nan and checking whether something is finite\n",
    "In our line of work we often have missing values in our data, which can be represented as a particular number (like -99 for example), or nan (not a number). Given the list of numbers below, write some code that does the following:\n",
    "1. Replaces all values of -99 with math.nan\n",
    "2. Makes a new list with only the finite (non-nan) values in it\n",
    "\n",
    "$a=[1,2,3,4,-99,6,7,-99,9,-99]$"
   ]
  },
  {
   "cell_type": "code",
   "execution_count": null,
   "metadata": {},
   "outputs": [],
   "source": []
  },
  {
   "cell_type": "markdown",
   "metadata": {},
   "source": [
    "#### 1.9 Use `timeit`\n",
    "Time your block of code above with `timeit`. Can you think of any way to make your code faster?"
   ]
  },
  {
   "cell_type": "code",
   "execution_count": null,
   "metadata": {},
   "outputs": [],
   "source": []
  },
  {
   "cell_type": "markdown",
   "metadata": {},
   "source": [
    "---"
   ]
  },
  {
   "cell_type": "markdown",
   "metadata": {},
   "source": [
    "## 2. Even more practice with loops and functions"
   ]
  },
  {
   "cell_type": "markdown",
   "metadata": {},
   "source": [
    "#### 2.1 Turn the result of 1.9 into a function\n",
    "Make a function that takes as input an arbitrary list of numbers with missing values and returns a list without those missing values. Design your function so it has a 'missing_value' argument, with a default of -99. Test your function with the default missing value by using the original list in 1.7. Then test it with the following list, where -999 is the missing value:\n",
    "\n",
    "$b=[10,20,30,-999,80,-999,-999,-999,90,10]$"
   ]
  },
  {
   "cell_type": "code",
   "execution_count": null,
   "metadata": {},
   "outputs": [],
   "source": []
  },
  {
   "cell_type": "markdown",
   "metadata": {},
   "source": [
    "#### 2.2 More on `zip()`\n",
    "[python documentation on zip](https://docs.python.org/3.3/library/functions.html#zip) (It's a bit dense)\n",
    "\n",
    "Use zip to zip these two lists and write the zipped values to the variable `z`\n",
    "1. $c=[1,2,3,4]$\n",
    "2. $d=[5,6,7,8]$\n",
    "\n",
    "What is the type of z?<br>\n",
    "What happens when you try to print the contents of z (`print(z)` or just type `z` in a cell and run it)?<br>\n",
    "Convert this `zip` object into a different data structure that allows you to see the values on screen<br>\n",
    "What type are the 4 individual elements of z?<br>"
   ]
  },
  {
   "cell_type": "code",
   "execution_count": null,
   "metadata": {},
   "outputs": [],
   "source": []
  },
  {
   "cell_type": "markdown",
   "metadata": {},
   "source": [
    "#### 2.3 `zip()` continued!\n",
    "Take your lists a and b from 2.1 and 1.7 (the ones that have replaced the missing values by nans) and construct a loop that returns _only_ the pairs of values (as tuples) from a and b in which _neither_ a _nor_ b is nan. "
   ]
  },
  {
   "cell_type": "code",
   "execution_count": null,
   "metadata": {},
   "outputs": [],
   "source": []
  },
  {
   "cell_type": "markdown",
   "metadata": {},
   "source": [
    "#### 2.4 Reading in data in a loop\n",
    "Make the following set of 5 files by running the following commands:\n",
    "1. `!echo \"1\" > file1.txt`\n",
    "2. `!echo \"2\" > file2.txt`\n",
    "3. `!echo \"3\" > file3.txt`\n",
    "4. `!echo \"4\" > file4.txt`\n",
    "5. `!echo \"5\" > file5.txt`\n",
    "\n",
    "Write a loop that reads in the output of each .txt file and saves it in a list (your final list should have the 5 numbers in it as INTEGERS, one from each file). You'll need the following bit of code to read lines from a .txt file (this code should be executed IN your loop, and you should test what it does on a single file to make sure you understand what it is doing):\n",
    "````bash\n",
    "with open('filename.txt') as f:\n",
    "    line = f.readline()\n",
    "````"
   ]
  },
  {
   "cell_type": "code",
   "execution_count": null,
   "metadata": {},
   "outputs": [],
   "source": []
  }
 ],
 "metadata": {
  "kernelspec": {
   "display_name": "Python 3 (ipykernel)",
   "language": "python",
   "name": "python3"
  },
  "language_info": {
   "codemirror_mode": {
    "name": "ipython",
    "version": 3
   },
   "file_extension": ".py",
   "mimetype": "text/x-python",
   "name": "python",
   "nbconvert_exporter": "python",
   "pygments_lexer": "ipython3",
   "version": "3.7.10"
  }
 },
 "nbformat": 4,
 "nbformat_minor": 4
}
