{
 "cells": [
  {
   "cell_type": "markdown",
   "metadata": {},
   "source": [
    "<b><font size=20, color='#A020F0'>Class Notebook 8</font></b>"
   ]
  },
  {
   "cell_type": "markdown",
   "metadata": {},
   "source": [
    "## Welcome to your eighth in-class jupyter notebook activity!\n",
    "In this notebook you'll get more practice with MetPy. We'll be using forecast data from the [GFS](https://www.emc.ncep.noaa.gov/emc/pages/numerical_forecast_systems/gfs.php) (Global Forecast System), a forecast model developed by the [National Centers for Environmental Prediction](https://www.weather.gov/ncep/). You can access output from the GFS at [NCEP](https://www.nco.ncep.noaa.gov/pmb/products/gfs/) and [Amazon Web Services (AWS)](https://registry.opendata.aws/noaa-gfs-bdp-pds/).\n",
    "\n",
    "<b>This is your final in-class notebook activity!</b>\n",
    "\n",
    "---\n",
    "\n",
    "<b><font color='red'>Due Date: 4 December 2023 @ 9 am</font></b><br>\n",
    "\n",
    "<b>How you will turn in this assignment</b><br> When you are ready to turn in your notebook, do the following:\n",
    "1. Save your notebook and make sure your results are visible (cells have been executed)\n",
    "2. Open a terminal and navigate to your local `aos573_completed_assignments` repository\n",
    "3. Move your completed in-class notebook into your `Class_Notebooks` directory\n",
    "4. `add` and `commit` your completed notebook\n",
    "5. Finally, `push` your changes to your remote `aos573_completed_assignments` repository: `git push finished_work main` (you'll need to enter your username and personal access token)\n",
    "6. <b><font color='red'>REMINDER: DO NOT TRACK OR PUSH THE DATA USED IN THE NOTEBOOK</font></b>\n",
    "7. <b><font color='blue'>Celebrate!</font></b>"
   ]
  },
  {
   "cell_type": "markdown",
   "metadata": {},
   "source": [
    "---"
   ]
  },
  {
   "cell_type": "markdown",
   "metadata": {},
   "source": [
    "## 1. Reading in and exploring your data\n",
    "The data for this notebook is in the following directory: `/share/Notebook_data/GFS/`"
   ]
  },
  {
   "cell_type": "markdown",
   "metadata": {},
   "source": [
    "### 1.1 Read in the GFS data\n",
    "The data that you'll read in is a forecast from the GFS initiated at 06Z on 24 October 2022. The forecast itself is 27 hours out from this time.\n",
    "\n",
    "The file you should read in is `gfs.t06z.pgrb2.0p25.f027` and it is in grib format\n",
    "\n",
    "Take a look at the variables in your dataset as well as their attributes. What variables exist in this dataset? What are their dimensions and coordinates? What is the valid time for the forecast? You don't need to write these answers out this time--this step is for your own edification and should be something you <b>_always_</b> do when you read in a new data file."
   ]
  },
  {
   "cell_type": "code",
   "execution_count": null,
   "metadata": {
    "tags": []
   },
   "outputs": [],
   "source": []
  },
  {
   "cell_type": "markdown",
   "metadata": {},
   "source": [
    "### 1.2 Add units to your data\n",
    "Use metpy to add units to your variables"
   ]
  },
  {
   "cell_type": "code",
   "execution_count": null,
   "metadata": {},
   "outputs": [],
   "source": []
  },
  {
   "cell_type": "markdown",
   "metadata": {},
   "source": [
    "---"
   ]
  },
  {
   "cell_type": "markdown",
   "metadata": {},
   "source": [
    "## 2. Working with your data"
   ]
  },
  {
   "cell_type": "markdown",
   "metadata": {},
   "source": [
    "### 2.1 Getting variables at a specific pressure level\n",
    "Extract geopotential height at 900 hPa, temperature at 700 hPa, and zonal and meridional velocity at both 700 hPa and 300 hPa"
   ]
  },
  {
   "cell_type": "code",
   "execution_count": null,
   "metadata": {},
   "outputs": [],
   "source": []
  },
  {
   "cell_type": "markdown",
   "metadata": {},
   "source": [
    "### 2.2 Smooth your data\n",
    "Use the n-point smoother with the same parameters as we did in class on Monday to smooth each of the variables you extracted above"
   ]
  },
  {
   "cell_type": "code",
   "execution_count": null,
   "metadata": {},
   "outputs": [],
   "source": []
  },
  {
   "cell_type": "markdown",
   "metadata": {},
   "source": [
    "### 2.3 Compute the temperature advection\n",
    "Horizontal temperature advection is $\\vec{v}\\cdot\\vec{\\nabla_{h}}T$\n",
    "\n",
    "Use metpy's [advection](https://unidata.github.io/MetPy/latest/api/generated/metpy.calc.advection.html#metpy.calc.advection) function to calculate the horizontal temperature advection at 700 hPa. Convert the units of your results from K/s to K/h (Kelvin per hour)"
   ]
  },
  {
   "cell_type": "code",
   "execution_count": null,
   "metadata": {},
   "outputs": [],
   "source": []
  },
  {
   "cell_type": "markdown",
   "metadata": {},
   "source": [
    "### 2.4 Compute the windspeed\n",
    "Compute the windspeed at 300 hPa"
   ]
  },
  {
   "cell_type": "code",
   "execution_count": null,
   "metadata": {},
   "outputs": [],
   "source": []
  },
  {
   "cell_type": "markdown",
   "metadata": {},
   "source": [
    "### 2.5 Plot your results\n",
    "Create a plot of your results on a Lambert Conformal map centered over the Bering Sea with the following:\n",
    "1. Filled contours of the 700 hPa temperature advection\n",
    "2. Contours of 900 hPa geopotential height\n",
    "3. Contours of 300 hPa windspeed (only plotted for windspeed > 40 m/s)\n",
    "\n",
    "Additional plotting parameters:\n",
    "1. Add coastlines to your map\n",
    "2. Adjust the axes extent so that your map is zoomed in over the region (no need to plot a global map)--for reference, the map I made spans 210˚W-150˚W and 45˚N-70˚N\n",
    "3. Add two titles, one on the left of the plot that tells what variables are being plotted and what their units are, and one on the right showing the valid time of the forecast\n",
    "4. Add a colorbar for the temperatue advection and label it  \n",
    "\n",
    "Don't forget to choose colors that work well together and make it easy to see what you are plotting on your map."
   ]
  },
  {
   "cell_type": "code",
   "execution_count": null,
   "metadata": {},
   "outputs": [],
   "source": []
  },
  {
   "cell_type": "markdown",
   "metadata": {},
   "source": [
    "---"
   ]
  },
  {
   "cell_type": "markdown",
   "metadata": {},
   "source": [
    "## 3. Acquiring your own data and making a plot\n",
    "\n",
    "For this problem, go to the [GFS data access portal](https://www.ncei.noaa.gov/products/weather-climate-models/global-forecast), scroll down, and expand the 'Data on NCEI servers' tab. Choose a single grib file from the GFS-Analysis and download it (to access the data it's easiest to click on the HTTPS link which takes you to an FTP). Make a nice-looking plot (a 2D map or a 2D cross-section) of one of the variables in the file (I do not care which one)."
   ]
  },
  {
   "cell_type": "code",
   "execution_count": null,
   "metadata": {},
   "outputs": [],
   "source": []
  }
 ],
 "metadata": {
  "kernelspec": {
   "display_name": "Python [conda env:uwb-fall-2023]",
   "language": "python",
   "name": "conda-env-uwb-fall-2023-py"
  },
  "language_info": {
   "codemirror_mode": {
    "name": "ipython",
    "version": 3
   },
   "file_extension": ".py",
   "mimetype": "text/x-python",
   "name": "python",
   "nbconvert_exporter": "python",
   "pygments_lexer": "ipython3",
   "version": "3.8.17"
  }
 },
 "nbformat": 4,
 "nbformat_minor": 4
}
