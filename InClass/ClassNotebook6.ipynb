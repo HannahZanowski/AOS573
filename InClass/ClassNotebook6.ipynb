{
 "cells": [
  {
   "cell_type": "markdown",
   "metadata": {},
   "source": [
    "<b><font size=20, color='#A020F0'>Class Notebook 6"
   ]
  },
  {
   "cell_type": "markdown",
   "metadata": {},
   "source": [
    "## Welcome to your sixth in-class jupyter notebook activity!\n",
    "In this notebook you'll get more practice with MetPy. We'll be using forecast data from the [HRRR](https://rapidrefresh.noaa.gov/hrrr/) (High Resolution Rapid Refresh), a high resolution (3 km) forecast model that assimilates radar data and creates hourly forecasts for the U.S. You can download HRRR data from a number of places including [NCEP](https://www.nco.ncep.noaa.gov/pmb/products/hrrr/) and [Amazon Web Services (AWS)](https://registry.opendata.aws/noaa-hrrr-pds/).\n",
    "\n",
    "---\n",
    "\n",
    "<b><font color='red'>Due Date: 29 October 2021</font></b><br>(by the end of class)\n",
    "\n",
    "<b>How you will turn in this assignment</b><br> When you are ready to turn in your notebook, do the following:\n",
    "1. Save your notebook and make sure your results are visible (cells have been executed)\n",
    "2. Open a terminal and navigate to your local `AOS573` repository\n",
    "3. If you haven't done so, move your completed in-class notebook into your InClass directory (if you opened and worked on the notebook from this directory you don't need to do anything).\n",
    "4. Use `git add` and `git commit -m` to add and commit ClassNotebook4 to your local `AOS573` git repository\n",
    "5. `push` your changes to your remote `aos573_completed_assignments` repository: `git push finished_work main` (you'll need to enter your username and personal access token)"
   ]
  },
  {
   "cell_type": "markdown",
   "metadata": {},
   "source": [
    "---"
   ]
  },
  {
   "cell_type": "markdown",
   "metadata": {},
   "source": [
    "## 1. Reading in and exploring your data\n",
    "The data for this notebook is in the following directory: `/tornado/home1/class/fall21/zanowski/Notebook_data/HRRR/`\n",
    "Because this is a relatively large file, <b><font color='red'>don't copy it to your local directory.</b></font>"
   ]
  },
  {
   "cell_type": "markdown",
   "metadata": {},
   "source": [
    "### 1.1 Read in the HRRR data\n",
    "The data that you'll read in is a forecast from the HRRR initiated at 12Z on 26 October 2021. The forecast itself is 36 hours out from this time.\n",
    "\n",
    "When reading in the data, set drop_variables=['clwmr','unknown','absv','grle','rwmr','snmr'], and use metpy to parse the file metadata.\n",
    "\n",
    "Take a look at the variables in your dataset as well as their attributes. What variables exist in this dataset? What are their dimensions and coordinates? You don't need to write these answers out this time--this step is for your own edification and should be something you always do when you read in a new data file."
   ]
  },
  {
   "cell_type": "code",
   "execution_count": null,
   "metadata": {},
   "outputs": [],
   "source": []
  },
  {
   "cell_type": "markdown",
   "metadata": {},
   "source": [
    "### 1.2 Add units to your data\n",
    "Use metpy to add units to your variables"
   ]
  },
  {
   "cell_type": "code",
   "execution_count": null,
   "metadata": {},
   "outputs": [],
   "source": []
  },
  {
   "cell_type": "markdown",
   "metadata": {},
   "source": [
    "---"
   ]
  },
  {
   "cell_type": "markdown",
   "metadata": {},
   "source": [
    "## 2. Working with your data"
   ]
  },
  {
   "cell_type": "markdown",
   "metadata": {},
   "source": [
    "### 2.1 Getting variables at a specific pressure level\n",
    "Choose a pressure level from your dataset and get u,v,t,and gh at this level"
   ]
  },
  {
   "cell_type": "code",
   "execution_count": null,
   "metadata": {},
   "outputs": [],
   "source": []
  },
  {
   "cell_type": "markdown",
   "metadata": {},
   "source": [
    "### 2.2 Smooth your data\n",
    "Use the n-point smoother with the same parameters as we did in class on Monday to smooth each of the variables you extracted above"
   ]
  },
  {
   "cell_type": "code",
   "execution_count": null,
   "metadata": {},
   "outputs": [],
   "source": []
  },
  {
   "cell_type": "markdown",
   "metadata": {},
   "source": [
    "### 2.3 Compute the temperature advection\n",
    "Horizontal temperature advection is $\\vec{v}\\cdot\\vec{\\nabla_{h}}T$\n",
    "\n",
    "Use metpy's [advection](https://unidata.github.io/MetPy/latest/api/generated/metpy.calc.advection.html#metpy.calc.advection) function to calculate the horizontal temperature advection at your chosen pressure level. Convert the units of your results from K/s to K/h (Kelvin per hour)"
   ]
  },
  {
   "cell_type": "code",
   "execution_count": null,
   "metadata": {},
   "outputs": [],
   "source": []
  },
  {
   "cell_type": "markdown",
   "metadata": {},
   "source": [
    "### 2.4 Plot your results\n",
    "Plot a Lambert Conformal map of the U.S. with\n",
    "1. Filled contours of temperature advection at your chosen pressure level\n",
    "2. Contours of geopotential height at your chosen pressure level\n",
    "3. Wind barbs for the winds at your chosen pressure level\n",
    "\n",
    "Then do the following:\n",
    "1. Set the axes extent to be [-110, -80, 25, 48] (this is West, East, South, North)\n",
    "2. Add two titles, one on the left of the plot that tells what variables are being plotted and what their units are, and one on the right showing the valid time of the forecast\n",
    "3. Add a colorbar and label it\n",
    "\n",
    "Don't forget to choose colors that work well together and make it easy to see what you are plotting on your map. Your plot will take a while to render--a 3km grid means you have a lot of data!"
   ]
  },
  {
   "cell_type": "code",
   "execution_count": null,
   "metadata": {},
   "outputs": [],
   "source": []
  }
 ],
 "metadata": {
  "kernelspec": {
   "display_name": "Python 3 (ipykernel)",
   "language": "python",
   "name": "python3"
  },
  "language_info": {
   "codemirror_mode": {
    "name": "ipython",
    "version": 3
   },
   "file_extension": ".py",
   "mimetype": "text/x-python",
   "name": "python",
   "nbconvert_exporter": "python",
   "pygments_lexer": "ipython3",
   "version": "3.7.10"
  }
 },
 "nbformat": 4,
 "nbformat_minor": 4
}
