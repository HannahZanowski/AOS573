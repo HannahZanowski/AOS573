{
 "cells": [
  {
   "cell_type": "markdown",
   "metadata": {},
   "source": [
    "<b><font size=20, color='#A020F0'>Class Notebook 4</font></b>"
   ]
  },
  {
   "cell_type": "markdown",
   "metadata": {},
   "source": [
    "## Welcome to your fourth in-class jupyter notebook activity!\n",
    "In this notebook you'll get more practice with xarray. We'll be using data from the [World Ocean Atlas 2018](https://www.ncei.noaa.gov/products/world-ocean-atlas) (WOA18), which is a global gridded data product derived from oceanographic data from the [World Ocean Database](https://www.ncei.noaa.gov/products/world-ocean-database).\n",
    "\n",
    "---\n",
    "<b><font color='red'>Due Date: 13 October 2025 @ 9 am</font></b><br>\n",
    "\n",
    "<b>How you will turn in this assignment</b><br> When you are ready to turn in your notebook, do the following:\n",
    "1. Save your notebook and make sure your results are visible (cells have been executed)\n",
    "2. Open a terminal and navigate to your local `aos573_completed_assignments` repository\n",
    "3. Move your completed in-class notebook into your `Class_Notebooks` directory\n",
    "4. `add` and `commit` your completed notebook\n",
    "5. Finally, `push` your changes to your remote `aos573_completed_assignments` repository: `git push finished_work main` (you'll need to enter your username and personal access token)\n",
    "6. <b><font color='red'>REMINDER: DO NOT TRACK OR PUSH THE DATA USED IN THE NOTEBOOK</font></b>"
   ]
  },
  {
   "cell_type": "markdown",
   "metadata": {},
   "source": [
    "---"
   ]
  },
  {
   "cell_type": "markdown",
   "metadata": {},
   "source": [
    "## 1. Reading in and exploring your data\n",
    "The data for this notebook is in the following directory on our jupyterhub: `/share/Notebook_data/`"
   ]
  },
  {
   "cell_type": "markdown",
   "metadata": {},
   "source": [
    "### 1.1 Use xarray to read in the file `WOA18.nc`"
   ]
  },
  {
   "cell_type": "code",
   "execution_count": null,
   "metadata": {},
   "outputs": [],
   "source": []
  },
  {
   "cell_type": "markdown",
   "metadata": {},
   "source": [
    "### 1.2 Understanding your data\n",
    "1. What data variables exist in your dataset and what do they represent? (You can ignore variables ending in `_bnds`)\n",
    "2. What are the coordinates of the variables ending in `_an`?\n",
    "3. What is the range of values for each coordinate in your dataset?\n",
    "\n",
    "<b>Please use code, _not markdown_, to return answers to the above questions</b>"
   ]
  },
  {
   "cell_type": "code",
   "execution_count": null,
   "metadata": {},
   "outputs": [],
   "source": []
  },
  {
   "cell_type": "markdown",
   "metadata": {},
   "source": [
    "### 1.3 Visualize your data\n",
    "Make a 2x2 panel of filled contour plots showing global maps of temperature, salinity, sigma (sigma=density-1000), and oxygen at the ocean surface. These plots need not be pretty--they should just help you get a sense of what your data actually look like."
   ]
  },
  {
   "cell_type": "code",
   "execution_count": null,
   "metadata": {},
   "outputs": [],
   "source": [
    "             "
   ]
  },
  {
   "cell_type": "markdown",
   "metadata": {},
   "source": [
    "### 1.4 Making a land mask\n",
    "Use np.isnan() to make a land mask and add it to your dataset"
   ]
  },
  {
   "cell_type": "code",
   "execution_count": null,
   "metadata": {},
   "outputs": [],
   "source": []
  },
  {
   "cell_type": "markdown",
   "metadata": {},
   "source": [
    "---"
   ]
  },
  {
   "cell_type": "markdown",
   "metadata": {},
   "source": [
    "## 2. Working with your data"
   ]
  },
  {
   "cell_type": "markdown",
   "metadata": {},
   "source": [
    "### 2.1 Creating basin zonal means\n",
    "Compute the zonal mean temperature, salinity, and oxygen in the Atlantic, Pacific, and Indian Oceans for every depth. For simplicity, use the following longitudes to define your ocean boundaries (the latitude bounds for each should span the entire range of latitudes in the dataset, so 89.5˚S to 89.5˚N. This will include the Arctic and Southern Ocean in your plots but that's fine!):\n",
    "1. Atlantic: 70W-25E\n",
    "2. Indian:25E-120E\n",
    "3. Pacific: 120E-70W (290E)\n",
    "\n",
    "><b><font color='red'>Note:</font></b> Because the Pacific Ocean is split at the dateline, you will either need to use [roll()]((http://xarray.pydata.org/en/stable/generated/xarray.Dataset.roll.html)) to shift your grid so that you you can grab all of the Pacific Ocean data in one continuous chunk, or you can use [concat()](http://xarray.pydata.org/en/stable/generated/xarray.concat.html) to combine the disparate pieces."
   ]
  },
  {
   "cell_type": "code",
   "execution_count": null,
   "metadata": {},
   "outputs": [],
   "source": []
  },
  {
   "cell_type": "markdown",
   "metadata": {},
   "source": [
    "### 2.2 Plotting basin zonal means\n",
    "Make a 3x3 panel of depth vs latitude filled contour plots showing your zonal means for temperature, salinity, and oxygen in each ocean basin. The columns of the plot should be the individual ocean basins, and the rows the variables. Use [annotate()](https://matplotlib.org/stable/api/_as_gen/matplotlib.pyplot.annotate.html) to place a label at the top of each column of plots with the name of the ocean basin it represents."
   ]
  },
  {
   "cell_type": "code",
   "execution_count": null,
   "metadata": {},
   "outputs": [],
   "source": []
  },
  {
   "cell_type": "markdown",
   "metadata": {},
   "source": [
    "### 2.3 Practice interpolating\n",
    "Use [interp()](http://xarray.pydata.org/en/stable/generated/xarray.DataArray.interp.html) to interpolate global surface ocean salinity onto a new latitude and longitude grid defined as the following:<br>\n",
    "`lat_new=np.arange(-90.0,90.1,1.0)`<br>\n",
    "`lon_new=np.arange(-180.0,180.1,1.0)`\n",
    "\n",
    "Use [pcolormesh](https://matplotlib.org/stable/api/_as_gen/matplotlib.pyplot.pcolormesh.html) to plot your result on top of the land mask you made in Q1.4. What happens at the land boundaries (you may need to adjust the x and y limits on your plot to zoom in and see the changes)?"
   ]
  },
  {
   "cell_type": "code",
   "execution_count": null,
   "metadata": {},
   "outputs": [],
   "source": []
  },
  {
   "cell_type": "markdown",
   "metadata": {},
   "source": [
    "### 2.4 Calculating Ocean Heat Content"
   ]
  },
  {
   "cell_type": "markdown",
   "metadata": {},
   "source": [
    "#### 2.4.1 Calculate the ocean heat content above 2000 m\n",
    "Make a quick plot of your result\n",
    "\n",
    "Ocean Heat Content is defined as the following, where $\\rho$=density in [kg/m$^{3}$], $T$=temperature in [K], $C_{p}$ is the specific heat of seawater in [J/kgK], and $h$ is an arbitrary depth in [m]:<br>\n",
    "$OHC=C_{p}\\int_{0}^{h}\\rho(z)T(z)dz$\n",
    "\n",
    "Some information that will help:\n",
    "1. $C_{p}$=3990 J/kg/K\n",
    "2. $\\rho$=$\\sigma$+1000\n",
    "3. T$_{kelvin}$=T$_{celsius}$+273.15\n",
    "\n",
    "To help get you started, I've set up the code to compute dz:"
   ]
  },
  {
   "cell_type": "code",
   "execution_count": null,
   "metadata": {},
   "outputs": [],
   "source": [
    "#Compute dz\n",
    "dz=ds.depth_bnds[:,1]-ds.depth_bnds[:,0]"
   ]
  },
  {
   "cell_type": "code",
   "execution_count": null,
   "metadata": {},
   "outputs": [],
   "source": []
  },
  {
   "cell_type": "markdown",
   "metadata": {},
   "source": [
    "#### 2.4.2 Compute the total ocean heat content above 2000 m by integrating globally\n",
    "You'll need to compute the area in m$^{2}$ of each grid cell. The radius of the Earth is 6371000 m. The widths and heights of each grid cell are 1˚ in longitude and 1˚ in latitude, respectively. "
   ]
  },
  {
   "cell_type": "code",
   "execution_count": null,
   "metadata": {},
   "outputs": [],
   "source": []
  },
  {
   "cell_type": "markdown",
   "metadata": {},
   "source": [
    "### 2.5 Finding the depths of maximum temperature and minimum oxygen\n",
    "For this problem, find the depth of the maximum temperature and the depth of minimum oxygen at each grid cell (each lat/lon point). Your final result for each should be a 2D field of depths that vary spatially across the planet. I've broken down the problem into a few steps below to help:"
   ]
  },
  {
   "cell_type": "markdown",
   "metadata": {},
   "source": [
    "#### 2.5.1 Create a 3D DataArray for depth and add it to your dataset\n",
    "><b><font color='green'>Hint:</font></b> Try using [full_like()](http://xarray.pydata.org/en/stable/generated/xarray.full_like.html)"
   ]
  },
  {
   "cell_type": "code",
   "execution_count": null,
   "metadata": {},
   "outputs": [],
   "source": []
  },
  {
   "cell_type": "markdown",
   "metadata": {},
   "source": [
    "#### 2.5.2 Use where() on your 3D depths \n",
    "Get the depths where the temperature is a maximum at each grid point and then get the depths where oxygen is a minimum at each grid point (these should be separate fields)"
   ]
  },
  {
   "cell_type": "code",
   "execution_count": null,
   "metadata": {},
   "outputs": [],
   "source": []
  },
  {
   "cell_type": "markdown",
   "metadata": {},
   "source": [
    "#### 2.5.3 Turn your 3D DataArrays into 2D arrays\n",
    "In order to be able to make a contour plot of your depths, you need to turn your 3D answer from above into a 2D array with only dimensions of lat and lon. In this case, because each depth column only has one value and the rest are nans, you can do this by summing along depth (xarray ignores nans, so your values shouldn't change)."
   ]
  },
  {
   "cell_type": "code",
   "execution_count": null,
   "metadata": {},
   "outputs": [],
   "source": []
  },
  {
   "cell_type": "markdown",
   "metadata": {},
   "source": [
    "#### 2.5.4 Remask your results so that land is nan again\n",
    "When you do computations like this, sometimes the nans for land aren't preserved, but this isn't an issue. We just need to remask our 2D results from 2.4.2 by using where(). If your land DataArray is 3D, use only the masked values at the surface (depth=0). Also note that land is a boolean DataArray where the values for the ocean values = False, so your condition in your where() statement should be where land is false."
   ]
  },
  {
   "cell_type": "code",
   "execution_count": null,
   "metadata": {},
   "outputs": [],
   "source": []
  },
  {
   "cell_type": "markdown",
   "metadata": {},
   "source": [
    "#### 2.5.5 Plot your results\n",
    "Make a 1x2 set of filled contour plots of your results. What do your results tell you about the depths where temperatures are largest in the polar oceans? Does this seem to make sense based on your plots from 2.2?"
   ]
  },
  {
   "cell_type": "code",
   "execution_count": null,
   "metadata": {},
   "outputs": [],
   "source": []
  }
 ],
 "metadata": {
  "kernelspec": {
   "display_name": "Python [conda env:uw-fall-2025]",
   "language": "python",
   "name": "conda-env-uw-fall-2025-py"
  },
  "language_info": {
   "codemirror_mode": {
    "name": "ipython",
    "version": 3
   },
   "file_extension": ".py",
   "mimetype": "text/x-python",
   "name": "python",
   "nbconvert_exporter": "python",
   "pygments_lexer": "ipython3",
   "version": "3.11.13"
  }
 },
 "nbformat": 4,
 "nbformat_minor": 4
}
