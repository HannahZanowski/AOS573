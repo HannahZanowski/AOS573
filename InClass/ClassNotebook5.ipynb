{
 "cells": [
  {
   "cell_type": "markdown",
   "metadata": {},
   "source": [
    "<b><font size=20, color='#A020F0'>Class Notebook 5</font></b>"
   ]
  },
  {
   "cell_type": "markdown",
   "metadata": {},
   "source": [
    "## Welcome to your fifth in-class jupyter notebook activity!\n",
    "In this notebook you'll get more practice with plotting and cartopy. We'll be using climatological atmospheric data from [MERRA2](https://gmao.gsfc.nasa.gov/reanalysis/MERRA-2/), which is a global reanalysis product created by NASA that incorporates satellite data.\n",
    "\n",
    "---\n",
    "\n",
    "<b><font color='red'>Due Date: 23 October 2023 @ 9 am</font></b><br>\n",
    "\n",
    "<b>How you will turn in this assignment</b><br> When you are ready to turn in your notebook, do the following:\n",
    "1. Save your notebook and make sure your results are visible (cells have been executed)\n",
    "2. Open a terminal and navigate to your local `aos573_completed_assignments` repository\n",
    "3. Move your completed in-class notebook into your `Class_Notebooks` directory\n",
    "4. `add` and `commit` your completed notebook\n",
    "5. Finally, `push` your changes to your remote `aos573_completed_assignments` repository: `git push finished_work main` (you'll need to enter your username and personal access token)\n",
    "6. <b><font color='red'>REMINDER: DO NOT TRACK OR PUSH THE DATA USED IN THE NOTEBOOK</font></b>"
   ]
  },
  {
   "cell_type": "markdown",
   "metadata": {},
   "source": [
    "---"
   ]
  },
  {
   "cell_type": "markdown",
   "metadata": {},
   "source": [
    "## 1. Reading in and exploring your data\n",
    "The data for this notebook sits in the following directory: `/share/Notebook_data/MERRA2/`"
   ]
  },
  {
   "cell_type": "markdown",
   "metadata": {},
   "source": [
    "### 1.1 Use xarray to read in the MERRA2 data\n",
    "Use [open_mfdataset()](http://xarray.pydata.org/en/stable/generated/xarray.open_mfdataset.html) to read in all 12 of your files at once. Some things that will help:\n",
    "\n",
    "1. Use a wildcard (*) to specify all the MERRA2 files at once\n",
    "2. The `combine` keyword should be set to `'by_coords'`\n",
    "3. The `data_vars` keyword should be set to `'minimal'`\n",
    "\n",
    "><b><font color='red'>NOTE: </font></b> open_mfdataset uses [Dask](https://docs.dask.org/en/stable/) under the hood. We have not yet learned about Dask in class. If you are having trouble viewing your data, you can append `.load()` to your computations in this notebook, or they'll be triggered when you plot."
   ]
  },
  {
   "cell_type": "code",
   "execution_count": null,
   "metadata": {},
   "outputs": [],
   "source": []
  },
  {
   "cell_type": "markdown",
   "metadata": {
    "tags": []
   },
   "source": [
    "### 1.2 Understanding your data\n",
    "1. What data variables exist in your dataset and what do they represent?\n",
    "2. What are the units for each variable?\n",
    "3. What is the range of values for each coordinate in your dataset?\n",
    "4. What is the resolution of the data (i.e., what is the grid-spacing in latitude and longitude)?\n",
    "\n",
    "><b><font color='red'>NOTE:</font></b> Although the date range looks like it only covers 1981, in reality this data is an average over 1981-2010 for each month!"
   ]
  },
  {
   "cell_type": "code",
   "execution_count": null,
   "metadata": {},
   "outputs": [],
   "source": []
  },
  {
   "cell_type": "markdown",
   "metadata": {},
   "source": [
    "### 1.3 Visualize your data\n",
    "Make a 1x2 panel of filled contour plots showing the annual mean 2m air temperature (T2MMEAN) and the total precipitation (PRECTOT). These plots need not be pretty--they should just help you get a sense of what your data actually look like."
   ]
  },
  {
   "cell_type": "code",
   "execution_count": null,
   "metadata": {},
   "outputs": [],
   "source": []
  },
  {
   "cell_type": "markdown",
   "metadata": {},
   "source": [
    "---"
   ]
  },
  {
   "cell_type": "markdown",
   "metadata": {},
   "source": [
    "## 2. Working with your data"
   ]
  },
  {
   "cell_type": "markdown",
   "metadata": {},
   "source": [
    "### 2.1 Precipitation flux anomalies\n",
    "At each lat/lon point of your data, calculate the precipitation anomalies relative to the time mean"
   ]
  },
  {
   "cell_type": "code",
   "execution_count": null,
   "metadata": {},
   "outputs": [],
   "source": []
  },
  {
   "cell_type": "markdown",
   "metadata": {},
   "source": [
    "### 2.2 Plotting the precipitation flux anomalies\n",
    "Make a 3x4 panel of global filled contour plots showing your flux anomalies during each month of the year. \n",
    "\n",
    "Make sure your plot adheres to the following additional parameters:\n",
    "1. Use a cartopy map projection that is good for showing the tropics, and make a single colorbar for the entire set of plots\n",
    "2. Use the [chroma.js color palette helper](https://gka.github.io/palettes/#/9|s|00429d,96ffea,ffffe0|ffffe0,ff005e,93003a|1|1) (or any other color-palette creator that you prefer) to create your own diverging colormap for your anomalies (please consider what we learned about choosing colors on Monday!)\n",
    "3. Choose appropriate contour levels for showing the anomalies\n",
    "4. Give each subplot a title that is the month of the year, add coastlines to each plot, and label your colorbar"
   ]
  },
  {
   "cell_type": "code",
   "execution_count": null,
   "metadata": {},
   "outputs": [],
   "source": []
  },
  {
   "cell_type": "markdown",
   "metadata": {},
   "source": [
    "### 2.3 2m air temperature anomalies\n",
    "Repeat 2.1 but for the 2m air temperature anomalies relative to the time mean"
   ]
  },
  {
   "cell_type": "code",
   "execution_count": null,
   "metadata": {},
   "outputs": [],
   "source": []
  },
  {
   "cell_type": "markdown",
   "metadata": {},
   "source": [
    "### 2.4 Plotting the 2m air temperature anomalies\n",
    "As you did in 2.2, make a 3x4 panel of global filled contour plots showing the anomalies in each month. This time have some fun and choose a projection from the [cartopy projection list](https://scitools.org.uk/cartopy/docs/latest/reference/projections.html) that you haven't yet used. \n",
    "\n",
    "Make sure your plot adheres to the following additional parameters:\n",
    "1. Use a diverging colormap from cmocean (you'll need to import cmocean!) \n",
    "2. Choose appropriate contour levels for showing the anomalies\n",
    "3. Give each subplot a title that is the month of the year, add coastlines to each plot, and label your colorbar"
   ]
  },
  {
   "cell_type": "code",
   "execution_count": null,
   "metadata": {},
   "outputs": [],
   "source": []
  },
  {
   "cell_type": "markdown",
   "metadata": {},
   "source": [
    "### 2.5 Total precipitation rate\n",
    "Calculate the total precipitation rate in kg/s for each month at each lat/lon point of your data. You will need to compute the grid cell area in m$^{2}$. Use the latitude and longitude spacing you found in in 1.2. The radius of the Earth is 6371000 m."
   ]
  },
  {
   "cell_type": "code",
   "execution_count": null,
   "metadata": {},
   "outputs": [],
   "source": []
  },
  {
   "cell_type": "markdown",
   "metadata": {},
   "source": [
    "### 2.6 Plotting total precipitation rate\n",
    "Make a 1x2 set of filled contour plots showing the March and September total precipitation rate. \n",
    "\n",
    "Make sure your plot adheres to the following additional parameters:\n",
    "1. Use a Mollweide projection with a central longitude of 160W.\n",
    "2. Add a single colorbar to the bottom of the plot that spans the two subplots. \n",
    "3. Use the [chroma.js color palette helper](https://gka.github.io/palettes/#/9|s|00429d,96ffea,ffffe0|ffffe0,ff005e,93003a|1|1) to create your own colormap (consider what we learned about luminance and saturation on Monday). \n",
    "4. Choose appropriate contour levels for the data. \n",
    "5. Give each subplot a title that is the month of the year, add coastlines to each plot, and label your colorbar\n",
    "><b><font color='red'>Note: </font></b>If a white line shows up in the middle of your plots, add a cyclic point to your data with [cartopy.util.add_cyclic_point()](https://scitools.org.uk/cartopy/docs/latest/reference/generated/cartopy.util.add_cyclic_point.html#cartopy-util-add-cyclic-point)"
   ]
  },
  {
   "cell_type": "code",
   "execution_count": null,
   "metadata": {},
   "outputs": [],
   "source": []
  }
 ],
 "metadata": {
  "kernelspec": {
   "display_name": "Python [conda env:uwb-fall-2023]",
   "language": "python",
   "name": "conda-env-uwb-fall-2023-py"
  },
  "language_info": {
   "codemirror_mode": {
    "name": "ipython",
    "version": 3
   },
   "file_extension": ".py",
   "mimetype": "text/x-python",
   "name": "python",
   "nbconvert_exporter": "python",
   "pygments_lexer": "ipython3",
   "version": "3.8.17"
  }
 },
 "nbformat": 4,
 "nbformat_minor": 4
}
