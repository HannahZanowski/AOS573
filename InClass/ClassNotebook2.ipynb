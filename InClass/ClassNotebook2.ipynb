{
 "cells": [
  {
   "cell_type": "markdown",
   "metadata": {},
   "source": [
    "<b><font size=20, color='#A020F0'>Class Notebook 2</font></b>"
   ]
  },
  {
   "cell_type": "markdown",
   "metadata": {},
   "source": [
    "## Welcome to your second in-class jupyter notebook activity!\n",
    "In this notebook you'll get more practice with scipy. Specifically, you'll be working with the 800,000 year CO$_{2}$ record from the European Project for Ice Coring in Antarctica (EPICA) Dome C ice cores. EPICA ran from 1995-2004 with the goal of extending the 400,000 year Vostok ice core record by reaching even deeper (>3km! Deeper ice=older ice in general) ice in the Antarctic ice sheet. You can find a link to the original paper here: [Eight Glacial Cycles from an Antarctic Ice Core](https://www.nature.com/articles/nature02599). However, we'll be working with some slightly updated data, and you can find that publication here: [Bereiter et al., 2015](http://onlinelibrary.wiley.com/doi/10.1002/2014GL061957/abstract). \n",
    "\n",
    "---\n",
    "\n",
    "<b><font color='red'>Due Date: 29 September 2025 @ 9 am</font></b><br>\n",
    "\n",
    "<b>How you will turn in this assignment</b><br> When you are ready to turn in your notebook, do the following:\n",
    "1. Save your notebook and make sure your results are visible (cells have been executed)\n",
    "2. Open a terminal and navigate to your local `aos573_completed_assignments` repository\n",
    "3. Move or copy your completed in-class notebook into your `Class_Notebooks` directory\n",
    "4. `add` and `commit` your completed notebook\n",
    "5. Finally, `push` your changes to your remote `aos573_completed_assignments` repository: `git push finished_work main` (you'll need to enter your username and personal access token)\n",
    "6. <b><font color='red'>REMINDER: DO NOT TRACK OR PUSH THE DATA USED IN THE NOTEBOOK</font></b>"
   ]
  },
  {
   "cell_type": "markdown",
   "metadata": {},
   "source": [
    "---"
   ]
  },
  {
   "cell_type": "markdown",
   "metadata": {},
   "source": [
    "# 1. Downloading and looking at the data\n",
    "\n",
    "The EPICA Dome C ice core provides a record of atmospheric CO$_{2}$ over the last 800,000 years. Run the command below to download the data.\n",
    "\n",
    "```bash\n",
    "!curl -O https://www.ncei.noaa.gov/pub/data/paleo/icecore/antarctica/antarctica2015co2composite.txt\n",
    "```\n",
    "\n",
    "Open up the `.txt` file you downloaded (double-click on it in the left pane) and take a look at the frontmatter. There is a lot of information there!\n",
    "\n",
    "Some things that will probably help:\n",
    "\n",
    "1. `age_gas_calBP` is the age of the gas that was measured in calendar years before present (BP=before present). Please keep in mind that 'present' in this context means 1950, so if you see some negative ages that means they are dates _after_ 1950! Think of the ages as the time the measurement was taken (relative to 1950).\n",
    "2. `co2_ppm` is the atmospheric CO$_{2}$ (in ppm) at a given time\n",
    "3. `co2_1s_ppm` is the 1-sigma mean (basically the standard deviation)"
   ]
  },
  {
   "cell_type": "code",
   "execution_count": null,
   "metadata": {},
   "outputs": [],
   "source": []
  },
  {
   "cell_type": "markdown",
   "metadata": {},
   "source": [
    "### Q1.1 Reading in your data\n",
    "Use numpy's `genfromtxt()` (we'll get into Pandas next week!) to read in the ice core data. You'll need to figure out the exact parameters in order to only read in the data and not the header. Give the columns of your data some names using the 'names' argument in `genfromtxt`"
   ]
  },
  {
   "cell_type": "code",
   "execution_count": null,
   "metadata": {},
   "outputs": [],
   "source": []
  },
  {
   "cell_type": "markdown",
   "metadata": {},
   "source": [
    "### Q1.2 Time bounds\n",
    "What are the time bounds for your data, i.e. what are the _absolute_ years that the first and last samples were taken (i.e., _not_ relative to 1950)? "
   ]
  },
  {
   "cell_type": "code",
   "execution_count": null,
   "metadata": {},
   "outputs": [],
   "source": []
  },
  {
   "cell_type": "markdown",
   "metadata": {},
   "source": [
    "### Q1.3 Plotting your data\n",
    "Make a plot of atmospheric CO$_{2}$ over the length of the record vs the calendar age in thousands of years BP. Reverse your x-axis so that time goes from oldest calendar age on the _left_ and youngest calendar age on the _right_. Give your plot a title and x and y axis labels that include units. "
   ]
  },
  {
   "cell_type": "code",
   "execution_count": null,
   "metadata": {},
   "outputs": [],
   "source": []
  },
  {
   "cell_type": "markdown",
   "metadata": {},
   "source": [
    "### Q1.4 Data bounds and mean\n",
    "What are the maximum and minimum values of the CO$_{2}$ record and _when_ do they occur? What is the mean CO$_{2}$ value over the record?"
   ]
  },
  {
   "cell_type": "code",
   "execution_count": null,
   "metadata": {},
   "outputs": [],
   "source": []
  },
  {
   "cell_type": "markdown",
   "metadata": {},
   "source": [
    "### Q1.5 Making a histogram\n",
    "Make a histogram of the CO$_{2}$ record using [plt.hist()](https://matplotlib.org/stable/api/_as_gen/matplotlib.pyplot.hist.html). Use the `bins` argument in `plt.hist()` to set your histogram bins from 180 to 380 by 10 (you can exclude 380). Add a vertical line on the plot (use [axvline](https://matplotlib.org/stable/api/_as_gen/matplotlib.pyplot.axvline.html)) indicating where the mean CO$_{2}$ value is. Give your plot a title and x and y axis labels. Then answer the following questions:\n",
    "\n",
    "1. Compute the [skewness](https://en.wikipedia.org/wiki/Skewness) of your data using `scipy.stats.skew`. Are your data normally distributed?\n",
    "2. What is the median CO$_{2}$ value? Is it different from the mean CO$_{2}$ value?"
   ]
  },
  {
   "cell_type": "code",
   "execution_count": null,
   "metadata": {},
   "outputs": [],
   "source": []
  },
  {
   "cell_type": "markdown",
   "metadata": {},
   "source": [
    "---"
   ]
  },
  {
   "cell_type": "markdown",
   "metadata": {},
   "source": [
    "# 2. Working with your data"
   ]
  },
  {
   "cell_type": "markdown",
   "metadata": {},
   "source": [
    "### Q2.1 Interpolating\n",
    "If you want to apply filtering or do a fourier transform on your data, your sample spacing must be constant. The times in the EPICA ice core record are not constantly spaced. To get around this, interpolate your CO$_{2}$ data so that you have points that are evenly spaced every 1000 years. Your new times should start at -50 and end at 805050 (make sure this last time is _included_). Use a [Cubic Hermite Spline](https://docs.scipy.org/doc/scipy/reference/generated/scipy.interpolate.CubicHermiteSpline.html#scipy.interpolate.CubicHermiteSpline) to do the interpolation. \n",
    "\n",
    "><b><font color='green'>Hint:</font></b> You'll need to use [numpy.gradient](https://numpy.org/doc/stable/reference/generated/numpy.gradient.html) for the derivatives!"
   ]
  },
  {
   "cell_type": "code",
   "execution_count": null,
   "metadata": {},
   "outputs": [],
   "source": []
  },
  {
   "cell_type": "markdown",
   "metadata": {},
   "source": [
    "### Q2.2 Plotting again\n",
    "Make a plot of your interpolated CO$_{2}$ data compared to the original CO$_{2}$ data. Go ahead and copy your plot code from Q1.3 and just add a second line for the interpolated data (make sure it is a different color) and a legend showing which line is which."
   ]
  },
  {
   "cell_type": "code",
   "execution_count": null,
   "metadata": {},
   "outputs": [],
   "source": []
  },
  {
   "cell_type": "markdown",
   "metadata": {},
   "source": [
    "### Q2.3 Filtering\n",
    "Lowpass filter your interpolated data (use the butterworth filter I showed you in class) so that only signals with periods greater than 25,000 years are kept. Plot your result vs the original data (just copy your code from Q2.2 and adjust it for this problem)."
   ]
  },
  {
   "cell_type": "code",
   "execution_count": null,
   "metadata": {},
   "outputs": [],
   "source": []
  },
  {
   "cell_type": "markdown",
   "metadata": {},
   "source": [
    "### Q2.4 Fourier Transform\n",
    "\n",
    "Linearly detrend your filtered data. Then apply a fourier transform and plot it (follow what we did in the class notes). Make sure your plot has a title and x and y axis labels. Your x-axis label should have units.\n",
    "\n",
    "What is the period (1/frequency), in kyr (1 kyr=1000 years), of the tallest spectral peak?"
   ]
  },
  {
   "cell_type": "code",
   "execution_count": null,
   "metadata": {},
   "outputs": [],
   "source": []
  }
 ],
 "metadata": {
  "kernelspec": {
   "display_name": "Python [conda env:uw-fall-2025]",
   "language": "python",
   "name": "conda-env-uw-fall-2025-py"
  },
  "language_info": {
   "codemirror_mode": {
    "name": "ipython",
    "version": 3
   },
   "file_extension": ".py",
   "mimetype": "text/x-python",
   "name": "python",
   "nbconvert_exporter": "python",
   "pygments_lexer": "ipython3",
   "version": "3.11.13"
  }
 },
 "nbformat": 4,
 "nbformat_minor": 4
}
