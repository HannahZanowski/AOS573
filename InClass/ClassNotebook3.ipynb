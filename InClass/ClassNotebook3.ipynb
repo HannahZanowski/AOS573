{
 "cells": [
  {
   "cell_type": "markdown",
   "metadata": {},
   "source": [
    "<b><font size=20, color='#A020F0'>Class Notebook 3</font></b>"
   ]
  },
  {
   "cell_type": "markdown",
   "metadata": {},
   "source": [
    "## Welcome to your third in-class jupyter notebook activity!\n",
    "In this notebook you'll get more practice with pandas. We'll be using data from the [Survey of Earned Doctorates](https://www.nsf.gov/statistics/srvydoctorates/), an annual survey sponsored by the National Science Foundation, the National Institutes of Health, the Department of Education, and National Endowment for the Humanities. The SED collects information on how many doctorates were earned in a given year, the field in which they were earned, and demographic information on the recipients. We will also be using demographic data from the [U.S. Census Bureau](https://www.census.gov/).\n",
    "\n",
    "---\n",
    "\n",
    "<b><font color='red'>Due Date: 7 October 2024 @ 9 am</font></b><br>\n",
    "\n",
    "<b>How you will turn in this assignment</b><br> When you are ready to turn in your notebook, do the following:\n",
    "1. Save your notebook and make sure your results are visible (cells have been executed)\n",
    "2. Open a terminal and navigate to your local `aos573_completed_assignments` repository\n",
    "3. Move your completed in-class notebook into your `Class_Notebooks` directory\n",
    "4. `add` and `commit` your completed notebook\n",
    "5. Finally, `push` your changes to your remote `aos573_completed_assignments` repository: `git push finished_work main` (you'll need to enter your username and personal access token)\n",
    "6. <b><font color='red'>REMINDER: DO NOT TRACK OR PUSH THE DATA USED IN THE NOTEBOOK</font></b>"
   ]
  },
  {
   "cell_type": "markdown",
   "metadata": {},
   "source": [
    "---"
   ]
  },
  {
   "cell_type": "markdown",
   "metadata": {},
   "source": [
    "## 1. Reading in and summarizing your data"
   ]
  },
  {
   "cell_type": "markdown",
   "metadata": {},
   "source": [
    "### 1.1 Use pandas to read in the file 'earth_sci_phds_1980_2019.csv'\n",
    "This is a data table that I built with NSF's '[build table](https://ncsesdata.nsf.gov/builder/sed)' option on the NSF SED site. It contains information about the people who received PhDs in the combined fields of 'geosciences, atmospheric sciences, and ocean sciences.' I've taken that data and formatted it to make it a bit easier for you to read in. I encourage you to explore that site and build your own tables at some point--there's a lot of illuminating data there.\n",
    "\n",
    "You can find the file in `InClass/data/` in your course repository. To properly format the data when you are reading it in, set the two following arguments: \n",
    "1. header=[0,1]\n",
    "2. index_col=0"
   ]
  },
  {
   "cell_type": "code",
   "execution_count": null,
   "metadata": {},
   "outputs": [],
   "source": []
  },
  {
   "cell_type": "markdown",
   "metadata": {},
   "source": [
    "### 1.2 Get to know your data"
   ]
  },
  {
   "cell_type": "markdown",
   "metadata": {},
   "source": [
    "#### 1.2.1 Print some summary info for your dataset\n",
    "What kind of information does the dataset provide?"
   ]
  },
  {
   "cell_type": "code",
   "execution_count": null,
   "metadata": {},
   "outputs": [],
   "source": []
  },
  {
   "cell_type": "markdown",
   "metadata": {},
   "source": [
    "#### 1.2.2 Print the first 6 lines of the table\n",
    "This data is a pandas [MultiIndex](https://pandas.pydata.org/pandas-docs/stable/user_guide/advanced.html), which, in this case, is just another way of saying that the table has sets of column headings nested within another set of column headings. The first level (level 0) is a set of columns for 'Race and Ethnicity', the second level (level 1) is a set of columns for 'Sex'. Each column from the 'Race and Ethnicity' level has 2-3 sub-columns in the 'Sex' level, hence the nested structure of the table. You can see that your dataframe's columns are a MultiIndex by accessing the columns with `your_dataframe.columns`."
   ]
  },
  {
   "cell_type": "code",
   "execution_count": null,
   "metadata": {},
   "outputs": [],
   "source": []
  },
  {
   "cell_type": "markdown",
   "metadata": {},
   "source": [
    "#### 1.2.3 Accessing data\n",
    "Given what you know about accessing columns in a pandas dataframe, return the values of the 'Asian, Not Hispanic or Latino' column, but for the 'Male' sub-column only."
   ]
  },
  {
   "cell_type": "code",
   "execution_count": null,
   "metadata": {},
   "outputs": [],
   "source": []
  },
  {
   "cell_type": "markdown",
   "metadata": {},
   "source": [
    "#### 1.2.4 How many Black or African American, female atmosphere/ocean/geoscience PhDs were there in 1980?\n",
    "What about 1990? 2000? 2010?\n",
    "\n",
    "For this problem please use code that picks out only the desired dates rather than reading the answer directly from the data table."
   ]
  },
  {
   "cell_type": "code",
   "execution_count": null,
   "metadata": {},
   "outputs": [],
   "source": []
  },
  {
   "cell_type": "markdown",
   "metadata": {},
   "source": [
    "#### 1.2.5 What was the largest number of Black or African American, female atmosphere/ocean/geoscience PhDs over the record?\n",
    "\n",
    "In what year did this maximum occur?\n",
    "\n",
    "For this problem please use code that picks out only the desired date rather than reading the answer directly from the data table."
   ]
  },
  {
   "cell_type": "code",
   "execution_count": null,
   "metadata": {},
   "outputs": [],
   "source": []
  },
  {
   "cell_type": "markdown",
   "metadata": {},
   "source": [
    "#### 1.2.6 Repeat 1.2.4 and 1.2.5 for Black or African American, male atmosphere/ocean/geoscience PhDs"
   ]
  },
  {
   "cell_type": "code",
   "execution_count": null,
   "metadata": {},
   "outputs": [],
   "source": []
  },
  {
   "cell_type": "markdown",
   "metadata": {},
   "source": [
    "---"
   ]
  },
  {
   "cell_type": "markdown",
   "metadata": {},
   "source": [
    "## 2. Working with your data"
   ]
  },
  {
   "cell_type": "markdown",
   "metadata": {},
   "source": [
    "### 2.1 Summing by level and adding columns"
   ]
  },
  {
   "cell_type": "markdown",
   "metadata": {},
   "source": [
    "#### 2.1.1 Combine sub-columns\n",
    "Use groupby to combine the Male, Female, and/or Unknown sex sub-columns for each 'race and ethnicity' category and sum them to get the total number of doctoral recipients based solely on race and ethnicity.\n",
    "<blockquote>\n",
    "<font color='green'><b>Hint: </b></font>You'll need to give groupby a level argument and transpose the data\n",
    "</blockquote>"
   ]
  },
  {
   "cell_type": "code",
   "execution_count": null,
   "metadata": {},
   "outputs": [],
   "source": []
  },
  {
   "cell_type": "markdown",
   "metadata": {},
   "source": [
    "#### 2.1.2 Create a new column in your dataframe\n",
    "Add a new column in your dataframe that provides the total number of Earth Science doctorate recipients in a given year."
   ]
  },
  {
   "cell_type": "code",
   "execution_count": null,
   "metadata": {},
   "outputs": [],
   "source": []
  },
  {
   "cell_type": "markdown",
   "metadata": {},
   "source": [
    "### 2.2 Counting doctorates \n",
    "\n",
    "#### 2.2.1 Using your result from 2.1.2, find the answers to 1-3 below:\n",
    "Show your results by putting them into a new dataframe with 3 columns labeled 'Max', 'Min' and 'Total' that contain your answers. The index should be the race and ethnicity categories.\n",
    "1. Find the maximum number of doctorates for each 'race and ethnicity' category\n",
    "2. Find the minimum number of doctorates for each 'race and ethnicity' category\n",
    "3. Find the total number of doctorates over all years for each 'race and ethnicity' category\n",
    "\n",
    "Which category has had the fewest number of doctorates, and which has had the most? Sit with this data for a moment. Does this seem ok to you?"
   ]
  },
  {
   "cell_type": "code",
   "execution_count": null,
   "metadata": {},
   "outputs": [],
   "source": []
  },
  {
   "cell_type": "markdown",
   "metadata": {},
   "source": [
    "#### 2.2.2 Hispanic or Latino PhDs\n",
    "Go back to the original data table and answer the following questions (once again, please use code that picks out only the desired date rather than reading the answer directly from the data table):\n",
    "1. How many female students in the Hispanic or Latino category earned PhDs in atmo/ocean/geosciences in 2011? In 2015? In 2017?\n",
    "2. How many male students in the Hispanic or Latino category earned PhDs in atmo/ocean/geosciences in 2016?"
   ]
  },
  {
   "cell_type": "code",
   "execution_count": null,
   "metadata": {},
   "outputs": [],
   "source": []
  },
  {
   "cell_type": "markdown",
   "metadata": {},
   "source": [
    "Now use your combined table from 2.1.2 to answer the following:\n",
    "1. What percentage of the total PhDs earned in atmo/ocean/geosciences in 2011, 2015, and 2017 were female and hispanic/latina?\n",
    "2. What percentage of the total PhDs earned in atmo/ocean/geosciences in 2016 were male and hispanic/latino?"
   ]
  },
  {
   "cell_type": "code",
   "execution_count": null,
   "metadata": {},
   "outputs": [],
   "source": []
  },
  {
   "cell_type": "markdown",
   "metadata": {},
   "source": [
    "Unsurprisingly, the numbers become smaller when broken down into the atmospheric and oceanic sciences subfields. In [2011](https://www.nsf.gov/statistics/archive-goodbye.cfm?p=/statistics/sed/2011/), [2015](https://www.nsf.gov/statistics/2017/nsf17306/datatables/tab-22.htm), [2016](https://www.nsf.gov/statistics/2018/nsf18304/data/tab22.pdf), and [2017](https://ncses.nsf.gov/pubs/nsf19301/data) (see Table 22 for each), the total number of Hispanic/Latino PhDs (all genders) in all areas of atmospheric science was 2, 7, 14, and 9 respectively.\n",
    "\n",
    "In the question above, there is a reason I chose those particular years and those particular groups. For many of you, it may be easy to look at the numbers and not think too critically about them, but at the end of the day they represent real people, 4 of whom are currently assistant or associate professors in this department:\n",
    "\n",
    "<b>In 2011, [Dr. Andrea Lopez Lang](https://sites.google.com/wisc.edu/andrea-lopez-lang/) was one of only 2 Hispanic/Latino/a students across the entire U.S. to earn a PhD in atmospheric sciences out of a total of 178 across all groups that year.</b><br>\n",
    "<img src='https://www.aos.wisc.edu/images/people/Andrea_Lang_2023.jpg' width=200></img>\n",
    "\n",
    "<b>In 2015, [Dr. Mayra Oyola Merced](https://atmosresearch.org/) was one of only 7 Hispanic/Latino/a students across the entire U.S. to earn a PhD in atmospheric sciences out of a total of 213 across all groups that year.</b><br>\n",
    "<img src='https://aos.wisc.edu/images/people/Oyola_Mayra_2023.jpg' width=200></img>\n",
    "\n",
    "<b>In 2016, [Dr. Ángel F. Adames Corraliza](https://afadames.com/) was one of only 14 (out of 245 across all groups that year).</b><br>\n",
    "<img src='https://aos.wisc.edu/images/people/Adames-Corraliza_2022.jpg' width=200></img>\n",
    "\n",
    "<b>In 2017, [Dr. Stephanie Henderson](https://stephanieahenderson.weebly.com/) was one of only 9 (out of 243 across all groups that year).</b><br>\n",
    "<img src='https://aos.wisc.edu/images/people/Henderson_2023.jpg' width=200></img>\n",
    "\n",
    "For some perspective, I was one of 220 white [ocean/marine science PhD earners in 2016](https://www.nsf.gov/statistics/2018/nsf18304/data/tab22.pdf) (out of 365 across all groups that year)."
   ]
  },
  {
   "cell_type": "markdown",
   "metadata": {},
   "source": [
    "### 2.3 Temporal Changes\n",
    "Let's take a look at how the number of PhDs in atmo/ocean/geosciences has changed over time. Using your result from 2.1.2, make a single-panel plot with lines for each 'race and ethnicity' category over time. You can exclude the 'ethnicity not reported' category for this, but do include the total number of recipients.\n",
    "\n",
    "Make sure your plot includes a legend, a title, and x and y axis labels"
   ]
  },
  {
   "cell_type": "code",
   "execution_count": null,
   "metadata": {},
   "outputs": [],
   "source": []
  },
  {
   "cell_type": "markdown",
   "metadata": {},
   "source": [
    "### 2.4 Bring in the Census!\n",
    "While the numbers above may be concerning on their own, it is important to think about them in the context of the total demographic makeup of the U.S., otherwise we won't know if the geo/atmo/ocean sciences PhD demographics are reflective of that. To do that, I've provided demographic data for the entire U.S. population from the [U.S. Census](https://www.census.gov/data/datasets.html) from 2000-2019, which you'll read in below. Keep in mind that the years in between the actual census years (2000, 2010, etc) are estimates, and as a result, you'll see jumps in the data where the estimates from the year before the census don't align particularly well with the results from the actual census.\n",
    "\n",
    "The datasets I used to create the 2000-2019 data are the following:\n",
    "1. [National Intercensal Datasets: 2000-2010](https://www.census.gov/data/datasets/time-series/demo/popest/intercensal-2000-2010-national.html)\n",
    "2. [National Population by Characteristics: 2010-2019](https://www.census.gov/data/datasets/time-series/demo/popest/2010s-national-detail.html#par_textimage_57373479)"
   ]
  },
  {
   "cell_type": "markdown",
   "metadata": {},
   "source": [
    "#### 2.4.1 Read in census_2000_2019.csv\n",
    "Set the `index_col` argument to be the first column.<br> Familiarize yourself with the data, i.e., do you have a general sense of what the columns in the dataframe represent?<br>\n",
    "Some acronyms that might be helpful:\n",
    "1. AIAN=American Indian or Alaska Native\n",
    "2. NHPI=Native Hawaiian and other Pacific Islander"
   ]
  },
  {
   "cell_type": "code",
   "execution_count": null,
   "metadata": {},
   "outputs": [],
   "source": []
  },
  {
   "cell_type": "markdown",
   "metadata": {},
   "source": [
    "#### 2.4.2 Add a total population column\n",
    "Add a new column to your dataframe that shows the total U.S. population over time"
   ]
  },
  {
   "cell_type": "code",
   "execution_count": null,
   "metadata": {},
   "outputs": [],
   "source": []
  },
  {
   "cell_type": "markdown",
   "metadata": {},
   "source": [
    "#### 2.4.3 Compare your doctorate data to the census data\n",
    "Make a multi-panel set of line plots showing the percentages of doctorates in each 'race and ethnicity' category relative to the total number of doctorates over time. Plot one 'race and ethnicity' category per panel. Using the census data, add a second line to each panel showing the percentage of each 'race and ethnicity' category relative to the total U.S. population over time. Try using a loop to automate the plotting--i.e., loop over your 'race and ethnicity' categories. You should have a total of 6 subplots (see note below).\n",
    "\n",
    "><b><font color='red'>Note:</font></b> In the census data, there is no clean analog to the doctorate data's 'ethnicity not reported' category, so do not make a plot for this (the 'Other race or race not reported, Not Hispanic or Latino' category from the doctorate data would be the closest). The same goes for the census 'NHPI' category.\n",
    "    \n",
    "Which doctorate 'race and ethnicity' categories seem to reflect the U.S. demographics? Which do not?"
   ]
  },
  {
   "cell_type": "code",
   "execution_count": null,
   "metadata": {},
   "outputs": [],
   "source": []
  }
 ],
 "metadata": {
  "kernelspec": {
   "display_name": "Python [conda env:uw-fall-2024]",
   "language": "python",
   "name": "conda-env-uw-fall-2024-py"
  },
  "language_info": {
   "codemirror_mode": {
    "name": "ipython",
    "version": 3
   },
   "file_extension": ".py",
   "mimetype": "text/x-python",
   "name": "python",
   "nbconvert_exporter": "python",
   "pygments_lexer": "ipython3",
   "version": "3.11.10"
  }
 },
 "nbformat": 4,
 "nbformat_minor": 4
}
