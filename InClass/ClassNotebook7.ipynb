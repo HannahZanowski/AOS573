{
 "cells": [
  {
   "cell_type": "markdown",
   "metadata": {},
   "source": [
    "<b><font size=20, color='#A020F0'>Class Notebook 7"
   ]
  },
  {
   "cell_type": "markdown",
   "metadata": {},
   "source": [
    "## Welcome to your seventh in-class jupyter notebook activity!\n",
    "In this notebook you'll get more practice with xESMF.\n",
    "\n",
    "---\n",
    "\n",
    "<b><font color='red'>Due Date: 11 November 2022</font></b><br>(by the end of class)\n",
    "\n",
    "<b>How you will turn in this assignment</b><br> When you are ready to turn in your notebook, do the following:\n",
    "1. Save your notebook and make sure your results are visible (cells have been executed)\n",
    "2. Open a terminal and navigate to your local `aos573_completed_assignments` repository\n",
    "3. Move your completed in-class notebook into your `In_Class` directory \n",
    "4. Use `git add` and `git commit -m` to add and commit ClassNotebook7 to your local `aos573_completed_assignments` git repository. <b><font color='red'>During regridding, if you saved any weight files by using `reuse_weights=True` do not add these to your repository and be sure to delete them when you are done!</font></b>\n",
    "5. `push` your changes to your remote `aos573_completed_assignments` repository: `git push finished_work main` (you'll need to enter your username and personal access token)"
   ]
  },
  {
   "cell_type": "markdown",
   "metadata": {},
   "source": [
    "---"
   ]
  },
  {
   "cell_type": "markdown",
   "metadata": {},
   "source": [
    "## 1. Reading in and exploring your data\n",
    "In this notebook you'll be using some output from the [Tropical Rainfall measuring Mission](https://gpm.nasa.gov/missions/trmm) (TRMM). To keep the regridding from getting out of hand I've provided you with a single 2D precipitation field from 31 July 2016. Read in the data in the file `trmm.2016-07-31T12.nc` and take a look at the contents. Go through the typical questions to help you become familiar with your data: What variables exist in the dataset? What are the units? What are the latitude and longitude ranges? What is the resolution? There's no need to write these down as answers in the notebook, but make sure you have a sense of what you're working with before you proceed."
   ]
  },
  {
   "cell_type": "code",
   "execution_count": null,
   "metadata": {},
   "outputs": [],
   "source": []
  },
  {
   "cell_type": "markdown",
   "metadata": {},
   "source": [
    "---"
   ]
  },
  {
   "cell_type": "markdown",
   "metadata": {},
   "source": [
    "## 2. Regridding with xesmf\n",
    "In this section you'll get a chance to upscale your data (go from high resolution to lower resolution). You'll use two different regridding algorithms and compare them to your original data at the end. We'll go through this step-by-step:"
   ]
  },
  {
   "cell_type": "markdown",
   "metadata": {},
   "source": [
    "### 2.1 Subset the TRMM precip data\n",
    "Extract the precip data at every 2.5˚ in latitude and 2.5˚ in longitude. "
   ]
  },
  {
   "cell_type": "code",
   "execution_count": null,
   "metadata": {},
   "outputs": [],
   "source": []
  },
  {
   "cell_type": "markdown",
   "metadata": {},
   "source": [
    "### 2.2 Create a target grid\n",
    "Using the latitudes and longitudes from your _extracted_ data, create a target grid for regridding. In addition to the latitudes and longitudes, this target grid must have latitude and longitude bounds (so you can do conservative regridding). You will need to create these bounds yourself. The bounds should be halfway between each grid point, and each 1D list of latitude and longitude bounds should be 1 point larger than the number of latitudes and longitudes, respectively. If you get stuck, look at how lat_b and lon_b are structured relative to lat and lon in the data; this should help."
   ]
  },
  {
   "cell_type": "code",
   "execution_count": null,
   "metadata": {},
   "outputs": [],
   "source": []
  },
  {
   "cell_type": "markdown",
   "metadata": {},
   "source": [
    "### 2.3 Set up the regridders\n",
    "Set up two regridders--one for bilinear regridding and one for conservative regridding"
   ]
  },
  {
   "cell_type": "code",
   "execution_count": null,
   "metadata": {},
   "outputs": [],
   "source": []
  },
  {
   "cell_type": "markdown",
   "metadata": {},
   "source": [
    "### 2.4 Regrid\n",
    "Apply the regridders to the precip data"
   ]
  },
  {
   "cell_type": "code",
   "execution_count": null,
   "metadata": {},
   "outputs": [],
   "source": []
  },
  {
   "cell_type": "markdown",
   "metadata": {},
   "source": [
    "### 2.5 Compare your results"
   ]
  },
  {
   "cell_type": "markdown",
   "metadata": {},
   "source": [
    "#### 2.5.1 Global sums\n",
    "Compare the global sums of your regridded fields and your subsetted precip field from Q2.1 to the global sum of the original data. I have set up the code to compute the sum of the original data, as it needs to be scaled to be comparable to the regridded fields and it also needs to exclude a few points that are not on the new grids.\n",
    "\n",
    "Which regridding algorithm provides results that are closest to the original data? What regridding algorithm is your subsetted data from Q2.1 most similar to, and why do you suppose that this is the case?"
   ]
  },
  {
   "cell_type": "code",
   "execution_count": null,
   "metadata": {},
   "outputs": [],
   "source": [
    "original_grid_precip_sum=0.01*ds.precip[:-4,:-4].sum()"
   ]
  },
  {
   "cell_type": "markdown",
   "metadata": {},
   "source": [
    "#### 2.5.2 Plotting\n",
    "Make a 2x1 set of 2D pcolormesh plots showing the spatial difference between the original data and the conservative and bilinear regridding algorithms. To directly compare the original data to the regridded data, you'll need to bin the original data so that it is on the same grid as the regridded data. I have set up some code for you below so that you do not need to do the binning yourself. When plotting, if matplotlib yells at you about dimensions, try plotting only the values of the data.\n",
    "\n",
    "Additional plotting parameters:\n",
    "1. Use a cartopy map projection that is good for showing the tropics\n",
    "2. Add a land outline to the maps\n",
    "3. Choose an appropriate colorbar for your maps\n",
    "4. Label your colorbar and include a title for each subplot"
   ]
  },
  {
   "cell_type": "code",
   "execution_count": null,
   "metadata": {},
   "outputs": [],
   "source": [
    "precip_binned=0.01*ds.precip.groupby_bins(group=ds.lon, bins=lon_b).sum().groupby_bins(group=ds.lat, bins=lat_b).sum()\n"
   ]
  },
  {
   "cell_type": "markdown",
   "metadata": {},
   "source": [
    "---"
   ]
  }
 ],
 "metadata": {
  "kernelspec": {
   "display_name": "Python 3 (ipykernel)",
   "language": "python",
   "name": "python3"
  },
  "language_info": {
   "codemirror_mode": {
    "name": "ipython",
    "version": 3
   },
   "file_extension": ".py",
   "mimetype": "text/x-python",
   "name": "python",
   "nbconvert_exporter": "python",
   "pygments_lexer": "ipython3",
   "version": "3.7.10"
  }
 },
 "nbformat": 4,
 "nbformat_minor": 4
}
