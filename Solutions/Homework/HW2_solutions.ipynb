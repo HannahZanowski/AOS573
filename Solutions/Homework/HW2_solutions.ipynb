{
 "cells": [
  {
   "cell_type": "markdown",
   "metadata": {},
   "source": [
    "<b><font size=20, color='#A020F0'>Homework 2"
   ]
  },
  {
   "cell_type": "markdown",
   "metadata": {},
   "source": [
    "#### In this homework you'll further explore pandas by working with oceanographic research cruise data from the Arctic\n",
    "\n",
    "<b><font color='red'>Due Date: 11 October 2021</font></b><br>(by the beginning of class)\n",
    "\n",
    "<b>How you will turn in this assignment</b><br> When you are ready to turn in your homework, do the following steps:\n",
    "1. Execute all cells in your notebook so that the results are visible, and save one more time. It is ok if you have code that you practiced with, but <b><u>make sure your final answers to each question are clearly marked so that Cam and I know what to grade</u></b>. (You can also collapse the code and outputs that you _don't_ want us to grade; options to collapse and expand code are in the 'View' menu in the upper left)\n",
    "2. Open a terminal and navigate to your local `AOS573` repository and make a new directory called `completed_HW2`\n",
    "3. Move your completed jupyter notebook into this directory\n",
    "4. `add` and `commit` the `completed_HW2` directory and its contents to your local `AOS573` repository\n",
    "5. Finally, `push` your changes to your remote `aos573_completed_assignments` repository: `git push finished_work main` (you'll need to enter your username and personal access token)"
   ]
  },
  {
   "cell_type": "markdown",
   "metadata": {},
   "source": [
    "---"
   ]
  },
  {
   "cell_type": "markdown",
   "metadata": {},
   "source": [
    "## Part 1: Getting the data and summarizing it\n",
    "The data we'll be using for this homework is from the [Global Ocean Data Analysis Project (GLODAP)](https://www.glodap.info/), which is a massive, global synthesis of quality-controlled ocean biogeochemical observations. GLODAP contains data from thousands of cruises from the early 1970s to the present. Here we'll only work with data from the Arctic Ocean.\n",
    "\n",
    "Run the following commands to download and unzip the GLODAP Arctic Ocean data:\n",
    "```bash\n",
    "!curl -O https://www.glodap.info/glodap_files/v2.2021/GLODAPv2.2021_Arctic_Ocean.csv.zip\n",
    "!unzip GLODAPv2.2021_Arctic_Ocean.csv.zip\n",
    "```"
   ]
  },
  {
   "cell_type": "code",
   "execution_count": null,
   "metadata": {},
   "outputs": [],
   "source": []
  },
  {
   "cell_type": "markdown",
   "metadata": {},
   "source": [
    "The dataset has far more variables than you'll be working with in this assigment, so to help you out, below I've given you the code to read in only a subset of the variables, and I've renamed the columns slightly. If you want to compare what I've done here to the unsubsetted dataset, feel free to read the entire thing in on your own with `pandas.read_csv()`"
   ]
  },
  {
   "cell_type": "code",
   "execution_count": 1,
   "metadata": {},
   "outputs": [],
   "source": [
    "import numpy as np\n",
    "import matplotlib.pyplot as plt\n",
    "import pandas as pd"
   ]
  },
  {
   "cell_type": "code",
   "execution_count": 2,
   "metadata": {},
   "outputs": [],
   "source": [
    "#List of variables \n",
    "names=['station','year','month','day','hour','minute','latitude','longitude','depth','theta','salinity',\n",
    "                      'salinityf','sigma0','oxygen','oxygenf','cfc11','cfc11f']\n",
    "#Read in only the variables above with `usecols`\n",
    "df=pd.read_csv('GLODAPv2.2021_Arctic_Ocean.csv',sep=',',usecols=['G2'+i for i in names])\n",
    "#Reset the column names to be those in the list above and not the original names, \n",
    "#which all have 'G2' appended to the front\n",
    "df.columns=names"
   ]
  },
  {
   "cell_type": "markdown",
   "metadata": {},
   "source": [
    "Some dataset info that you will find helpful (or access the entirety of the [metadata](https://www.ncei.noaa.gov/data/oceans/ncei/ocads/metadata/0237935.html) if you would like):\n",
    "\n",
    "1. year, month, day, hour, minute = sampling date and time\n",
    "2. latitude/longitude = geographical coordinates of the sampling location\n",
    "3. depth (m) = the depth of the water sample in meters\n",
    "4. missing fill value = -9999.0 (the fill value used when data is missing)\n",
    "\n",
    "Here is a list of the remaining variables, their descriptions, and their units:\n",
    "\n",
    "| Variable | Description | Unit | \n",
    "| - | - | - |\n",
    "| theta | potential temperature | $^\\circ$C |\n",
    "| salinity | salinity on the practical salinity scale | none |\n",
    "| salinityf | salinity flag; 0 = interpolated, 2 = good data, 9 = missing data | none |\n",
    "| sigma0 | potential density referenced to the ocean surface | kg m$^{-3}$ |\n",
    "| oxygen | oxygen content | $\\mu$mol kg$^{-1}$ |\n",
    "| oxygenf | oxygen flag; 0 = interpolated, 2 = good data, 9 = missing data | none |\n",
    "| cfc-11 | chlorofluorcarbon-11 content | pmol kg$^{-1}$ |\n",
    "| cfc-11f | cfc-11 flag; 2 = good data, 9 = missing data | none |"
   ]
  },
  {
   "cell_type": "markdown",
   "metadata": {},
   "source": [
    "### Q1.1 Get some basic information about your dataframe"
   ]
  },
  {
   "cell_type": "markdown",
   "metadata": {},
   "source": [
    "#### Q1.1.1 Print the summary information about your dataframe. \n",
    "1. How many samples are there for any given variable?\n",
    "2. How many different datatypes are there?"
   ]
  },
  {
   "cell_type": "markdown",
   "metadata": {},
   "source": [
    "<b>Answers:</b>\n",
    "1. 144509\n",
    "2. 2"
   ]
  },
  {
   "cell_type": "code",
   "execution_count": 43,
   "metadata": {},
   "outputs": [
    {
     "name": "stdout",
     "output_type": "stream",
     "text": [
      "<class 'pandas.core.frame.DataFrame'>\n",
      "RangeIndex: 144509 entries, 0 to 144508\n",
      "Data columns (total 17 columns):\n",
      " #   Column     Non-Null Count   Dtype  \n",
      "---  ------     --------------   -----  \n",
      " 0   station    144509 non-null  int64  \n",
      " 1   year       144509 non-null  int64  \n",
      " 2   month      144509 non-null  int64  \n",
      " 3   day        144509 non-null  int64  \n",
      " 4   hour       144509 non-null  int64  \n",
      " 5   minute     144509 non-null  int64  \n",
      " 6   latitude   144509 non-null  float64\n",
      " 7   longitude  144509 non-null  float64\n",
      " 8   depth      144509 non-null  float64\n",
      " 9   theta      144509 non-null  float64\n",
      " 10  salinity   144509 non-null  float64\n",
      " 11  salinityf  144509 non-null  int64  \n",
      " 12  sigma0     144509 non-null  float64\n",
      " 13  oxygen     144509 non-null  float64\n",
      " 14  oxygenf    144509 non-null  int64  \n",
      " 15  cfc11      144509 non-null  float64\n",
      " 16  cfc11f     144509 non-null  int64  \n",
      "dtypes: float64(8), int64(9)\n",
      "memory usage: 18.7 MB\n"
     ]
    }
   ],
   "source": [
    "df.info()"
   ]
  },
  {
   "cell_type": "markdown",
   "metadata": {},
   "source": [
    "#### Q1.1.2 Print the summary statistics for your dataframe\n",
    "1. What is the range of latitude and longitude that the dataset covers?\n",
    "2. What is the mean potential temperature? Does this seem reasonable? What do you think is the cause?"
   ]
  },
  {
   "cell_type": "code",
   "execution_count": 44,
   "metadata": {},
   "outputs": [
    {
     "data": {
      "text/html": [
       "<div>\n",
       "<style scoped>\n",
       "    .dataframe tbody tr th:only-of-type {\n",
       "        vertical-align: middle;\n",
       "    }\n",
       "\n",
       "    .dataframe tbody tr th {\n",
       "        vertical-align: top;\n",
       "    }\n",
       "\n",
       "    .dataframe thead th {\n",
       "        text-align: right;\n",
       "    }\n",
       "</style>\n",
       "<table border=\"1\" class=\"dataframe\">\n",
       "  <thead>\n",
       "    <tr style=\"text-align: right;\">\n",
       "      <th></th>\n",
       "      <th>station</th>\n",
       "      <th>year</th>\n",
       "      <th>month</th>\n",
       "      <th>day</th>\n",
       "      <th>hour</th>\n",
       "      <th>minute</th>\n",
       "      <th>latitude</th>\n",
       "      <th>longitude</th>\n",
       "      <th>depth</th>\n",
       "      <th>theta</th>\n",
       "      <th>salinity</th>\n",
       "      <th>salinityf</th>\n",
       "      <th>sigma0</th>\n",
       "      <th>oxygen</th>\n",
       "      <th>oxygenf</th>\n",
       "      <th>cfc11</th>\n",
       "      <th>cfc11f</th>\n",
       "    </tr>\n",
       "  </thead>\n",
       "  <tbody>\n",
       "    <tr>\n",
       "      <th>count</th>\n",
       "      <td>1.445090e+05</td>\n",
       "      <td>144509.000000</td>\n",
       "      <td>144509.000000</td>\n",
       "      <td>144509.000000</td>\n",
       "      <td>144509.000000</td>\n",
       "      <td>144509.000000</td>\n",
       "      <td>144509.000000</td>\n",
       "      <td>144509.000000</td>\n",
       "      <td>144509.000000</td>\n",
       "      <td>144509.000000</td>\n",
       "      <td>144509.000000</td>\n",
       "      <td>144509.000000</td>\n",
       "      <td>144509.000000</td>\n",
       "      <td>144509.000000</td>\n",
       "      <td>144509.000000</td>\n",
       "      <td>144509.000000</td>\n",
       "      <td>144509.000000</td>\n",
       "    </tr>\n",
       "    <tr>\n",
       "      <th>mean</th>\n",
       "      <td>1.034110e+04</td>\n",
       "      <td>2001.368489</td>\n",
       "      <td>7.581223</td>\n",
       "      <td>15.699050</td>\n",
       "      <td>6.235162</td>\n",
       "      <td>15.362393</td>\n",
       "      <td>74.248976</td>\n",
       "      <td>-53.689296</td>\n",
       "      <td>465.398560</td>\n",
       "      <td>-224.086966</td>\n",
       "      <td>-172.966004</td>\n",
       "      <td>2.136877</td>\n",
       "      <td>-198.418005</td>\n",
       "      <td>-1931.896421</td>\n",
       "      <td>3.393034</td>\n",
       "      <td>-8029.537133</td>\n",
       "      <td>7.621788</td>\n",
       "    </tr>\n",
       "    <tr>\n",
       "      <th>std</th>\n",
       "      <td>6.973099e+04</td>\n",
       "      <td>7.601711</td>\n",
       "      <td>1.922146</td>\n",
       "      <td>8.882681</td>\n",
       "      <td>7.706087</td>\n",
       "      <td>19.228190</td>\n",
       "      <td>6.079720</td>\n",
       "      <td>89.955559</td>\n",
       "      <td>741.668812</td>\n",
       "      <td>1482.217879</td>\n",
       "      <td>1424.845747</td>\n",
       "      <td>1.002462</td>\n",
       "      <td>1486.108504</td>\n",
       "      <td>4257.534847</td>\n",
       "      <td>2.999573</td>\n",
       "      <td>3977.668471</td>\n",
       "      <td>2.783535</td>\n",
       "    </tr>\n",
       "    <tr>\n",
       "      <th>min</th>\n",
       "      <td>0.000000e+00</td>\n",
       "      <td>1974.000000</td>\n",
       "      <td>1.000000</td>\n",
       "      <td>1.000000</td>\n",
       "      <td>0.000000</td>\n",
       "      <td>0.000000</td>\n",
       "      <td>46.867000</td>\n",
       "      <td>-179.890000</td>\n",
       "      <td>-9999.000000</td>\n",
       "      <td>-9999.000000</td>\n",
       "      <td>-9999.000000</td>\n",
       "      <td>0.000000</td>\n",
       "      <td>-9999.000000</td>\n",
       "      <td>-9999.000000</td>\n",
       "      <td>0.000000</td>\n",
       "      <td>-9999.000000</td>\n",
       "      <td>2.000000</td>\n",
       "    </tr>\n",
       "    <tr>\n",
       "      <th>25%</th>\n",
       "      <td>4.000000e+01</td>\n",
       "      <td>1996.000000</td>\n",
       "      <td>7.000000</td>\n",
       "      <td>8.000000</td>\n",
       "      <td>0.000000</td>\n",
       "      <td>0.000000</td>\n",
       "      <td>71.200000</td>\n",
       "      <td>-146.702800</td>\n",
       "      <td>36.000000</td>\n",
       "      <td>-1.184700</td>\n",
       "      <td>32.772000</td>\n",
       "      <td>2.000000</td>\n",
       "      <td>26.302000</td>\n",
       "      <td>263.500000</td>\n",
       "      <td>2.000000</td>\n",
       "      <td>-9999.000000</td>\n",
       "      <td>9.000000</td>\n",
       "    </tr>\n",
       "    <tr>\n",
       "      <th>50%</th>\n",
       "      <td>1.310000e+02</td>\n",
       "      <td>2002.000000</td>\n",
       "      <td>8.000000</td>\n",
       "      <td>15.000000</td>\n",
       "      <td>1.000000</td>\n",
       "      <td>3.000000</td>\n",
       "      <td>74.302000</td>\n",
       "      <td>-19.318000</td>\n",
       "      <td>148.000000</td>\n",
       "      <td>-0.497340</td>\n",
       "      <td>34.711000</td>\n",
       "      <td>2.000000</td>\n",
       "      <td>27.609029</td>\n",
       "      <td>299.030000</td>\n",
       "      <td>2.000000</td>\n",
       "      <td>-9999.000000</td>\n",
       "      <td>9.000000</td>\n",
       "    </tr>\n",
       "    <tr>\n",
       "      <th>75%</th>\n",
       "      <td>5.310000e+02</td>\n",
       "      <td>2007.000000</td>\n",
       "      <td>9.000000</td>\n",
       "      <td>23.000000</td>\n",
       "      <td>13.000000</td>\n",
       "      <td>30.000000</td>\n",
       "      <td>77.567000</td>\n",
       "      <td>4.663500</td>\n",
       "      <td>500.000000</td>\n",
       "      <td>0.904570</td>\n",
       "      <td>34.905000</td>\n",
       "      <td>2.000000</td>\n",
       "      <td>27.991000</td>\n",
       "      <td>322.000000</td>\n",
       "      <td>2.000000</td>\n",
       "      <td>-9999.000000</td>\n",
       "      <td>9.000000</td>\n",
       "    </tr>\n",
       "    <tr>\n",
       "      <th>max</th>\n",
       "      <td>1.090900e+06</td>\n",
       "      <td>2019.000000</td>\n",
       "      <td>12.000000</td>\n",
       "      <td>31.000000</td>\n",
       "      <td>23.000000</td>\n",
       "      <td>59.000000</td>\n",
       "      <td>90.000000</td>\n",
       "      <td>179.990000</td>\n",
       "      <td>5450.000000</td>\n",
       "      <td>18.076000</td>\n",
       "      <td>35.836000</td>\n",
       "      <td>9.000000</td>\n",
       "      <td>28.862000</td>\n",
       "      <td>712.900000</td>\n",
       "      <td>9.000000</td>\n",
       "      <td>9.980000</td>\n",
       "      <td>9.000000</td>\n",
       "    </tr>\n",
       "  </tbody>\n",
       "</table>\n",
       "</div>"
      ],
      "text/plain": [
       "            station           year          month            day  \\\n",
       "count  1.445090e+05  144509.000000  144509.000000  144509.000000   \n",
       "mean   1.034110e+04    2001.368489       7.581223      15.699050   \n",
       "std    6.973099e+04       7.601711       1.922146       8.882681   \n",
       "min    0.000000e+00    1974.000000       1.000000       1.000000   \n",
       "25%    4.000000e+01    1996.000000       7.000000       8.000000   \n",
       "50%    1.310000e+02    2002.000000       8.000000      15.000000   \n",
       "75%    5.310000e+02    2007.000000       9.000000      23.000000   \n",
       "max    1.090900e+06    2019.000000      12.000000      31.000000   \n",
       "\n",
       "                hour         minute       latitude      longitude  \\\n",
       "count  144509.000000  144509.000000  144509.000000  144509.000000   \n",
       "mean        6.235162      15.362393      74.248976     -53.689296   \n",
       "std         7.706087      19.228190       6.079720      89.955559   \n",
       "min         0.000000       0.000000      46.867000    -179.890000   \n",
       "25%         0.000000       0.000000      71.200000    -146.702800   \n",
       "50%         1.000000       3.000000      74.302000     -19.318000   \n",
       "75%        13.000000      30.000000      77.567000       4.663500   \n",
       "max        23.000000      59.000000      90.000000     179.990000   \n",
       "\n",
       "               depth          theta       salinity      salinityf  \\\n",
       "count  144509.000000  144509.000000  144509.000000  144509.000000   \n",
       "mean      465.398560    -224.086966    -172.966004       2.136877   \n",
       "std       741.668812    1482.217879    1424.845747       1.002462   \n",
       "min     -9999.000000   -9999.000000   -9999.000000       0.000000   \n",
       "25%        36.000000      -1.184700      32.772000       2.000000   \n",
       "50%       148.000000      -0.497340      34.711000       2.000000   \n",
       "75%       500.000000       0.904570      34.905000       2.000000   \n",
       "max      5450.000000      18.076000      35.836000       9.000000   \n",
       "\n",
       "              sigma0         oxygen        oxygenf          cfc11  \\\n",
       "count  144509.000000  144509.000000  144509.000000  144509.000000   \n",
       "mean     -198.418005   -1931.896421       3.393034   -8029.537133   \n",
       "std      1486.108504    4257.534847       2.999573    3977.668471   \n",
       "min     -9999.000000   -9999.000000       0.000000   -9999.000000   \n",
       "25%        26.302000     263.500000       2.000000   -9999.000000   \n",
       "50%        27.609029     299.030000       2.000000   -9999.000000   \n",
       "75%        27.991000     322.000000       2.000000   -9999.000000   \n",
       "max        28.862000     712.900000       9.000000       9.980000   \n",
       "\n",
       "              cfc11f  \n",
       "count  144509.000000  \n",
       "mean        7.621788  \n",
       "std         2.783535  \n",
       "min         2.000000  \n",
       "25%         9.000000  \n",
       "50%         9.000000  \n",
       "75%         9.000000  \n",
       "max         9.000000  "
      ]
     },
     "execution_count": 44,
     "metadata": {},
     "output_type": "execute_result"
    }
   ],
   "source": [
    "df.describe()"
   ]
  },
  {
   "cell_type": "code",
   "execution_count": 45,
   "metadata": {},
   "outputs": [
    {
     "name": "stdout",
     "output_type": "stream",
     "text": [
      "latitude      46.867\n",
      "longitude   -179.890\n",
      "Name: min, dtype: float64\n",
      "latitude      90.00\n",
      "longitude    179.99\n",
      "Name: max, dtype: float64\n",
      "-224.08696633344493\n"
     ]
    }
   ],
   "source": [
    "print(df.describe().loc['min'][['latitude','longitude']])\n",
    "print(df.describe().loc['max'][['latitude','longitude']])\n",
    "print(df.describe().loc['mean']['theta'])"
   ]
  },
  {
   "cell_type": "markdown",
   "metadata": {},
   "source": [
    "### Q1.2 Replacing missing values\n",
    "Use [where()](https://pandas.pydata.org/docs/reference/api/pandas.DataFrame.where.html) to replace all of the missing values with NaNs. Rerun your summary statistics from Q1.1.2. What is the mean potential temperature now? For this question, please print _only_ the new mean value of potential temperature, and not the entire summary statistics table."
   ]
  },
  {
   "cell_type": "code",
   "execution_count": 3,
   "metadata": {},
   "outputs": [
    {
     "data": {
      "text/plain": [
       "0.66662831297908"
      ]
     },
     "execution_count": 3,
     "metadata": {},
     "output_type": "execute_result"
    }
   ],
   "source": [
    "df=df.where(df!=-9999.0,other=np.nan)\n",
    "df.describe().loc['mean']['theta']"
   ]
  },
  {
   "cell_type": "markdown",
   "metadata": {},
   "source": [
    "### Q1.3 A quick look at the data\n"
   ]
  },
  {
   "cell_type": "markdown",
   "metadata": {},
   "source": [
    "#### Q1.3.1 Show the last 8 values of the dataset. \n",
    "This is the data collected at one stop (a 'station') on one reasearch cruise. You can tell this because the lat/lon values don't change, nor does the date. "
   ]
  },
  {
   "cell_type": "code",
   "execution_count": 47,
   "metadata": {},
   "outputs": [
    {
     "data": {
      "text/html": [
       "<div>\n",
       "<style scoped>\n",
       "    .dataframe tbody tr th:only-of-type {\n",
       "        vertical-align: middle;\n",
       "    }\n",
       "\n",
       "    .dataframe tbody tr th {\n",
       "        vertical-align: top;\n",
       "    }\n",
       "\n",
       "    .dataframe thead th {\n",
       "        text-align: right;\n",
       "    }\n",
       "</style>\n",
       "<table border=\"1\" class=\"dataframe\">\n",
       "  <thead>\n",
       "    <tr style=\"text-align: right;\">\n",
       "      <th></th>\n",
       "      <th>station</th>\n",
       "      <th>year</th>\n",
       "      <th>month</th>\n",
       "      <th>day</th>\n",
       "      <th>hour</th>\n",
       "      <th>minute</th>\n",
       "      <th>latitude</th>\n",
       "      <th>longitude</th>\n",
       "      <th>depth</th>\n",
       "      <th>theta</th>\n",
       "      <th>salinity</th>\n",
       "      <th>salinityf</th>\n",
       "      <th>sigma0</th>\n",
       "      <th>oxygen</th>\n",
       "      <th>oxygenf</th>\n",
       "      <th>cfc11</th>\n",
       "      <th>cfc11f</th>\n",
       "    </tr>\n",
       "  </thead>\n",
       "  <tbody>\n",
       "    <tr>\n",
       "      <th>144501</th>\n",
       "      <td>592</td>\n",
       "      <td>2019</td>\n",
       "      <td>6</td>\n",
       "      <td>3</td>\n",
       "      <td>17</td>\n",
       "      <td>6</td>\n",
       "      <td>70.5007</td>\n",
       "      <td>19.9965</td>\n",
       "      <td>4.0</td>\n",
       "      <td>6.499663</td>\n",
       "      <td>34.2539</td>\n",
       "      <td>2</td>\n",
       "      <td>26.898499</td>\n",
       "      <td>NaN</td>\n",
       "      <td>9</td>\n",
       "      <td>NaN</td>\n",
       "      <td>9</td>\n",
       "    </tr>\n",
       "    <tr>\n",
       "      <th>144502</th>\n",
       "      <td>592</td>\n",
       "      <td>2019</td>\n",
       "      <td>6</td>\n",
       "      <td>3</td>\n",
       "      <td>17</td>\n",
       "      <td>6</td>\n",
       "      <td>70.5007</td>\n",
       "      <td>19.9965</td>\n",
       "      <td>10.0</td>\n",
       "      <td>6.509136</td>\n",
       "      <td>34.2536</td>\n",
       "      <td>2</td>\n",
       "      <td>26.897010</td>\n",
       "      <td>NaN</td>\n",
       "      <td>9</td>\n",
       "      <td>NaN</td>\n",
       "      <td>9</td>\n",
       "    </tr>\n",
       "    <tr>\n",
       "      <th>144503</th>\n",
       "      <td>592</td>\n",
       "      <td>2019</td>\n",
       "      <td>6</td>\n",
       "      <td>3</td>\n",
       "      <td>17</td>\n",
       "      <td>6</td>\n",
       "      <td>70.5007</td>\n",
       "      <td>19.9965</td>\n",
       "      <td>20.0</td>\n",
       "      <td>6.488268</td>\n",
       "      <td>34.2491</td>\n",
       "      <td>2</td>\n",
       "      <td>26.896216</td>\n",
       "      <td>NaN</td>\n",
       "      <td>9</td>\n",
       "      <td>NaN</td>\n",
       "      <td>9</td>\n",
       "    </tr>\n",
       "    <tr>\n",
       "      <th>144504</th>\n",
       "      <td>592</td>\n",
       "      <td>2019</td>\n",
       "      <td>6</td>\n",
       "      <td>3</td>\n",
       "      <td>17</td>\n",
       "      <td>6</td>\n",
       "      <td>70.5007</td>\n",
       "      <td>19.9965</td>\n",
       "      <td>30.0</td>\n",
       "      <td>6.067486</td>\n",
       "      <td>34.3055</td>\n",
       "      <td>2</td>\n",
       "      <td>26.995287</td>\n",
       "      <td>NaN</td>\n",
       "      <td>9</td>\n",
       "      <td>NaN</td>\n",
       "      <td>9</td>\n",
       "    </tr>\n",
       "    <tr>\n",
       "      <th>144505</th>\n",
       "      <td>592</td>\n",
       "      <td>2019</td>\n",
       "      <td>6</td>\n",
       "      <td>3</td>\n",
       "      <td>17</td>\n",
       "      <td>6</td>\n",
       "      <td>70.5007</td>\n",
       "      <td>19.9965</td>\n",
       "      <td>50.0</td>\n",
       "      <td>5.975726</td>\n",
       "      <td>34.3723</td>\n",
       "      <td>2</td>\n",
       "      <td>27.059713</td>\n",
       "      <td>NaN</td>\n",
       "      <td>9</td>\n",
       "      <td>NaN</td>\n",
       "      <td>9</td>\n",
       "    </tr>\n",
       "    <tr>\n",
       "      <th>144506</th>\n",
       "      <td>592</td>\n",
       "      <td>2019</td>\n",
       "      <td>6</td>\n",
       "      <td>3</td>\n",
       "      <td>17</td>\n",
       "      <td>6</td>\n",
       "      <td>70.5007</td>\n",
       "      <td>19.9965</td>\n",
       "      <td>74.0</td>\n",
       "      <td>5.933703</td>\n",
       "      <td>34.5055</td>\n",
       "      <td>2</td>\n",
       "      <td>27.170306</td>\n",
       "      <td>NaN</td>\n",
       "      <td>9</td>\n",
       "      <td>NaN</td>\n",
       "      <td>9</td>\n",
       "    </tr>\n",
       "    <tr>\n",
       "      <th>144507</th>\n",
       "      <td>592</td>\n",
       "      <td>2019</td>\n",
       "      <td>6</td>\n",
       "      <td>3</td>\n",
       "      <td>17</td>\n",
       "      <td>6</td>\n",
       "      <td>70.5007</td>\n",
       "      <td>19.9965</td>\n",
       "      <td>100.0</td>\n",
       "      <td>5.991447</td>\n",
       "      <td>34.6706</td>\n",
       "      <td>2</td>\n",
       "      <td>27.293483</td>\n",
       "      <td>NaN</td>\n",
       "      <td>9</td>\n",
       "      <td>NaN</td>\n",
       "      <td>9</td>\n",
       "    </tr>\n",
       "    <tr>\n",
       "      <th>144508</th>\n",
       "      <td>592</td>\n",
       "      <td>2019</td>\n",
       "      <td>6</td>\n",
       "      <td>3</td>\n",
       "      <td>17</td>\n",
       "      <td>6</td>\n",
       "      <td>70.5007</td>\n",
       "      <td>19.9965</td>\n",
       "      <td>120.0</td>\n",
       "      <td>6.029653</td>\n",
       "      <td>34.7345</td>\n",
       "      <td>2</td>\n",
       "      <td>27.339109</td>\n",
       "      <td>NaN</td>\n",
       "      <td>9</td>\n",
       "      <td>NaN</td>\n",
       "      <td>9</td>\n",
       "    </tr>\n",
       "  </tbody>\n",
       "</table>\n",
       "</div>"
      ],
      "text/plain": [
       "        station  year  month  day  hour  minute  latitude  longitude  depth  \\\n",
       "144501      592  2019      6    3    17       6   70.5007    19.9965    4.0   \n",
       "144502      592  2019      6    3    17       6   70.5007    19.9965   10.0   \n",
       "144503      592  2019      6    3    17       6   70.5007    19.9965   20.0   \n",
       "144504      592  2019      6    3    17       6   70.5007    19.9965   30.0   \n",
       "144505      592  2019      6    3    17       6   70.5007    19.9965   50.0   \n",
       "144506      592  2019      6    3    17       6   70.5007    19.9965   74.0   \n",
       "144507      592  2019      6    3    17       6   70.5007    19.9965  100.0   \n",
       "144508      592  2019      6    3    17       6   70.5007    19.9965  120.0   \n",
       "\n",
       "           theta  salinity  salinityf     sigma0  oxygen  oxygenf  cfc11  \\\n",
       "144501  6.499663   34.2539          2  26.898499     NaN        9    NaN   \n",
       "144502  6.509136   34.2536          2  26.897010     NaN        9    NaN   \n",
       "144503  6.488268   34.2491          2  26.896216     NaN        9    NaN   \n",
       "144504  6.067486   34.3055          2  26.995287     NaN        9    NaN   \n",
       "144505  5.975726   34.3723          2  27.059713     NaN        9    NaN   \n",
       "144506  5.933703   34.5055          2  27.170306     NaN        9    NaN   \n",
       "144507  5.991447   34.6706          2  27.293483     NaN        9    NaN   \n",
       "144508  6.029653   34.7345          2  27.339109     NaN        9    NaN   \n",
       "\n",
       "        cfc11f  \n",
       "144501       9  \n",
       "144502       9  \n",
       "144503       9  \n",
       "144504       9  \n",
       "144505       9  \n",
       "144506       9  \n",
       "144507       9  \n",
       "144508       9  "
      ]
     },
     "execution_count": 47,
     "metadata": {},
     "output_type": "execute_result"
    }
   ],
   "source": [
    "df.tail(8)"
   ]
  },
  {
   "cell_type": "markdown",
   "metadata": {},
   "source": [
    "#### Q1.3.2 For which variables were data not collected at this station?"
   ]
  },
  {
   "cell_type": "markdown",
   "metadata": {},
   "source": [
    "<b>Answer:</b> oxygen, cfc-11"
   ]
  },
  {
   "cell_type": "markdown",
   "metadata": {},
   "source": [
    "#### Q1.3.3 Over what depth range were water samples collected at this station?"
   ]
  },
  {
   "cell_type": "code",
   "execution_count": 48,
   "metadata": {},
   "outputs": [
    {
     "name": "stdout",
     "output_type": "stream",
     "text": [
      "4.0\n",
      "120.0\n"
     ]
    }
   ],
   "source": [
    "print(df.tail(8).iloc[0].loc['depth'])\n",
    "print(df.tail(8).iloc[-1].loc['depth'])"
   ]
  },
  {
   "cell_type": "markdown",
   "metadata": {},
   "source": [
    "---"
   ]
  },
  {
   "cell_type": "markdown",
   "metadata": {},
   "source": [
    "## Part 2: Working with the data"
   ]
  },
  {
   "cell_type": "markdown",
   "metadata": {},
   "source": [
    "### Q2.1 Sorting"
   ]
  },
  {
   "cell_type": "markdown",
   "metadata": {},
   "source": [
    "#### Q2.1.1 Make a very quick line plot of the years in the dataset\n",
    "Use pandas built-in plotting and don't bother making any adjustments to the output. What does the plot tell you about how the years are arranged in your dataframe?"
   ]
  },
  {
   "cell_type": "code",
   "execution_count": 49,
   "metadata": {},
   "outputs": [
    {
     "data": {
      "text/plain": [
       "<AxesSubplot:>"
      ]
     },
     "execution_count": 49,
     "metadata": {},
     "output_type": "execute_result"
    },
    {
     "data": {
      "image/png": "[encoded data removed]",
      "text/plain": [
       "<Figure size 432x288 with 1 Axes>"
      ]
     },
     "metadata": {
      "needs_background": "light"
     },
     "output_type": "display_data"
    }
   ],
   "source": [
    "df.year.plot()"
   ]
  },
  {
   "cell_type": "markdown",
   "metadata": {},
   "source": [
    "#### Q2.1.2 Sort your dataset so that the years are increasing\n",
    "Use your sorted dataframe for the rest of the assigment"
   ]
  },
  {
   "cell_type": "code",
   "execution_count": 6,
   "metadata": {},
   "outputs": [],
   "source": [
    "df=df.sort_values('year',ascending=True)\n",
    "#plt.plot(df.year.unique())"
   ]
  },
  {
   "cell_type": "markdown",
   "metadata": {},
   "source": [
    "### Q2.2 Counting"
   ]
  },
  {
   "cell_type": "markdown",
   "metadata": {},
   "source": [
    "#### Q2.2.1 How many samples were taken above and below 500 m?\n",
    "Base your answer off of depth, not one of the other variables like salinity, etc, as some of those will have missing values."
   ]
  },
  {
   "cell_type": "code",
   "execution_count": 12,
   "metadata": {},
   "outputs": [
    {
     "name": "stdout",
     "output_type": "stream",
     "text": [
      "36116\n",
      "108040\n",
      "36468\n",
      "108392\n"
     ]
    }
   ],
   "source": [
    "print(df[df.depth>500].count().loc['depth']) #exclude 500 m\n",
    "print(df[df.depth<500].count().loc['depth']) #exclude 500 m\n",
    "#or if 500 m was included in one of the conditions\n",
    "print(df[df.depth>=500].count().loc['depth']) #depths 500 m and above\n",
    "print(df[df.depth<=500].count().loc['depth']) #for depths 500 m and below"
   ]
  },
  {
   "cell_type": "markdown",
   "metadata": {},
   "source": [
    "#### Q2.2.2 How many salinity, oxygen, and CFC-11 samples in the entire dataset were interpolated?\n",
    "Provide your answers as percentages of the total number of samples for each variable"
   ]
  },
  {
   "cell_type": "code",
   "execution_count": 16,
   "metadata": {},
   "outputs": [
    {
     "name": "stdout",
     "output_type": "stream",
     "text": [
      "0.37164477542339946\n",
      "0.0\n",
      "0.0\n",
      "0.36399117010013216\n",
      "0.0\n",
      "0.0\n"
     ]
    }
   ],
   "source": [
    "print(100*df.salinity.where(df.salinityf==0).count()/df.salinity.count())\n",
    "print(100*df.oxygen.where(df.oxygen==0).count()/df.oxygen.count())\n",
    "print(100*df.cfc11.where(df.cfc11f==0).count()/df.cfc11.count())\n",
    "\n",
    "#or divided by the total number of samples, nans included\n",
    "print(100*df.salinity.where(df.salinityf==0).count()/df.salinityf.count())\n",
    "print(100*df.oxygen.where(df.oxygen==0).count()/df.oxygenf.count())\n",
    "print(100*df.cfc11.where(df.cfc11f==0).count()/df.cfc11f.count())"
   ]
  },
  {
   "cell_type": "markdown",
   "metadata": {},
   "source": [
    "#### Q2.2.3 Between 1980 and 1990, how many oxygen samples were taken north of 80˚N?"
   ]
  },
  {
   "cell_type": "code",
   "execution_count": 31,
   "metadata": {},
   "outputs": [
    {
     "name": "stdout",
     "output_type": "stream",
     "text": [
      "1456\n",
      "1933\n",
      "1456\n"
     ]
    }
   ],
   "source": [
    "#excludes nans\n",
    "print(df.oxygen.where(df.year>=1980).where(df.year<1990).where(df.latitude>=80.0).count()) \n",
    "#if nans included\n",
    "print(df.oxygenf.where(df.year>=1980).where(df.year<1990).where(df.latitude>=80.0).count())\n",
    "#excluding 80˚N and including months up to 1991 makes no difference, nans included or excluded\n",
    "#print(df.oxygenf.where(df.year>=1980).where(df.year<1991).where(df.latitude>80.0).count())\n",
    "#print(df.oxygen.where(df.year>=1980).where(df.year<1991).where(df.latitude>80.0).count()) "
   ]
  },
  {
   "cell_type": "markdown",
   "metadata": {},
   "source": [
    "#### Q2.2.4 How many distinct locations in the Arctic were sampled?\n",
    "In this question, I want you to find the total number of _unique_ lat/lon _pairs_. <b> Hint:</b> Take a look at [drop_duplicates()](https://pandas.pydata.org/docs/reference/api/pandas.DataFrame.drop_duplicates.html)"
   ]
  },
  {
   "cell_type": "code",
   "execution_count": 15,
   "metadata": {},
   "outputs": [
    {
     "name": "stdout",
     "output_type": "stream",
     "text": [
      "latitude     8046\n",
      "longitude    8046\n",
      "dtype: int64\n"
     ]
    }
   ],
   "source": [
    "print(df.drop_duplicates(['latitude','longitude'],keep='first').count().loc[['latitude','longitude']])\n",
    "#or\n",
    "#len(set(zip(df.longitude,df.latitude)))"
   ]
  },
  {
   "cell_type": "markdown",
   "metadata": {},
   "source": [
    "#### Q2.2.5 In what years were the largest and smallest number of samples taken?"
   ]
  },
  {
   "cell_type": "code",
   "execution_count": 16,
   "metadata": {},
   "outputs": [
    {
     "name": "stdout",
     "output_type": "stream",
     "text": [
      "2002    15365\n",
      "Name: year, dtype: int64\n",
      "1974    29\n",
      "Name: year, dtype: int64\n"
     ]
    }
   ],
   "source": [
    "yrs=df.year.value_counts(sort='ascending')\n",
    "print(yrs.head(1))\n",
    "print(yrs.tail(1))"
   ]
  },
  {
   "cell_type": "markdown",
   "metadata": {},
   "source": [
    "#### Q2.2.6 In how many years were data collected?\n",
    "How does this compare to the total number of years that the dataset spans?"
   ]
  },
  {
   "cell_type": "code",
   "execution_count": 17,
   "metadata": {},
   "outputs": [
    {
     "data": {
      "text/plain": [
       "37"
      ]
     },
     "execution_count": 17,
     "metadata": {},
     "output_type": "execute_result"
    }
   ],
   "source": [
    "df.year.value_counts().count()"
   ]
  },
  {
   "cell_type": "markdown",
   "metadata": {},
   "source": [
    "### Q2.3 Make a histogram of the number of samples in each month \n",
    "For this problem, you'll need to create a new dataframe using `drop_duplicates()`.  Because the number of sample depths varies per station, if we make a histogram based solely on the 'months' column, we'll skew our results based on the number of depths sampled at a given station. To avoid counting mulitple samples across depth at the same station, what we truly want is the unique _date_ and _time_ that sampling occurred at a particular station, so you should make your histogram based on your new dataframe that ignores duplicate entries for the date and time.\n",
    "\n",
    "No need to bother making your plot look pretty for this question--as long as you can answer the questions below then it's fine (but do make sure that your plot has one bin per month)!\n",
    "\n",
    "1. In what month were the largest number of samples taken?\n",
    "2. In what month were the smallest number of samples taken?\n",
    "3. Pretend like the data you plotted on your histogram is the data you have for one year. If you took the annual mean of your data, how might you expect your results to be biased (i.e. toward what season would your annual mean skew)?"
   ]
  },
  {
   "cell_type": "markdown",
   "metadata": {},
   "source": [
    "<b> Answers:</b><br>\n",
    "Can check the first two with `df2.month.value_counts()`\n",
    "1. August\n",
    "2. January\n",
    "3. Summer"
   ]
  },
  {
   "cell_type": "code",
   "execution_count": 29,
   "metadata": {},
   "outputs": [
    {
     "data": {
      "image/png": "[encoded data removed]",
      "text/plain": [
       "<Figure size 432x288 with 1 Axes>"
      ]
     },
     "metadata": {
      "needs_background": "light"
     },
     "output_type": "display_data"
    }
   ],
   "source": [
    "df2=df.drop_duplicates(subset=['year','month','day','hour','minute'], keep='first')\n",
    "df2.hist('month',grid=False,color='goldenrod',ec='w',bins=np.arange(0.5,12.6,1),width=1);\n",
    "\n",
    "#or\n",
    "#df['date']=pd.to_datetime(df[['year', 'month','day','hour','minute']].assign(second=np.zeros(len(df.month.values))))\n",
    "#df=df.drop_duplicates(subset=['date'], keep='first')\n",
    "#df.hist('month',grid=False,color='navy',ec='w',ax=plt.gca(),alpha=0.5,bins=np.arange(0.5,12.6,1),width=1)"
   ]
  },
  {
   "cell_type": "markdown",
   "metadata": {},
   "source": [
    "### Q2.4 Visualizing data with a box plot"
   ]
  },
  {
   "cell_type": "markdown",
   "metadata": {},
   "source": [
    "#### Q2.4.1 Make a box plot of the spread in number of samples across all months for each year\n",
    "Use your new dataframe from Q2.3. Your [box plot](https://pandas.pydata.org/pandas-docs/stable/reference/api/pandas.DataFrame.boxplot.html) should have one box showing the spread in monthly sample numbers for each year. Your x-axis should be the years of the dataset and your y-axis should be the months (these should be numerical). To help get you started, I've set up a bit of the code so that your plot output won't be scrunched together.  All you need to do is add a line of code that makes the box plot and then do the following:\n",
    "\n",
    "1. Set the ax keyword argument in your boxplot function to be the name of the axis I've created below\n",
    "2. Turn off the grid\n",
    "3. Set the x-axis label rotation to be 45˚ \n",
    "4. Add a y-axis label\n",
    "5. Add a title (but first get rid of the default suptitle by setting the suptitle of the plot to an empty string)"
   ]
  },
  {
   "cell_type": "code",
   "execution_count": 34,
   "metadata": {},
   "outputs": [
    {
     "data": {
      "image/png": "[encoded data removed]",
      "text/plain": [
       "<Figure size 1080x288 with 1 Axes>"
      ]
     },
     "metadata": {
      "needs_background": "light"
     },
     "output_type": "display_data"
    }
   ],
   "source": [
    "fig,ax=plt.subplots()\n",
    "fig.set_size_inches(15,4)\n",
    "#Student-added code\n",
    "df2.boxplot(column='month',by='year',grid=False,rot=45,ax=ax)\n",
    "fig.suptitle('')\n",
    "plt.title('Monthly sampling spread by year')\n",
    "plt.xlabel('Year')\n",
    "plt.ylabel('Month');"
   ]
  },
  {
   "cell_type": "markdown",
   "metadata": {},
   "source": [
    "#### Q2.4.2 Do all years have the same median sampling month?\n",
    "Do the annual data generally agree with the histogram in Q2.3?"
   ]
  },
  {
   "cell_type": "markdown",
   "metadata": {},
   "source": [
    "<b>Answer:</b> In general yes, but there definitely are differences, like in 1982."
   ]
  },
  {
   "cell_type": "markdown",
   "metadata": {},
   "source": [
    "### Q2.5 Make a set of histograms based on density"
   ]
  },
  {
   "cell_type": "markdown",
   "metadata": {},
   "source": [
    "#### Q2.5.1\n",
    "In oceanography, it is often instructive to look at data on density surfaces rather than by depth. In this question, you'll make a 1x3 set of subplots consisting of histograms for the variables theta, oxygen, and cfc-11, binned by potential density (sigma0). In other words, you'll be making summary plots showing the total number of samples of these variables that fall within specific density ranges. \n",
    "\n",
    "You'll need to do the following:\n",
    "\n",
    "1. Group your theta, oxygen, and cfc-11 data by potential density (sigma0). Use the following array as your density bin edges: \n",
    "`bin_edges=np.arange(19.9,28.2,0.2)\n",
    "` <b>Hint</b>: Take a look at [cut()](https://pandas.pydata.org/docs/reference/api/pandas.cut.html) \n",
    "2. Make a set of counts for each variable based on the density bins\n",
    "3. Use [matplotlib bar graphs](https://matplotlib.org/stable/api/_as_gen/matplotlib.pyplot.bar.html) to make the 1x3 set of plots. Be sure to include axes labels, titles, etc. Change the color and edgecolor of the bars and set the bar width to be the width of a single density bin. <b>Note:</b> To make these plots properly with a bar graph, you will need to compute the bin centers from the bin edges and plot your counts vs your bin centers"
   ]
  },
  {
   "cell_type": "code",
   "execution_count": 32,
   "metadata": {},
   "outputs": [],
   "source": [
    "bin_edges=np.arange(19.9,28.2,0.2)\n",
    "bin_centers=bin_edges[:-1]+0.5*np.diff(bin_edges)\n",
    "df_hist=df[['theta','oxygen','cfc11']].groupby(pd.cut(df.sigma0, bin_edges)).count()"
   ]
  },
  {
   "cell_type": "code",
   "execution_count": 20,
   "metadata": {},
   "outputs": [
    {
     "data": {
      "image/png": "[encoded data removed]",
      "text/plain": [
       "<Figure size 864x288 with 3 Axes>"
      ]
     },
     "metadata": {
      "needs_background": "light"
     },
     "output_type": "display_data"
    }
   ],
   "source": [
    "fig,ax=plt.subplots(1,3,sharex=True)\n",
    "fig.set_size_inches(12,4)\n",
    "axs=ax.flatten()\n",
    "for i,var in enumerate(['theta','oxygen','cfc11']):\n",
    "    axs[i].bar(bin_centers,df_hist[var].values,color='m',ec='k',width=0.2)\n",
    "    axs[i].set_title(var)\n",
    "plt.subplots_adjust(wspace=0.4)\n",
    "axs[0].set_ylabel('Frequency')\n",
    "axs[1].set_xlabel('$\\sigma_{0}$');\n",
    "\n",
    "#Theoretically this should also work but it's taking forever\n",
    "#df.hist(['theta','oxygen','cfc11'],by=df.sigma0,bins=bin_edges)"
   ]
  },
  {
   "cell_type": "markdown",
   "metadata": {},
   "source": [
    "#### Q2.5.2 What density bin contains the largest number of samples?"
   ]
  },
  {
   "cell_type": "code",
   "execution_count": 21,
   "metadata": {},
   "outputs": [
    {
     "data": {
      "text/plain": [
       "array([27.9, 28.1])"
      ]
     },
     "execution_count": 21,
     "metadata": {},
     "output_type": "execute_result"
    }
   ],
   "source": [
    "bin_edges[-2:]\n",
    "#bin_centers[-1]"
   ]
  },
  {
   "cell_type": "markdown",
   "metadata": {},
   "source": [
    "#### Q2.5.3 Understanding plt.hist() vs plt.bar()\n",
    "Look up the documentation for matplotlib's `hist()` function. Given the inputs of this function, why do you suppose we couldn't just feed our output from Q2.5.1 into it in order to make the histograms?"
   ]
  },
  {
   "cell_type": "markdown",
   "metadata": {},
   "source": [
    "<b>Answer:</b> Because hist() does the counting for you, but you already did this with groupby() and count(). Technically you could just do `df.hist(['theta','oxygen','cfc11'],by='sigma0',bins=bin_edges)` but this seems to take forever and I think it's because of how many different densities there are, or maybe it's just a slow operation"
   ]
  },
  {
   "cell_type": "code",
   "execution_count": null,
   "metadata": {},
   "outputs": [],
   "source": []
  }
 ],
 "metadata": {
  "kernelspec": {
   "display_name": "Python 3 (ipykernel)",
   "language": "python",
   "name": "python3"
  },
  "language_info": {
   "codemirror_mode": {
    "name": "ipython",
    "version": 3
   },
   "file_extension": ".py",
   "mimetype": "text/x-python",
   "name": "python",
   "nbconvert_exporter": "python",
   "pygments_lexer": "ipython3",
   "version": "3.7.10"
  }
 },
 "nbformat": 4,
 "nbformat_minor": 4
}
