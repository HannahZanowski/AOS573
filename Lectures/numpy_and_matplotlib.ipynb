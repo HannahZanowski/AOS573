{
 "cells": [
  {
   "cell_type": "markdown",
   "metadata": {},
   "source": [
    "<b><font size=20, color='#A020F0'>Numpy and Matplotlib"
   ]
  },
  {
   "cell_type": "markdown",
   "metadata": {},
   "source": [
    "Hannah Zanowski<br>\n",
    "9/15/25<br>"
   ]
  },
  {
   "cell_type": "markdown",
   "metadata": {},
   "source": [
    "#### <span style=\"color:green\">Learning Goals</span>\n",
    "By the end of this notebook you will\n",
    "1. Learn how to use numpy to create and manipulate arrays\n",
    "2. Learn how to use matplotlib to make basic plots"
   ]
  },
  {
   "cell_type": "markdown",
   "metadata": {},
   "source": [
    "#### Resources\n",
    "\n",
    "<b>Learning about numpy and matplotlib:</b><br>\n",
    "[Numpy website](https://numpy.org/)<br>\n",
    "[Numpy Documentation](https://numpy.org/doc/stable/)<br>\n",
    "[Matplotlib website](https://matplotlib.org/)<br>\n",
    "[Matplotlib documentation](https://matplotlib.org/stable/contents.html)<br>\n",
    "[Matplotlib API and pyplot documentation](https://matplotlib.org/stable/api/index.html)<br>"
   ]
  },
  {
   "cell_type": "markdown",
   "metadata": {},
   "source": [
    "# A little about numpy and matplotlib"
   ]
  },
  {
   "cell_type": "markdown",
   "metadata": {},
   "source": [
    "Numpy is a library used for doing scientific computing in python, and many other packages are based off of it or use it under the hood. You will likely find yourself using numpy very often in your work (I certainly do!), particularly because of its support for arrays (we'll talk about this more below). Another often-used library is [SciPy](https://www.scipy.org/), which has support for linear regression, etc in its stats package (or you could use [statsmodels](https://www.statsmodels.org/stable/index.html), or you could use the linear regression option in [scikit-learn](https://scikit-learn.org/stable/index.html), which is a machine learning python package, or...you get the picture).\n",
    "\n",
    "Matplotlib is a library for creating visualizations in python. There are many others such as...\n",
    "1. [seaborn](https://seaborn.pydata.org/)--for statistical data viz\n",
    "2. [bokeh](http://docs.bokeh.org/en/latest/#)--interactive plots for the web\n",
    "3. [plotly](https://plotly.com/python/)--python graphing library\n",
    "4. [holoviews](https://holoviews.org/index.html)--combined analysis and viz\n",
    "5. [proplot](https://proplot.readthedocs.io/en/latest/)--a wrapper for matplotlib\n",
    "6. [iris](https://scitools-iris.readthedocs.io/en/latest/)--Earth science data anlysis and viz"
   ]
  },
  {
   "cell_type": "markdown",
   "metadata": {},
   "source": [
    "# Working with numpy"
   ]
  },
  {
   "cell_type": "markdown",
   "metadata": {},
   "source": [
    "`ndarray` (ndarray = N-dimensional array) objects are the core data structure in numpy. The elements of a numpy ndarray must be of the same data type, and in general doing computations using numpy ndarrays is more computationally efficient than using other data structures, especially for large datasets."
   ]
  },
  {
   "cell_type": "markdown",
   "metadata": {},
   "source": [
    "Let's begin by importing numpy:"
   ]
  },
  {
   "cell_type": "code",
   "execution_count": null,
   "metadata": {},
   "outputs": [],
   "source": [
    "import numpy as np"
   ]
  },
  {
   "cell_type": "markdown",
   "metadata": {},
   "source": [
    "### Creating a numpy ndarray\n",
    "Naturally, there are something like 8 gazillion ways to create a [numpy array](https://numpy.org/doc/stable/reference/generated/numpy.array.html), so choose the one that works best for you. There are a few built-in options like `ones()`, `zeros()`, `full()`, and `empty()` that you can use to set up arrays of ones, zeros, a value that you provide, or with the entries uninitialized, respectively. Also check out `ones_like()`, `zeros_like()`, etc"
   ]
  },
  {
   "cell_type": "code",
   "execution_count": null,
   "metadata": {},
   "outputs": [],
   "source": [
    "#Create an array from scratch with np.array()\n",
    "a=np.array([[1,2,3,4],[3,4,5,6],[5,6,7,8]])\n",
    "a"
   ]
  },
  {
   "cell_type": "code",
   "execution_count": null,
   "metadata": {},
   "outputs": [],
   "source": [
    "#Create an 8x3 array with all entries being pi\n",
    "b=np.full((8,3),np.pi)\n",
    "b"
   ]
  },
  {
   "cell_type": "code",
   "execution_count": null,
   "metadata": {},
   "outputs": [],
   "source": [
    "#Create a 4x4x3 array of ones\n",
    "c=np.ones((4,4,3))\n",
    "c"
   ]
  },
  {
   "cell_type": "code",
   "execution_count": null,
   "metadata": {},
   "outputs": [],
   "source": [
    "#Create an empty array like the one directly above and fill it with nans\n",
    "d=np.empty_like(c)\n",
    "d[:]=np.nan\n",
    "d\n",
    "#or\n",
    "#d=np.nan*np.empty_like(c)"
   ]
  },
  {
   "cell_type": "markdown",
   "metadata": {},
   "source": [
    "#### If you want to retrieve the dimensions (the shape) or size of an array:"
   ]
  },
  {
   "cell_type": "code",
   "execution_count": null,
   "metadata": {},
   "outputs": [],
   "source": [
    "a.shape\n",
    "#or np.shape(a)"
   ]
  },
  {
   "cell_type": "markdown",
   "metadata": {},
   "source": [
    "><b><font color='red'>IMPORTANT:</font></b> In numpy the fastest varying dimension is <b>last</b> (this is C-style indexing). In the 2D case it's rows x columns."
   ]
  },
  {
   "cell_type": "code",
   "execution_count": null,
   "metadata": {},
   "outputs": [],
   "source": [
    "a.size #3x4=12"
   ]
  },
  {
   "cell_type": "markdown",
   "metadata": {},
   "source": [
    "#### array type and datatypes"
   ]
  },
  {
   "cell_type": "markdown",
   "metadata": {},
   "source": [
    "Like all objects in python, numpy arrays have a type:"
   ]
  },
  {
   "cell_type": "code",
   "execution_count": null,
   "metadata": {},
   "outputs": [],
   "source": [
    "type(a)"
   ]
  },
  {
   "cell_type": "markdown",
   "metadata": {},
   "source": [
    "They also have a datatype associated with them:"
   ]
  },
  {
   "cell_type": "code",
   "execution_count": null,
   "metadata": {},
   "outputs": [],
   "source": [
    "a.dtype"
   ]
  },
  {
   "cell_type": "markdown",
   "metadata": {},
   "source": [
    "You can set this datatype yourself when you initialize an array by using the dtype keyword:"
   ]
  },
  {
   "cell_type": "code",
   "execution_count": null,
   "metadata": {},
   "outputs": [],
   "source": [
    "a=np.array([[1,2,3,4],[3,4,5,6],[5,6,7,8]],dtype='float64')\n",
    "a.dtype"
   ]
  },
  {
   "cell_type": "markdown",
   "metadata": {},
   "source": [
    "#### Other ways to initialize arrays:"
   ]
  },
  {
   "cell_type": "markdown",
   "metadata": {},
   "source": [
    "1D arrays using `arange()`:"
   ]
  },
  {
   "cell_type": "code",
   "execution_count": null,
   "metadata": {},
   "outputs": [],
   "source": [
    "np.arange(0,50,5) #start, end, delta"
   ]
  },
  {
   "cell_type": "markdown",
   "metadata": {},
   "source": [
    "Linearly and logarithmically-spaced 1D arrays with linspace and logspace:<br>\n",
    "\n",
    "><b><font color='red'>Caution:</font></b> The syntax for `linspace()` and `logspace()` is slightly different from `arange()`!"
   ]
  },
  {
   "cell_type": "code",
   "execution_count": null,
   "metadata": {},
   "outputs": [],
   "source": [
    "np.linspace(1,10,10) #start, end, # of entries"
   ]
  },
  {
   "cell_type": "code",
   "execution_count": null,
   "metadata": {},
   "outputs": [],
   "source": [
    "np.logspace(0,1,10) #start, end, # of entries"
   ]
  },
  {
   "cell_type": "markdown",
   "metadata": {},
   "source": [
    "2D grids with [meshgrid](https://numpy.org/doc/stable/reference/generated/numpy.meshgrid.html):<br> \n",
    "Meshgrid takes two 1D arrays of lengths M and N and stacks them so that the resulting arrays are both 2D MxN arrays"
   ]
  },
  {
   "cell_type": "code",
   "execution_count": null,
   "metadata": {},
   "outputs": [],
   "source": [
    "x=np.linspace(1,10,10) #use linspace to create 1-D arrays for x and y\n",
    "y=np.linspace(1,10,10)\n",
    "x2,y2=np.meshgrid(x,y) #use meshgrid to make both 2D"
   ]
  },
  {
   "cell_type": "markdown",
   "metadata": {},
   "source": [
    "<b>Question:</b> What do you think the resulting shapes of x2 and y2 will be?"
   ]
  },
  {
   "cell_type": "code",
   "execution_count": null,
   "metadata": {},
   "outputs": [],
   "source": []
  },
  {
   "cell_type": "markdown",
   "metadata": {},
   "source": [
    "### Accessing array elements (indexing)\n",
    "To access elements of an array you need to use brackets `[]`. For example, to get the first element of the 3rd row of a:"
   ]
  },
  {
   "cell_type": "code",
   "execution_count": null,
   "metadata": {},
   "outputs": [],
   "source": [
    "a"
   ]
  },
  {
   "cell_type": "code",
   "execution_count": null,
   "metadata": {},
   "outputs": [],
   "source": [
    "a[2,0]"
   ]
  },
  {
   "cell_type": "code",
   "execution_count": null,
   "metadata": {},
   "outputs": [],
   "source": [
    "#Get only the second row of a:\n",
    "a[1,:] #or just a[1] in this case"
   ]
  },
  {
   "cell_type": "code",
   "execution_count": null,
   "metadata": {},
   "outputs": [],
   "source": [
    "#Get the last 2 elements of row 1:\n",
    "a[0,2:]\n",
    "#or\n",
    "#a[0,-2:]"
   ]
  },
  {
   "cell_type": "code",
   "execution_count": null,
   "metadata": {},
   "outputs": [],
   "source": [
    "#Get the first 3 elements of the last row:\n",
    "a[2,0:3]\n",
    "#or\n",
    "#a[2,:3]\n",
    "#or\n",
    "#a[-1,0:3]"
   ]
  },
  {
   "cell_type": "code",
   "execution_count": null,
   "metadata": {},
   "outputs": [],
   "source": [
    "#Get the middle two elements of the first and last rows\n",
    "a[[0,2],1:3]"
   ]
  },
  {
   "cell_type": "markdown",
   "metadata": {},
   "source": [
    "### Array manipulation\n",
    "Here are numpy's [array manipulation](https://numpy.org/doc/stable/reference/routines.array-manipulation.html) routines"
   ]
  },
  {
   "cell_type": "markdown",
   "metadata": {},
   "source": [
    "Reshaping arrays:"
   ]
  },
  {
   "cell_type": "code",
   "execution_count": null,
   "metadata": {},
   "outputs": [],
   "source": [
    "#Create a 10x10 array using linspace and reshape\n",
    "d=np.linspace(0,1,100) #start, end, # of entries\n",
    "d.shape"
   ]
  },
  {
   "cell_type": "code",
   "execution_count": null,
   "metadata": {},
   "outputs": [],
   "source": [
    "d=d.reshape(10,10)\n",
    "d.shape"
   ]
  },
  {
   "cell_type": "code",
   "execution_count": null,
   "metadata": {},
   "outputs": [],
   "source": [
    "d[0:2]"
   ]
  },
  {
   "cell_type": "markdown",
   "metadata": {},
   "source": [
    "Making multidimensional arrays 1D:"
   ]
  },
  {
   "cell_type": "code",
   "execution_count": null,
   "metadata": {},
   "outputs": [],
   "source": [
    "d=d.flatten()\n",
    "d"
   ]
  },
  {
   "cell_type": "markdown",
   "metadata": {},
   "source": [
    "Taking the transpose:"
   ]
  },
  {
   "cell_type": "code",
   "execution_count": null,
   "metadata": {},
   "outputs": [],
   "source": [
    "print(a)\n",
    "a.T"
   ]
  },
  {
   "cell_type": "markdown",
   "metadata": {},
   "source": [
    "Concatenating arrays:"
   ]
  },
  {
   "cell_type": "code",
   "execution_count": null,
   "metadata": {},
   "outputs": [],
   "source": [
    "np.concatenate([a,a],axis=-1) #arrays to concatenate, axis over which to do the concatenation"
   ]
  },
  {
   "cell_type": "markdown",
   "metadata": {},
   "source": [
    "### Basic computation with numpy ndarrays"
   ]
  },
  {
   "cell_type": "code",
   "execution_count": null,
   "metadata": {},
   "outputs": [],
   "source": [
    "a1=np.ones((2,2))\n",
    "b1=np.full_like(a1,np.pi)\n",
    "print(a1)\n",
    "print(b1)"
   ]
  },
  {
   "cell_type": "code",
   "execution_count": null,
   "metadata": {},
   "outputs": [],
   "source": [
    "a1+b1"
   ]
  },
  {
   "cell_type": "markdown",
   "metadata": {},
   "source": [
    "><b><font color='red'>IMPORTANT:</font> array multiplication/division in python is ALSO elementwise</b>"
   ]
  },
  {
   "cell_type": "code",
   "execution_count": null,
   "metadata": {},
   "outputs": [],
   "source": [
    "a1*b1"
   ]
  },
  {
   "cell_type": "code",
   "execution_count": null,
   "metadata": {},
   "outputs": [],
   "source": [
    "a1/b1"
   ]
  },
  {
   "cell_type": "markdown",
   "metadata": {},
   "source": [
    "### Broadcasting\n",
    "[Broadcasting](https://numpy.org/doc/stable/user/basics.broadcasting.html) is helpful when your arrays are different sizes but you need to do computations with both of them. numpy has some built-in broadcasting already:"
   ]
  },
  {
   "cell_type": "code",
   "execution_count": null,
   "metadata": {},
   "outputs": [],
   "source": [
    "a1=np.ones((2,2))\n",
    "b1=np.array([3,4])\n",
    "print(a1)\n",
    "print(b1)"
   ]
  },
  {
   "cell_type": "code",
   "execution_count": null,
   "metadata": {},
   "outputs": [],
   "source": [
    "a1*b1"
   ]
  },
  {
   "cell_type": "markdown",
   "metadata": {},
   "source": [
    "What happened here? numpy took the the single row of b1 and mutiplied it by each row of a1. That's great, but what if that isn't what we wanted? What if a1 is a slightly different shape?"
   ]
  },
  {
   "cell_type": "code",
   "execution_count": null,
   "metadata": {},
   "outputs": [],
   "source": [
    "a1=np.ones((2,3))\n",
    "b1=np.array([3,4])"
   ]
  },
  {
   "cell_type": "code",
   "execution_count": null,
   "metadata": {},
   "outputs": [],
   "source": [
    "a1*b1"
   ]
  },
  {
   "cell_type": "markdown",
   "metadata": {},
   "source": [
    "Well that's a bummer! How do we deal with this? You can use broadcasting! Broadcast b1 to an array of shape (2,3) so that we can multiply a and b together without getting an error. Let's say that in this case what we really want is to multiply the first row of a1 by the first element of b1, and the second row of a1 by the second element of b1:\n",
    "\n",
    "\n",
    "$\\begin{bmatrix}\n",
    "a_{11} & a_{12} & a_{13}\\\\\n",
    "a_{21} & a_{22} & a_{23}\\\\\n",
    "\\end{bmatrix}\\times\\begin{bmatrix}\n",
    "b_{11}\\\\\n",
    "b_{21}\\\\\n",
    "\\end{bmatrix}=\\begin{bmatrix}\n",
    "b_{11}a_{11} & b_{11}a_{12} & b_{11}a_{13}\\\\\n",
    "b_{21}a_{21} & b_{21}a_{22} & b_{21}a_{23}\\\\\n",
    "\\end{bmatrix}$"
   ]
  },
  {
   "cell_type": "code",
   "execution_count": null,
   "metadata": {},
   "outputs": [],
   "source": [
    "#print a and b shapes to figure out how we should broadcast\n",
    "print(a1.shape)\n",
    "print(b1.shape)"
   ]
  },
  {
   "cell_type": "code",
   "execution_count": null,
   "metadata": {},
   "outputs": [],
   "source": [
    "b2=np.broadcast_to(b1,(1,2)) #broadcast b1 to a 1x2 array called b2\n",
    "b2=np.broadcast_to(b2.T,(2,3)) #broadcast b2 to 2x3 (to do this you need to take the transpose first)\n",
    "#check that b2 now has the same shape as a1\n",
    "print(a1.shape)\n",
    "print(b2.shape)"
   ]
  },
  {
   "cell_type": "code",
   "execution_count": null,
   "metadata": {},
   "outputs": [],
   "source": [
    "a1*b2"
   ]
  },
  {
   "cell_type": "markdown",
   "metadata": {},
   "source": [
    "You could also use tiling:"
   ]
  },
  {
   "cell_type": "code",
   "execution_count": null,
   "metadata": {},
   "outputs": [],
   "source": [
    "b2=np.tile(b1,(3,1))\n",
    "b2"
   ]
  },
  {
   "cell_type": "code",
   "execution_count": null,
   "metadata": {},
   "outputs": [],
   "source": [
    "print(a1.shape)\n",
    "print(b2.shape)"
   ]
  },
  {
   "cell_type": "code",
   "execution_count": null,
   "metadata": {},
   "outputs": [],
   "source": [
    "a1*b2.T #multiple by b2's transpose"
   ]
  },
  {
   "cell_type": "markdown",
   "metadata": {},
   "source": [
    "### More computation with numpy ndarrays"
   ]
  },
  {
   "cell_type": "markdown",
   "metadata": {},
   "source": [
    "There are tons of computations you can do with numpy arrays"
   ]
  },
  {
   "cell_type": "code",
   "execution_count": null,
   "metadata": {},
   "outputs": [],
   "source": [
    "a"
   ]
  },
  {
   "cell_type": "code",
   "execution_count": null,
   "metadata": {},
   "outputs": [],
   "source": [
    "#Take the mean of an entire array\n",
    "a.mean()"
   ]
  },
  {
   "cell_type": "code",
   "execution_count": null,
   "metadata": {},
   "outputs": [],
   "source": [
    "#Take the mean of a along the last axis\n",
    "a.mean(axis=-1)"
   ]
  },
  {
   "cell_type": "code",
   "execution_count": null,
   "metadata": {},
   "outputs": [],
   "source": [
    "#Find the max/min values of an array\n",
    "a.max()\n",
    "#a.min()"
   ]
  },
  {
   "cell_type": "code",
   "execution_count": null,
   "metadata": {},
   "outputs": [],
   "source": [
    "#Trig\n",
    "np.cos(a)"
   ]
  },
  {
   "cell_type": "code",
   "execution_count": null,
   "metadata": {},
   "outputs": [],
   "source": [
    "#Matrix multiplication using np.matmul()\n",
    "np.matmul(a,a.T)"
   ]
  },
  {
   "cell_type": "markdown",
   "metadata": {},
   "source": [
    "### Masking arrays and working with missing values"
   ]
  },
  {
   "cell_type": "markdown",
   "metadata": {},
   "source": [
    "Say we have the following array that has some nans in it:"
   ]
  },
  {
   "cell_type": "code",
   "execution_count": null,
   "metadata": {},
   "outputs": [],
   "source": [
    "a3=np.array([[1,2,3,4],[3,4,5,6],[5,6,7,8]],dtype='float64')\n",
    "a3[0,-1]=np.nan\n",
    "a3[-1,1:3]=np.nan\n",
    "a3"
   ]
  },
  {
   "cell_type": "markdown",
   "metadata": {},
   "source": [
    "Compute the mean of a3:"
   ]
  },
  {
   "cell_type": "code",
   "execution_count": null,
   "metadata": {},
   "outputs": [],
   "source": [
    "a3.mean()"
   ]
  },
  {
   "cell_type": "markdown",
   "metadata": {},
   "source": [
    "How can we take the mean of a3 while ignoring the nans?"
   ]
  },
  {
   "cell_type": "code",
   "execution_count": null,
   "metadata": {},
   "outputs": [],
   "source": [
    "np.nanmean(a3)"
   ]
  },
  {
   "cell_type": "markdown",
   "metadata": {},
   "source": [
    "That's great <b>but not all computations have built-in support for dealing with nans</b>, so we need a better way to ignore them. Here we'll be using numpy's [masked array](https://numpy.org/doc/stable/reference/maskedarray.generic.html) module, `numpy.ma`"
   ]
  },
  {
   "cell_type": "code",
   "execution_count": null,
   "metadata": {},
   "outputs": [],
   "source": [
    "a_masked=np.ma.masked_invalid(a3) #masks nans\n",
    "a_masked"
   ]
  },
  {
   "cell_type": "markdown",
   "metadata": {},
   "source": [
    "Cool we created a mask! You can access the mask itself with `.mask`:"
   ]
  },
  {
   "cell_type": "code",
   "execution_count": null,
   "metadata": {},
   "outputs": [],
   "source": [
    "a_masked.mask"
   ]
  },
  {
   "cell_type": "markdown",
   "metadata": {},
   "source": [
    "What type is a_masked?"
   ]
  },
  {
   "cell_type": "code",
   "execution_count": null,
   "metadata": {},
   "outputs": [],
   "source": [
    "type(a_masked)"
   ]
  },
  {
   "cell_type": "markdown",
   "metadata": {},
   "source": [
    "What about the _datatype_ for the mask itself?"
   ]
  },
  {
   "cell_type": "code",
   "execution_count": null,
   "metadata": {},
   "outputs": [],
   "source": [
    "a_masked.mask.dtype"
   ]
  },
  {
   "cell_type": "markdown",
   "metadata": {},
   "source": [
    "Now take the mean of a_masked:"
   ]
  },
  {
   "cell_type": "code",
   "execution_count": null,
   "metadata": {},
   "outputs": [],
   "source": [
    "a_masked.mean()"
   ]
  },
  {
   "cell_type": "markdown",
   "metadata": {},
   "source": [
    "What if the missing values aren't nan?"
   ]
  },
  {
   "cell_type": "code",
   "execution_count": null,
   "metadata": {},
   "outputs": [],
   "source": [
    "a3=np.array([[1,2,3,4],[3,4,5,6],[5,6,7,8]],dtype='float64')\n",
    "a3[0,-1]=-99\n",
    "a3[-1,1:3]=-99\n",
    "a3"
   ]
  },
  {
   "cell_type": "code",
   "execution_count": null,
   "metadata": {},
   "outputs": [],
   "source": [
    "#Take the mean along the last axis\n",
    "a3.mean(axis=-1)"
   ]
  },
  {
   "cell_type": "markdown",
   "metadata": {},
   "source": [
    "Yikes...we don't want those -99s poisoning our average...Let's create a mask for our array so we can ignore those values. "
   ]
  },
  {
   "cell_type": "code",
   "execution_count": null,
   "metadata": {},
   "outputs": [],
   "source": [
    "a_masked=np.ma.masked_where(a3==-99, a3) #condition, array\n",
    "a_masked"
   ]
  },
  {
   "cell_type": "markdown",
   "metadata": {},
   "source": [
    "Let's take the mean again:"
   ]
  },
  {
   "cell_type": "code",
   "execution_count": null,
   "metadata": {},
   "outputs": [],
   "source": [
    "np.mean(a_masked,axis=-1)\n",
    "#or\n",
    "#np.ma.average(a_masked,axis=-1)"
   ]
  },
  {
   "cell_type": "markdown",
   "metadata": {},
   "source": [
    "So far we've used `ma.masked_where`, and `ma.masked_invalid` to create masked arrays, but you can also create a masked array from scratch by defining the array and the mask using `np.ma.masked_array`. <br>\n",
    "\n",
    "<b>Note:</b> Many of the normal numpy commands have an `ma` option. For example if you wanted to create an empty masked array the command would be `np.ma.empty()`"
   ]
  },
  {
   "cell_type": "code",
   "execution_count": null,
   "metadata": {},
   "outputs": [],
   "source": [
    "masked=np.ma.masked_array(np.arange(0,3),mask=[True,False,False])\n",
    "masked\n",
    "\n",
    "#or\n",
    "#masked=np.ma.masked_array(np.arange(0,3),mask=[1,0,0])\n",
    "#masked"
   ]
  },
  {
   "cell_type": "markdown",
   "metadata": {},
   "source": [
    "# Working with matplotlib"
   ]
  },
  {
   "cell_type": "markdown",
   "metadata": {},
   "source": [
    "Let's start by importing the [pyplot](https://matplotlib.org/stable/api/pyplot_summary.html) package from matplotlib:"
   ]
  },
  {
   "cell_type": "code",
   "execution_count": null,
   "metadata": {},
   "outputs": [],
   "source": [
    "import matplotlib.pyplot as plt"
   ]
  },
  {
   "cell_type": "markdown",
   "metadata": {},
   "source": [
    "### Making a basic line plot\n",
    "\n",
    "[plot() documentation](https://matplotlib.org/stable/api/_as_gen/matplotlib.pyplot.plot.html#matplotlib.pyplot.plot)"
   ]
  },
  {
   "cell_type": "code",
   "execution_count": null,
   "metadata": {},
   "outputs": [],
   "source": [
    "#Make up some data for our example\n",
    "x=np.arange(0,2*np.pi,np.pi/12)\n",
    "y=np.sin(x)+x"
   ]
  },
  {
   "cell_type": "code",
   "execution_count": null,
   "metadata": {},
   "outputs": [],
   "source": [
    "plt.plot(x,y) #plot the data\n",
    "\n",
    "#Add labels and a title\n",
    "#\n",
    "#\n",
    "#"
   ]
  },
  {
   "cell_type": "markdown",
   "metadata": {},
   "source": [
    "### Making a 2D filled contour plot\n",
    "\n",
    "[contourf() documentation](https://matplotlib.org/stable/api/_as_gen/matplotlib.pyplot.contourf.html#matplotlib.pyplot.contourf)"
   ]
  },
  {
   "cell_type": "code",
   "execution_count": null,
   "metadata": {},
   "outputs": [],
   "source": [
    "#Make up some data again\n",
    "x2,y2=np.meshgrid(x,y)\n",
    "data=x2*x2+3*y2-5"
   ]
  },
  {
   "cell_type": "code",
   "execution_count": null,
   "metadata": {},
   "outputs": [],
   "source": [
    "#Make a filled contour plot with a colorbar\n",
    "plt.contourf(x,y,data) #plot the data\n",
    "plt.colorbar() #add a colorbar"
   ]
  },
  {
   "cell_type": "markdown",
   "metadata": {},
   "source": [
    "Changing the colormap (current list of [colormaps in matplotlib](https://matplotlib.org/stable/tutorials/colors/colormaps.html)):\n",
    "\n",
    "><b><font color='blue'>Note:</font></b> You can reverse any python colormap by adding an `_r` to the name"
   ]
  },
  {
   "cell_type": "code",
   "execution_count": null,
   "metadata": {},
   "outputs": [],
   "source": [
    "plt.contourf(x,y,data,cmap=plt.cm.plasma) #specify the colormap name using the cmap attribute\n",
    "plt.colorbar()"
   ]
  },
  {
   "cell_type": "markdown",
   "metadata": {},
   "source": [
    "### Multi-panel plots\n",
    "\n",
    "We'll be using [subplots()](https://matplotlib.org/stable/api/_as_gen/matplotlib.pyplot.subplots.html#matplotlib.pyplot.subplots) to make a multi-panel plot. `subplots()` creates a figure instance and populates it with the specified number of subplots (axes). Like all things in Python, figures and axes are objects, and you can access and make changes to them with Python's `.` syntax (e.g., `your_axes.some_axes_function()`)"
   ]
  },
  {
   "cell_type": "code",
   "execution_count": null,
   "metadata": {},
   "outputs": [],
   "source": [
    "fig,ax=plt.subplots(2,1,sharex=True) #ncols, nrows, make both plots have the same x-axis\n",
    "axs=ax.flatten()\n",
    "#l1=axs[0].plot(x,y)\n",
    "#cs=axs[1].contourf(x2,y2,data,cmap=plt.cm.plasma)\n",
    "#cbar=plt.colorbar(cs,ax=axs[1]) #mappable (the thing that you want colored), axis that you want to use for the colorbar"
   ]
  },
  {
   "cell_type": "markdown",
   "metadata": {},
   "source": [
    "### Plotting with missing values"
   ]
  },
  {
   "cell_type": "markdown",
   "metadata": {},
   "source": [
    "Let's revisit our array that used -99 for missing values and make a filled plot using [pcolormesh](https://matplotlib.org/stable/api/_as_gen/matplotlib.pyplot.pcolormesh.html):"
   ]
  },
  {
   "cell_type": "code",
   "execution_count": null,
   "metadata": {},
   "outputs": [],
   "source": [
    "a3=np.array([[1,2,3,4],[3,4,5,6],[5,6,7,8]],dtype='float64')\n",
    "a3[0,-1]=-99\n",
    "a3[-1,1:3]=-99\n",
    "a3"
   ]
  },
  {
   "cell_type": "markdown",
   "metadata": {},
   "source": [
    "><b><font color='red'>Note:</font></b> pcolormesh plots the exact value at a point rather than interpolating like contour/contourf. However, it does so by assuming the points are at the center of a quadrilateral that is defined by the underlying coordinates of the data. That means **it shifts your data by half a grid cell**, unless you give it coordinates that are 1 point larger than the length of each dimension of your data"
   ]
  },
  {
   "cell_type": "code",
   "execution_count": null,
   "metadata": {},
   "outputs": [],
   "source": [
    "plt.pcolormesh(a3) \n",
    "plt.colorbar()"
   ]
  },
  {
   "cell_type": "markdown",
   "metadata": {},
   "source": [
    "Clearly, python doesn't know that -99 represents a missing value. Instead it's interpreting -99 as a data point like all of the valid values, and as a result is really skewing the results of the plot. We can get around this by telling matplotlib to plot our masked array instead!<br>\n",
    "\n",
    "><b>NOTE:</b> matplotlib plots _nothing_ where there are masked values or nans. In the plot below, the white color you see is the default color for the axis background"
   ]
  },
  {
   "cell_type": "code",
   "execution_count": null,
   "metadata": {},
   "outputs": [],
   "source": [
    "#Make a plot of a_masked instead\n",
    "plt.pcolormesh(a_masked) \n",
    "plt.colorbar()"
   ]
  },
  {
   "cell_type": "code",
   "execution_count": null,
   "metadata": {},
   "outputs": [],
   "source": []
  }
 ],
 "metadata": {
  "kernelspec": {
   "display_name": "Python [conda env:uw-fall-2025]",
   "language": "python",
   "name": "conda-env-uw-fall-2025-py"
  },
  "language_info": {
   "codemirror_mode": {
    "name": "ipython",
    "version": 3
   },
   "file_extension": ".py",
   "mimetype": "text/x-python",
   "name": "python",
   "nbconvert_exporter": "python",
   "pygments_lexer": "ipython3",
   "version": "3.11.13"
  }
 },
 "nbformat": 4,
 "nbformat_minor": 4
}
