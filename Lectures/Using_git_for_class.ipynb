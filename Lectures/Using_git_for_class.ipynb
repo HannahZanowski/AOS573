{
 "cells": [
  {
   "cell_type": "markdown",
   "metadata": {},
   "source": [
    "<b><font size=20, color='#A020F0'>Using git for AOS573</font></b>"
   ]
  },
  {
   "cell_type": "markdown",
   "metadata": {},
   "source": [
    "Hannah Zanowski<br>\n",
    "9/14/22<br>"
   ]
  },
  {
   "cell_type": "markdown",
   "metadata": {},
   "source": [
    "#### <span style=\"color:green\">Learning Goals</span>\n",
    "By the end of this notebook you will\n",
    "1. Become familiar with the git workflow for our class\n",
    "2. Learn how to use the git integration tools available in our AOS573 environment for comparing jupyter notebooks"
   ]
  },
  {
   "cell_type": "markdown",
   "metadata": {},
   "source": [
    "#### Resources\n",
    "[nbdime](https://nbdime.readthedocs.io/en/latest/): command line and web-based diffing and merging of jupyter notebooks<br>\n",
    "Git repo for [jupyterlab git integration](https://github.com/jupyterlab/jupyterlab-git) (like we have on the AOS jupyterhub)<br>\n",
    "Git documentation on [diffing](https://git-scm.com/docs/git-diff) and [merging](https://git-scm.com/docs/git-merge)"
   ]
  },
  {
   "cell_type": "markdown",
   "metadata": {},
   "source": [
    "## 1. Major git repos for AOS573"
   ]
  },
  {
   "cell_type": "markdown",
   "metadata": {},
   "source": [
    "There are three git repositories that you will use for this class:\n",
    "\n",
    "1. ```AOS573```: the repository that we cloned on Monday--this has all of our lectures, homework, and notebooks\n",
    "2. ```aos573_completed_assignments```: this is your private repository that you will create on gitlab and use to turn in your in class notebooks and your homework (instructions for setting this up are on Canvas)\n",
    "3. ```aos573_f23_solutions```: this is the gitlab repository where you will find solutions to homeworks and in class notebooks (it will be updated throughout the semester as we finish assignments)"
   ]
  },
  {
   "cell_type": "markdown",
   "metadata": {},
   "source": [
    "---"
   ]
  },
  {
   "cell_type": "markdown",
   "metadata": {},
   "source": [
    "## 2. Your workflow"
   ]
  },
  {
   "cell_type": "markdown",
   "metadata": {},
   "source": [
    "### Mondays\n",
    "\n",
    "Every Monday <b>at the start of class</b> you will _pull_ updated course material from the AOS573 repository by running the following command from inside your _local_ AOS573 repo: ```git pull --rebase origin main```. <b><font color='red'>It is YOUR responsibility to make sure that the pull/rebase command is successful</font></b> (that means actually reading the output that git prints to your terminal screen). If you need help just ask!\n",
    "\n",
    "<b>IMPORTANT:</b> We are using the <b>`--rebase`</b> option here so that any changes you make to your local repository will be put on top of changes that I make to the AOS573 gitlab repository. This will help keep your git history linear, and potentially avoid headaches down the road. Because the default behavior of `git pull` is to <b>merge</b> in the second step, when we use <b>`--rebase`</b> we are overriding this\n",
    "\n",
    "<b><font color='red'>NOTE:</font></b> If I need you to pull additional updates on Wednesdays or Fridays I will let you know at the beginning of class!"
   ]
  },
  {
   "cell_type": "markdown",
   "metadata": {},
   "source": [
    "### All Class Days\n",
    "\n",
    "1. Every day when you enter class, log in to the AOS jupyterhub, open a terminal, navigate to your _local_ AOS573 repo and type ```git status```\n",
    "\n",
    "    <b><font color='red'>If you have outstanding changes (i.e., git status tells you that there are untracked changes or changes that haven't been staged, add and commit these changes, especially BEFORE pulling any new course material from the remote AOS573 repo</font></b>\n",
    "\n",
    "2. At the end of each class, save and close your notebooks (<u>and make sure you shut them down entirely by going to the stop button on the left panel of the jupyterhub and shutting them down there</u>), and then _add and commit_ any changes you have made that day\n",
    "\n",
    "3. On most days when you type ```git status``` in your AOS573 repository, it will tell you that you are ahead of the remote AOS573 repository by some number of commits. This is totally fine and to be expected, as you are adding changes on top of the lectures and homeworks that I have created, and you will <b><font color='red'>NOT</font></b> be pushing your local AOS573 changes to _my_ remote AOS573 repository"
   ]
  },
  {
   "cell_type": "markdown",
   "metadata": {},
   "source": [
    "### Days Assignments are Due\n",
    "On these days you will move your completed assignment (homework or in class notebooks) into your local aos573_completed_assignments repository, _add and commit_ the changes in this repository, and then _push_ your work to your remote aos573_completed_assignments repository with the command ```git push finished_work main``` (full instructions are always provided at the top of each homework and class notebook)"
   ]
  },
  {
   "cell_type": "markdown",
   "metadata": {},
   "source": [
    "### Here is a schematic to help you remember the structure of our course repositories:"
   ]
  },
  {
   "cell_type": "markdown",
   "metadata": {},
   "source": [
    "<img src='Images/AOS573_git_repository_schematic.png'></img>"
   ]
  },
  {
   "cell_type": "markdown",
   "metadata": {},
   "source": [
    "---"
   ]
  },
  {
   "cell_type": "markdown",
   "metadata": {},
   "source": [
    "## 3. More on git"
   ]
  },
  {
   "cell_type": "markdown",
   "metadata": {},
   "source": [
    "### Comparing changes in files with `git diff`"
   ]
  },
  {
   "cell_type": "markdown",
   "metadata": {},
   "source": [
    "If we want to look at the difference between a current file and a previous version, we use `git diff`<br>Usage: `git diff filename`"
   ]
  },
  {
   "cell_type": "markdown",
   "metadata": {},
   "source": [
    "Let's make a short example to see what `git diff` actually does. <u>First, navigate into your test_project repo that you created on Monday</u> and then run the following:"
   ]
  },
  {
   "cell_type": "code",
   "execution_count": null,
   "metadata": {},
   "outputs": [],
   "source": [
    "pwd"
   ]
  },
  {
   "cell_type": "code",
   "execution_count": null,
   "metadata": {},
   "outputs": [],
   "source": [
    "cd ../../test_project/"
   ]
  },
  {
   "cell_type": "code",
   "execution_count": null,
   "metadata": {},
   "outputs": [],
   "source": [
    "!touch git_diff_file.txt\n",
    "!echo 'first line' > git_diff_file.txt\n",
    "!git add git_diff_file.txt\n",
    "!git commit -m 'adding git_diff_file.txt for testing git diff'"
   ]
  },
  {
   "cell_type": "markdown",
   "metadata": {},
   "source": [
    "Now add some new text to this file and run `git diff`:"
   ]
  },
  {
   "cell_type": "code",
   "execution_count": null,
   "metadata": {},
   "outputs": [],
   "source": [
    "!echo 'blah blah blah' >> git_diff_file.txt\n",
    "!git diff git_diff_file.txt"
   ]
  },
  {
   "cell_type": "markdown",
   "metadata": {},
   "source": [
    "<b>Ok great, but what does this output _mean_? How do we interpret this?</b>\n",
    "1. The first line tells you what git is comparing. In this case it's git_diff_file.txt (The first name in the list `a/...` corresponds to the commit we made before, and the second `b/...` to the changes we just made but haven't yet committed)\n",
    "2. The second is the hash indentifier for the file (stuff you probably won't need)\n",
    "3. The next two lines (those beginning with `---` and `+++`) are the legend that git assigns to the two versions of the file, (`a/git_diff_file.txt` is associated with the `-` sign and `b/git_diff_file.txt` with the `+` sign)\n",
    "4. The remaining lines tell you <b>_where_</b> in the file the changes were made and <b>_what_</b> changes were made. The stuff in the `@` symbols summarizes the changes made in the file. It's of the form `<starting line in A file>,<number of lines> <starting line in B file>,<number of lines>`. Here it tells us that line 1 in the A file had no changes (there's nothing after it meaning zero lines were changed), and then in the B file, starting at line 1, there's 2 lines (there were changes). The changes are then presented below that. `First line` has no symbol next to it because it is the same in both files, and the second line has a `+` next to it, meaning this line is missing in the A file and has added to our newest version (B file).<br>\n",
    "<b>To help you remember:</b>`-` = appears in A but removed in B, `+`= missing in A but added to B"
   ]
  },
  {
   "cell_type": "markdown",
   "metadata": {},
   "source": [
    "### Diffing with jupyter notebooks"
   ]
  },
  {
   "cell_type": "markdown",
   "metadata": {},
   "source": [
    "Let's try to use git diff on a jupyter notebook. First, navigate into your ```AOS573/Lectures``` folder (<u>your path commands might be slightly different than mine!</u>):"
   ]
  },
  {
   "cell_type": "code",
   "execution_count": null,
   "metadata": {},
   "outputs": [],
   "source": []
  },
  {
   "cell_type": "code",
   "execution_count": null,
   "metadata": {},
   "outputs": [],
   "source": []
  },
  {
   "cell_type": "code",
   "execution_count": null,
   "metadata": {},
   "outputs": [],
   "source": [
    "!git diff Using_git_for_class.ipynb"
   ]
  },
  {
   "cell_type": "markdown",
   "metadata": {},
   "source": [
    "Well that's fine but it's kind of a mess, and you can imagine it gets worse with notebooks that have more changes. Luckily there's a better way to look at the difference between the current version of your notebook and the previous version that was committed. Do the following steps:\n",
    "\n",
    "1. Save your notebook where you are\n",
    "2. Click the ```git``` button on the right side of the command panel at the top of the notebook \n",
    "\n",
    "A new pane will open up showing you a more human-readable version of the differences between your current notebook version and the last committed version (where HEAD should be pointing)!"
   ]
  },
  {
   "cell_type": "markdown",
   "metadata": {},
   "source": [
    "#### What if you want to compare two different notebook commits?"
   ]
  },
  {
   "cell_type": "markdown",
   "metadata": {},
   "source": [
    "<font color='green'>Let's try it! Below are the steps you need to take in case you cannot remember how we did this in class today.</font>\n",
    "\n",
    "You can compare any committed version of your notebook to any other committed version by clicking the ```Git``` button on the far left pane (it should look like a diamond with a branch on it)\n",
    "\n",
    "In the pane that shows up you should see\n",
    "\n",
    "1. Your current repository (it should say AOS573)\n",
    "2. Your current branch (it should say main as that's the only branch in the AOS573 repo)\n",
    "3. There should be two tabs--they should say 'Changes' and 'History'\n",
    "\n",
    "If you click on the history tab you will see all of your previous commits in a list. You can compare earlier versions of your notebook by clicking on the little pages with arrows on them. \n",
    "\n",
    "You need to choose one left facing arrow for one commit and one right facing arrow for the second commit. Then scroll to the bottom of the left pane and click on the file name. A new tab should appear that shows the differences between these two versions."
   ]
  }
 ],
 "metadata": {
  "kernelspec": {
   "display_name": "aos573",
   "language": "python",
   "name": "aos573"
  },
  "language_info": {
   "codemirror_mode": {
    "name": "ipython",
    "version": 3
   },
   "file_extension": ".py",
   "mimetype": "text/x-python",
   "name": "python",
   "nbconvert_exporter": "python",
   "pygments_lexer": "ipython3",
   "version": "3.11.5"
  }
 },
 "nbformat": 4,
 "nbformat_minor": 4
}
