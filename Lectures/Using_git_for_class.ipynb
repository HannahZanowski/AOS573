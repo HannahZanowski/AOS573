{
 "cells": [
  {
   "cell_type": "markdown",
   "metadata": {},
   "source": [
    "<b><font size=20, color='#A020F0'>Using git for AOS573</font></b>"
   ]
  },
  {
   "cell_type": "markdown",
   "metadata": {},
   "source": [
    "Hannah Zanowski<br>\n",
    "9/14/22<br>"
   ]
  },
  {
   "cell_type": "markdown",
   "metadata": {},
   "source": [
    "#### <span style=\"color:green\">Learning Goals</span>\n",
    "By the end of this notebook you will\n",
    "1. Become familiar with the workflow for using git in this class\n",
    "2. Learn how to use the git integration tools available in the AOS jupyterhub for comparing/merging jupyter notebooks"
   ]
  },
  {
   "cell_type": "markdown",
   "metadata": {},
   "source": [
    "## 1. Major git repos for AOS573"
   ]
  },
  {
   "cell_type": "markdown",
   "metadata": {},
   "source": [
    "There are three git repositories that you will use for this class:\n",
    "\n",
    "1. ```AOS573```: the repository that we cloned on Monday--this has all of our lectures, homework, and notebooks\n",
    "2. ```aos573_completed_assignments```: this is your private repository that you will create on gitlab and use to turn in your in class notebooks and your homework (instructions for setting this up are on Canvas)\n",
    "3. ```aos573_solutions_f22```: this is the gitlab repository where you will find solutions to homeworks and in class notebooks (it will be updated throughout the semester as we finish assignments)"
   ]
  },
  {
   "cell_type": "markdown",
   "metadata": {},
   "source": [
    "---"
   ]
  },
  {
   "cell_type": "markdown",
   "metadata": {},
   "source": [
    "## 2. Your workflow"
   ]
  },
  {
   "cell_type": "markdown",
   "metadata": {},
   "source": [
    "### Mondays\n",
    "\n",
    "Every Monday <b>at the start of class</b> you will _pull_ updated course material from the AOS573 repository by running the following command from inside your _local_ AOS573 repo: ```git pull --rebase origin main```. <b>It is YOUR repsonsibnility to make sure that the pull/rebase command is successful</b> (that means actually reading the output that git prints to your terminal screen). If you need help just ask!\n",
    "\n",
    "<b><font color='red'>IMPORTANT:</b></font> We are using the <b>`--rebase`</b> option here so that any changes you make to your local repository will be put on top of changes that I make to the AOS573 gitlab repository. This will help keep your git history linear, and potentially avoid headaches down the road. Because the default behavior of `git pull` is to <b>merge</b> in the second step, when we use <b>`--rebase`</b> we are overriding this\n",
    "\n",
    "<b><font color='red'>NOTE:</font></b> If I need you to pull additional updates on Wednesdays or Fridays day I will let you know at the beginning of class!"
   ]
  },
  {
   "cell_type": "markdown",
   "metadata": {},
   "source": [
    "### All Class Days\n",
    "\n",
    "1. Every day when you enter class, log in to the AOS jupyterhub, open a terminal, navigate to your AOS573 repo and type ```git status```\n",
    "\n",
    "    <b><font color='red'>If you have outstanding changes (i.e., git status tells you that there are untracked changes or changes that haven't been staged, add and commit these changes, especially BEFORE pulling any new course material from the remote AOS573 repo</font></b>\n",
    "\n",
    "2. At the end of each class, save and close your notebooks (<u>and make sure you shut them down entirely by going to the stop button on the left panel of the jupyterhub and shutting them down there</u>), and then _add and commit_ any changes you have made that day\n",
    "\n",
    "3. On most days when you type ```git status``` in your AOS573 repository, it will tell you that you are ahead of the remote AOS573 repository by some number of commits. This is totally fine and to be expected, as you are adding changes on top of the lectures and homeworks that I have created, and you will <b><font color='red'>NOT</font></b> be pushing your local AOS573 changes to _my_ remote AOS573 repository"
   ]
  },
  {
   "cell_type": "markdown",
   "metadata": {},
   "source": [
    "### Days Assignments are Due\n",
    "On these days you will move your completed assignment (homework or in class notebooks) into your local aos573_completed_assignments repository, _add and commit_ the changes in this repository, and then _push_ your work to your remote aos573_completed_assignments repository with the command ```git push finished_work main``` (full instructions are always provided at the top of each homework and in class notebook)"
   ]
  },
  {
   "cell_type": "markdown",
   "metadata": {},
   "source": [
    "---"
   ]
  },
  {
   "cell_type": "markdown",
   "metadata": {},
   "source": [
    "## 3. More on git"
   ]
  },
  {
   "cell_type": "markdown",
   "metadata": {},
   "source": [
    "### Comparing changes in files with `git diff`"
   ]
  },
  {
   "cell_type": "markdown",
   "metadata": {},
   "source": [
    "If we want to look at the difference between a current file and a previous version, we use `git diff`<br>Usage: `git diff filename`"
   ]
  },
  {
   "cell_type": "markdown",
   "metadata": {},
   "source": [
    "Let's make a short example to see what `git diff` actually does. <u>First, navigate into your test_project repo that you created on Monday</u> and then run the following:"
   ]
  },
  {
   "cell_type": "code",
   "execution_count": null,
   "metadata": {},
   "outputs": [],
   "source": [
    "!touch git_diff_file.txt\n",
    "!echo 'first line' > git_diff_file.txt\n",
    "!git add git_diff_file.txt\n",
    "!git commit -m 'adding git_diff_file.txt for testing git diff'"
   ]
  },
  {
   "cell_type": "markdown",
   "metadata": {},
   "source": [
    "Now add some new text to this file and run `git diff`:"
   ]
  },
  {
   "cell_type": "code",
   "execution_count": null,
   "metadata": {},
   "outputs": [],
   "source": [
    "!echo 'blah blah blah' >> git_diff_file.txt\n",
    "!git diff git_diff_file.txt"
   ]
  },
  {
   "cell_type": "markdown",
   "metadata": {},
   "source": [
    "<b>Ok great, but what does this output _mean_? How do we interpret this?</b>\n",
    "1. The first line tells you what git is comparing. In this case it's git_diff_file.txt (The first name in the list `a/...` corresponds to commits we made before, and the second `b/...` to the changes we just made but haven't yet committed)\n",
    "2. The second is the hash indentifier for the file (stuff you probably won't need)\n",
    "3. The next two lines (those beginning with `---` and `+++`) are the legend that git assigns to the two versions of the file, (`a/git_diff_file.txt` is associated with the `-` sign and `b/git_diff_file.txt` with the `+` sign)\n",
    "4. The remaining lines tell you <b>_where_</b> in the file the changes were made and <b>_what_</b> changes were made. The stuff in the `@` symbols summarizes the changes made in the file. It's of the form `<starting line in A file>,<number of lines> <starting line in B file>,<number of lines>`. Here it tells us that line 1 in the A file had no changes (there's nothing after it meaning zero lines were changed), and then in the B file, starting at line 1, there's 2 lines (there were changes). The changes are then presented below that. `First line` has no symbol next to it because it is the same in both files, and the second line has a `+` next to it, meaning this line is missing in the A file and has added to our newest version (B file).<br>\n",
    "<b>To help you remember:</b>`-` = appears in A but removed in B, `+`= missing in A but added to B"
   ]
  },
  {
   "cell_type": "markdown",
   "metadata": {},
   "source": [
    "### Diffing with jupyter notebooks"
   ]
  },
  {
   "cell_type": "code",
   "execution_count": null,
   "metadata": {},
   "outputs": [],
   "source": []
  },
  {
   "cell_type": "markdown",
   "metadata": {},
   "source": [
    "### Solving merge conflicts with jupyter notebooks"
   ]
  },
  {
   "cell_type": "code",
   "execution_count": null,
   "metadata": {},
   "outputs": [],
   "source": []
  }
 ],
 "metadata": {
  "kernelspec": {
   "display_name": "Python [conda env:AOS573_F21] *",
   "language": "python",
   "name": "conda-env-AOS573_F21-py"
  },
  "language_info": {
   "codemirror_mode": {
    "name": "ipython",
    "version": 3
   },
   "file_extension": ".py",
   "mimetype": "text/x-python",
   "name": "python",
   "nbconvert_exporter": "python",
   "pygments_lexer": "ipython3",
   "version": "3.7.10"
  }
 },
 "nbformat": 4,
 "nbformat_minor": 4
}
