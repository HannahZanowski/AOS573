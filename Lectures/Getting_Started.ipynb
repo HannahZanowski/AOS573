{
 "cells": [
  {
   "cell_type": "markdown",
   "metadata": {},
   "source": [
    "<b><font size=20, color='#A020F0'>Getting Started</font></b>"
   ]
  },
  {
   "cell_type": "markdown",
   "metadata": {},
   "source": [
    "Hannah Zanowski<br>\n",
    "9/6/24<br>"
   ]
  },
  {
   "cell_type": "markdown",
   "metadata": {},
   "source": [
    "#### <span style=\"color:green\">Learning Goals</span>\n",
    "By the end of this notebook you will \n",
    "1. Become familiar with the directory structure and resources for our class\n",
    "2. Become familiar with the git workflow for our class"
   ]
  },
  {
   "cell_type": "markdown",
   "metadata": {},
   "source": [
    "## 1. General Information\n",
    "\n",
    "#### Course material\n",
    ">All lecture material can be found in our [course gitlab repo](https://git.doit.wisc.edu/ZANOWSKI/aos573_f24.git). Other important material can be found on [canvas](https://canvas.wisc.edu/courses/427095/) in either the Files (syllabus and other instructions) or Pages (this has all our important websites) tabs.\n",
    "\n",
    "#### Jupyter notebooks\n",
    ">We'll be using jupyter notebooks for this class. If you are not particularly familiar with them, you can read the documentation [here](https://docs.jupyter.org/en/latest/). You can do lots of cool things in jupyter notebooks including adding images and using laTex and markdown/html to make things look nice.\n",
    "\n",
    "#### Course jupyterhub\n",
    ">This year we are using a [jupyterhub put together by NCAR unidata](https://www.unidata.ucar.edu/blogs/news/entry/a-jupyterhub-for-the-unidata). You can find more information about the hub and the awesome people who have put it together in the ```Acknowledgements.ipynb``` notebook in your home directory.\n",
    "\n",
    "#### Accessing data for the course\n",
    ">Some data for this class will not be provided in our course git repository and instead will only be accessible on the jupyterhub. You can find these files in a set of directories that we all share. Here are the absolute paths to those locations:\n",
    ">1. <b>Lecture Data:</b>```/share/Lecture_data```<br>\n",
    ">2. <b>Notebook Data:</b>```/share/Notebook_data```<br>\n",
    ">3. <b>Homework Data:</b>```/share/Homework_data```\n",
    "\n",
    "><b><font color='red'>IMPORTANT:</font></b> Everyone has read and write permission in our ```/share``` directory, so use some caution if you're in there. I don't want to have to add data again because someone accidentally overwrote it or deleted it!\n",
    "\n",
    "#### Github vs Gitlab\n",
    ">These are basically the same thing, but the [gitlab instance](git.doit.wisc.edu) we are using is run through our university whereas [github](github.com) is for anyone to use.\n",
    "\n",
    "><p style=\"border-width:3px; border-style:solid; border-color:orange; padding: 1em;\"><b>You only created an account on github so you could use this information to login to our jupyterhub</b></p>\n",
    ">For the rest of the class (course material, turning in assignments, etc), you'll be using repositories on gitlab which you log into using your NetID and password"
   ]
  },
  {
   "cell_type": "markdown",
   "metadata": {},
   "source": [
    "---"
   ]
  },
  {
   "cell_type": "markdown",
   "metadata": {},
   "source": [
    "## 2. Major git repos for AOS573"
   ]
  },
  {
   "cell_type": "markdown",
   "metadata": {},
   "source": [
    "There are three git repositories that you will use for this class:\n",
    "\n",
    "1. ```aos573_f24```: the repository that we cloned today--this has all of our lectures, homework, and notebooks\n",
    "2. ```aos573_completed_assignments```: this is your private repository that you will create on gitlab and use to turn in your in class notebooks and your homework (instructions for setting this up are on Canvas)\n",
    "3. ```aos573_f24_solutions```: this is the gitlab repository where you will find solutions to homeworks and in class notebooks (it will be updated throughout the semester as we finish assignments)"
   ]
  },
  {
   "cell_type": "markdown",
   "metadata": {},
   "source": [
    "---"
   ]
  },
  {
   "cell_type": "markdown",
   "metadata": {},
   "source": [
    "## 3. Your workflow"
   ]
  },
  {
   "cell_type": "markdown",
   "metadata": {},
   "source": [
    "### Mondays\n",
    "\n",
    "Every Monday <b>at the start of class</b> you will _pull_ updated course material from the aos573_f24 repository by running the following command from inside your _local_ aos573_f24 repo: ```git pull --rebase origin main```. \n",
    "\n",
    "><b><font color='red'>NOTE:</font></b> If I need you to pull additional updates on Wednesdays or Fridays I will let you know at the beginning of class!\n",
    "\n",
    "#### <p style=\"border-width:3px; border-style:solid; border-color:red; padding: 1em;\"><b><font color='red'>It is YOUR responsibility to make sure that the pull/rebase command is successful</font></b> (that means actually reading the output that git prints to your terminal screen). If you need help just ask!</p>\n",
    "    \n",
    "The output of `git status` <b><u>BEFORE AND AFTER</u></b> running the `git pull --rebase` command in your terminal should look something like this (it may say that you are ahead of the remote repository by some # of commits, but this is expected as you have made changes to your local repository and have not pushed them to my course repository):\n",
    "\n",
    "<img src='Images/git_repo_clean.png' width=350></img>\n",
    "\n",
    "><b>IMPORTANT:</b> We are using the <b>`--rebase`</b> option here so that any changes you make to your local repository will be put _on top of_ changes that I make to the class gitlab repository. This will help keep your git history linear, and potentially avoid headaches down the road. Because the default behavior of `git pull` is to <b>merge</b> in the second step, when we use <b>`--rebase`</b> we are overriding this\n",
    "\n",
    "#### <p style=\"border-width:3px; border-style:solid; border-color:red; background-color:red; padding: 1em;\"><b><font color='black'>After you pull in the week's course material, make a habit of copying your new homework assignment and/or new notebook assignment to your aos573_completed_assignments repo. </font></b>I'd prefer that you work on your homework and in-class notebooks there, so that if you mess something up in your course material repository, it's not the end of the world if we have to nuke it and clone it again. </p>\n",
    "\n",
    ">You should decide if you want to do something similar for your lecture notes, as long as you don't put them in your completed assignments repo. You can work on them in the aos573_f24 repo, or you could create a new repo and copy them there and then work on them that day in class."
   ]
  },
  {
   "cell_type": "markdown",
   "metadata": {},
   "source": [
    "### All Class Days\n",
    "\n",
    "1. Every day when you enter class, log in to the AOS573 jupyterhub, open a terminal, navigate to your _local_ AOS573 repo and type ```git status```\n",
    "\n",
    "    <b><font color='red'>If you have outstanding changes (i.e., git status tells you that there are untracked changes or changes that haven't been staged, add and commit these changes, especially BEFORE pulling any new course material from the remote AOS573 repo</font></b>\n",
    "\n",
    "2. At the end of each class, save and close your notebooks (<u>and make sure you shut them down entirely by going to the stop button on the left panel of the jupyterhub and shutting them down there</u>), and then _add and commit_ any changes you have made that day\n",
    "\n",
    "3. On most days when you type ```git status``` in your local AOS573 repository, it will tell you that you are ahead of the remote AOS573 repository by some number of commits. This is totally fine and to be expected, as you are adding changes on top of the lectures and homeworks that I have created, and you will <b><font color='red'>NOT</font></b> be pushing your local AOS573 changes to _my_ remote AOS573 repository"
   ]
  },
  {
   "cell_type": "markdown",
   "metadata": {},
   "source": [
    "### Days Assignments are Due\n",
    "On these days you will turn in your completed assignments (homework or in class notebooks) that you have been working on in your local `aos573_completed_assignments` repository by _adding and committing_ any final changes you've made to your assignments in this repository, and then _pushing_ your work to your remote `aos573_completed_assignments` repository with the command ```git push finished_work main``` (full instructions are always provided at the top of each homework and class notebook).\n",
    "\n",
    "You will need to authenticate with your NetID and <b>gitlab personal access token</b> (see instructions on Canvas) in order to push your changes to your remote repository!\n",
    "\n",
    "#### <p style=\"border-width:3px; border-style:solid; border-color:red; padding: 1em;\"><b><font color='red'>DO NOT PUSH ANY DATA TO YOUR REMOTE ```aos573_completed_assignments``` REPO UNLESS YOU ARE EXPLICITLY INSTRUCTED TO DO SO!!!!</font></b></p>"
   ]
  },
  {
   "cell_type": "markdown",
   "metadata": {},
   "source": [
    "### Here is a schematic to help you remember the structure of our course repositories:"
   ]
  },
  {
   "cell_type": "markdown",
   "metadata": {},
   "source": [
    "<img src='Images/AOS573_git_repository_schematic.png'></img>"
   ]
  },
  {
   "cell_type": "markdown",
   "metadata": {},
   "source": [
    "---"
   ]
  }
 ],
 "metadata": {
  "kernelspec": {
   "display_name": "Python [conda env:uw-fall-2024]",
   "language": "python",
   "name": "conda-env-uw-fall-2024-py"
  },
  "language_info": {
   "codemirror_mode": {
    "name": "ipython",
    "version": 3
   },
   "file_extension": ".py",
   "mimetype": "text/x-python",
   "name": "python",
   "nbconvert_exporter": "python",
   "pygments_lexer": "ipython3",
   "version": "3.11.9"
  }
 },
 "nbformat": 4,
 "nbformat_minor": 4
}
