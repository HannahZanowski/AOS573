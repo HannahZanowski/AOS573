{
 "cells": [
  {
   "cell_type": "markdown",
   "metadata": {},
   "source": [
    "<b><font size=20, color='#A020F0'>MetPy"
   ]
  },
  {
   "cell_type": "markdown",
   "metadata": {},
   "source": [
    "Hannah Zanowski<br>\n",
    "11/18/24<br>"
   ]
  },
  {
   "cell_type": "markdown",
   "metadata": {},
   "source": [
    "#### <span style=\"color:green\">Learning Goals</span>\n",
    "By the end of this notebook you will\n",
    "1. Be able to read in GRIB files using xarray\n",
    "2. Understand how to use Mety to do unit-aware calculations\n",
    "3. Use MetPy to calculate and plot various quantities relevant to synoptic meteorology"
   ]
  },
  {
   "cell_type": "markdown",
   "metadata": {},
   "source": [
    "#### Resources\n",
    "[MetPy Documentation](https://unidata.github.io/MetPy/latest/userguide/index.html)<br>\n",
    "[MetPy API reference](https://unidata.github.io/MetPy/latest/api/index.html)<br>\n",
    "[Unidata's MetPy Mondays](https://www.unidata.ucar.edu/blogs/news/entry/metpy-mondays)"
   ]
  },
  {
   "cell_type": "markdown",
   "metadata": {},
   "source": [
    "#### Acknowledgements\n",
    "Major thanks to [Andrew Winters](https://acwinters.weebly.com/) (a UW-Madison PhD graduate!) for providing sample notebooks that helped me create the content for this lecture and this week's in-class exercises. Some lecture content is also heavily borrowed from the MetPy [getting started guide](https://unidata.github.io/MetPy/latest/userguide/startingguide.html)."
   ]
  },
  {
   "cell_type": "markdown",
   "metadata": {},
   "source": [
    "# A little about MetPy"
   ]
  },
  {
   "cell_type": "markdown",
   "metadata": {},
   "source": [
    "MetPy is a package used for manipulating and visualizing meteorological data. It has a number of really useful built-in functions for calculating meteorological variables and a lot of support for creating nice weather maps. It also has a number of [features similar to GEMPAK](https://unidata.github.io/MetPy/latest/userguide/gempak.html), the set of which will likely grow as MetPy development continues. It also works well with xarray!\n",
    "\n",
    "---"
   ]
  },
  {
   "cell_type": "markdown",
   "metadata": {},
   "source": [
    "Let's begin by importing a few packages that we need (we'll import stuff from MetPy later):"
   ]
  },
  {
   "cell_type": "code",
   "execution_count": null,
   "metadata": {
    "tags": []
   },
   "outputs": [],
   "source": [
    "import xarray as xr\n",
    "import numpy as np\n",
    "import cfgrib\n",
    "import matplotlib.pyplot as plt\n",
    "import cartopy.crs as ccrs\n",
    "import cartopy.feature as cfeature"
   ]
  },
  {
   "cell_type": "markdown",
   "metadata": {},
   "source": [
    "## 1. \"Fun\" with the GRIB file format\n",
    "[GRIB](https://confluence.ecmwf.int/display/CKB/What+are+GRIB+files+and+how+can+I+read+them) files are a type of file developed by the World Meteorological Organization for transferring large streams of meteorological data, especially from weather forecasting systems. While the format is good at what it is designed for, it is much worse when utilized as a format for data storage and access. Nevertheless, the WMO seems to want to keep the grib format around, and if you've worked with any kind of forecasting data that isn't nicely packaged as netcdf files, there's a good chance you've come across the GRIB format, and you probably dislike it."
   ]
  },
  {
   "cell_type": "markdown",
   "metadata": {},
   "source": [
    "### Reading in GRIB files with xarray\n",
    "Thankfully, we can usually read in grib files using xarray! All we need to do is specify the `'engine'` keyword so that `open_dataset()` knows we have a grib file. Let's try it below on a single GRIB file from the [Climate Forecast System Reanalysis](https://climatedataguide.ucar.edu/climate-data/climate-forecast-system-reanalysis-cfsr) (CFSR).\n",
    "\n",
    "><b><font color='red'>Note:</font></b> Sometimes xarray doesn't quite work for reading GRIB files. When that happens, you might want to switch to using the [pygrib](https://pypi.org/project/pygrib/) package instead (pygrib is not currently in our class environment). Metpy Mondays has an example video for [reading GRIB files with pygrib](https://www.unidata.ucar.edu/blogs/developer/en/entry/metpy-mondays-135-reading-grib)."
   ]
  },
  {
   "cell_type": "code",
   "execution_count": null,
   "metadata": {
    "tags": []
   },
   "outputs": [],
   "source": [
    "#Read in grib\n",
    "path='/share/Lecture_data/'\n",
    "ds=xr.open_dataset(path+'pgbh06.gdas.1997033112.grb2',engine='cfgrib')"
   ]
  },
  {
   "cell_type": "markdown",
   "metadata": {},
   "source": [
    "Yikes! Looks like that didn't quite work. That's because this particular grib file has multiple options for the vertical levels. At the end of the error message above, you can see all of the valid types of levels that you can provide as inputs to `open_dataset()` when using the cfgrib engine. Let's do what the error message tells us and use the `'filter_by_keys'` keyword to choose the type of vertical level that we want:"
   ]
  },
  {
   "cell_type": "code",
   "execution_count": null,
   "metadata": {
    "tags": []
   },
   "outputs": [],
   "source": [
    "#Read in grib with filter_by_keys\n",
    "ds=xr.open_dataset(path+'pgbh06.gdas.1997033112.grb2',engine='cfgrib',filter_by_keys={'typeOfLevel': 'isobaricInhPa'})"
   ]
  },
  {
   "cell_type": "markdown",
   "metadata": {},
   "source": [
    "It doesn't look like it, but the data read-in actually worked. However, if you read the above warning messages, some variables were left out because they have different sets of levels associated with the `'isobaricInhPa'` level type, and xarray won't allow that. So to get around this, xarray leaves those data out. If you print your dataset below though, you can see that a lot of the data was read in correctly:"
   ]
  },
  {
   "cell_type": "code",
   "execution_count": null,
   "metadata": {
    "tags": []
   },
   "outputs": [],
   "source": [
    "ds"
   ]
  },
  {
   "cell_type": "markdown",
   "metadata": {},
   "source": [
    "This is fine, but how do we know what the full set of variables is in the grib file if we can't read them all in at once with xarray?\n",
    "\n",
    "We can do this with [cfgrib](https://pypi.org/project/cfgrib/) instead, which will give us a list of the variables associated with each `'typeOfLevel'` in the grib file (which we specified with the `filter_by_keys` argument above when we read in our data).\n",
    "\n",
    "><b><font color='red'>Note:</font></b> This takes a minute or so to run so we'll move on to metpy and then circle back"
   ]
  },
  {
   "cell_type": "code",
   "execution_count": null,
   "metadata": {},
   "outputs": [],
   "source": [
    "%%time\n",
    "dsets=cfgrib.open_datasets(path+'pgbh06.gdas.1997033112.grb2')\n",
    "dsets"
   ]
  },
  {
   "cell_type": "markdown",
   "metadata": {},
   "source": [
    "---"
   ]
  },
  {
   "cell_type": "markdown",
   "metadata": {},
   "source": [
    "## 2. MetPy\n",
    "MetPy contains several modules that make up the package:\n",
    "1. [Constants](https://unidata.github.io/MetPy/latest/api/generated/metpy.constants.html#module-metpy.constants)--a set of meteorologically relevant constants like the radius of the Earth and g.\n",
    "2. [Units](https://unidata.github.io/MetPy/latest/api/generated/metpy.units.html#module-metpy.units)--MetPy uses [pint](https://pint.readthedocs.io/en/stable/) under the hood for unit-aware calculations.\n",
    "3. [IO](https://unidata.github.io/MetPy/latest/api/generated/metpy.io.html#module-metpy.io)--contains functions and classes for reading in various file formats\n",
    "4. [calc](https://unidata.github.io/MetPy/latest/api/generated/metpy.calc.html#module-metpy.calc)--for calculating various dynamic and thermodynamic quantities!\n",
    "5. [plots](https://unidata.github.io/MetPy/latest/api/generated/metpy.plots.html#module-metpy.plots)--for making plots like Hodographs and Skew-Ts\n",
    "6. [plots.ctables](https://unidata.github.io/MetPy/latest/api/generated/metpy.plots.ctables.html#module-metpy.plots.ctables)--for working with colormaps and custom colormaps\n",
    "7. [interpolate](https://unidata.github.io/MetPy/latest/api/generated/metpy.interpolate.html#module-metpy.interpolate)--various tools for data interpolation\n",
    "8. [xarray](https://unidata.github.io/MetPy/latest/api/generated/metpy.xarray.html#module-metpy.xarray)--support for enhancing interoperability between metpy and xarray\n",
    "\n",
    "Let's import a few of these:"
   ]
  },
  {
   "cell_type": "code",
   "execution_count": null,
   "metadata": {
    "tags": []
   },
   "outputs": [],
   "source": [
    "import metpy.calc as mpcalc\n",
    "import metpy.plots as mplots\n",
    "from metpy.units import units"
   ]
  },
  {
   "cell_type": "markdown",
   "metadata": {},
   "source": [
    "### MetPy and units\n",
    "MetPy requires your data to have units in order to do unit-aware calculations, and it can get rage-y when it doesn't have them (see the [units tutorial](https://unidata.github.io/MetPy/latest/tutorials/unit_tutorial.html) for further info)."
   ]
  },
  {
   "cell_type": "markdown",
   "metadata": {},
   "source": [
    "#### Adding units\n",
    "You can add units to data by multiplying by the unit that you want:"
   ]
  },
  {
   "cell_type": "code",
   "execution_count": null,
   "metadata": {
    "tags": []
   },
   "outputs": [],
   "source": [
    "Q_rate=2.5*units.joules/units.second\n",
    "area=1*units.meters*units.meters #or 1*units('m^2')"
   ]
  },
  {
   "cell_type": "code",
   "execution_count": null,
   "metadata": {
    "tags": []
   },
   "outputs": [],
   "source": [
    "Q_rate"
   ]
  },
  {
   "cell_type": "markdown",
   "metadata": {},
   "source": [
    "What is the type of these variables with units?"
   ]
  },
  {
   "cell_type": "code",
   "execution_count": null,
   "metadata": {
    "tags": []
   },
   "outputs": [],
   "source": [
    "type(Q_rate)"
   ]
  },
  {
   "cell_type": "markdown",
   "metadata": {},
   "source": [
    "Then you can do unit-aware calculations with the data:"
   ]
  },
  {
   "cell_type": "code",
   "execution_count": null,
   "metadata": {
    "tags": []
   },
   "outputs": [],
   "source": [
    "#Calculate the heat flux\n",
    "Qflux=Q_rate/area\n",
    "Qflux"
   ]
  },
  {
   "cell_type": "markdown",
   "metadata": {},
   "source": [
    "#### Converting units\n",
    "You can convert units using `to()`, but in order for this to work properly your data must be a `pint.Quantity` type! Let's go through an example below:"
   ]
  },
  {
   "cell_type": "code",
   "execution_count": null,
   "metadata": {},
   "outputs": [],
   "source": [
    "#Set up some data\n",
    "a=np.arange(0,10)*units.meter\n",
    "a"
   ]
  },
  {
   "cell_type": "code",
   "execution_count": null,
   "metadata": {},
   "outputs": [],
   "source": [
    "#convert data to another unit\n",
    "a=a.to('yard')\n",
    "a"
   ]
  },
  {
   "cell_type": "code",
   "execution_count": null,
   "metadata": {},
   "outputs": [],
   "source": [
    "#try using .to() on something that isn't a pint.Quantity type\n",
    "np.arange(1,10).to('m')"
   ]
  },
  {
   "cell_type": "markdown",
   "metadata": {},
   "source": [
    "You can also convert any units to SI units with `to_base_units()`:"
   ]
  },
  {
   "cell_type": "code",
   "execution_count": null,
   "metadata": {},
   "outputs": [],
   "source": [
    "a=a.to_base_units()\n",
    "a"
   ]
  },
  {
   "cell_type": "markdown",
   "metadata": {},
   "source": [
    "#### Dealing with Temperature\n",
    "Let's try to add two values that have units of ˚C:"
   ]
  },
  {
   "cell_type": "code",
   "execution_count": null,
   "metadata": {
    "tags": []
   },
   "outputs": [],
   "source": [
    "10*units.degC+5*units.degC"
   ]
  },
  {
   "cell_type": "markdown",
   "metadata": {},
   "source": [
    "You get an error because the ˚C scale is an offset (it's $T_{kelvin}-273.15K$), which can make operations like the one above ambiguous. "
   ]
  },
  {
   "cell_type": "markdown",
   "metadata": {},
   "source": [
    "---"
   ]
  },
  {
   "cell_type": "markdown",
   "metadata": {},
   "source": [
    "#### <font color='blue'>Exercise for the class</font>\n",
    "Write a few lines of code (really just show a quick example with math) demonstrating why the offset can make calculations with temperature ambiguous:"
   ]
  },
  {
   "cell_type": "code",
   "execution_count": null,
   "metadata": {},
   "outputs": [],
   "source": []
  },
  {
   "cell_type": "markdown",
   "metadata": {},
   "source": [
    "---"
   ]
  },
  {
   "cell_type": "markdown",
   "metadata": {},
   "source": [
    "To avoid this error, you want to use the `delta_degC` unit when adding/subtracting temperatures in ˚C (or the `delta_degF`  unit when adding/subtracting temperatures in ˚F!). You can also just convert all your units to Kelvin, which doesn't have this problem ;)"
   ]
  },
  {
   "cell_type": "code",
   "execution_count": null,
   "metadata": {
    "tags": []
   },
   "outputs": [],
   "source": [
    "10*units.degC+5*units.delta_degC"
   ]
  },
  {
   "cell_type": "markdown",
   "metadata": {},
   "source": [
    "### Using xarray and metpy to read in data\n",
    "I've saved some CFSR data as a netcdf file, which we'll use for the rest of the examples in this lecture. We can read in our netcdf data using xarray's `open_dataset`, but we need to use metpy to parse the metadata of the dataset so that it can keep track of the data's coordinate reference system (the projection the data are on!):"
   ]
  },
  {
   "cell_type": "code",
   "execution_count": null,
   "metadata": {
    "tags": []
   },
   "outputs": [],
   "source": [
    "ds=xr.open_dataset('data/cfsr.CONUS.1997033112.nc').metpy.parse_cf()\n",
    "ds"
   ]
  },
  {
   "cell_type": "markdown",
   "metadata": {},
   "source": [
    "### Selecting data\n",
    "You can select data using xarray, or you can do it through metpy's xarray interface. However, if you want to keep track of units, then you want to use MetPy's `quantify()` method to add units to your dataset first. `quantify()` takes the units attribute of your data variables, and makes it part of the data itself:"
   ]
  },
  {
   "cell_type": "code",
   "execution_count": null,
   "metadata": {
    "tags": []
   },
   "outputs": [],
   "source": [
    "ds=ds.metpy.quantify()"
   ]
  },
  {
   "cell_type": "code",
   "execution_count": null,
   "metadata": {
    "tags": []
   },
   "outputs": [],
   "source": [
    "#Look at a single data variable\n",
    "ds.t"
   ]
  },
  {
   "cell_type": "markdown",
   "metadata": {},
   "source": [
    "Now let's get the zonal (u) and meridional (v) velocity at 500 hPa:"
   ]
  },
  {
   "cell_type": "code",
   "execution_count": null,
   "metadata": {
    "tags": []
   },
   "outputs": [],
   "source": [
    "#pure xarray\n",
    "uwnd=ds.u.sel(isobaricInhPa=500)\n",
    "vwnd=ds.v.sel(isobaricInhPa=500)\n",
    "hgt=ds.gh.sel(isobaricInhPa=500)\n",
    "\n",
    "#metpy xarray interface\n",
    "#uwnd=ds.u.metpy.sel(isobaricInhPa=500)\n",
    "#vwnd=ds.v.metpy.sel(isobaricInhPa=500)\n",
    "#hgt=ds.gh.metpy.sel(isobaricInhPa=500)"
   ]
  },
  {
   "cell_type": "code",
   "execution_count": null,
   "metadata": {
    "tags": []
   },
   "outputs": [],
   "source": [
    "uwnd"
   ]
  },
  {
   "cell_type": "markdown",
   "metadata": {},
   "source": [
    "You can use built-in xarray plotting as well:"
   ]
  },
  {
   "cell_type": "code",
   "execution_count": null,
   "metadata": {
    "tags": []
   },
   "outputs": [],
   "source": [
    "uwnd.plot()"
   ]
  },
  {
   "cell_type": "markdown",
   "metadata": {},
   "source": [
    "### Calculations\n",
    "[metpy.calc](https://unidata.github.io/MetPy/latest/api/generated/metpy.calc.html#module-metpy.calc) has loads of useful functions that you can use to calculate dynamic and thermodynamic quantities. Some of these, like calculating derivatives, can be a pain normally, but MetPy makes it much easier!"
   ]
  },
  {
   "cell_type": "markdown",
   "metadata": {},
   "source": [
    "Many of you will probably be happy to know that MetPy has a built-in function ([lat_lon_grid_deltas](https://unidata.github.io/MetPy/latest/api/generated/metpy.calc.lat_lon_grid_deltas.html#metpy.calc.lat_lon_grid_deltas)) to calculate grid cell lengths and widths in meters:"
   ]
  },
  {
   "cell_type": "code",
   "execution_count": null,
   "metadata": {
    "tags": []
   },
   "outputs": [],
   "source": [
    "dx,dy = mpcalc.lat_lon_grid_deltas(ds.longitude, ds.latitude)"
   ]
  },
  {
   "cell_type": "code",
   "execution_count": null,
   "metadata": {
    "tags": []
   },
   "outputs": [],
   "source": [
    "dx"
   ]
  },
  {
   "cell_type": "code",
   "execution_count": null,
   "metadata": {
    "tags": []
   },
   "outputs": [],
   "source": [
    "plt.pcolormesh(dx)\n",
    "plt.colorbar()"
   ]
  },
  {
   "cell_type": "markdown",
   "metadata": {},
   "source": [
    "#### Gradients\n",
    "MetPy can also [compute gradients](https://unidata.github.io/MetPy/latest/api/generated/metpy.calc.gradient.html#metpy.calc.gradient). Let's compute dT/dy like we did in Homework 3.\n",
    "\n",
    "><b><font color='red'>Note:</font></b> metpy's `gradient()` function returns a _tuple_ containing the computed gradient along each supplied axis!"
   ]
  },
  {
   "cell_type": "code",
   "execution_count": null,
   "metadata": {
    "tags": []
   },
   "outputs": [],
   "source": [
    "dTdy=mpcalc.gradient(ds.t,axes='y')[0]"
   ]
  },
  {
   "cell_type": "code",
   "execution_count": null,
   "metadata": {
    "tags": []
   },
   "outputs": [],
   "source": [
    "dTdy"
   ]
  },
  {
   "cell_type": "code",
   "execution_count": null,
   "metadata": {
    "tags": []
   },
   "outputs": [],
   "source": [
    "dTdy.sel(longitude=250).plot(yincrease=False)"
   ]
  },
  {
   "cell_type": "markdown",
   "metadata": {},
   "source": [
    "#### Relative vorticity\n",
    "The vertical component of the relative vorticity is <br>\n",
    "\n",
    "$\\zeta=\\frac{\\partial v}{\\partial x}-\\frac{\\partial u}{\\partial y}$\n",
    "\n",
    "Calculating the [relative vorticity](https://unidata.github.io/MetPy/latest/api/generated/metpy.calc.vorticity.html#metpy.calc.vorticity) in MetPy is straightforward too, and it computes dx and dy under the hood for you if you use labeled xarray data: "
   ]
  },
  {
   "cell_type": "code",
   "execution_count": null,
   "metadata": {
    "tags": []
   },
   "outputs": [],
   "source": [
    "zeta=mpcalc.vorticity(uwnd,vwnd)"
   ]
  },
  {
   "cell_type": "code",
   "execution_count": null,
   "metadata": {
    "tags": []
   },
   "outputs": [],
   "source": [
    "zeta.plot()"
   ]
  },
  {
   "cell_type": "markdown",
   "metadata": {},
   "source": [
    "#### Smoothing\n",
    "Smoothing is useful when your data are noisy. MetPy has a number of smoothing functions, but we'll use the [n-point smoother](https://unidata.github.io/MetPy/latest/api/generated/metpy.calc.smooth_n_point.html#metpy.calc.smooth_n_point) in this example. `smooth_n_point` takes three arguments:\n",
    "1. The data to be smoothed\n",
    "2. The number of points to use in smoothing (only 5 or 9 are valid for now)\n",
    "3. The number of times the smoother is applied\n",
    "\n",
    "In the example below we are using the 9-point option and are applying the smoother 10 times:"
   ]
  },
  {
   "cell_type": "code",
   "execution_count": null,
   "metadata": {
    "tags": []
   },
   "outputs": [],
   "source": [
    "hgt_smoothed=mpcalc.smooth_n_point(hgt,9,10) #data, number of points for smoothing, # of times to smooth\n",
    "uwnd_smoothed=mpcalc.smooth_n_point(uwnd,9,10)\n",
    "vwnd_smoothed=mpcalc.smooth_n_point(vwnd,9,10)"
   ]
  },
  {
   "cell_type": "code",
   "execution_count": null,
   "metadata": {
    "tags": []
   },
   "outputs": [],
   "source": [
    "fig=plt.figure(figsize=(12,3))\n",
    "ax1=fig.add_subplot(121)\n",
    "ax2=fig.add_subplot(122)\n",
    "uwnd.plot(ax=ax1)\n",
    "uwnd_smoothed.plot(ax=ax2)"
   ]
  },
  {
   "cell_type": "markdown",
   "metadata": {},
   "source": [
    "### Making plots"
   ]
  },
  {
   "cell_type": "markdown",
   "metadata": {},
   "source": [
    "#### Map plot example\n",
    "Let's make a map of the 500 mbar geopotential height and the potential vorticity and winds at the same level. We'll be using cartopy to do this.\n",
    "><b><font color='blue'>Note: </font></b> Here we're using matplotlibs [barbs](https://matplotlib.org/stable/api/_as_gen/matplotlib.axes.Axes.barbs.html) to add wind barbs to our plotting axis, but you can also use metpy's [BarbPlot()](https://unidata.github.io/MetPy/latest/api/generated/metpy.plots.BarbPlot.html).\n",
    "\n",
    "First let's set up all the plotting parameters:"
   ]
  },
  {
   "cell_type": "code",
   "execution_count": null,
   "metadata": {
    "tags": []
   },
   "outputs": [],
   "source": [
    "#Data projection and map projection\n",
    "data_proj=ccrs.PlateCarree()\n",
    "map_proj=ccrs.LambertConformal(central_longitude=-100,central_latitude=35, standard_parallels=(33, 45))\n",
    "\n",
    "#Create the figure and add a subplot\n",
    "fig = plt.figure(1, figsize=(14, 12))\n",
    "ax = plt.subplot(111, projection=map_proj)\n",
    "ax.set_extent([-100, -60, 22, 50], ccrs.PlateCarree()) #lat/lon bounds are [West,East,South,North]\n",
    "\n",
    "# Add land, coastlines, and borders\n",
    "ax.add_feature(cfeature.LAND, facecolor='0.8')\n",
    "countries=cfeature.NaturalEarthFeature(category=\"cultural\", scale=\"110m\", \n",
    "                                       facecolor=\"none\", name=\"admin_0_boundary_lines_land\")\n",
    "ax.add_feature(countries, linewidth=2, edgecolor=\"black\")\n",
    "ax.add_feature(cfeature.STATES.with_scale('50m'), linewidth=0.5)\n",
    "ax.coastlines('50m', linewidth=0.8)\n",
    "\n",
    "# Set up contour intervals\n",
    "hgt_levs=np.arange(5000,5501,50)\n",
    "zeta_levs=np.arange(5,35,2)\n",
    "\n",
    "#Scale factor for the relative vorticity\n",
    "scale=5\n",
    "\n",
    "# #########Make the plot\n",
    "# #Plot zeta (relative vorticity)\n",
    "# zeta_cs=ax.contourf(ds.longitude, ds.latitude, zeta*10**scale, levels=zeta_levs, \n",
    "#                               cmap=plt.cm.YlOrRd, alpha=1, transform=data_proj,extend='max')\n",
    "# #Plot the geopotential height\n",
    "# gph_cs=plt.contour(ds.longitude, ds.latitude, hgt_smoothed, levels=hgt_levs, colors='navy', \n",
    "#                    linewidths=2.0, transform=data_proj)\n",
    "# #label the contours\n",
    "# plt.clabel(gph_cs, fmt='%d')\n",
    "\n",
    "# # Plot wind barbs, regrid to reduce number of barbs\n",
    "# ax.barbs(ds.longitude, ds.latitude, uwnd_smoothed.values, vwnd_smoothed.values, pivot='middle',\n",
    "#          color='k', regrid_shape=15, transform=data_proj)\n",
    "\n",
    "# #Add the colorbar for zeta\n",
    "# cbar=plt.colorbar(zeta_cs, orientation='vertical', pad=0.03, aspect=25,shrink=0.8)\n",
    "# cbar.set_label('Vorticity (10$^{–5}$ s$^{–1}$)', size='x-large',rotation=270,va='bottom')\n",
    "\n",
    "# #Add a title\n",
    "# plt.title('500-hPa Heights (m), Wind (m/s), and Rel. Vorticity (10$^{-5}$ s$^{-1}$)', loc='left');"
   ]
  },
  {
   "cell_type": "markdown",
   "metadata": {},
   "source": [
    "#### Skew-Ts\n",
    "For this example let's choose a single grid cell and pretend like the data at this point is from an upper air sounding. You can read more about Skew-Ts [here](https://www.noaa.gov/jetstream/upperair/skew-t-log-p-diagrams)"
   ]
  },
  {
   "cell_type": "code",
   "execution_count": null,
   "metadata": {
    "tags": []
   },
   "outputs": [],
   "source": [
    "temp=ds.t.sel(latitude=33,longitude=281) #choose a single lat/lon point for the temperature\n",
    "p=ds.isobaricInhPa #pressure\n",
    "rh=ds.r.sel(latitude=33,longitude=281) #relative humidity\n",
    "u=ds.u.sel(latitude=33,longitude=281) #zonal velocity\n",
    "v=ds.v.sel(latitude=33,longitude=281) #meridional velocity\n",
    "\n",
    "#Calculate the dewpoint temperature\n",
    "temp_dew=mpcalc.dewpoint_from_relative_humidity(temp,rh)"
   ]
  },
  {
   "cell_type": "code",
   "execution_count": null,
   "metadata": {
    "tags": []
   },
   "outputs": [],
   "source": [
    "temp_dew.metpy.units"
   ]
  },
  {
   "cell_type": "markdown",
   "metadata": {},
   "source": [
    "Let's convert temperature to ˚C so we can compare it to the dewpoint temperature, which is also in ˚C. \n",
    "\n",
    "><b><font color='red'>Note:</font> When changing the units of a data array, we must use the metpy `convert_units()` method instead of `to()`:</b>"
   ]
  },
  {
   "cell_type": "code",
   "execution_count": null,
   "metadata": {
    "tags": []
   },
   "outputs": [],
   "source": [
    "temp=temp.metpy.convert_units(units.degC) #convert to degC\n",
    "temp"
   ]
  },
  {
   "cell_type": "markdown",
   "metadata": {},
   "source": [
    "Now let's make our Skew-T with the [SkewT](https://unidata.github.io/MetPy/latest/api/generated/metpy.plots.SkewT.html) plotting command. We'll also add a Hodograph as an inset using metpy's [Hodograph()](https://unidata.github.io/MetPy/latest/api/generated/metpy.plots.Hodograph.html) and matplotlib's [inset_axes()](https://matplotlib.org/stable/api/_as_gen/matplotlib.axes.Axes.inset_axes.html):"
   ]
  },
  {
   "cell_type": "code",
   "execution_count": null,
   "metadata": {
    "tags": []
   },
   "outputs": [],
   "source": [
    "#Make the figure\n",
    "fig=plt.figure(figsize=(9, 9))\n",
    "#Set up the figure for plotting a skewT\n",
    "skew=mplots.SkewT(fig)\n",
    "\n",
    "#Plot the data\n",
    "skew.plot(p, temp, 'darkorange', linewidth=2) #plot the air temperature\n",
    "skew.plot(p, temp_dew, 'cornflowerblue', linewidth=2) #plot the dewpoint\n",
    "skew.plot_barbs(p,u,v) #add wind barbs on the side\n",
    "plt.gca().set_xlim(-50,50)\n",
    "plt.title('Skew-T at {}$\\degree$N {}$\\degree$E'.format(33,281));\n",
    "plt.xlabel('T ($\\degree$C)');\n",
    "plt.ylabel('Pressure (hPa)');\n",
    "\n",
    "# #add a hodograph\n",
    "# from mpl_toolkits.axes_grid1.inset_locator import inset_axes #for creating insets\n",
    "# #calculate windspeed\n",
    "# wspd=mpcalc.wind_speed(u,v)\n",
    "# axh=inset_axes(skew.ax, '50%', '50%', loc='upper right')\n",
    "# h=mplots.Hodograph(axh, component_range=80.)\n",
    "# h.add_grid(increment=20)\n",
    "# h.plot_colormapped(u, v, wspd)  # Plot a line colored by wind speed"
   ]
  },
  {
   "cell_type": "code",
   "execution_count": null,
   "metadata": {},
   "outputs": [],
   "source": []
  }
 ],
 "metadata": {
  "kernelspec": {
   "display_name": "Python [conda env:uw-fall-2024]",
   "language": "python",
   "name": "conda-env-uw-fall-2024-py"
  },
  "language_info": {
   "codemirror_mode": {
    "name": "ipython",
    "version": 3
   },
   "file_extension": ".py",
   "mimetype": "text/x-python",
   "name": "python",
   "nbconvert_exporter": "python",
   "pygments_lexer": "ipython3",
   "version": "3.11.10"
  }
 },
 "nbformat": 4,
 "nbformat_minor": 4
}
