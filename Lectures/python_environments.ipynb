{
 "cells": [
  {
   "cell_type": "markdown",
   "metadata": {},
   "source": [
    "<b><font size=20, color='#A020F0'>Python Environments"
   ]
  },
  {
   "cell_type": "markdown",
   "metadata": {},
   "source": [
    "Hannah Zanowski<br>\n",
    "9/13/24<br>"
   ]
  },
  {
   "cell_type": "markdown",
   "metadata": {},
   "source": [
    "#### <span style=\"color:green\">Learning Goals</span>\n",
    "By the end of this notebook you will\n",
    "1. Understand what a python environment is and how it works\n",
    "2. Be able to manage packages in your python environment\n",
    "3. Be able to create and share python environments"
   ]
  },
  {
   "cell_type": "markdown",
   "metadata": {},
   "source": [
    "#### Resources\n",
    "\n",
    "<b>Python package management</b><br>\n",
    "[Conda](https://conda.io/projects/conda/en/latest/user-guide/getting-started.html)<br>\n",
    "[pip](https://pip.pypa.io/en/stable/)<br>\n",
    "[mamba](https://mamba.readthedocs.io/en/latest/)<br>\n",
    "There are many more, but the first two are the most widely used\n",
    "\n",
    "<b>Downloading Python:</b><br>\n",
    "[Anaconda](https://www.anaconda.com/)<br>\n",
    "[Miniconda](https://docs.conda.io/en/latest/miniconda.html)<br>"
   ]
  },
  {
   "cell_type": "markdown",
   "metadata": {},
   "source": [
    "# What is a python environment?\n",
    "An environment is a self-contained set of python <b>modules</b> and <b>packages</b> that you can use to do your work. You can think of an environment like you do any other real-world environment, like your home or your office. In your home environment, you typically have a set of things that makes that environment home for you--your personal belongings, your family, etc. The same goes for your office--here maybe you have your workstation and other things for research like your textbooks, etc. Python environments more or less work the same way, except that instead of belongings and people, the various 'things' that make up a specific environment are the particular tools (in this case packages) that you want to use in that environment. Just like you move between home and work, you can switch between python environments as well!"
   ]
  },
  {
   "cell_type": "markdown",
   "metadata": {},
   "source": [
    "---"
   ]
  },
  {
   "cell_type": "markdown",
   "metadata": {},
   "source": [
    "# Packages"
   ]
  },
  {
   "cell_type": "markdown",
   "metadata": {},
   "source": [
    "Although the python standard library is useful, it doesn't contain very many things that we need to do our day-to-day work, and that's where packages come in. [Python packages](https://pypi.org/) are collections of code that allow you to do particular tasks, and there are a ton of them! You access the packages that exist in a particular python environment by _importing_ them: `import package_name`"
   ]
  },
  {
   "cell_type": "code",
   "execution_count": null,
   "metadata": {},
   "outputs": [],
   "source": [
    "import math"
   ]
  },
  {
   "cell_type": "markdown",
   "metadata": {},
   "source": [
    "---"
   ]
  },
  {
   "cell_type": "markdown",
   "metadata": {},
   "source": [
    "# Modules"
   ]
  },
  {
   "cell_type": "markdown",
   "metadata": {},
   "source": [
    "Modules make up the set of elements contained in a package, and they refer to the individual piece of code that make up an element of a package--things like functions, definitions, and statements. To access the _modules_ in a package you use the following syntax: `package_name.module_name`"
   ]
  },
  {
   "cell_type": "code",
   "execution_count": null,
   "metadata": {},
   "outputs": [],
   "source": [
    "#first try without the package name\n",
    "log(2)"
   ]
  },
  {
   "cell_type": "code",
   "execution_count": null,
   "metadata": {},
   "outputs": [],
   "source": [
    "#now with the package name\n",
    "math.log(2)"
   ]
  },
  {
   "cell_type": "markdown",
   "metadata": {},
   "source": [
    "You can create your own module by writing a python script that contains the code for that module and then importing it. Let's go through an example.\n",
    "\n",
    "First, open `addition.py` by clicking on it in the left pane. You'll see that ```addition.py``` contains a function to add two numbers togther.\n",
    "\n",
    "Import this module by importing the `name` of the `.py` file. The `name` is the part of the file before the `.py`: "
   ]
  },
  {
   "cell_type": "code",
   "execution_count": null,
   "metadata": {},
   "outputs": [],
   "source": [
    "import addition"
   ]
  },
  {
   "cell_type": "markdown",
   "metadata": {},
   "source": [
    "Once you've imported it, now you need to access the function itself to use it. If the function is called `add_two_numbers`, how would you read it in so you can use it?"
   ]
  },
  {
   "cell_type": "code",
   "execution_count": null,
   "metadata": {},
   "outputs": [],
   "source": []
  },
  {
   "cell_type": "markdown",
   "metadata": {},
   "source": [
    "Now it can get really annoying to type all of that out, so you can change the package name by using `import as`:"
   ]
  },
  {
   "cell_type": "code",
   "execution_count": null,
   "metadata": {},
   "outputs": [],
   "source": [
    "import addition as add"
   ]
  },
  {
   "cell_type": "code",
   "execution_count": null,
   "metadata": {},
   "outputs": [],
   "source": [
    "add.add_two_numbers(2,3)"
   ]
  },
  {
   "cell_type": "markdown",
   "metadata": {},
   "source": [
    "Or if you want, you can import the function directly. This is particularly useful if a package contains many modules but you only need one!"
   ]
  },
  {
   "cell_type": "code",
   "execution_count": null,
   "metadata": {},
   "outputs": [],
   "source": [
    "from addition import add_two_numbers"
   ]
  },
  {
   "cell_type": "code",
   "execution_count": null,
   "metadata": {},
   "outputs": [],
   "source": [
    "add_two_numbers(2,3)"
   ]
  },
  {
   "cell_type": "markdown",
   "metadata": {},
   "source": [
    "And you can even take that one step further by calling the function itself whatever you want when you load it into your name space"
   ]
  },
  {
   "cell_type": "code",
   "execution_count": null,
   "metadata": {},
   "outputs": [],
   "source": [
    "from addition import add_two_numbers as add2"
   ]
  },
  {
   "cell_type": "code",
   "execution_count": null,
   "metadata": {},
   "outputs": [],
   "source": [
    "add2(2,3)"
   ]
  },
  {
   "cell_type": "markdown",
   "metadata": {},
   "source": [
    "---"
   ]
  },
  {
   "cell_type": "markdown",
   "metadata": {},
   "source": [
    "# Package management and building python environments with conda"
   ]
  },
  {
   "cell_type": "markdown",
   "metadata": {},
   "source": [
    "So how do we collect a set of packages for a particular python environment and create that environment so we can use it? Say hello to [Conda](https://conda.io/projects/conda/en/latest/user-guide/getting-started.html)! Conda is the python package manager that comes standard with the anaconda and miniconda python distributions. Another is [pip](https://pip.pypa.io/en/stable/), which is often used when a package can't be installed by conda."
   ]
  },
  {
   "cell_type": "markdown",
   "metadata": {},
   "source": [
    "To see what version of conda we have type `conda --version` below:"
   ]
  },
  {
   "cell_type": "code",
   "execution_count": null,
   "metadata": {},
   "outputs": [],
   "source": []
  },
  {
   "cell_type": "markdown",
   "metadata": {},
   "source": [
    "### 1. Some useful package management commands\n",
    "\n",
    "You can install, uninstall, and update packages with conda using the following commands:<br>\n",
    "`conda install package_name`<br>\n",
    "`conda uninstall package_name`<br>\n",
    "`conda update package_name`<br>\n",
    "\n",
    "You can even update conda in this way with `conda update conda`\n",
    "\n",
    "#### <p style=\"border-width:3px; border-style:solid; border-color:#A020F0; background-color:#adf09e; padding: 1em;\"><b>Read more about conda package management commands [here](https://conda.io/projects/conda/en/latest/user-guide/getting-started.html#managing-pkgs). I recommend visiting this page--at the bottom there is a handy conda cheat sheet that you can download to help you remember the basics!</p>"
   ]
  },
  {
   "cell_type": "markdown",
   "metadata": {},
   "source": [
    "### 2. Some useful environment commands"
   ]
  },
  {
   "cell_type": "markdown",
   "metadata": {},
   "source": [
    "To see what environments are available on your system type `conda env list`"
   ]
  },
  {
   "cell_type": "code",
   "execution_count": null,
   "metadata": {},
   "outputs": [],
   "source": []
  },
  {
   "cell_type": "markdown",
   "metadata": {},
   "source": [
    ">To <b><font color='green'>activate</font></b> (use) a particular environment (at the command line): `conda activate environment_name`<br>\n",
    "To <b><font color='red'>deactivate</font></b> (leave) that particular environment and return to your `base` environment: `conda deactivate`<br>\n",
    "\n",
    "To list the packages in the current environment: `conda list`:"
   ]
  },
  {
   "cell_type": "code",
   "execution_count": null,
   "metadata": {
    "tags": []
   },
   "outputs": [],
   "source": []
  },
  {
   "cell_type": "markdown",
   "metadata": {},
   "source": [
    "### 3. Creating an environment\n",
    "\n",
    "There are many ways to [create a python environment](https://conda.io/projects/conda/en/latest/user-guide/tasks/manage-environments.html), but a common one is to [create an environment from a .yml file](https://conda.io/projects/conda/en/latest/user-guide/tasks/manage-environments.html#creating-an-environment-from-an-environment-yml-file). You can make one of these yourself by opening a text editor, adding in your packages, and saving it with the `.yml` extension. Open the `aos573_f23.yml` file in the ```Environments/``` directory in our course material repo to see what one of these looks like.\n",
    "\n",
    "Once you have an environment file in the command line run `conda env create -f your_environment.yml` and conda will take care of the rest (you may need to tell conda 'yes' a couple of times in order for it to proceed. It can also take conda a while to 'solve' your particular environment).\n",
    "\n",
    "Once the environment has been created you'll need to activate the environment with the commands above.\n",
    "\n",
    "><b>You should be able to create your own environments on the jupyterhub with these commands.</b> However, in order to use them in a notebook you need to run the following command in a terminal in order to add the environment to the list of jupyterhub environments that you have access to: `python -m ipykernel install --user --name=my-kernel` (here you need to replace 'my-kernel' with the name of your python environment) "
   ]
  },
  {
   "cell_type": "markdown",
   "metadata": {},
   "source": [
    "### 4. Sharing environments"
   ]
  },
  {
   "cell_type": "markdown",
   "metadata": {},
   "source": [
    "If you want to [export an environment to a .yml](https://conda.io/projects/conda/en/latest/user-guide/tasks/manage-environments.html#sharing-an-environment) file for sharing, activate the environment and then type `conda env export > your_environment.yml`\n",
    "\n",
    "This will be machine specific, so if you just want to export the packages in the environment so that it is machine agnostic use the ```--from-history``` flag: `conda env export --from-history > your_environment.yml`"
   ]
  },
  {
   "cell_type": "markdown",
   "metadata": {},
   "source": [
    "If you want to write out an [_exact_, machine-specific copy of the environment](https://conda.io/projects/conda/en/latest/user-guide/tasks/manage-environments.html#building-identical-conda-environments):\n",
    "`conda list --explicit > specific_platform_environment.txt`"
   ]
  }
 ],
 "metadata": {
  "kernelspec": {
   "display_name": "Python [conda env:uw-fall-2024]",
   "language": "python",
   "name": "conda-env-uw-fall-2024-py"
  },
  "language_info": {
   "codemirror_mode": {
    "name": "ipython",
    "version": 3
   },
   "file_extension": ".py",
   "mimetype": "text/x-python",
   "name": "python",
   "nbconvert_exporter": "python",
   "pygments_lexer": "ipython3",
   "version": "3.11.9"
  }
 },
 "nbformat": 4,
 "nbformat_minor": 4
}
