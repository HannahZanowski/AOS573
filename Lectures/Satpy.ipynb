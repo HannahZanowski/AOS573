{
 "cells": [
  {
   "cell_type": "markdown",
   "metadata": {},
   "source": [
    "<b><font size=20, color='#A020F0'>Satpy</font></b>"
   ]
  },
  {
   "cell_type": "markdown",
   "metadata": {},
   "source": [
    "Hannah Zanowski<br>\n",
    "12/2/24<br>"
   ]
  },
  {
   "cell_type": "markdown",
   "metadata": {},
   "source": [
    "#### <span style=\"color:green\">Learning Goals</span>\n",
    "By the end of this notebook you will\n",
    "1. Become familiar with the basic data structures in satpy\n",
    "2. Use satpy to read in and plot images of satellite data\n",
    "3. Practice other basic satellite data manipulation techniques such as compositing and resampling"
   ]
  },
  {
   "cell_type": "markdown",
   "metadata": {},
   "source": [
    "#### Resources\n",
    "[Satpy Documentation](https://satpy.readthedocs.io/en/stable/)<br>\n",
    "[Satpy API reference](https://satpy.readthedocs.io/en/stable/api/modules.html)<br>\n",
    "[goes2go](https://github.com/blaylockbk/goes2go)"
   ]
  },
  {
   "cell_type": "markdown",
   "metadata": {},
   "source": [
    "#### Acknowledgements\n",
    "This lecture draws from examples in the satpy documentation as well as a few provided online by D. Hoese."
   ]
  },
  {
   "cell_type": "markdown",
   "metadata": {},
   "source": [
    "# A little about Satpy"
   ]
  },
  {
   "cell_type": "markdown",
   "metadata": {},
   "source": [
    "Satpy is a package used for processing and manipulating meteorological remote sensing data and writing it to various file formats. Satpy was originally developed by [David Hoese](https://github.com/djhoese) (pronounced 'haze') and crew here in our building at the Space Science and Engineering Center. Like many packages, it uses xarray and dask under the hood.\n",
    "\n",
    "Satpy is part of [PyTroll](http://pytroll.github.io/), which is a broader python framework for visualizing Earth-observing satellite data! Many members of the PyTroll team have contributed to the development of satpy."
   ]
  },
  {
   "cell_type": "markdown",
   "metadata": {},
   "source": [
    "#### <font color='red'><b>BEFORE WE BEGIN WE NEED TO CHANGE OUR DEFAULT ENVIRONMENT</n></font>\n",
    "\n",
    "Now let's import some of the standard packages that we use (we'll import stuff for Satpy later):"
   ]
  },
  {
   "cell_type": "code",
   "execution_count": null,
   "metadata": {},
   "outputs": [],
   "source": [
    "import xarray as xr\n",
    "import numpy as np\n",
    "import matplotlib.pyplot as plt\n",
    "import cartopy.crs as ccrs\n",
    "import cartopy.feature as cfeature"
   ]
  },
  {
   "cell_type": "markdown",
   "metadata": {},
   "source": [
    "---"
   ]
  },
  {
   "cell_type": "markdown",
   "metadata": {},
   "source": [
    "## 1. GOES data"
   ]
  },
  {
   "cell_type": "markdown",
   "metadata": {},
   "source": [
    "In today's lecture we'll be working with data from [GOES (Geostationary Operational Environmental Satellites) satellites](https://www.nasa.gov/content/goes-overview/index.html).\n",
    "\n",
    "There are many different ways to look at GOES data, but here are a couple of neat ones:\n",
    "1. [NESDIS STAR GOES Image Viewer](https://www.star.nesdis.noaa.gov/goes/index.php)\n",
    "2. [RAMMB/CIRA Slider](https://rammb-slider.cira.colostate.edu/) (also through NESDIS)\n",
    "\n",
    "We actually have a couple of GOES receivers on our roof (the big dishes with Christmas lights on them, according to Pete), which seems appropriate for a building that is described as the \"birthplace of satellite meteorology.\"\n",
    "\n",
    "Data from GOES 16, 17, and 18 are available in a number of places including through [Amazon Web Services](https://registry.opendata.aws/noaa-goes/). You can also easily download GOES data using [goes2go](https://github.com/blaylockbk/goes2go) which is in our environment.\n",
    "\n",
    "If you're interested, here is a handy set of slides about [working with GOES data](https://www.goes-r.gov/downloads/resources/documents/Beginners_Guide_to_GOES-R_Series_Data.pdf)\n",
    "\n"
   ]
  },
  {
   "cell_type": "markdown",
   "metadata": {},
   "source": [
    "---"
   ]
  },
  {
   "cell_type": "markdown",
   "metadata": {},
   "source": [
    "## 2. Satpy"
   ]
  },
  {
   "cell_type": "markdown",
   "metadata": {},
   "source": [
    "### 2.1 Scene Objects\n",
    "The satpy [Scene](https://satpy.readthedocs.io/en/stable/api/satpy.scene.html#module-satpy.scene) class is the main way in which you interact with your satellite data. A satpy Scene is sort of like an xarray Dataset in that it is just a container that holds the data you are interested in. \n",
    "\n",
    "You need two pieces of information to set up a satpy Scene:\n",
    "1. A data reader\n",
    "2. A set of files to read\n",
    "    ><b><font color='red'>Note:</font> It is extremely important that the supplied files have kept their standard names  (i.e. the names should be what they were when you accessed/downloaded the data) otherwise the data reader will get upset </b>"
   ]
  },
  {
   "cell_type": "markdown",
   "metadata": {},
   "source": [
    "Here's how to create a scene from some GOES-18 data (specifically from the [level 1b radiance products](https://www.ncei.noaa.gov/access/metadata/landing-page/bin/iso?id=gov.noaa.ncdc:C01501) from the [Advanced Baseline Imager (ABI)](https://www.goes-r.gov/spacesegment/abi.html):"
   ]
  },
  {
   "cell_type": "code",
   "execution_count": null,
   "metadata": {},
   "outputs": [],
   "source": [
    "from satpy import Scene\n",
    "from glob import glob\n",
    "\n",
    "path='/share/Lecture_data/GOES18/'\n",
    "scn=Scene(reader='abi_l1b', filenames=glob(path+'OR_ABI*.nc'))"
   ]
  },
  {
   "cell_type": "markdown",
   "metadata": {},
   "source": [
    "Great! But what did we really do? Not all that much (yet). To look at our data and start working with it we'll need to load it, which we'll do after we talk a bit about data readers."
   ]
  },
  {
   "cell_type": "markdown",
   "metadata": {},
   "source": [
    "### 2.2 Readers\n",
    "satpy comes with a bunch of available data readers that are set up to read files in many different formats from many satellites! To see what readers are available, we can use `available_readers()`:"
   ]
  },
  {
   "cell_type": "code",
   "execution_count": null,
   "metadata": {},
   "outputs": [],
   "source": [
    "from satpy import available_readers\n",
    "available_readers()"
   ]
  },
  {
   "cell_type": "markdown",
   "metadata": {},
   "source": [
    "When we created our scene, we specified the data reader to be `abi_l1b`, which is the reader we need if we want to be able to interpret level 1b radiance data from the ABI on GOES-18."
   ]
  },
  {
   "cell_type": "markdown",
   "metadata": {},
   "source": [
    "### 2.3 Loading data for use"
   ]
  },
  {
   "cell_type": "markdown",
   "metadata": {},
   "source": [
    "Let's take a look at what \"datasets\" we have available in our scene. We can do this with [available_dataset_names()](https://satpy.readthedocs.io/en/stable/api/satpy.scene.html#satpy.scene.Scene.available_dataset_names)\n",
    "><b><font color='red'>Note:</font></b> Datasets in satpy are really the equivalent of xarray DataArrays. The closest equivalent of an xarray Dataset in satpy would be the scene you created."
   ]
  },
  {
   "cell_type": "code",
   "execution_count": null,
   "metadata": {},
   "outputs": [],
   "source": [
    "channels=scn.available_dataset_names()\n",
    "print(channels)"
   ]
  },
  {
   "cell_type": "markdown",
   "metadata": {},
   "source": [
    "You can also get slightly more information beyond the dataset name by using [available_dataset_ids()](https://satpy.readthedocs.io/en/stable/api/satpy.scene.html#satpy.scene.Scene.available_dataset_ids) instead:"
   ]
  },
  {
   "cell_type": "code",
   "execution_count": null,
   "metadata": {},
   "outputs": [],
   "source": [
    "scn.available_dataset_ids()"
   ]
  },
  {
   "cell_type": "markdown",
   "metadata": {},
   "source": [
    "Now load the channels you want using [scn.load()](https://satpy.readthedocs.io/en/stable/api/satpy.scene.html#satpy.scene.Scene.load).\n",
    "><b><font color='red'>Note:</font></b> Be _THOUGHTFUL_ about what you read in and load--satellite data can be ENORMOUS--that's why dask is such a critical part of satpy!\n",
    "\n",
    "In the examples in this lecture the data aren't too big, so we'll load all of the channels so we can make some interesting composites:"
   ]
  },
  {
   "cell_type": "code",
   "execution_count": null,
   "metadata": {},
   "outputs": [],
   "source": [
    "scn.load(channels)\n",
    "\n",
    "#Another way to choose data is by the wavelength of each channel, e.g.,:\n",
    "#scn.load([0.47, 0.64]) #channel wavelengths that you want"
   ]
  },
  {
   "cell_type": "markdown",
   "metadata": {},
   "source": [
    "You can also filter the channels you load by their calibration, resolution, etc:"
   ]
  },
  {
   "cell_type": "code",
   "execution_count": null,
   "metadata": {},
   "outputs": [],
   "source": [
    "scn.load(channels, calibration='radiance')"
   ]
  },
  {
   "cell_type": "markdown",
   "metadata": {},
   "source": [
    "You can access the channels that you loaded like you would access specific variables in an xarray dataset:"
   ]
  },
  {
   "cell_type": "markdown",
   "metadata": {},
   "source": [
    "#### Accessing measured values\n",
    "You probably noticed above that your data are automatically read in as dask arrays (we will learn more about dask in a few weeks). That means you won't be able to access the actual values of your data unless you either trigger a computation on the data (this can even be something like plotting), or if you append `.load()` to the data your are interested in. Another quick way to load your data into memory is by using `.values`, which we'll do below:\n",
    "\n",
    "><b><font color='red'>Note:</font></b> Be careful any of the above options will load all your data into memory! If you have a huge amount of data that will be a problem!"
   ]
  },
  {
   "cell_type": "code",
   "execution_count": null,
   "metadata": {},
   "outputs": [],
   "source": [
    "scn['C01'].values"
   ]
  },
  {
   "cell_type": "markdown",
   "metadata": {},
   "source": [
    "### 2.4 Basic visualization"
   ]
  },
  {
   "cell_type": "markdown",
   "metadata": {},
   "source": [
    "You can look at any of the channels from the ABI by using [scn.show()](https://satpy.readthedocs.io/en/stable/api/satpy.scene.html#satpy.scene.Scene.show). You can also use [scn.images()](https://satpy.readthedocs.io/en/stable/api/satpy.scene.html#satpy.scene.Scene.images) to generate images from all the datasets in your scene, but we won't do that here."
   ]
  },
  {
   "cell_type": "code",
   "execution_count": null,
   "metadata": {},
   "outputs": [],
   "source": [
    "scn.show('C08')"
   ]
  },
  {
   "cell_type": "markdown",
   "metadata": {},
   "source": [
    "Another option is to use matplotlib plotting commands like `pcolormesh()` or [imshow()](https://matplotlib.org/stable/api/_as_gen/matplotlib.pyplot.imshow.html#matplotlib-pyplot-imshow)"
   ]
  },
  {
   "cell_type": "code",
   "execution_count": null,
   "metadata": {},
   "outputs": [],
   "source": [
    "plt.imshow(scn['C08'])\n",
    "plt.colorbar(orientation='horizontal')"
   ]
  },
  {
   "cell_type": "markdown",
   "metadata": {},
   "source": [
    "#### Plotting with Cartopy"
   ]
  },
  {
   "cell_type": "markdown",
   "metadata": {},
   "source": [
    "You can plot your GOES data with cartopy as well. To help with this process, there is a handy function included in satpy called `to_cartopy_crs()` that reads the attributes of your specified data and turns that information into a cartopy crs!"
   ]
  },
  {
   "cell_type": "code",
   "execution_count": null,
   "metadata": {},
   "outputs": [],
   "source": [
    "crs=scn['C01'].attrs['area'].to_cartopy_crs()\n",
    "crs"
   ]
  },
  {
   "cell_type": "code",
   "execution_count": null,
   "metadata": {},
   "outputs": [],
   "source": [
    "#Set up the plot\n",
    "fig,ax=plt.subplots(subplot_kw={'projection':crs})\n",
    "#add coastlines\n",
    "ax.coastlines()\n",
    "ax.set_global()\n",
    "#make the plot using imshow\n",
    "plt.imshow(scn['C08'], transform=crs, extent=crs.bounds)\n",
    "cbar=plt.colorbar(orientation='horizontal')\n",
    "cbar.set_label('Radiance (K)')"
   ]
  },
  {
   "cell_type": "markdown",
   "metadata": {},
   "source": [
    "### 2.5 Resampling\n",
    "Resampling is useful when you want to compile data across channels that have varying resolution, like our GOES data!\n",
    "There are many [resampling options](https://satpy.readthedocs.io/en/stable/resample.html) available in satpy and they are typically used to resample all of your datasets onto a common area that you specify. \n",
    "\n",
    "A useful resampler is the 'native' resampler, which will allow you to resample your datasets onto the original or 'native' projection of the datasets.\n",
    "\n",
    "><b><font color='blue'>Note:</font></b> The default behavior of the native sampler is to sample onto the highest resolution _area_ across the datasets in your scene!"
   ]
  },
  {
   "cell_type": "markdown",
   "metadata": {},
   "source": [
    "First, let's figure out what the resolutions (i.e., we need shape of the datasets) are of our various channels:"
   ]
  },
  {
   "cell_type": "code",
   "execution_count": null,
   "metadata": {},
   "outputs": [],
   "source": [
    "for channel in channels:\n",
    "    print(channel, ':', scn[channel].shape)"
   ]
  },
  {
   "cell_type": "markdown",
   "metadata": {},
   "source": [
    "Now let's resample our datasets, but we'll tell the resampler to resample to the coarsest area instead of the finest:"
   ]
  },
  {
   "cell_type": "code",
   "execution_count": null,
   "metadata": {},
   "outputs": [],
   "source": [
    "scn_resampled=scn.resample(scn.coarsest_area(), resampler='native') #lowest res area"
   ]
  },
  {
   "cell_type": "markdown",
   "metadata": {},
   "source": [
    "Check that that did what we think it did:"
   ]
  },
  {
   "cell_type": "code",
   "execution_count": null,
   "metadata": {},
   "outputs": [],
   "source": [
    "for channel in channels:\n",
    "    print(channel, ':', scn_resampled[channel].shape)"
   ]
  },
  {
   "cell_type": "markdown",
   "metadata": {},
   "source": [
    "### 2.6 Composites\n",
    "You can make composite images by combining the data from multiple channels. To figure out what kinds of composites you can make in your scene you can use [available_composite_names()](https://satpy.readthedocs.io/en/stable/api/satpy.scene.html#satpy.scene.Scene.available_composite_names):"
   ]
  },
  {
   "cell_type": "code",
   "execution_count": null,
   "metadata": {},
   "outputs": [],
   "source": [
    "scn.available_composite_names()"
   ]
  },
  {
   "cell_type": "markdown",
   "metadata": {},
   "source": [
    "Let's try to load and plot the 'true_color' composite:"
   ]
  },
  {
   "cell_type": "code",
   "execution_count": null,
   "metadata": {},
   "outputs": [],
   "source": [
    "scn.load(['true_color'])"
   ]
  },
  {
   "cell_type": "markdown",
   "metadata": {},
   "source": [
    "Hmmmm, what happened? As I alluded to during the resampling and as the warning message above notes, if we want to make a composite, the datasets need to have the same areal resolution. So let's try to generate the composite using our resampled datasets instead:"
   ]
  },
  {
   "cell_type": "code",
   "execution_count": null,
   "metadata": {},
   "outputs": [],
   "source": [
    "scn_resampled.load(['true_color'])\n",
    "\n",
    "#You can load multiple composites at once\n",
    "#scn_resampled.load(['true_color','convection'])"
   ]
  },
  {
   "cell_type": "markdown",
   "metadata": {},
   "source": [
    "Great! Now let's make a plot:"
   ]
  },
  {
   "cell_type": "code",
   "execution_count": null,
   "metadata": {},
   "outputs": [],
   "source": [
    "scn_resampled.show('true_color')"
   ]
  },
  {
   "cell_type": "markdown",
   "metadata": {},
   "source": [
    "#### Try it!\n",
    "Take a moment to load a different composite from the list above and make an image of it"
   ]
  },
  {
   "cell_type": "code",
   "execution_count": null,
   "metadata": {},
   "outputs": [],
   "source": []
  },
  {
   "cell_type": "markdown",
   "metadata": {},
   "source": [
    "### 2.7 Saving output\n",
    "You can save your datasets in a number of different file formats. You will need to specify a data writer to do so. To see what [data writers](https://satpy.readthedocs.io/en/stable/writers.html#writers) are available in satpy use `available_writers()`\n",
    "\n",
    "><b><font color='blue'>Note:</font></b> The default writer is geotiff"
   ]
  },
  {
   "cell_type": "code",
   "execution_count": null,
   "metadata": {},
   "outputs": [],
   "source": [
    "from satpy import available_writers\n",
    "available_writers()"
   ]
  },
  {
   "cell_type": "markdown",
   "metadata": {},
   "source": [
    "You can save datasets using the [save_datasets](https://satpy.readthedocs.io/en/stable/api/satpy.scene.html#satpy.scene.Scene.save_datasets) method:"
   ]
  },
  {
   "cell_type": "code",
   "execution_count": null,
   "metadata": {},
   "outputs": [],
   "source": [
    "scn_resampled.save_datasets(datasets=['true_color'],filename='GOES18_resampled_truecolor.tiff')"
   ]
  },
  {
   "cell_type": "markdown",
   "metadata": {},
   "source": [
    "### 2.8 MultiScene\n",
    "[MultiScene objects](https://satpy.readthedocs.io/en/stable/multiscene.html#multiscene-experimental) are useful when you want to compile data from multiple times/multiple passes of a satellite, data from multiple satellites, or multiple products from the same satellite.\n",
    "\n",
    "><b><font color='red'>WARNING:</font></b> The MultiScene class is still in its infancy. That means it might not always be able to do what you want. Nevertheless, the functionality seems really cool, and it will be neat to see how this part of satpy develops as time passes.\n",
    "\n",
    "Before we use MultiScene, let's take a look at the data we'll be working with. It's data from GOES-16 Channel 2 (visible) on 28 Sept 2022, around the time that Hurricane Ian was making landfall in Florida. We'll read in one timestep of the data:"
   ]
  },
  {
   "cell_type": "code",
   "execution_count": null,
   "metadata": {},
   "outputs": [],
   "source": [
    "abi_path='/share/Lecture_data/GOES16/abi/'\n",
    "scn2=Scene(filenames=[abi_path+'OR_ABI-L1b-RadM1-M6C02_G16_s20222712000282_e20222712000339_c20222712000363.nc'],\n",
    "           reader='abi_l1b')\n",
    "scn2.load(['C02'])\n",
    "scn2.show('C02')"
   ]
  },
  {
   "cell_type": "markdown",
   "metadata": {},
   "source": [
    "There are two ways to read in files using MultiScene:\n",
    "1. You can create each scene separately and store them in a list that you provide to MultiScene\n",
    ">`MultiScene([scene1, scene2, scene3, ...])`\n",
    "2. Or you can use the [from_files()](https://satpy.readthedocs.io/en/stable/api/satpy.multiscene.html#satpy.multiscene.MultiScene.from_files) method that is a part of MultiScene:\n",
    "\n",
    "Below we'll use MultiScene to combine the GOES-16 Channel 02 data that we have using option 2:"
   ]
  },
  {
   "cell_type": "code",
   "execution_count": null,
   "metadata": {},
   "outputs": [],
   "source": [
    "from satpy import MultiScene"
   ]
  },
  {
   "cell_type": "code",
   "execution_count": null,
   "metadata": {},
   "outputs": [],
   "source": [
    "abi_path='/share/Lecture_data/GOES16/abi/'\n",
    "mscn=MultiScene.from_files(glob(abi_path+'OR*-RadM1*G16*.nc'),reader='abi_l1b')\n",
    "mscn.load(['C02'])"
   ]
  },
  {
   "cell_type": "markdown",
   "metadata": {},
   "source": [
    "Remember that like Scene, MultiScene is just a container, so if you want to actually be able to see your data like an xarray Dataset, it's not particularly straightforward. One way to do this is to use [blend()](https://satpy.readthedocs.io/en/stable/api/satpy.multiscene.html#satpy.multiscene.MultiScene.blend) to combine your time series data. This will return a a regular Scene object that has been expanded in time:"
   ]
  },
  {
   "cell_type": "code",
   "execution_count": null,
   "metadata": {},
   "outputs": [],
   "source": [
    "from satpy.multiscene import timeseries\n",
    "bscn=mscn.blend(blend_function=timeseries)\n",
    "bscn['C02']"
   ]
  },
  {
   "cell_type": "markdown",
   "metadata": {},
   "source": [
    "A nice way to visualize your time series data is to create an animation, which we will do below:"
   ]
  },
  {
   "cell_type": "code",
   "execution_count": null,
   "metadata": {},
   "outputs": [],
   "source": [
    "#Create the MultiScene\n",
    "mscn = MultiScene.from_files(glob(abi_path+'OR*-RadM1*G16*.nc'), reader='abi_l1b')\n",
    "#Load what you want\n",
    "mscn.load(['C02'])\n",
    "#Animate it\n",
    "mscn.save_animation('Ian.mp4', fps=5)"
   ]
  },
  {
   "cell_type": "markdown",
   "metadata": {},
   "source": [
    "This is what the above animation looks like:"
   ]
  },
  {
   "cell_type": "code",
   "execution_count": null,
   "metadata": {},
   "outputs": [],
   "source": [
    "from IPython.display import Video\n",
    "Video('Ian.mp4', width=480, height=480)"
   ]
  },
  {
   "cell_type": "markdown",
   "metadata": {},
   "source": [
    "---"
   ]
  }
 ],
 "metadata": {
  "kernelspec": {
   "display_name": "Python [conda env:uw-satpy-fall-2024]",
   "language": "python",
   "name": "conda-env-uw-satpy-fall-2024-py"
  },
  "language_info": {
   "codemirror_mode": {
    "name": "ipython",
    "version": 3
   },
   "file_extension": ".py",
   "mimetype": "text/x-python",
   "name": "python",
   "nbconvert_exporter": "python",
   "pygments_lexer": "ipython3",
   "version": "3.11.10"
  }
 },
 "nbformat": 4,
 "nbformat_minor": 4
}
