{
 "cells": [
  {
   "cell_type": "markdown",
   "metadata": {},
   "source": [
    "<b><font size=20, color='#A020F0'>Packaging Code"
   ]
  },
  {
   "cell_type": "markdown",
   "metadata": {},
   "source": [
    "Hannah Zanowski<br>\n",
    "11/1/21<br>"
   ]
  },
  {
   "cell_type": "markdown",
   "metadata": {},
   "source": [
    "#### Resources\n",
    "[Python Docstring conventions](https://www.python.org/dev/peps/pep-0257/)<br>\n",
    "[Python style guide](https://www.python.org/dev/peps/pep-0008/)<br>\n",
    "[Choosing a license](https://choosealicense.com/)<br>\n",
    "[Options for building a package using setuptools](https://setuptools.pypa.io/en/latest/setuptools.html)<br>\n",
    "[Pytest documentation](https://docs.pytest.org/en/latest/getting-started.html)"
   ]
  },
  {
   "cell_type": "markdown",
   "metadata": {},
   "source": [
    "#### Acknowledgements\n",
    "Special thanks to R. Abernathey's research computing class for providing much of the content in this lecture"
   ]
  },
  {
   "cell_type": "markdown",
   "metadata": {},
   "source": [
    "# A little about today's lecture"
   ]
  },
  {
   "cell_type": "markdown",
   "metadata": {},
   "source": [
    "When you find yourself using the same pieces of code over and over again, it might be time to think about turning these into modules that you can package and import into python. This option is less useful for a script that does a task that can only be used in a very specific context, so in today's lecture, we'll focus on an example that fits the former. We'll go through the module building process, the documentation, and the packaging step-by-step in class. The full example package structure and code is in the `make_cartopy_axis_circular` directory that you pulled in with today's lecture."
   ]
  },
  {
   "cell_type": "markdown",
   "metadata": {},
   "source": [
    "Let's begin by importing a few packages that we need:"
   ]
  },
  {
   "cell_type": "code",
   "execution_count": null,
   "metadata": {},
   "outputs": [],
   "source": [
    "import numpy as np\n",
    "import matplotlib.pyplot as plt\n",
    "import cartopy.crs as ccrs\n",
    "import matplotlib.path as mpath"
   ]
  },
  {
   "cell_type": "markdown",
   "metadata": {},
   "source": [
    "---"
   ]
  },
  {
   "cell_type": "markdown",
   "metadata": {},
   "source": [
    "## 1. Revisiting the last problem of Homework 3\n",
    "In HW3 I provided an example of how you can [make your cartopy polar stereographic plotting axes circular](https://scitools.org.uk/cartopy/docs/v0.15/examples/always_circular_stereo.html) instead of rectangular. Here is a snippet of the code that does so:\n",
    "\n",
    "```bash\n",
    "theta = np.linspace(0, 2*np.pi, 100)\n",
    "center, radius = [0.5, 0.5], 0.5\n",
    "verts = np.vstack([np.sin(theta), np.cos(theta)]).T\n",
    "circle = mpath.Path(verts * radius + center)\n",
    "circ_ax=axis.set_boundary(circle, transform=axis.transAxes)\n",
    "```"
   ]
  },
  {
   "cell_type": "markdown",
   "metadata": {},
   "source": [
    "Let's make a quick plot to be sure this works:"
   ]
  },
  {
   "cell_type": "code",
   "execution_count": null,
   "metadata": {},
   "outputs": [],
   "source": [
    "fig=plt.figure()\n",
    "ax=fig.add_subplot(111,projection=ccrs.SouthPolarStereo())\n",
    "#circular axis\n",
    "theta=np.linspace(0, 2*np.pi, 100)\n",
    "center, radius = [0.5, 0.5], 0.5\n",
    "verts = np.vstack([np.sin(theta), np.cos(theta)]).T\n",
    "circle = mpath.Path(verts * radius + center)\n",
    "circ_ax=ax.set_boundary(circle, transform=ax.transAxes)\n",
    "#add land and set ax extent\n",
    "ax.set_extent([-180,180,-90,-50],ccrs.PlateCarree())\n",
    "ax.coastlines()"
   ]
  },
  {
   "cell_type": "markdown",
   "metadata": {},
   "source": [
    "This is great, but it's pretty annoying to have to include the lines of code for making the plotting axis circular _every_ time we want to make a polar stereographic cartopy map. Instead, we can make this code a module (a function) so that we can import it and use it whenever we want. A simple version of the code would look something like this:\n",
    "\n",
    "```bash\n",
    "def make_ax_circular(axis):\n",
    "    theta = np.linspace(0, 2*np.pi, 100)\n",
    "    center, radius = [0.5, 0.5], 0.5\n",
    "    verts = np.vstack([np.sin(theta), np.cos(theta)]).T\n",
    "    circle = mpath.Path(verts * radius + center)\n",
    "    axis.set_boundary(circle, transform=axis.transAxes)\n",
    "    return axis\n",
    "```\n",
    "\n",
    "We could then copy this code to a .py file (just like you did in HW1!) and then import this function as need be. However, in order to be able to import this function, the .py file _must be_ in your current working directory, which is fine, but it isn't very helpful if you want to use this same code in other projects, etc. Rather than copying your .py file to all of your different projects (and risk having multiple versions strewn about) you can instead make your function a package that you can then put in your python environment so that it will always be accessible (as long as the environment that contains the package is active)."
   ]
  },
  {
   "cell_type": "markdown",
   "metadata": {},
   "source": [
    "---"
   ]
  },
  {
   "cell_type": "markdown",
   "metadata": {},
   "source": [
    "## 2. Making a module and packaging it\n",
    "\n",
    "If you're going to make a module and then package it for your own (and possibly others') use, your code must have appropriate documentation. That means...\n",
    "\n",
    "1) comments for parts of the code where it isn't immediately clear what the code is doing, and \n",
    "2) [docstrings](https://www.python.org/dev/peps/pep-0257/) that are properly formatted (docstrings explain what your code does). \n",
    "\n",
    "Properly formatted docstrings are especially important--following the right conventions means that other software can recognize them as such!"
   ]
  },
  {
   "cell_type": "markdown",
   "metadata": {},
   "source": [
    "### Circular cartopy axes round 2\n",
    "Here's an example of the `make_ax_circular` module above but with proper docstring formatting and better comments:"
   ]
  },
  {
   "cell_type": "code",
   "execution_count": null,
   "metadata": {},
   "outputs": [],
   "source": [
    "\"\"\"\n",
    "A python module for making cartopy polar stereographic plots\n",
    "with circular axes.\n",
    "\"\"\"\n",
    "import numpy as np\n",
    "import matplotlib.path as mpath\n",
    "\n",
    "def make_ax_circular(axis):\n",
    "    \"\"\" Make a cartopy plotting axis that is circular instead of rectangular.\n",
    "    See https://scitools.org.uk/cartopy/docs/v0.15/examples/always_circular_stereo.html\n",
    "    \n",
    "    PARAMETERS\n",
    "    ----------\n",
    "    axis : a cartopy.mpl.geoaxes instance\n",
    "    \n",
    "    RETURNS\n",
    "    ----------\n",
    "    axis : the same cartopy.mpl.geoaxes instance but now circular\n",
    "    \n",
    "    \"\"\"\n",
    "    \n",
    "    #Compute the angle\n",
    "    theta = np.linspace(0, 2*np.pi, 100)\n",
    "    \n",
    "    #Center and radius of the circle\n",
    "    center, radius = [0.5, 0.5], 0.5\n",
    "    \n",
    "    #Get the vertices of the points along the circle\n",
    "    verts = np.vstack([np.sin(theta), np.cos(theta)]).T\n",
    "    \n",
    "    #Create the circle line using the vertices, radius,\n",
    "    #and center of the circle\n",
    "    circle = mpath.Path(verts * radius + center)\n",
    "    \n",
    "    #Set the axis boundary to be the created circle\n",
    "    axis.set_boundary(circle, transform=axis.transAxes)\n",
    "    \n",
    "    return axis"
   ]
  },
  {
   "cell_type": "markdown",
   "metadata": {},
   "source": [
    "Now let's use the built-in `help()` function to tell as about the `make_ax_circular` module that we just created:"
   ]
  },
  {
   "cell_type": "code",
   "execution_count": null,
   "metadata": {},
   "outputs": [],
   "source": []
  },
  {
   "cell_type": "markdown",
   "metadata": {},
   "source": [
    "Cool! The help function knows to parse docstrings, and that's what it's been doing every time you use it to learn about a new module. now let's make sure our module works:"
   ]
  },
  {
   "cell_type": "code",
   "execution_count": null,
   "metadata": {},
   "outputs": [],
   "source": [
    "fig=plt.figure()\n",
    "ax=fig.add_subplot(111,projection=ccrs.SouthPolarStereo())\n",
    "#circular axis\n",
    "ax=make_ax_circular(ax)\n",
    "#add land and set ax extent\n",
    "ax.set_extent([-180,180,-90,-50],ccrs.PlateCarree())\n",
    "ax.coastlines()"
   ]
  },
  {
   "cell_type": "markdown",
   "metadata": {},
   "source": [
    "### Packaging your module\n",
    "When you're ready to package your code, you need to put it in a .py file and provide several other setup and initialization files as well. Packages are typically follow this very basic structure:\n",
    "\n",
    "- `README.md`   A readme explaining what this package does\n",
    "- `LICENSE`     A license that describes the terms under which your work can be reused! See [this licensing website](https://choosealicense.com/) for help\n",
    "- `environment.yml`    The python environment for using the package (its dependencies)\n",
    "- `requirements.txt`   Helps you set up your development environment with the right [package dependencies](https://pip.pypa.io/en/stable/user_guide/#requirements-files) \n",
    "- `setup.py`   The python [script that installs your package](https://pythonhosted.org/an_example_pypi_project/setuptools.html) so that you can use it in a python environment!\n",
    "- `make_ax_circular/__init__.py` This must be here in order for python to recognize that this is a package\n",
    "- `make_ax_circular/make_ax_circular.py` Here's where your actual module is!\n",
    "- `make_ax_circular/tests/__init__.py`   Same as `__init__.py` above, but for testing\n",
    "- `make_ax_circular/tests/test_make_ax_circular.py` A module that tests your make_ax_circular module"
   ]
  },
  {
   "cell_type": "markdown",
   "metadata": {},
   "source": [
    "#### `setup.py`\n",
    "A simple setup.py script for our make_ax_circular module might look something like this:"
   ]
  },
  {
   "cell_type": "raw",
   "metadata": {},
   "source": [
    "from setuptools import setup\n",
    "\n",
    "setup(name = \"make_ax_circular\",\n",
    "    version = \"0.0.1\",\n",
    "    author = \"Hannah Zanowski\",\n",
    "    packages=['make_ax_circular'],\n",
    "    install_requires=['numpy','matplotlib','cartopy'])"
   ]
  },
  {
   "cell_type": "markdown",
   "metadata": {},
   "source": [
    "If you want to install your package so that you can use it in your python environments you would run the following in the command line:\n",
    "`python setup.py install`\n",
    "\n",
    "Also, here is a decent article about better understanding the [difference between setup.py and requirements.txt](https://caremad.io/posts/2013/07/setup-vs-requirement/)"
   ]
  },
  {
   "cell_type": "markdown",
   "metadata": {},
   "source": [
    "#### `__init__.py`\n",
    "This can actually be blank, but it _must be_ in your `make_ax_circular` subdirectory so python can recognize it as a package!"
   ]
  },
  {
   "cell_type": "markdown",
   "metadata": {},
   "source": [
    "### Testing your module\n",
    "Tests are important to include in a package if you want to ensure that your code works properly! Python has a nice package called [pytest](https://docs.pytest.org/en/latest/getting-started.html) to help with this. Here's an example of what a test might look like for our `make_ax_circular` module:"
   ]
  },
  {
   "cell_type": "raw",
   "metadata": {},
   "source": [
    "import numpy as np\n",
    "import matplotlib.pyplot as plt\n",
    "import cartopy\n",
    "import cartopy.crs as ccrs\n",
    "import pytest\n",
    "\n",
    "from make_ax_circular.make_ax_circular import make_ax_circular\n",
    "\n",
    "def test_make_ax_circular():\n",
    "    #Check that we can't give the wrong type of axes\n",
    "    with pytest.raises(AttributeError):\n",
    "         make_ax_circular(plt.axes())\n",
    "         \n",
    "    #Check that we can't give the incorrect number of arguments\n",
    "    with pytest.raises(TypeError):\n",
    "         make_ax_circular(1,2)\n",
    " \n",
    "    #Check that the output is a cartopy.mpl.geoaxes instance\n",
    "    assert type(make_ax_circular(plt.axes(projection=ccrs.PlateCarree())))==cartopy.mpl.geoaxes.GeoAxesSubplot  "
   ]
  },
  {
   "cell_type": "markdown",
   "metadata": {},
   "source": [
    "You then run your tests in the test directory with `pytest -v`"
   ]
  },
  {
   "cell_type": "markdown",
   "metadata": {},
   "source": [
    "---"
   ]
  },
  {
   "cell_type": "markdown",
   "metadata": {},
   "source": [
    "## 3. Exploring a real-world example\n",
    "Although you have a very brief example of a python package setup in the `make_cartopy_axis_circular` directory provided with this lecture, it can be informative to see how this looks in practice with an actual python package. Let's take a look at the SSEC's [Polar2Grid](https://www.ssec.wisc.edu/software/polar2grid/) package."
   ]
  },
  {
   "cell_type": "markdown",
   "metadata": {},
   "source": [
    "---"
   ]
  }
 ],
 "metadata": {
  "kernelspec": {
   "display_name": "Python [conda env:AOS573_F21] *",
   "language": "python",
   "name": "conda-env-AOS573_F21-py"
  },
  "language_info": {
   "codemirror_mode": {
    "name": "ipython",
    "version": 3
   },
   "file_extension": ".py",
   "mimetype": "text/x-python",
   "name": "python",
   "nbconvert_exporter": "python",
   "pygments_lexer": "ipython3",
   "version": "3.7.10"
  }
 },
 "nbformat": 4,
 "nbformat_minor": 4
}
