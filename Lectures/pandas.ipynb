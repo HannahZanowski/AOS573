{
 "cells": [
  {
   "cell_type": "markdown",
   "metadata": {},
   "source": [
    "<b><font size=20, color='#A020F0'>Pandas"
   ]
  },
  {
   "cell_type": "markdown",
   "metadata": {},
   "source": [
    "Hannah Zanowski<br>\n",
    "9/30/24<br>"
   ]
  },
  {
   "cell_type": "markdown",
   "metadata": {},
   "source": [
    "#### <span style=\"color:green\">Learning Goals</span>\n",
    "By the end of this notebook you will\n",
    "1. Become familiar with the basic data structures in Pandas and how to create them\n",
    "2. Practice reading in data and doing computations on dataframes"
   ]
  },
  {
   "cell_type": "markdown",
   "metadata": {},
   "source": [
    "#### Resources\n",
    "[Pandas website](https://pandas.pydata.org/)<br>\n",
    "[Pandas Documentation](https://pandas.pydata.org/docs/)<br>\n",
    "[Pandas API reference](https://pandas.pydata.org/docs/reference/index.html#)<br>"
   ]
  },
  {
   "cell_type": "markdown",
   "metadata": {},
   "source": [
    "# A little about pandas"
   ]
  },
  {
   "cell_type": "markdown",
   "metadata": {},
   "source": [
    "Pandas is a glorious library for working with tabular data. It relies on high-level data structures and comes with a huge set of useful analysis tools, including easily reading in .txt and .csv files. Pandas uses label-based indexing that makes working with data much more streamlined and easier to understand."
   ]
  },
  {
   "cell_type": "markdown",
   "metadata": {},
   "source": [
    "Let's begin by importing pandas (and a few of our other favorites):"
   ]
  },
  {
   "cell_type": "code",
   "execution_count": null,
   "metadata": {},
   "outputs": [],
   "source": [
    "import pandas as pd\n",
    "import numpy as np\n",
    "import matplotlib.pyplot as plt\n",
    "import datetime"
   ]
  },
  {
   "cell_type": "markdown",
   "metadata": {},
   "source": [
    "---"
   ]
  },
  {
   "cell_type": "markdown",
   "metadata": {},
   "source": [
    "## 1. Creating a pandas series\n",
    "[Series](https://pandas.pydata.org/docs/reference/api/pandas.Series.html) objects are a core data structure in pandas. A series is much like a 1D numpy ndarray, except that there is a labeled index associated with the values in the series. Like all things python, there are many ways to [create a pandas series](https://pandas.pydata.org/pandas-docs/stable/user_guide/dsintro.html#series). Below, we'll create one from scratch:"
   ]
  },
  {
   "cell_type": "code",
   "execution_count": null,
   "metadata": {},
   "outputs": [],
   "source": [
    "#Create a pandas series from scratch\n",
    "#data is the data in the series; index is the name via which we access the data--this can be numerical\n",
    "animal_counts=pd.Series(data=[10,8,22,1,17,6,3,0], \n",
    "                      index=['Dog','Cat','Bird','Alligator',\n",
    "                             'Giraffe','Lion','Bear','Penguin'])"
   ]
  },
  {
   "cell_type": "code",
   "execution_count": null,
   "metadata": {},
   "outputs": [],
   "source": [
    "animal_counts"
   ]
  },
  {
   "cell_type": "markdown",
   "metadata": {},
   "source": [
    "## 2. Working with series"
   ]
  },
  {
   "cell_type": "markdown",
   "metadata": {},
   "source": [
    "### Accessing the data\n",
    "You can access series data by using [.loc[]](https://pandas.pydata.org/docs/reference/api/pandas.DataFrame.loc.html) or [.iloc[]](https://pandas.pydata.org/docs/reference/api/pandas.DataFrame.iloc.html). The first allows you to retrieve a value based on the named index, and the second allows you to retrieve a value based on an integer index (like we use in numpy arrays)"
   ]
  },
  {
   "cell_type": "code",
   "execution_count": null,
   "metadata": {},
   "outputs": [],
   "source": [
    "animal_counts.loc['Cat']"
   ]
  },
  {
   "cell_type": "code",
   "execution_count": null,
   "metadata": {},
   "outputs": [],
   "source": [
    "animal_counts.iloc[1]"
   ]
  },
  {
   "cell_type": "markdown",
   "metadata": {},
   "source": [
    "If you want to access _only_ the data:"
   ]
  },
  {
   "cell_type": "code",
   "execution_count": null,
   "metadata": {},
   "outputs": [],
   "source": [
    "animal_counts.values"
   ]
  },
  {
   "cell_type": "markdown",
   "metadata": {},
   "source": [
    "If you want to access only the index:"
   ]
  },
  {
   "cell_type": "code",
   "execution_count": null,
   "metadata": {},
   "outputs": [],
   "source": [
    "animal_counts.index"
   ]
  },
  {
   "cell_type": "markdown",
   "metadata": {},
   "source": [
    "### Doing computations\n",
    "You can apply most numpy functions to pandas series without any issue. The best part is that your index will be preserved!"
   ]
  },
  {
   "cell_type": "code",
   "execution_count": null,
   "metadata": {},
   "outputs": [],
   "source": [
    "animal_counts.shape"
   ]
  },
  {
   "cell_type": "code",
   "execution_count": null,
   "metadata": {},
   "outputs": [],
   "source": [
    "#Standardize animal_counts\n",
    "(animal_counts-np.mean(animal_counts))/np.std(animal_counts,ddof=1)"
   ]
  },
  {
   "cell_type": "markdown",
   "metadata": {},
   "source": [
    "---"
   ]
  },
  {
   "cell_type": "markdown",
   "metadata": {},
   "source": [
    "## 3. Creating a pandas dataframe\n",
    "[DataFrame](https://pandas.pydata.org/docs/reference/api/pandas.DataFrame.html#pandas-dataframe) objects are another core data structure in pandas. A dataframe is basically a 2D container for a collection of series with the same index. You can do computations across the columns of a dataframe, and you can think of it like a spreadsheet or any other table of data. Like series, there are many ways to [create a pandas dataframe](https://pandas.pydata.org/docs/user_guide/dsintro.html#dataframe)."
   ]
  },
  {
   "cell_type": "markdown",
   "metadata": {},
   "source": [
    "As an example, let's create a pandas dataframe using a dictionary:"
   ]
  },
  {
   "cell_type": "code",
   "execution_count": null,
   "metadata": {},
   "outputs": [],
   "source": [
    "#Create example data for our dataframe\n",
    "#syntex is 'column name': values\n",
    "class_data = {'quarter':[1,3,4],\n",
    "        'year':[2015,2014,2019],\n",
    "        'enrollment':[200,np.nan,85],\n",
    "        'prev_enrollment':[150,10,102]}\n",
    "#Create the dataframe by supplying the data and an index!\n",
    "df = pd.DataFrame(class_data, index=['AOS100', 'AOS742', 'AOS384'])\n",
    "df"
   ]
  },
  {
   "cell_type": "markdown",
   "metadata": {},
   "source": [
    "You can extract summary information about a pandas dataframe with `.info()`:"
   ]
  },
  {
   "cell_type": "code",
   "execution_count": null,
   "metadata": {},
   "outputs": [],
   "source": [
    "df.info()"
   ]
  },
  {
   "cell_type": "markdown",
   "metadata": {},
   "source": [
    "You can also extract summary statistics from a dataframe with `.describe()`:"
   ]
  },
  {
   "cell_type": "code",
   "execution_count": null,
   "metadata": {},
   "outputs": [],
   "source": [
    "df.describe()"
   ]
  },
  {
   "cell_type": "markdown",
   "metadata": {},
   "source": [
    "---"
   ]
  },
  {
   "cell_type": "markdown",
   "metadata": {},
   "source": [
    "## 4. Accessing data in a pandas dataframe\n",
    "You can access data in a dataframe with index labels or index numbers like we used before, and you can access entire columns with column names"
   ]
  },
  {
   "cell_type": "code",
   "execution_count": null,
   "metadata": {},
   "outputs": [],
   "source": [
    "#access a row\n",
    "df.loc['AOS100']"
   ]
  },
  {
   "cell_type": "code",
   "execution_count": null,
   "metadata": {},
   "outputs": [],
   "source": [
    "#access a column\n",
    "df['enrollment']\n",
    "#or \n",
    "#df.enrollment"
   ]
  },
  {
   "cell_type": "code",
   "execution_count": null,
   "metadata": {},
   "outputs": [],
   "source": [
    "#Access more than one column:\n",
    "df[['quarter','enrollment']]"
   ]
  },
  {
   "cell_type": "markdown",
   "metadata": {},
   "source": [
    "---"
   ]
  },
  {
   "cell_type": "markdown",
   "metadata": {},
   "source": [
    "### <font color='blue'>Class Question:</font>\n",
    "How would you access data in two different, non-consecutive rows at the same time?"
   ]
  },
  {
   "cell_type": "code",
   "execution_count": null,
   "metadata": {},
   "outputs": [],
   "source": []
  },
  {
   "cell_type": "markdown",
   "metadata": {},
   "source": [
    "---"
   ]
  },
  {
   "cell_type": "markdown",
   "metadata": {},
   "source": [
    "### Filtering based on boolean operators\n",
    "You can filter your datasets based on conditions"
   ]
  },
  {
   "cell_type": "code",
   "execution_count": null,
   "metadata": {},
   "outputs": [],
   "source": [
    "df[df.prev_enrollment>50]"
   ]
  },
  {
   "cell_type": "markdown",
   "metadata": {},
   "source": [
    "### Filtering with .where()\n",
    "Pandas' [where()](https://pandas.pydata.org/docs/reference/api/pandas.DataFrame.where.html) is another really useful tool for filtering.\n",
    "<blockquote>\n",
    "<b><font color='red'>NOTE:</font></b> It only works when all of the columns are the same datatype!\n",
    "</blockquote>"
   ]
  },
  {
   "cell_type": "code",
   "execution_count": null,
   "metadata": {},
   "outputs": [],
   "source": [
    "df.where(df.quarter<2) #condition; default is to fill everything that does not meet that condition with nan!"
   ]
  },
  {
   "cell_type": "markdown",
   "metadata": {},
   "source": [
    "---"
   ]
  },
  {
   "cell_type": "markdown",
   "metadata": {},
   "source": [
    "## 5. Creating new columns, merging data, and reindexing\n",
    "\n",
    "What if you want to add data to your dataframe? It's pretty straightforward! Just use the new column name that you want and supply some data:"
   ]
  },
  {
   "cell_type": "code",
   "execution_count": null,
   "metadata": {},
   "outputs": [],
   "source": [
    "#Create a new column in our dataframe\n",
    "df['enrollment_change'] = (df.enrollment-df.prev_enrollment)/df.prev_enrollment\n",
    "df"
   ]
  },
  {
   "cell_type": "markdown",
   "metadata": {},
   "source": [
    "Here's another way:"
   ]
  },
  {
   "cell_type": "code",
   "execution_count": null,
   "metadata": {},
   "outputs": [],
   "source": [
    "#Create a new column separately and merge into our dataframe\n",
    "instructor=pd.Series(['Rick', 'Morty', None ],\n",
    "                     index=['AOS100', 'AOS742', 'AOS384'],\n",
    "                     name='instructor')\n",
    "# returns a new DataFrame\n",
    "df=df.join(instructor)\n",
    "df"
   ]
  },
  {
   "cell_type": "markdown",
   "metadata": {},
   "source": [
    "Adding another row is straightforward too--we can do this by reindexing:"
   ]
  },
  {
   "cell_type": "code",
   "execution_count": null,
   "metadata": {},
   "outputs": [],
   "source": [
    "#Add another index (in our case another class) to the dataframe\n",
    "df=df.reindex(index=['AOS100', 'AOS742', 'AOS384', 'AOS121'])\n",
    "df"
   ]
  },
  {
   "cell_type": "markdown",
   "metadata": {},
   "source": [
    "## 6. Setting data in a dataframe\n",
    "You can use [at[]](https://pandas.pydata.org/docs/reference/api/pandas.DataFrame.at.html) or [iat[]](https://pandas.pydata.org/pandas-docs/stable/reference/api/pandas.DataFrame.iat.html) to set values in a dataframe:"
   ]
  },
  {
   "cell_type": "code",
   "execution_count": null,
   "metadata": {},
   "outputs": [],
   "source": [
    "#Assign data to some of the columns\n",
    "df.at['AOS121','quarter']=2\n",
    "df"
   ]
  },
  {
   "cell_type": "markdown",
   "metadata": {},
   "source": [
    "You can also set data in place using conditions:"
   ]
  },
  {
   "cell_type": "code",
   "execution_count": null,
   "metadata": {},
   "outputs": [],
   "source": [
    "#Create a subset of the dataframe to work on for this example\n",
    "df_new=df.drop(columns='instructor')\n",
    "\n",
    "#Make a condition based on enrollment\n",
    "df_new[df_new.enrollment>50]=-50"
   ]
  },
  {
   "cell_type": "code",
   "execution_count": null,
   "metadata": {},
   "outputs": [],
   "source": [
    "df_new"
   ]
  },
  {
   "cell_type": "markdown",
   "metadata": {},
   "source": [
    "---"
   ]
  },
  {
   "cell_type": "markdown",
   "metadata": {},
   "source": [
    "## 7. Reading in data\n",
    "Pandas can [read in all sorts](https://pandas.pydata.org/pandas-docs/stable/user_guide/io.html) of tabular data (csv, excel, even stuff from your local clipboard!!). Let's use pandas to read in our Niño3.4 data from the first in-class notebook. If you don't remember where it is just go ahead and download it again:\n",
    "\n",
    "```bash\n",
    "!curl -O https://www.cpc.ncep.noaa.gov/products/analysis_monitoring/ensostuff/detrend.nino34.ascii.txt\n",
    "```\n",
    "\n",
    "We'll read in our data using [read_csv()](https://pandas.pydata.org/pandas-docs/stable/reference/api/pandas.read_csv.html#pandas.read_csv)"
   ]
  },
  {
   "cell_type": "code",
   "execution_count": null,
   "metadata": {},
   "outputs": [],
   "source": [
    "!curl -O https://www.cpc.ncep.noaa.gov/products/analysis_monitoring/ensostuff/detrend.nino34.ascii.txt"
   ]
  },
  {
   "cell_type": "code",
   "execution_count": null,
   "metadata": {},
   "outputs": [],
   "source": [
    "df_n34=pd.read_csv('detrend.nino34.ascii.txt',sep='\\s+') #sep is the separator between data entries\n",
    "df_n34.tail() #default is to show only 5 rows; you can change this by providing a different argument to the function"
   ]
  },
  {
   "cell_type": "markdown",
   "metadata": {},
   "source": [
    "---"
   ]
  },
  {
   "cell_type": "markdown",
   "metadata": {},
   "source": [
    "### <font color='blue'>Class Question:</b>\n",
    "\n",
    "How would you access the row corresponding to May 2021?"
   ]
  },
  {
   "cell_type": "code",
   "execution_count": null,
   "metadata": {},
   "outputs": [],
   "source": []
  },
  {
   "cell_type": "markdown",
   "metadata": {},
   "source": [
    "---"
   ]
  },
  {
   "cell_type": "markdown",
   "metadata": {},
   "source": [
    "In the above case we didn't set an index (so it's just a number), but we could set whatever index we want, including one of the data columns. Let's create our own index called 'date' using pandas' [to_datetime()](https://pandas.pydata.org/docs/reference/api/pandas.to_datetime.html) function. `to_datetime()` can make datetime objects out of columns of a pandas dataframe, but the columns need to be named 'year', 'month' etc for pandas to be able to recognize them as years and months. So let's rename our 'YR' and 'MON' dataframe columns to reflect this:"
   ]
  },
  {
   "cell_type": "code",
   "execution_count": null,
   "metadata": {},
   "outputs": [],
   "source": [
    "df_n34=df_n34.rename(columns={'YR':'year','MON':'month'}) #rename syntax"
   ]
  },
  {
   "cell_type": "code",
   "execution_count": null,
   "metadata": {},
   "outputs": [],
   "source": [
    "df_n34.columns #check that we did what we think we did"
   ]
  },
  {
   "cell_type": "markdown",
   "metadata": {},
   "source": [
    "Now let's create a new datetime index and use the date as the index:"
   ]
  },
  {
   "cell_type": "code",
   "execution_count": null,
   "metadata": {},
   "outputs": [],
   "source": [
    "#Make the new index\n",
    "new_index=pd.to_datetime(df_n34[['year', 'month']].assign(days=np.ones(len(df_n34.ANOM.values)))) \n",
    "#datetime needs days to work, so we'll use the first of the month because we don't have day info\n",
    "new_index"
   ]
  },
  {
   "cell_type": "markdown",
   "metadata": {},
   "source": [
    "Now we can set the index using [set_index()](https://pandas.pydata.org/docs/reference/api/pandas.DataFrame.set_index.html):"
   ]
  },
  {
   "cell_type": "code",
   "execution_count": null,
   "metadata": {},
   "outputs": [],
   "source": [
    "#Set the index to be new_index\n",
    "df_n34=df_n34.set_index(new_index)\n",
    "df_n34"
   ]
  },
  {
   "cell_type": "markdown",
   "metadata": {},
   "source": [
    "We can now access values by the date index that we created (<b>notice how we use .loc instead of .iloc here</b>):"
   ]
  },
  {
   "cell_type": "code",
   "execution_count": null,
   "metadata": {},
   "outputs": [],
   "source": [
    "df_n34.loc['1997']"
   ]
  },
  {
   "cell_type": "markdown",
   "metadata": {},
   "source": [
    "We aren't going to use the ClimAdjust column here, so let's get rid of it using [drop()](https://pandas.pydata.org/docs/reference/api/pandas.DataFrame.drop.html):"
   ]
  },
  {
   "cell_type": "code",
   "execution_count": null,
   "metadata": {},
   "outputs": [],
   "source": [
    "df_n34=df_n34.drop(columns=['ClimAdjust'])\n",
    "df_n34"
   ]
  },
  {
   "cell_type": "markdown",
   "metadata": {},
   "source": [
    "---"
   ]
  },
  {
   "cell_type": "markdown",
   "metadata": {},
   "source": [
    "## 8. Doing computations on your dataframe\n",
    "Let's revisit some of what we did in the first in-class notebook to (hopefully) show you how doing computations in pandas is much more intuitive than using unlabeled numpy arrays!"
   ]
  },
  {
   "cell_type": "markdown",
   "metadata": {},
   "source": [
    "Now let's get the start and end dates of df_n34:"
   ]
  },
  {
   "cell_type": "code",
   "execution_count": null,
   "metadata": {},
   "outputs": [],
   "source": [
    "#print start and end dates of the dataframe\n",
    "print(df_n34.index[0])\n",
    "print(df_n34.index[-1])\n",
    "\n",
    "#or \n",
    "#df_n34.info()"
   ]
  },
  {
   "cell_type": "markdown",
   "metadata": {},
   "source": [
    "Grabbing data by date range is also much simpler:"
   ]
  },
  {
   "cell_type": "code",
   "execution_count": null,
   "metadata": {},
   "outputs": [],
   "source": [
    "#Get the subset of Niño3.4 SST anomaly data that covers the same date range as the SOI data\n",
    "df_n34.loc['1951-01':'2023-12']"
   ]
  },
  {
   "cell_type": "markdown",
   "metadata": {},
   "source": [
    "### Counting\n",
    "You can count the number of non-nan elements in the columns of a DataFrame with [count()](https://pandas.pydata.org/docs/reference/api/pandas.DataFrame.count.html) and you can retrieve counts of unique items in a pandas Series with [value_counts()](https://pandas.pydata.org/pandas-docs/stable/reference/api/pandas.Series.value_counts.html)"
   ]
  },
  {
   "cell_type": "code",
   "execution_count": null,
   "metadata": {},
   "outputs": [],
   "source": [
    "df_n34.count() #apply to dataframe"
   ]
  },
  {
   "cell_type": "code",
   "execution_count": null,
   "metadata": {},
   "outputs": [],
   "source": [
    "df_n34.month.value_counts() #apply to a Series object"
   ]
  },
  {
   "cell_type": "markdown",
   "metadata": {},
   "source": [
    "### Groupby"
   ]
  },
  {
   "cell_type": "markdown",
   "metadata": {},
   "source": [
    "Pandas' [groupby](https://pandas.pydata.org/docs/reference/api/pandas.DataFrame.groupby.html) functionality is also really powerful. It allows you to group data based on a condition that you provide. You can then do computations on the resulting groups. A common use of groupby is grouping by time like we'll do below, but you can use groupby in many other ways as well, as long as it makes sense for your data!\n",
    "\n",
    "As an example, we'll use `groupby()` to create a monthly climatology for our Niño3.4 SSTs from Jan 2000 to Dec 2022:"
   ]
  },
  {
   "cell_type": "code",
   "execution_count": null,
   "metadata": {},
   "outputs": [],
   "source": [
    "#First get the dates we want:\n",
    "n34_2000_2023=df_n34.TOTAL.loc['2000-01':'2023-12']\n",
    "\n",
    "#Then use groupby to group the same months together, and then take the mean over all of the years\n",
    "n34_climo=n34_2000_2023.groupby(n34_2000_2023.index.month).mean()\n",
    "\n",
    "n34_climo"
   ]
  },
  {
   "cell_type": "markdown",
   "metadata": {},
   "source": [
    "### Resampling\n",
    "\n",
    "Pandas' [resample()](https://pandas.pydata.org/docs/reference/api/pandas.DataFrame.resample.html) function is useful for resampling time series. \n",
    "><b><font color='red'>Note:</font></b> For resample to work properly, your dataframe _must_ have a datetime-like index!\n",
    "\n",
    "For this example, we'll downsample the Niño3.4 SST anomalies from monthly output to annual output (note that in this case you could just use groupby to get the same result):"
   ]
  },
  {
   "cell_type": "code",
   "execution_count": null,
   "metadata": {},
   "outputs": [],
   "source": [
    "n34_ann=df_n34.ANOM.resample('YS').mean() #'YS' means annual\n",
    "n34_ann.head()"
   ]
  },
  {
   "cell_type": "markdown",
   "metadata": {},
   "source": [
    "## 8. Plotting data\n",
    "Pandas has a number of basic [built-in plotting options](https://pandas.pydata.org/pandas-docs/stable/user_guide/visualization.html) for visualizing your data. You can also plot pandas data using matplotlib, etc.\n",
    "\n",
    "Let's start by plotting the Niño3.4 SST anomalies using built-in plotting commands:"
   ]
  },
  {
   "cell_type": "code",
   "execution_count": null,
   "metadata": {},
   "outputs": [],
   "source": [
    "#Plot Niño3.4 SST anomalies using built-in plotting\n",
    "line=df_n34['ANOM'].plot(title='Niño3.4 SST anomalies');\n",
    "line.set_xlabel('Time (years)')\n",
    "line.set_ylabel('SST anomaly ($\\degree$C)')\n",
    "\n",
    "#Add the annual means too, for fun\n",
    "n34_ann.plot();"
   ]
  },
  {
   "cell_type": "markdown",
   "metadata": {},
   "source": [
    "Now let's plot the anomalies using matplotlib. Notice how we don't need to create our own time axis like we had to in the first notebook when we were using raw numpy arrays! This is because we created a `DatetimeIndex` for our data."
   ]
  },
  {
   "cell_type": "code",
   "execution_count": null,
   "metadata": {},
   "outputs": [],
   "source": [
    "#Plot Niño3.4 SST anomalies using matplotlib\n",
    "fig,ax=plt.subplots()\n",
    "fig.set_size_inches(10,3)\n",
    "ax.plot(df_n34['ANOM'],color='0.5',lw=1)\n",
    "plt.title('Niño3.4 SST anomalies')\n",
    "plt.xlabel('Time (years)')\n",
    "plt.ylabel('SST anomaly ($\\degree$C)');\n",
    "ax.set_xlim(df_n34.index[0],df_n34.index[-1]) #OR ax.set_xlim([datetime.date(1950,1,1),datetime.date(2022,1,1)])\n",
    "\n",
    "#plot the resampled data as well\n",
    "ax.plot(n34_ann,color='k',lw=2)"
   ]
  },
  {
   "cell_type": "markdown",
   "metadata": {},
   "source": [
    "Let's make a histogram of the monthly Niño3.4 SST anomalies:"
   ]
  },
  {
   "cell_type": "code",
   "execution_count": null,
   "metadata": {},
   "outputs": [],
   "source": [
    "df_n34.ANOM.hist(bins=np.arange(-2.25,2.26,0.5),color='navy',ec='goldenrod',grid=False);\n",
    "#bins here are the bin edges!\n",
    "#color is the color of the bins\n",
    "#ec is the edgecolor of the bins"
   ]
  }
 ],
 "metadata": {
  "kernelspec": {
   "display_name": "Python [conda env:uw-fall-2024]",
   "language": "python",
   "name": "conda-env-uw-fall-2024-py"
  },
  "language_info": {
   "codemirror_mode": {
    "name": "ipython",
    "version": 3
   },
   "file_extension": ".py",
   "mimetype": "text/x-python",
   "name": "python",
   "nbconvert_exporter": "python",
   "pygments_lexer": "ipython3",
   "version": "3.11.10"
  }
 },
 "nbformat": 4,
 "nbformat_minor": 4
}
