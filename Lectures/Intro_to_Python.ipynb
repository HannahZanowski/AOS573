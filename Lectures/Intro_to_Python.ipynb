{
 "cells": [
  {
   "cell_type": "markdown",
   "metadata": {},
   "source": [
    "<b><font size=20, color='#A020F0'>Introduction to Python</font></b>"
   ]
  },
  {
   "cell_type": "markdown",
   "metadata": {},
   "source": [
    "Hannah Zanowski<br>\n",
    "9/11/24<br>"
   ]
  },
  {
   "cell_type": "markdown",
   "metadata": {},
   "source": [
    "#### <span style=\"color:green\">Learning Goals</span>\n",
    "By the end of this notebook you will\n",
    "1. Learn the basic functions of the python standard library\n",
    "2. Become familiar with the basic data structures in python and how to create them\n",
    "3. Practice flow control statements, functions, and timing code"
   ]
  },
  {
   "cell_type": "markdown",
   "metadata": {},
   "source": [
    "#### Resources\n",
    "\n",
    "<b>Learning about Python:</b><br>\n",
    "[Python Documentation](https://docs.python.org/3/)<br>\n",
    "[Official Python Tutorial](https://docs.python.org/3/tutorial/)<br>\n",
    "[The Python Standard Library](https://docs.python.org/3/library/index.html#library-index) (Built-in functions, etc)<br>\n",
    "[The Python Language Reference](https://docs.python.org/3/reference/index.html#reference-index) (Python syntax/semantics)<br>\n",
    "[Python Website](https://www.python.org/)<br>\n",
    "[NCAR Python Tutorial Github Repository](https://github.com/NCAR/ncar-python-tutorial.git)<br>\n",
    "\n",
    "\n",
    "<b>Downloading Python:</b><br>\n",
    "[Anaconda](https://www.anaconda.com/)<br>\n",
    "[Miniconda](https://docs.conda.io/en/latest/miniconda.html)<br>"
   ]
  },
  {
   "cell_type": "markdown",
   "metadata": {},
   "source": [
    "#### Acknowledgements\n",
    "This lecture is heavily adapted from the official python tutorial and the NCAR python tutorial"
   ]
  },
  {
   "cell_type": "markdown",
   "metadata": {},
   "source": [
    "---"
   ]
  },
  {
   "cell_type": "markdown",
   "metadata": {},
   "source": [
    "# A little about Python"
   ]
  },
  {
   "cell_type": "markdown",
   "metadata": {},
   "source": [
    "Python is a high-level, object-oriented programming language. It is an 'interpreted' language, which means it doesn't need to be compiled, and it is entirely open-source (free!). \n",
    "\n",
    "Currently, there are two versions of Python: <b>Python2</b> and <b>Python3</b>. For the most part, things in the community have largely shifted to <b>Python3</b>, but there are still a few packages out there that use <b>Python2</b> and you can switch between them.\n",
    "#### <u><font color='green'>In this class we'll be using <b>Python3</b></font></u><br>\n",
    "\n",
    "><b><font color='steelblue'>Fun Fact: Python is named after Monty Python’s Flying Circus, not the snake"
   ]
  },
  {
   "cell_type": "markdown",
   "metadata": {},
   "source": [
    "---"
   ]
  },
  {
   "cell_type": "markdown",
   "metadata": {},
   "source": [
    "# Starting up Python"
   ]
  },
  {
   "cell_type": "markdown",
   "metadata": {},
   "source": [
    "There are multiple ways to invoke and use Python:\n",
    "1. By running a python script in the command line, i.e., `python my_python_script.py`\n",
    "2. Interactively with a [Jupyter Notebook](https://jupyter.org/), like we're doing here!\n",
    "3. Interactively on a console using IPython (see the launcher tab)\n",
    "4. In the [Spyder IDE](https://www.spyder-ide.org/) (Scientific Python Developer Environment), which is similar to the MATLAB layout"
   ]
  },
  {
   "cell_type": "markdown",
   "metadata": {},
   "source": [
    "---"
   ]
  },
  {
   "cell_type": "markdown",
   "metadata": {},
   "source": [
    "# The Python Standard Library"
   ]
  },
  {
   "cell_type": "markdown",
   "metadata": {},
   "source": [
    "Python comes with a set of core functions, modules, and data types, etc that you can use. There are a lot, so we won't go through them all here, but you can find all of them in this [Python Standard Library](https://docs.python.org/3/library/index.html#library-index) reference, which is also at the top of this notebook. Here are the ones that are built-in (meaning you can use them when you open python):"
   ]
  },
  {
   "cell_type": "markdown",
   "metadata": {},
   "source": [
    "`abs() dict() help() min() setattr() all() dir() hex() next() slice() any()\n",
    "divmod() id() object() sorted() ascii() enumerate() input() oct() staticmethod()\n",
    "bin() eval() int() open() str() bool() exec() isinstance() ord() sum() bytearray()\n",
    "filter() issubclass() pow() super() bytes() float() iter() print() tuple()\n",
    "callable() format() len() property() type() chr() frozenset() list() range()\n",
    "vars() classmethod() getattr() locals() repr() zip() compile() globals() map()\n",
    "reversed() __import__() complex() hasattr() max() round() delattr() hash()\n",
    "memoryview() set()`"
   ]
  },
  {
   "cell_type": "code",
   "execution_count": null,
   "metadata": {},
   "outputs": [],
   "source": [
    "abs(-1)"
   ]
  },
  {
   "cell_type": "code",
   "execution_count": null,
   "metadata": {},
   "outputs": [],
   "source": [
    "float(1)"
   ]
  },
  {
   "cell_type": "code",
   "execution_count": null,
   "metadata": {},
   "outputs": [],
   "source": [
    "int(2.31)"
   ]
  },
  {
   "cell_type": "code",
   "execution_count": null,
   "metadata": {},
   "outputs": [],
   "source": [
    "type('a')"
   ]
  },
  {
   "cell_type": "code",
   "execution_count": null,
   "metadata": {},
   "outputs": [],
   "source": [
    "print('Python is great')"
   ]
  },
  {
   "cell_type": "markdown",
   "metadata": {},
   "source": [
    "---"
   ]
  },
  {
   "cell_type": "markdown",
   "metadata": {},
   "source": [
    "# Basic Python"
   ]
  },
  {
   "cell_type": "markdown",
   "metadata": {},
   "source": [
    "#### Some useful things to remember:\n",
    "\n",
    "1. <b><font color='red'>*PYTHON INDEXING STARTS AT 0 NOT 1*</font></b>\n",
    "2. Python is left _inclusive_, right _exclusive_: [left,right)\n",
    "3. Python loops end with unindentation (they <b>DO NOT</b> have an `end` statement)!\n",
    "4. Parentheses `()` denote functions; brackets `[]` specify chunks of output\n",
    "5. If you want the last element of something, you can specify this with `-1`\n",
    "6. If you want all the elements of something you can specify this with `:`\n",
    "7. Python comments are designated with a `#`"
   ]
  },
  {
   "cell_type": "markdown",
   "metadata": {},
   "source": [
    "## 1. Variables and Strings"
   ]
  },
  {
   "cell_type": "markdown",
   "metadata": {},
   "source": [
    "You can pretty much give whatever name you want to a python variable, <u><b>EXCEPT</b></u> for the following words that are reserved (they must be spelled in exactly this way for python to recognize them as a reserved word. For example, `False` is a reserved word, but `false` is NOT):"
   ]
  },
  {
   "cell_type": "markdown",
   "metadata": {},
   "source": [
    "`False      class      finally    is         return       None       continue   \n",
    " for        lambda     try        True       def          from       nonlocal   \n",
    " while      and        del        global     not          with       as         \n",
    " elif       if         or         yield      assert       else       import     \n",
    " pass       break      except     in         raise`"
   ]
  },
  {
   "cell_type": "code",
   "execution_count": null,
   "metadata": {},
   "outputs": [],
   "source": [
    "#Assign the value 5 to a\n",
    "a=5"
   ]
  },
  {
   "cell_type": "code",
   "execution_count": null,
   "metadata": {},
   "outputs": [],
   "source": [
    "#Assign the string 'this is cool' to b\n",
    "b='this is cool'"
   ]
  },
  {
   "cell_type": "markdown",
   "metadata": {},
   "source": [
    "All variables in python are objects, which means they have a [type](https://docs.python.org/3/library/stdtypes.html) associated with them:"
   ]
  },
  {
   "cell_type": "code",
   "execution_count": null,
   "metadata": {},
   "outputs": [],
   "source": [
    "type(a)"
   ]
  },
  {
   "cell_type": "code",
   "execution_count": null,
   "metadata": {},
   "outputs": [],
   "source": [
    "type(b)"
   ]
  },
  {
   "cell_type": "markdown",
   "metadata": {},
   "source": [
    "## 2. Built-in math"
   ]
  },
  {
   "cell_type": "markdown",
   "metadata": {},
   "source": [
    "#### Addition, subtraction, multiplication, division, exponentiation"
   ]
  },
  {
   "cell_type": "code",
   "execution_count": null,
   "metadata": {},
   "outputs": [],
   "source": [
    "#Integer division returns a float. Use a double slash to return an integer!\n"
   ]
  },
  {
   "cell_type": "markdown",
   "metadata": {},
   "source": [
    "#### Complex numbers (and yes it's j here, not i)"
   ]
  },
  {
   "cell_type": "code",
   "execution_count": null,
   "metadata": {},
   "outputs": [],
   "source": [
    "0.5+6j/(1-2j)"
   ]
  },
  {
   "cell_type": "markdown",
   "metadata": {},
   "source": [
    "#### Rounding"
   ]
  },
  {
   "cell_type": "code",
   "execution_count": null,
   "metadata": {},
   "outputs": [],
   "source": [
    "round(10.3222,2) #round to the second decimal place"
   ]
  },
  {
   "cell_type": "markdown",
   "metadata": {},
   "source": [
    "#### Boolean (logical) operators"
   ]
  },
  {
   "cell_type": "code",
   "execution_count": null,
   "metadata": {},
   "outputs": [],
   "source": [
    "True and False"
   ]
  },
  {
   "cell_type": "code",
   "execution_count": null,
   "metadata": {},
   "outputs": [],
   "source": [
    "(not False) and (not True)"
   ]
  },
  {
   "cell_type": "markdown",
   "metadata": {},
   "source": [
    "#### Equivalence"
   ]
  },
  {
   "cell_type": "code",
   "execution_count": null,
   "metadata": {},
   "outputs": [],
   "source": [
    "#Is a equal to b?\n",
    "a=1\n",
    "b=1\n",
    "a==b"
   ]
  },
  {
   "cell_type": "code",
   "execution_count": null,
   "metadata": {},
   "outputs": [],
   "source": [
    "#a not equal to b?\n",
    "a!=b"
   ]
  },
  {
   "cell_type": "code",
   "execution_count": null,
   "metadata": {},
   "outputs": [],
   "source": [
    "#a greater than b?\n",
    "a>b"
   ]
  },
  {
   "cell_type": "code",
   "execution_count": null,
   "metadata": {},
   "outputs": [],
   "source": [
    "#a less than or equal to b\n",
    "a<=b"
   ]
  },
  {
   "cell_type": "markdown",
   "metadata": {},
   "source": [
    "#### <font color='red'>A note about `is` and how python stores things in memory</font>\n",
    "\n",
    "We can ask if something `is` something else in python as well:"
   ]
  },
  {
   "cell_type": "code",
   "execution_count": null,
   "metadata": {},
   "outputs": [],
   "source": [
    "a is b"
   ]
  },
  {
   "cell_type": "markdown",
   "metadata": {},
   "source": [
    "If `a` and `b` are different:"
   ]
  },
  {
   "cell_type": "code",
   "execution_count": null,
   "metadata": {},
   "outputs": [],
   "source": [
    "a=1\n",
    "b=2\n",
    "a is b"
   ]
  },
  {
   "cell_type": "markdown",
   "metadata": {},
   "source": [
    "Set `b` equal to `a`:"
   ]
  },
  {
   "cell_type": "code",
   "execution_count": null,
   "metadata": {},
   "outputs": [],
   "source": [
    "b=a\n",
    "a is b"
   ]
  },
  {
   "cell_type": "markdown",
   "metadata": {},
   "source": [
    "Ok...that seems to work more or less like the equivalance statement `a==b` we tried earlier. <b><font color='red'>However, this is not actually the case!</b></font> In the above example, `is` works like the equivalence statement because certain integers are interned objects, which means they point to the same place in memory if they have the same value.\n",
    "\n",
    "To see how things can get a little unintuitive, let's go through an example with some lists of numbers below:"
   ]
  },
  {
   "cell_type": "code",
   "execution_count": null,
   "metadata": {},
   "outputs": [],
   "source": [
    "a=[1,2,3] #list 1\n",
    "b=[1,2,3] #list 2\n",
    "a==b"
   ]
  },
  {
   "cell_type": "code",
   "execution_count": null,
   "metadata": {},
   "outputs": [],
   "source": [
    "a is b"
   ]
  },
  {
   "cell_type": "markdown",
   "metadata": {},
   "source": [
    "Wait...what's going on? `a` and `b` are exactly the same so why does `a is b` not agree with `a==b` as in the previous example? When you assign a value to a variable, python stores it in a specific spot in memory that has a unique identifier (unless it's a pre-defined interned object!). When you ask `a is b` above, you are <b>NOT</b> asking python if `a==b`, but rather is `a` _pointing_ to the same place in memory as `b`, and the answer in this case is _NO_ because you intialized `a` and `b` separately (you created two distinct objects in memory).<br> \n",
    "\n",
    "Let's continue our example below by setting b equal to a:"
   ]
  },
  {
   "cell_type": "code",
   "execution_count": null,
   "metadata": {},
   "outputs": [],
   "source": [
    "#Set b=a\n",
    "b=a"
   ]
  },
  {
   "cell_type": "markdown",
   "metadata": {},
   "source": [
    "Given how python works when assigning values to variables (or really, _names_), what we've done above is tell variable `b` to _point to_ `a`, which points to `a`'s specific value stored in memory. \n",
    "\n",
    "Now type `a is b`:"
   ]
  },
  {
   "cell_type": "code",
   "execution_count": null,
   "metadata": {},
   "outputs": [],
   "source": [
    "#Ask if a is b again\n",
    "a is b"
   ]
  },
  {
   "cell_type": "markdown",
   "metadata": {},
   "source": [
    "All this means is that both `a` and `b` are pointing to the same place in memory. <b>This isn't a big deal but it does lead to some interesting behavior if you are not careful.</b> You can see this when we change a below:"
   ]
  },
  {
   "cell_type": "code",
   "execution_count": null,
   "metadata": {},
   "outputs": [],
   "source": [
    "#print a and b\n",
    "print('a =',a)\n",
    "print('b =',b)"
   ]
  },
  {
   "cell_type": "markdown",
   "metadata": {},
   "source": [
    "Now set the last value of `a` to be a different value:"
   ]
  },
  {
   "cell_type": "code",
   "execution_count": null,
   "metadata": {},
   "outputs": [],
   "source": [
    "a[-1]=5 #set last value of a to be 5 instead of 3\n",
    "print('a =',a) #print a "
   ]
  },
  {
   "cell_type": "markdown",
   "metadata": {},
   "source": [
    "Now print `b`:"
   ]
  },
  {
   "cell_type": "code",
   "execution_count": null,
   "metadata": {},
   "outputs": [],
   "source": [
    "print('b =',b)"
   ]
  },
  {
   "cell_type": "markdown",
   "metadata": {},
   "source": [
    "Even though we didn't change `b`, we did so by changing `a` because they now point to the same place in memory! \n",
    "><font color='purple'><b>Remember</b></font> that this occurs for only certain types of python data structures! If you don't want to worry about this type of behavior, you can always make a copy of an object (so it points to a new place in memory) before making changes. However, you probably don't want to get in the habit of doing this all the time, as memory is a finite thing ;)"
   ]
  },
  {
   "cell_type": "code",
   "execution_count": null,
   "metadata": {},
   "outputs": [],
   "source": [
    "a=[1,2,3] #make a\n",
    "b=a.copy() #make a copy of a and assign the copy to b\n",
    "a[-1]=5 #change a\n",
    "print('b =',b) #print b; b no longer changes!"
   ]
  },
  {
   "cell_type": "markdown",
   "metadata": {},
   "source": [
    "We won't go more into detail about this in our class, but if you're curious, you can read more about python and pointers [here](https://realpython.com/pointers-in-python/)"
   ]
  },
  {
   "cell_type": "markdown",
   "metadata": {},
   "source": [
    "## 3. The python math library"
   ]
  },
  {
   "cell_type": "markdown",
   "metadata": {},
   "source": [
    "Some mathematical functions are not built in so we need to import them from the python [math library](https://docs.python.org/3/library/math.html):"
   ]
  },
  {
   "cell_type": "code",
   "execution_count": null,
   "metadata": {},
   "outputs": [],
   "source": [
    "import math"
   ]
  },
  {
   "cell_type": "code",
   "execution_count": null,
   "metadata": {},
   "outputs": [],
   "source": [
    "#Calculate the cosine of 1\n",
    "math.cos(1)"
   ]
  },
  {
   "cell_type": "code",
   "execution_count": null,
   "metadata": {},
   "outputs": [],
   "source": [
    "#Calculate 10!\n",
    "math.factorial(10)"
   ]
  },
  {
   "cell_type": "code",
   "execution_count": null,
   "metadata": {},
   "outputs": [],
   "source": [
    "#Calculate the natural log of 11.2\n",
    "math.log(11.2)"
   ]
  },
  {
   "cell_type": "markdown",
   "metadata": {},
   "source": [
    "## 4. Flow Control"
   ]
  },
  {
   "cell_type": "markdown",
   "metadata": {},
   "source": [
    "### Conditional Statements (if...then)"
   ]
  },
  {
   "cell_type": "markdown",
   "metadata": {},
   "source": [
    "Syntax for an `if...then` statement:"
   ]
  },
  {
   "cell_type": "code",
   "execution_count": null,
   "metadata": {},
   "outputs": [],
   "source": [
    "x=9.99 #set initial x\n",
    "if x>10:\n",
    "    print('x > 10')\n",
    "elif (x<10 and x>5):\n",
    "    print('5 < x <= 10')\n",
    "else:\n",
    "    print('x < 5')"
   ]
  },
  {
   "cell_type": "markdown",
   "metadata": {},
   "source": [
    "### For loops"
   ]
  },
  {
   "cell_type": "markdown",
   "metadata": {},
   "source": [
    "Here's the basic python syntax for a `for` loop:"
   ]
  },
  {
   "cell_type": "code",
   "execution_count": null,
   "metadata": {},
   "outputs": [],
   "source": [
    "for i in range(0,5):\n",
    "    j=i+1\n",
    "    print(i,j)"
   ]
  },
  {
   "cell_type": "markdown",
   "metadata": {},
   "source": [
    "What is `range`? Type `range?` below to read about it:"
   ]
  },
  {
   "cell_type": "code",
   "execution_count": null,
   "metadata": {},
   "outputs": [],
   "source": []
  },
  {
   "cell_type": "markdown",
   "metadata": {},
   "source": [
    "You also need not iterate over numbers:"
   ]
  },
  {
   "cell_type": "code",
   "execution_count": null,
   "metadata": {},
   "outputs": [],
   "source": [
    "for doberman in ['Ruger', 'Bijoux', 'Louis']:\n",
    "    print('My favorite doberman is %s' %doberman)"
   ]
  },
  {
   "cell_type": "markdown",
   "metadata": {},
   "source": [
    "The dobermans in question:<br>\n",
    "\n",
    "<img src='Images/Bags.jpeg' width=400></img>"
   ]
  },
  {
   "cell_type": "markdown",
   "metadata": {},
   "source": [
    "### While loops\n",
    "\n",
    "Here is the basic syntax for a while loop:"
   ]
  },
  {
   "cell_type": "code",
   "execution_count": null,
   "metadata": {},
   "outputs": [],
   "source": [
    "dog_count=0\n",
    "while dog_count < 10:\n",
    "    dog_count += 1 #increase dog count by 1\n",
    "    if dog_count > 5:\n",
    "        print('I have %i too many dogs' %(dog_count-5))"
   ]
  },
  {
   "cell_type": "markdown",
   "metadata": {},
   "source": [
    "## 5. Data structures\n",
    "\n",
    "Python also has several [data structures](https://docs.python.org/3/tutorial/datastructures.html) that are useful for storing and manipulating data. We'll cover several in the code that follows."
   ]
  },
  {
   "cell_type": "markdown",
   "metadata": {},
   "source": [
    "### Lists"
   ]
  },
  {
   "cell_type": "markdown",
   "metadata": {},
   "source": [
    "We've been using lists in this notebook already! [Lists](https://docs.python.org/3/tutorial/datastructures.html#more-on-lists) are defined by brackets `[]` and they can hold whatever you want--numbers, strings, boolean, etc, and any mixture thereof. They are one of Python's [Sequence Types](https://docs.python.org/3/library/stdtypes.html#typesseq)"
   ]
  },
  {
   "cell_type": "code",
   "execution_count": null,
   "metadata": {},
   "outputs": [],
   "source": [
    "things_I_like=['sun', 'dogs', 'sugar']"
   ]
  },
  {
   "cell_type": "code",
   "execution_count": null,
   "metadata": {},
   "outputs": [],
   "source": [
    "#What is the type for 'things_I_like'?\n",
    "type(things_I_like)"
   ]
  },
  {
   "cell_type": "markdown",
   "metadata": {},
   "source": [
    "You can do _all sorts_ of things with lists:"
   ]
  },
  {
   "cell_type": "code",
   "execution_count": null,
   "metadata": {},
   "outputs": [],
   "source": [
    "#put in alphabetical order (sort)\n",
    "things_I_like.sort()\n",
    "things_I_like"
   ]
  },
  {
   "cell_type": "code",
   "execution_count": null,
   "metadata": {},
   "outputs": [],
   "source": [
    "#check if something is in a list\n",
    "'cat' in things_I_like"
   ]
  },
  {
   "cell_type": "code",
   "execution_count": null,
   "metadata": {},
   "outputs": [],
   "source": [
    "#convert a different type to a list\n",
    "list(range(0,10))"
   ]
  },
  {
   "cell_type": "code",
   "execution_count": null,
   "metadata": {},
   "outputs": [],
   "source": [
    "#add something to a list\n",
    "things_I_like=things_I_like+['expletives']\n",
    "things_I_like\n",
    "#or use append()\n",
    "#things_I_like.append('sleep')\n",
    "#things_I_like"
   ]
  },
  {
   "cell_type": "code",
   "execution_count": null,
   "metadata": {},
   "outputs": [],
   "source": [
    "#Add an item to the second position in the list\n",
    "things_I_like.insert(1,'sleep') #index, item to add\n",
    "things_I_like"
   ]
  },
  {
   "cell_type": "code",
   "execution_count": null,
   "metadata": {},
   "outputs": [],
   "source": [
    "#remove something from a list\n",
    "things_I_like.remove('sugar')\n",
    "things_I_like"
   ]
  },
  {
   "cell_type": "markdown",
   "metadata": {},
   "source": [
    "><b><font color='red'>Caution:</font></b> When using `remove()` python will only remove the first instance of that item in a list. If there are duplicates, these won't be removed!"
   ]
  },
  {
   "cell_type": "code",
   "execution_count": null,
   "metadata": {},
   "outputs": [],
   "source": [
    "#add two lists\n",
    "list1=[1,2,3]\n",
    "list2=[4,5,6]\n",
    "list1+list2"
   ]
  },
  {
   "cell_type": "markdown",
   "metadata": {},
   "source": [
    "><b><font color='blue'>Note:</font></b> If you add two lists, the second gets appended to the first, even if it's a list of numbers!"
   ]
  },
  {
   "cell_type": "code",
   "execution_count": null,
   "metadata": {},
   "outputs": [],
   "source": [
    "#Reverse a list\n",
    "list3=list1+list2\n",
    "list3.reverse()\n",
    "list3"
   ]
  },
  {
   "cell_type": "code",
   "execution_count": null,
   "metadata": {},
   "outputs": [],
   "source": [
    "#Access elements in a list\n"
   ]
  },
  {
   "cell_type": "code",
   "execution_count": null,
   "metadata": {},
   "outputs": [],
   "source": [
    "#Choose a subset of elements\n",
    "#First make a new list\n",
    "list4=list(range(1,11))\n",
    "list4"
   ]
  },
  {
   "cell_type": "code",
   "execution_count": null,
   "metadata": {},
   "outputs": [],
   "source": [
    "#Pick the subset\n",
    "list4[0:10:2]\n",
    "#or list4[::2]\n",
    "#or list4[0:-1:2]"
   ]
  },
  {
   "cell_type": "markdown",
   "metadata": {},
   "source": [
    "<b>List comprehensions are awesome!</b><br>You can also iterate over two lists using zip"
   ]
  },
  {
   "cell_type": "code",
   "execution_count": null,
   "metadata": {},
   "outputs": [],
   "source": [
    "a=list(range(0,10)) #cretae a list\n",
    "b=list(range(0,20,2)) #create a second list\n",
    "#Example: multiply the corresponding elements of the two lists\n",
    "a_times_b=[item1*item2 for item1,item2 in zip(a,b)] #iterate over the list and do the multiplication\n",
    "a_times_b"
   ]
  },
  {
   "cell_type": "markdown",
   "metadata": {},
   "source": [
    "You can also nest lists inside lists. The first element of the list below is another list!"
   ]
  },
  {
   "cell_type": "code",
   "execution_count": null,
   "metadata": {},
   "outputs": [],
   "source": [
    "list5=[[1,2],[3,4]]\n",
    "list5[0]"
   ]
  },
  {
   "cell_type": "markdown",
   "metadata": {},
   "source": [
    "### Sets"
   ]
  },
  {
   "cell_type": "markdown",
   "metadata": {},
   "source": [
    "[Sets](https://docs.python.org/3/tutorial/datastructures.html#sets) are defined using curly braces `{}`. You can use all of the set notation commands with them!"
   ]
  },
  {
   "cell_type": "code",
   "execution_count": null,
   "metadata": {},
   "outputs": [],
   "source": [
    "#Make two sets\n",
    "set1={1,2,3,4,'hat'}\n",
    "set2={1,2,3,5}"
   ]
  },
  {
   "cell_type": "code",
   "execution_count": null,
   "metadata": {},
   "outputs": [],
   "source": [
    "#Find the union of set1 and set2\n",
    "set1.union(set2)"
   ]
  },
  {
   "cell_type": "code",
   "execution_count": null,
   "metadata": {},
   "outputs": [],
   "source": [
    "#Find the intersection of set1 and set2\n",
    "set1.intersection(set2)"
   ]
  },
  {
   "cell_type": "markdown",
   "metadata": {},
   "source": [
    "### Dictionaries"
   ]
  },
  {
   "cell_type": "markdown",
   "metadata": {},
   "source": [
    "[Dictionaries](https://docs.python.org/3/tutorial/datastructures.html#dictionaries) match a key to a value and they are also super awesome! They are defined by curly braces `{}` or this notation: ` dict(key1=value1, key2=value2,...)`. Like lists, you can also nest dictionaries within dictionaries"
   ]
  },
  {
   "cell_type": "code",
   "execution_count": null,
   "metadata": {},
   "outputs": [],
   "source": [
    "sisters={'Hannah':35, 'Julia':37, 'Gemma':39}"
   ]
  },
  {
   "cell_type": "code",
   "execution_count": null,
   "metadata": {},
   "outputs": [],
   "source": [
    "#Print the dictionary keys\n",
    "sisters.keys()"
   ]
  },
  {
   "cell_type": "code",
   "execution_count": null,
   "metadata": {},
   "outputs": [],
   "source": [
    "print('Julia is %i years old' %sisters['Julia'])"
   ]
  },
  {
   "cell_type": "markdown",
   "metadata": {},
   "source": [
    "### Tuples"
   ]
  },
  {
   "cell_type": "markdown",
   "metadata": {},
   "source": [
    "[Tuples](https://docs.python.org/3/tutorial/datastructures.html#tuples-and-sequences) are similar to lists, but they can't be modified like we did above. You define tuples by using parentheses `()`. You can access individual elements of a tuple like you did with lists using indexing and you can unpack tuples by assigning their elements to separate variables."
   ]
  },
  {
   "cell_type": "code",
   "execution_count": null,
   "metadata": {},
   "outputs": [],
   "source": [
    "#Make a tuple and check what it's type is\n",
    "tuple1=('Hannah', 2016, 'PhD')"
   ]
  },
  {
   "cell_type": "code",
   "execution_count": null,
   "metadata": {},
   "outputs": [],
   "source": [
    "#Access the second entry of the above tuple\n",
    "tuple1[1]"
   ]
  },
  {
   "cell_type": "code",
   "execution_count": null,
   "metadata": {},
   "outputs": [],
   "source": [
    "#Unpack the elements of the tuple\n",
    "person, graduation_year, degree=tuple1"
   ]
  },
  {
   "cell_type": "markdown",
   "metadata": {},
   "source": [
    "## 6. Functions"
   ]
  },
  {
   "cell_type": "markdown",
   "metadata": {},
   "source": [
    "Functions are very useful when you have a piece of code that you find yourself running over and over again. The syntax for a function looks like the following:"
   ]
  },
  {
   "cell_type": "code",
   "execution_count": null,
   "metadata": {},
   "outputs": [],
   "source": [
    "#Make a function that adds two numbers together\n",
    "def add_two_numbers(x,y):\n",
    "    return(x+y)"
   ]
  },
  {
   "cell_type": "markdown",
   "metadata": {},
   "source": [
    "## 7. Timing things"
   ]
  },
  {
   "cell_type": "markdown",
   "metadata": {},
   "source": [
    "Python has a built in magic function called `timeit` that you can use to time how long a piece of code takes to run!\n",
    "\n",
    "1. Inline mode (time a single line of code): `%timeit [statement]`\n",
    "2. Cell mode (time a block of code): `%%timeit [setup_code code code…]`\n",
    "\n",
    "Some useful options that you can run with `timeit`:\n",
    "<br>`-n` is the number of loops you want to use (the number of times you run the code)\n",
    "<br>`-r` is the number of times you want to repeat the loops\n",
    "\n",
    "Here's an example that runs the above function (`add_two_numbers`) 100 times and repeats this 5 times:"
   ]
  },
  {
   "cell_type": "code",
   "execution_count": null,
   "metadata": {},
   "outputs": [],
   "source": [
    "%timeit -n 100 -r 5 add_two_numbers(1,2)"
   ]
  },
  {
   "cell_type": "markdown",
   "metadata": {},
   "source": [
    "Here's how to time an entire cell:"
   ]
  },
  {
   "cell_type": "code",
   "execution_count": null,
   "metadata": {},
   "outputs": [],
   "source": [
    "%%timeit -n 1000 -r 10 \n",
    "a=add_two_numbers(1,2)\n",
    "b=add_two_numbers(3,4)\n",
    "c=[a,b]\n",
    "d=[]\n",
    "for item in c:\n",
    "    d.append(item)"
   ]
  },
  {
   "cell_type": "markdown",
   "metadata": {},
   "source": [
    "---"
   ]
  }
 ],
 "metadata": {
  "kernelspec": {
   "display_name": "Python [conda env:uw-fall-2024]",
   "language": "python",
   "name": "conda-env-uw-fall-2024-py"
  },
  "language_info": {
   "codemirror_mode": {
    "name": "ipython",
    "version": 3
   },
   "file_extension": ".py",
   "mimetype": "text/x-python",
   "name": "python",
   "nbconvert_exporter": "python",
   "pygments_lexer": "ipython3",
   "version": "3.11.9"
  }
 },
 "nbformat": 4,
 "nbformat_minor": 4
}
