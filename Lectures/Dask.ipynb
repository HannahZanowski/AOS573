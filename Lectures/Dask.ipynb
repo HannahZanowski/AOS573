{
 "cells": [
  {
   "cell_type": "markdown",
   "metadata": {},
   "source": [
    "<b><font size=20, color='#A020F0'>Dask</font></b>"
   ]
  },
  {
   "cell_type": "markdown",
   "metadata": {},
   "source": [
    "Hannah Zanowski<br>\n",
    "11/21/22"
   ]
  },
  {
   "cell_type": "markdown",
   "metadata": {},
   "source": [
    "#### <span style=\"color:green\">Learning Goals</span>\n",
    "By the end of this notebook you will\n",
    "1. Become familiar with the different components of the dask package\n",
    "2. Practice using dask for geoscience data analysis\n",
    "3. Understand some of the challenges of working with big data and dask"
   ]
  },
  {
   "cell_type": "markdown",
   "metadata": {},
   "source": [
    "#### Resources\n",
    "[Dask Website](https://www.dask.org/)<br>\n",
    "[Dask Documentation](https://docs.dask.org/en/stable/)<br>\n",
    "[Dask Best Practices](https://docs.dask.org/en/stable/best-practices.html)"
   ]
  },
  {
   "cell_type": "markdown",
   "metadata": {},
   "source": [
    "#### Acknowledgements\n",
    "Parts of today's lecture have been adapted and or borrowed (with permission) from Dr. Elizabeth Maroon's Dask tutorial from 2021\n",
    "\n",
    "Major thanks to Brian Aydemir of the [Morgridge Institute for Research](https://morgridge.org/) and Christina Koch at the UW-Madison [Center for High Throughput Computing](https://chtc.cs.wisc.edu/) for setting up a jupyterhub specifically for this lecture."
   ]
  },
  {
   "cell_type": "markdown",
   "metadata": {},
   "source": [
    "# A little about Dask\n",
    "\n",
    "Dask is a package developed to make parallel computing more straightforward and accessible to a broad range of people, and it does so by extending standard python data analysis tools so that they can be applied in highly complex and voluminous data processing situations. Dask is especially useful when dealing with big data or doing computations that don't need to be done in serial."
   ]
  },
  {
   "cell_type": "markdown",
   "metadata": {},
   "source": [
    "Let's begin by importing a few packages that we'll need today:"
   ]
  },
  {
   "cell_type": "code",
   "execution_count": 1,
   "metadata": {
    "tags": []
   },
   "outputs": [],
   "source": [
    "import numpy as np\n",
    "import xarray as xr\n",
    "import matplotlib.pyplot as plt"
   ]
  },
  {
   "cell_type": "markdown",
   "metadata": {},
   "source": [
    "---"
   ]
  },
  {
   "cell_type": "markdown",
   "metadata": {},
   "source": [
    "## 1. Some Terminology"
   ]
  },
  {
   "cell_type": "markdown",
   "metadata": {},
   "source": [
    "From good ol' Wikipedia:<br>\n",
    "\n",
    "<b><font color='navy'>Big Data:</font></b>\"Big data refers to data sets that are too large or complex to be dealt with by traditional data-processing application software\"\n",
    "\n",
    "<b><font color='navy'>Parellel Computing:</font></b>\"Parallel computing is a type of computation in which many calculations or processes are carried out simultaneously\"\n",
    "\n",
    "<b>Many geoscientific datasets and projects qualify as big data. Here are some examples: </b> \n",
    ">1. Model Intercomparison Projects (MIPs), \n",
    ">2. Ensemble forecasts and simulations, \n",
    ">3. \"High resolution\" simulations\n",
    ">4. Real-time Earth system observations (e.g., satellite retrievals, weather stations, Argo)\n",
    ">5. Field campaigns with multiple platforms\n",
    "\n",
    "A traditional workflow for processing a dataset might look something like this: \n",
    ">1. Read file into memory\n",
    ">2. Compute (data reduction)  \n",
    ">3. Write result to file or display figure\n",
    "\n",
    "What happens if a file is larger than the available memory? What if the computation requires the full data along one dimension but the files are split along that dimension? For example, say you want to calculate a climatology, but you have files for each year and you can't load them all into memory at once. What do you do then?\n",
    "\n",
    "That's where dask comes in!"
   ]
  },
  {
   "cell_type": "markdown",
   "metadata": {},
   "source": [
    "---"
   ]
  },
  {
   "cell_type": "markdown",
   "metadata": {},
   "source": [
    "## 2. The basics of Dask"
   ]
  },
  {
   "cell_type": "markdown",
   "metadata": {},
   "source": [
    "### Dask Arrays\n",
    "[Dask arrays](https://docs.dask.org/en/stable/array.html#array) are a core data structure in dask. They are analagous to the standard numpy arrays you are used to, except that they don't hold any data in them. We'll go through this below.\n",
    "\n",
    "First, let's import dask.array:"
   ]
  },
  {
   "cell_type": "code",
   "execution_count": 2,
   "metadata": {
    "tags": []
   },
   "outputs": [],
   "source": [
    "import dask.array as da"
   ]
  },
  {
   "cell_type": "markdown",
   "metadata": {},
   "source": [
    "As an example, let's create a small dask array of ones:"
   ]
  },
  {
   "cell_type": "code",
   "execution_count": 3,
   "metadata": {
    "tags": []
   },
   "outputs": [],
   "source": [
    "shape=(4000,1000)\n",
    "ones=da.ones(shape)"
   ]
  },
  {
   "cell_type": "markdown",
   "metadata": {},
   "source": [
    "Now let's look at the output:"
   ]
  },
  {
   "cell_type": "code",
   "execution_count": 4,
   "metadata": {
    "tags": []
   },
   "outputs": [
    {
     "data": {
      "text/html": [
       "<table>\n",
       "    <tr>\n",
       "        <td>\n",
       "            <table style=\"border-collapse: collapse;\">\n",
       "                <thead>\n",
       "                    <tr>\n",
       "                        <td> </td>\n",
       "                        <th> Array </th>\n",
       "                        <th> Chunk </th>\n",
       "                    </tr>\n",
       "                </thead>\n",
       "                <tbody>\n",
       "                    \n",
       "                    <tr>\n",
       "                        <th> Bytes </th>\n",
       "                        <td> 30.52 MiB </td>\n",
       "                        <td> 30.52 MiB </td>\n",
       "                    </tr>\n",
       "                    \n",
       "                    <tr>\n",
       "                        <th> Shape </th>\n",
       "                        <td> (4000, 1000) </td>\n",
       "                        <td> (4000, 1000) </td>\n",
       "                    </tr>\n",
       "                    <tr>\n",
       "                        <th> Dask graph </th>\n",
       "                        <td colspan=\"2\"> 1 chunks in 1 graph layer </td>\n",
       "                    </tr>\n",
       "                    <tr>\n",
       "                        <th> Data type </th>\n",
       "                        <td colspan=\"2\"> float64 numpy.ndarray </td>\n",
       "                    </tr>\n",
       "                </tbody>\n",
       "            </table>\n",
       "        </td>\n",
       "        <td>\n",
       "        <svg width=\"92\" height=\"170\" style=\"stroke:rgb(0,0,0);stroke-width:1\" >\n",
       "\n",
       "  <!-- Horizontal lines -->\n",
       "  <line x1=\"0\" y1=\"0\" x2=\"42\" y2=\"0\" style=\"stroke-width:2\" />\n",
       "  <line x1=\"0\" y1=\"120\" x2=\"42\" y2=\"120\" style=\"stroke-width:2\" />\n",
       "\n",
       "  <!-- Vertical lines -->\n",
       "  <line x1=\"0\" y1=\"0\" x2=\"0\" y2=\"120\" style=\"stroke-width:2\" />\n",
       "  <line x1=\"42\" y1=\"0\" x2=\"42\" y2=\"120\" style=\"stroke-width:2\" />\n",
       "\n",
       "  <!-- Colored Rectangle -->\n",
       "  <polygon points=\"0.0,0.0 42.89879552186203,0.0 42.89879552186203,120.0 0.0,120.0\" style=\"fill:#ECB172A0;stroke-width:0\"/>\n",
       "\n",
       "  <!-- Text -->\n",
       "  <text x=\"21.449398\" y=\"140.000000\" font-size=\"1.0rem\" font-weight=\"100\" text-anchor=\"middle\" >1000</text>\n",
       "  <text x=\"62.898796\" y=\"60.000000\" font-size=\"1.0rem\" font-weight=\"100\" text-anchor=\"middle\" transform=\"rotate(-90,62.898796,60.000000)\">4000</text>\n",
       "</svg>\n",
       "        </td>\n",
       "    </tr>\n",
       "</table>"
      ],
      "text/plain": [
       "dask.array<ones_like, shape=(4000, 1000), dtype=float64, chunksize=(4000, 1000), chunktype=numpy.ndarray>"
      ]
     },
     "execution_count": 4,
     "metadata": {},
     "output_type": "execute_result"
    }
   ],
   "source": [
    "ones"
   ]
  },
  {
   "cell_type": "markdown",
   "metadata": {},
   "source": [
    "Great! So what does this mean? Let's break it down below.\n",
    "\n",
    "<b>Interpreting your dask.array object:</b>\n",
    "\n",
    "Column Information from the Table:\n",
    ">1. <b><font color='navy'>Array:</font></b> Describes information about your dask.array object\n",
    ">2. <b><font color='navy'>Chunk:</font></b> Describes information about the chunks that your dask.array object is split into\n",
    "\n",
    "Row Information from the Table:\n",
    ">1. <b><font color='navy'>Bytes:</font></b> The size of the array or chunk, in this case in Mebibytes\n",
    ">2. <b><font color='navy'>Shape: </font></b> The dimensions of the array or chunk\n",
    ">3. <b><font color='navy'>Dask Graph: </font></b> The number of chunks + graph layers associated with the array\n",
    ">4. <b><font color='navy'>Data Type: </font></b> The data type of the array\n",
    "\n",
    "Our ones array takes up ~30.5 MiB in memory (uncompressed). There is one chunk that is the size of the whole variable (30.5 MiB).\n",
    "\n",
    "><b><font color='darkmagenta'>Note:</font></b> A MiB (Mebibyte, 1024^2 bytes) is not the same as a MB (Megabyte, 1000^2 bytes), but for our purposes it's ok to think of them as the same.\n",
    "\n",
    "Let's talk a little more about chunks below."
   ]
  },
  {
   "cell_type": "markdown",
   "metadata": {},
   "source": [
    "#### Chunking\n",
    "An important part about working with dask.array objects is specifying how you want your data to be split up for computations. That's where the `chunks` argument comes in. Chunks really means <b>chunk shape</b>, so you want to specify the sizes of all of the dimensions in your array. Below we'll split our ones array of shape (4000,1000) into 4 equally sized chunks with dimensions (1000,1000):"
   ]
  },
  {
   "cell_type": "code",
   "execution_count": 5,
   "metadata": {
    "tags": []
   },
   "outputs": [
    {
     "data": {
      "text/html": [
       "<table>\n",
       "    <tr>\n",
       "        <td>\n",
       "            <table style=\"border-collapse: collapse;\">\n",
       "                <thead>\n",
       "                    <tr>\n",
       "                        <td> </td>\n",
       "                        <th> Array </th>\n",
       "                        <th> Chunk </th>\n",
       "                    </tr>\n",
       "                </thead>\n",
       "                <tbody>\n",
       "                    \n",
       "                    <tr>\n",
       "                        <th> Bytes </th>\n",
       "                        <td> 30.52 MiB </td>\n",
       "                        <td> 7.63 MiB </td>\n",
       "                    </tr>\n",
       "                    \n",
       "                    <tr>\n",
       "                        <th> Shape </th>\n",
       "                        <td> (4000, 1000) </td>\n",
       "                        <td> (1000, 1000) </td>\n",
       "                    </tr>\n",
       "                    <tr>\n",
       "                        <th> Dask graph </th>\n",
       "                        <td colspan=\"2\"> 4 chunks in 1 graph layer </td>\n",
       "                    </tr>\n",
       "                    <tr>\n",
       "                        <th> Data type </th>\n",
       "                        <td colspan=\"2\"> float64 numpy.ndarray </td>\n",
       "                    </tr>\n",
       "                </tbody>\n",
       "            </table>\n",
       "        </td>\n",
       "        <td>\n",
       "        <svg width=\"92\" height=\"170\" style=\"stroke:rgb(0,0,0);stroke-width:1\" >\n",
       "\n",
       "  <!-- Horizontal lines -->\n",
       "  <line x1=\"0\" y1=\"0\" x2=\"42\" y2=\"0\" style=\"stroke-width:2\" />\n",
       "  <line x1=\"0\" y1=\"30\" x2=\"42\" y2=\"30\" />\n",
       "  <line x1=\"0\" y1=\"60\" x2=\"42\" y2=\"60\" />\n",
       "  <line x1=\"0\" y1=\"90\" x2=\"42\" y2=\"90\" />\n",
       "  <line x1=\"0\" y1=\"120\" x2=\"42\" y2=\"120\" style=\"stroke-width:2\" />\n",
       "\n",
       "  <!-- Vertical lines -->\n",
       "  <line x1=\"0\" y1=\"0\" x2=\"0\" y2=\"120\" style=\"stroke-width:2\" />\n",
       "  <line x1=\"42\" y1=\"0\" x2=\"42\" y2=\"120\" style=\"stroke-width:2\" />\n",
       "\n",
       "  <!-- Colored Rectangle -->\n",
       "  <polygon points=\"0.0,0.0 42.89879552186203,0.0 42.89879552186203,120.0 0.0,120.0\" style=\"fill:#ECB172A0;stroke-width:0\"/>\n",
       "\n",
       "  <!-- Text -->\n",
       "  <text x=\"21.449398\" y=\"140.000000\" font-size=\"1.0rem\" font-weight=\"100\" text-anchor=\"middle\" >1000</text>\n",
       "  <text x=\"62.898796\" y=\"60.000000\" font-size=\"1.0rem\" font-weight=\"100\" text-anchor=\"middle\" transform=\"rotate(-90,62.898796,60.000000)\">4000</text>\n",
       "</svg>\n",
       "        </td>\n",
       "    </tr>\n",
       "</table>"
      ],
      "text/plain": [
       "dask.array<ones_like, shape=(4000, 1000), dtype=float64, chunksize=(1000, 1000), chunktype=numpy.ndarray>"
      ]
     },
     "execution_count": 5,
     "metadata": {},
     "output_type": "execute_result"
    }
   ],
   "source": [
    "chunk_shape=(1000,1000)\n",
    "ones=da.ones(shape,chunks=chunk_shape)\n",
    "ones"
   ]
  },
  {
   "cell_type": "markdown",
   "metadata": {},
   "source": [
    "#### Setting up a computation\n",
    "Setting up a computation is much the same as it is with normal numpy arrays--you apply whatever functions you want to your data. Below we'll take the sum of our ones dask.array object:"
   ]
  },
  {
   "cell_type": "code",
   "execution_count": 6,
   "metadata": {
    "tags": []
   },
   "outputs": [
    {
     "name": "stdout",
     "output_type": "stream",
     "text": [
      "CPU times: user 2.27 ms, sys: 98 µs, total: 2.37 ms\n",
      "Wall time: 2.36 ms\n"
     ]
    }
   ],
   "source": [
    "%%time\n",
    "ones_sum=ones.sum()"
   ]
  },
  {
   "cell_type": "markdown",
   "metadata": {},
   "source": [
    "#### Visualizing your computation\n",
    "Notice that the previous cell finished in milliseconds. This is because the sum has not been calculated yet: "
   ]
  },
  {
   "cell_type": "code",
   "execution_count": 7,
   "metadata": {
    "tags": []
   },
   "outputs": [
    {
     "data": {
      "text/html": [
       "<table>\n",
       "    <tr>\n",
       "        <td>\n",
       "            <table style=\"border-collapse: collapse;\">\n",
       "                <thead>\n",
       "                    <tr>\n",
       "                        <td> </td>\n",
       "                        <th> Array </th>\n",
       "                        <th> Chunk </th>\n",
       "                    </tr>\n",
       "                </thead>\n",
       "                <tbody>\n",
       "                    \n",
       "                    <tr>\n",
       "                        <th> Bytes </th>\n",
       "                        <td> 8 B </td>\n",
       "                        <td> 8 B </td>\n",
       "                    </tr>\n",
       "                    \n",
       "                    <tr>\n",
       "                        <th> Shape </th>\n",
       "                        <td> () </td>\n",
       "                        <td> () </td>\n",
       "                    </tr>\n",
       "                    <tr>\n",
       "                        <th> Dask graph </th>\n",
       "                        <td colspan=\"2\"> 1 chunks in 4 graph layers </td>\n",
       "                    </tr>\n",
       "                    <tr>\n",
       "                        <th> Data type </th>\n",
       "                        <td colspan=\"2\"> float64 numpy.ndarray </td>\n",
       "                    </tr>\n",
       "                </tbody>\n",
       "            </table>\n",
       "        </td>\n",
       "        <td>\n",
       "        \n",
       "        </td>\n",
       "    </tr>\n",
       "</table>"
      ],
      "text/plain": [
       "dask.array<sum-aggregate, shape=(), dtype=float64, chunksize=(), chunktype=numpy.ndarray>"
      ]
     },
     "execution_count": 7,
     "metadata": {},
     "output_type": "execute_result"
    }
   ],
   "source": [
    "ones_sum"
   ]
  },
  {
   "cell_type": "markdown",
   "metadata": {},
   "source": [
    "So what is this? If you notice, the array size changed as well as the chunks and the number of tasks. \n",
    "\n",
    "As with the dask array we created above, here we've created a \"delayed object\" that will be computed when necessary. This feature in dask is known as <b>lazy computing.</b> \n",
    "\n",
    "Below we'll use [graphviz](https://pypi.org/project/graphviz/) to see what our object actually looks like:"
   ]
  },
  {
   "cell_type": "code",
   "execution_count": 8,
   "metadata": {
    "tags": []
   },
   "outputs": [
    {
     "data": {
      "image/png": "[encoded data removed]",
      "text/plain": [
       "<IPython.core.display.Image object>"
      ]
     },
     "execution_count": 8,
     "metadata": {},
     "output_type": "execute_result"
    }
   ],
   "source": [
    "ones_sum.visualize()"
   ]
  },
  {
   "cell_type": "markdown",
   "metadata": {},
   "source": [
    "What you see here is a task graph, or a road map of what the computation will look like once it is triggered, <b>but no computation has occurred yet!</b>"
   ]
  },
  {
   "cell_type": "markdown",
   "metadata": {},
   "source": [
    "#### Triggering Computations\n",
    "There are several ways in which you can trigger a computation so that dask will reduce your arrays and make the result available in memory:\n",
    "\n",
    ">1. [compute()](https://docs.dask.org/en/stable/generated/dask.array.Array.compute.html): tells dask to compute the task graph immediately\n",
    ">2. [persist()](https://docs.dask.org/en/stable/generated/dask.array.Array.persist.html#dask-array-array-persist): the computation is executed in the background when it can\n",
    "\n",
    "Plotting also always triggers a computation, as you need the actual output available in memory in order to make a plot!"
   ]
  },
  {
   "cell_type": "code",
   "execution_count": 9,
   "metadata": {
    "tags": []
   },
   "outputs": [
    {
     "data": {
      "text/plain": [
       "4000000.0"
      ]
     },
     "execution_count": 9,
     "metadata": {},
     "output_type": "execute_result"
    }
   ],
   "source": [
    "ones_sum.compute()"
   ]
  },
  {
   "cell_type": "markdown",
   "metadata": {},
   "source": [
    "#### Example 2: A heftier computation\n",
    "In the previous example, the size of the array we created was small (~30MB). <b>We'd really never use dask for such a computation</b>, so in the example below we'll create a new dask array of ones that is significantly larger.\n",
    "\n",
    "><b><font color='red'>Note:</font></b> Using dask for data that is too small can actually have the opposite effect and make things slower!"
   ]
  },
  {
   "cell_type": "code",
   "execution_count": 10,
   "metadata": {
    "tags": []
   },
   "outputs": [
    {
     "data": {
      "text/html": [
       "<table>\n",
       "    <tr>\n",
       "        <td>\n",
       "            <table style=\"border-collapse: collapse;\">\n",
       "                <thead>\n",
       "                    <tr>\n",
       "                        <td> </td>\n",
       "                        <th> Array </th>\n",
       "                        <th> Chunk </th>\n",
       "                    </tr>\n",
       "                </thead>\n",
       "                <tbody>\n",
       "                    \n",
       "                    <tr>\n",
       "                        <th> Bytes </th>\n",
       "                        <td> 74.51 GiB </td>\n",
       "                        <td> 76.29 MiB </td>\n",
       "                    </tr>\n",
       "                    \n",
       "                    <tr>\n",
       "                        <th> Shape </th>\n",
       "                        <td> (2000, 1000, 5000) </td>\n",
       "                        <td> (200, 100, 500) </td>\n",
       "                    </tr>\n",
       "                    <tr>\n",
       "                        <th> Dask graph </th>\n",
       "                        <td colspan=\"2\"> 1000 chunks in 1 graph layer </td>\n",
       "                    </tr>\n",
       "                    <tr>\n",
       "                        <th> Data type </th>\n",
       "                        <td colspan=\"2\"> float64 numpy.ndarray </td>\n",
       "                    </tr>\n",
       "                </tbody>\n",
       "            </table>\n",
       "        </td>\n",
       "        <td>\n",
       "        <svg width=\"208\" height=\"120\" style=\"stroke:rgb(0,0,0);stroke-width:1\" >\n",
       "\n",
       "  <!-- Horizontal lines -->\n",
       "  <line x1=\"10\" y1=\"0\" x2=\"38\" y2=\"28\" style=\"stroke-width:2\" />\n",
       "  <line x1=\"10\" y1=\"4\" x2=\"38\" y2=\"32\" />\n",
       "  <line x1=\"10\" y1=\"8\" x2=\"38\" y2=\"36\" />\n",
       "  <line x1=\"10\" y1=\"12\" x2=\"38\" y2=\"40\" />\n",
       "  <line x1=\"10\" y1=\"16\" x2=\"38\" y2=\"45\" />\n",
       "  <line x1=\"10\" y1=\"21\" x2=\"38\" y2=\"49\" />\n",
       "  <line x1=\"10\" y1=\"25\" x2=\"38\" y2=\"53\" />\n",
       "  <line x1=\"10\" y1=\"29\" x2=\"38\" y2=\"57\" />\n",
       "  <line x1=\"10\" y1=\"33\" x2=\"38\" y2=\"61\" />\n",
       "  <line x1=\"10\" y1=\"37\" x2=\"38\" y2=\"66\" />\n",
       "  <line x1=\"10\" y1=\"42\" x2=\"38\" y2=\"70\" style=\"stroke-width:2\" />\n",
       "\n",
       "  <!-- Vertical lines -->\n",
       "  <line x1=\"10\" y1=\"0\" x2=\"10\" y2=\"42\" style=\"stroke-width:2\" />\n",
       "  <line x1=\"12\" y1=\"2\" x2=\"12\" y2=\"44\" />\n",
       "  <line x1=\"15\" y1=\"5\" x2=\"15\" y2=\"47\" />\n",
       "  <line x1=\"18\" y1=\"8\" x2=\"18\" y2=\"50\" />\n",
       "  <line x1=\"21\" y1=\"11\" x2=\"21\" y2=\"53\" />\n",
       "  <line x1=\"24\" y1=\"14\" x2=\"24\" y2=\"56\" />\n",
       "  <line x1=\"26\" y1=\"16\" x2=\"26\" y2=\"58\" />\n",
       "  <line x1=\"29\" y1=\"19\" x2=\"29\" y2=\"61\" />\n",
       "  <line x1=\"32\" y1=\"22\" x2=\"32\" y2=\"64\" />\n",
       "  <line x1=\"35\" y1=\"25\" x2=\"35\" y2=\"67\" />\n",
       "  <line x1=\"38\" y1=\"28\" x2=\"38\" y2=\"70\" style=\"stroke-width:2\" />\n",
       "\n",
       "  <!-- Colored Rectangle -->\n",
       "  <polygon points=\"10.0,0.0 38.23529411764706,28.235294117647058 38.23529411764706,70.24518441465705 10.0,42.00989029700999\" style=\"fill:#ECB172A0;stroke-width:0\"/>\n",
       "\n",
       "  <!-- Horizontal lines -->\n",
       "  <line x1=\"10\" y1=\"0\" x2=\"130\" y2=\"0\" style=\"stroke-width:2\" />\n",
       "  <line x1=\"12\" y1=\"2\" x2=\"132\" y2=\"2\" />\n",
       "  <line x1=\"15\" y1=\"5\" x2=\"135\" y2=\"5\" />\n",
       "  <line x1=\"18\" y1=\"8\" x2=\"138\" y2=\"8\" />\n",
       "  <line x1=\"21\" y1=\"11\" x2=\"141\" y2=\"11\" />\n",
       "  <line x1=\"24\" y1=\"14\" x2=\"144\" y2=\"14\" />\n",
       "  <line x1=\"26\" y1=\"16\" x2=\"146\" y2=\"16\" />\n",
       "  <line x1=\"29\" y1=\"19\" x2=\"149\" y2=\"19\" />\n",
       "  <line x1=\"32\" y1=\"22\" x2=\"152\" y2=\"22\" />\n",
       "  <line x1=\"35\" y1=\"25\" x2=\"155\" y2=\"25\" />\n",
       "  <line x1=\"38\" y1=\"28\" x2=\"158\" y2=\"28\" style=\"stroke-width:2\" />\n",
       "\n",
       "  <!-- Vertical lines -->\n",
       "  <line x1=\"10\" y1=\"0\" x2=\"38\" y2=\"28\" style=\"stroke-width:2\" />\n",
       "  <line x1=\"22\" y1=\"0\" x2=\"50\" y2=\"28\" />\n",
       "  <line x1=\"34\" y1=\"0\" x2=\"62\" y2=\"28\" />\n",
       "  <line x1=\"46\" y1=\"0\" x2=\"74\" y2=\"28\" />\n",
       "  <line x1=\"58\" y1=\"0\" x2=\"86\" y2=\"28\" />\n",
       "  <line x1=\"70\" y1=\"0\" x2=\"98\" y2=\"28\" />\n",
       "  <line x1=\"82\" y1=\"0\" x2=\"110\" y2=\"28\" />\n",
       "  <line x1=\"94\" y1=\"0\" x2=\"122\" y2=\"28\" />\n",
       "  <line x1=\"106\" y1=\"0\" x2=\"134\" y2=\"28\" />\n",
       "  <line x1=\"118\" y1=\"0\" x2=\"146\" y2=\"28\" />\n",
       "  <line x1=\"130\" y1=\"0\" x2=\"158\" y2=\"28\" style=\"stroke-width:2\" />\n",
       "\n",
       "  <!-- Colored Rectangle -->\n",
       "  <polygon points=\"10.0,0.0 130.0,0.0 158.23529411764707,28.235294117647058 38.23529411764706,28.235294117647058\" style=\"fill:#ECB172A0;stroke-width:0\"/>\n",
       "\n",
       "  <!-- Horizontal lines -->\n",
       "  <line x1=\"38\" y1=\"28\" x2=\"158\" y2=\"28\" style=\"stroke-width:2\" />\n",
       "  <line x1=\"38\" y1=\"32\" x2=\"158\" y2=\"32\" />\n",
       "  <line x1=\"38\" y1=\"36\" x2=\"158\" y2=\"36\" />\n",
       "  <line x1=\"38\" y1=\"40\" x2=\"158\" y2=\"40\" />\n",
       "  <line x1=\"38\" y1=\"45\" x2=\"158\" y2=\"45\" />\n",
       "  <line x1=\"38\" y1=\"49\" x2=\"158\" y2=\"49\" />\n",
       "  <line x1=\"38\" y1=\"53\" x2=\"158\" y2=\"53\" />\n",
       "  <line x1=\"38\" y1=\"57\" x2=\"158\" y2=\"57\" />\n",
       "  <line x1=\"38\" y1=\"61\" x2=\"158\" y2=\"61\" />\n",
       "  <line x1=\"38\" y1=\"66\" x2=\"158\" y2=\"66\" />\n",
       "  <line x1=\"38\" y1=\"70\" x2=\"158\" y2=\"70\" style=\"stroke-width:2\" />\n",
       "\n",
       "  <!-- Vertical lines -->\n",
       "  <line x1=\"38\" y1=\"28\" x2=\"38\" y2=\"70\" style=\"stroke-width:2\" />\n",
       "  <line x1=\"50\" y1=\"28\" x2=\"50\" y2=\"70\" />\n",
       "  <line x1=\"62\" y1=\"28\" x2=\"62\" y2=\"70\" />\n",
       "  <line x1=\"74\" y1=\"28\" x2=\"74\" y2=\"70\" />\n",
       "  <line x1=\"86\" y1=\"28\" x2=\"86\" y2=\"70\" />\n",
       "  <line x1=\"98\" y1=\"28\" x2=\"98\" y2=\"70\" />\n",
       "  <line x1=\"110\" y1=\"28\" x2=\"110\" y2=\"70\" />\n",
       "  <line x1=\"122\" y1=\"28\" x2=\"122\" y2=\"70\" />\n",
       "  <line x1=\"134\" y1=\"28\" x2=\"134\" y2=\"70\" />\n",
       "  <line x1=\"146\" y1=\"28\" x2=\"146\" y2=\"70\" />\n",
       "  <line x1=\"158\" y1=\"28\" x2=\"158\" y2=\"70\" style=\"stroke-width:2\" />\n",
       "\n",
       "  <!-- Colored Rectangle -->\n",
       "  <polygon points=\"38.23529411764706,28.235294117647058 158.23529411764707,28.235294117647058 158.23529411764707,70.24518441465705 38.23529411764706,70.24518441465705\" style=\"fill:#ECB172A0;stroke-width:0\"/>\n",
       "\n",
       "  <!-- Text -->\n",
       "  <text x=\"98.235294\" y=\"90.245184\" font-size=\"1.0rem\" font-weight=\"100\" text-anchor=\"middle\" >5000</text>\n",
       "  <text x=\"178.235294\" y=\"49.240239\" font-size=\"1.0rem\" font-weight=\"100\" text-anchor=\"middle\" transform=\"rotate(-90,178.235294,49.240239)\">1000</text>\n",
       "  <text x=\"14.117647\" y=\"76.127537\" font-size=\"1.0rem\" font-weight=\"100\" text-anchor=\"middle\" transform=\"rotate(45,14.117647,76.127537)\">2000</text>\n",
       "</svg>\n",
       "        </td>\n",
       "    </tr>\n",
       "</table>"
      ],
      "text/plain": [
       "dask.array<ones_like, shape=(2000, 1000, 5000), dtype=float64, chunksize=(200, 100, 500), chunktype=numpy.ndarray>"
      ]
     },
     "execution_count": 10,
     "metadata": {},
     "output_type": "execute_result"
    }
   ],
   "source": [
    "chunk_shape=(200,100,500)\n",
    "ones_again=da.ones((2000,1000,5000),chunks=chunk_shape)\n",
    "ones_again"
   ]
  },
  {
   "cell_type": "markdown",
   "metadata": {},
   "source": [
    "The dask array we created is ~74GB, which is larger than the available memory each of you has at your disposal on the jupyterhub. If you tried to create this array normally (without dask), it would likely crash your session. Nevertheless, we can use dask to do computations on this array even though we can't read the entire thing into memory at once. \n",
    "\n",
    "><b><font color='red'>WARNING: </font> DO NOT </b> compute a task graph for this computation! Attempting to render large graphs can take forever or crash your system!\n",
    "\n",
    "The chunks we have are much smaller, ~76MB, so when we got to compute, dask will work on the chunks individually:"
   ]
  },
  {
   "cell_type": "code",
   "execution_count": 11,
   "metadata": {
    "tags": []
   },
   "outputs": [
    {
     "name": "stdout",
     "output_type": "stream",
     "text": [
      "[########################################] | 100% Completed | 14.36 s\n"
     ]
    },
    {
     "data": {
      "text/plain": [
       "0.5000000000000001"
      ]
     },
     "execution_count": 11,
     "metadata": {},
     "output_type": "execute_result"
    }
   ],
   "source": [
    "#give us a progress bar when we compute\n",
    "from dask.diagnostics import ProgressBar\n",
    "\n",
    "#Set up a calculation\n",
    "ones_calculation=np.cos(ones_again*np.pi/3).mean()\n",
    "\n",
    "#Do the calculation\n",
    "with ProgressBar():\n",
    "    calc=ones_calculation.compute()\n",
    "calc"
   ]
  },
  {
   "cell_type": "markdown",
   "metadata": {},
   "source": [
    "---"
   ]
  },
  {
   "cell_type": "markdown",
   "metadata": {},
   "source": [
    "## 3. Xarray and Dask\n",
    "In the examples that follow we'll be using hourly [ERA5](https://www.ecmwf.int/en/forecasts/datasets/reanalysis-datasets/era5) potential vorticity (PV) data on a 0.25˚x0.25˚ grid for the month of August 2022. Data were downloaded [here](https://rda.ucar.edu/thredds/catalog/files/g/ds633.0/e5.oper.an.pl/202208/catalog.html) from the UCAR/NCAR Research Data Archive"
   ]
  },
  {
   "cell_type": "markdown",
   "metadata": {},
   "source": [
    "As I have alluded to in previous lectures, [Xarray is designed to work with dask](https://examples.dask.org/xarray.html). You can make _any_ xarray dataset a dask array by simply specifying a `chunks` argument in calls to [open_dataset](https://docs.xarray.dev/en/stable/generated/xarray.open_dataset.html). The chunks keyword in xarray is specified as a dictionary that describes how you want the dataset broken up:"
   ]
  },
  {
   "cell_type": "code",
   "execution_count": null,
   "metadata": {},
   "outputs": [],
   "source": [
    "path='/data/aos573/'\n",
    "ds=xr.open_dataset(path+'e5.oper.an.pl.128_060_pv.ll025sc.2022080100_2022080123.nc',chunks={})\n",
    "ds.PV"
   ]
  },
  {
   "cell_type": "markdown",
   "metadata": {},
   "source": [
    "Anytime you use [open_mfdataset](https://docs.xarray.dev/en/stable/generated/xarray.open_mfdataset.html#xarray-open-mfdataset), xarray also automatically uses dask:"
   ]
  },
  {
   "cell_type": "code",
   "execution_count": null,
   "metadata": {},
   "outputs": [],
   "source": [
    "ds=xr.open_mfdataset(path+'*.nc',chunks={'time':1})\n",
    "ds.PV"
   ]
  },
  {
   "cell_type": "markdown",
   "metadata": {},
   "source": [
    "As a limited example, let's take the time mean of the PV for only the first 24 hours of data and plot it at 500 hPa. \n",
    "\n",
    "><b><font color='blue'>Note:</font></b> When using dask with xarray, you can also trigger computations using `.load()` in addition to `.compute()` or `.persist()`"
   ]
  },
  {
   "cell_type": "code",
   "execution_count": null,
   "metadata": {},
   "outputs": [],
   "source": [
    "%%time\n",
    "pvmn=ds.PV.sel(time=slice('2022-08-01T00','2022-08-01T23')).mean(dim='time')\n",
    "pvmn.sel(level=500).plot()"
   ]
  },
  {
   "cell_type": "markdown",
   "metadata": {},
   "source": [
    "At a low traffic time on the jupyterhub, this calculation takes me about 6 seconds. Let's compute approximately how much time it would take to calculate an average for the entire month of August:\n",
    ">6 seconds/day * 31 days/month = 186 seconds or ~3 min to process a month of data with 31 days\n",
    "\n",
    "<b>Now imagine you wanted to get monthly mean values for the entire ERA5 dataset up through the end of 2021 (so 1959-2022 or 63 years of data).</b> For simplicity well assume that each month has 30 days:\n",
    ">6 seconds/day * 30 days/month * 12 months/year * 63 years = 136080 seconds or ~38 hours\n",
    "\n",
    "You _could_ just submit this job to run in the background on a server and go work on whatever else you need to accomplish. But that's assuming your code works and your script does not get interrupted in the mean time. Chances are, though, that even if your code runs, you will have made some kind of mistake the first few times through, which means you will need another day and a half to run your code (and perhaps another, and another after that).\n",
    "\n",
    "#### <font color='red'>If that doesn't make you feel concerned, it should!</font>\n",
    "    \n",
    "Part of the issue is that we didn't think too critically about our chunking strategy, so much so that if we read in the data and did the computation without dask, it would take a similar amount of time."
   ]
  },
  {
   "cell_type": "markdown",
   "metadata": {},
   "source": [
    "### More on chunking\n",
    "How do you actually decide what a good chunk size is? Like many things we've learned this semester, choosing a good chunk size is an art, so you should expect some amount of trial and error when figuring it out. \n",
    "\n",
    "<b>Here are a few guidelines to follow:</b>\n",
    ">1. The dask developers state optimal chunk size should be in the ~10-100 MB range. \n",
    ">2. Once you've finished all of your data reduction steps, check the number of tasks and try to keep that number as minimal as possible. If you've got 10,000-100,000 tasks, you've probably got too many.   \n",
    ">3. Set your chunk strategy based upon the dimensions that you will be reducing along\n",
    "\n",
    "We'll go through an example below to help you practice thinking about some of these things. Using 10 days of ERA5 output, we're going to calculate daily values of mean PV over (roughly) the contiguous U.S. in two different ways: \n",
    "\n",
    "><b>Method 1:</b> Calculate the spatial mean at each time and then calculate the daily means <br>\n",
    "><b>Method 2:</b> Calculate the daily means at each grid point and then calculate the spatial mean"
   ]
  },
  {
   "cell_type": "markdown",
   "metadata": {},
   "source": [
    "First, let's read in our data with slightly different chunks:"
   ]
  },
  {
   "cell_type": "code",
   "execution_count": null,
   "metadata": {},
   "outputs": [],
   "source": [
    "ds=xr.open_mfdataset(path+'*.nc',chunks={'time':12, 'level':1})\n",
    "ds.PV"
   ]
  },
  {
   "cell_type": "markdown",
   "metadata": {},
   "source": [
    "Method 1:"
   ]
  },
  {
   "cell_type": "code",
   "execution_count": null,
   "metadata": {},
   "outputs": [],
   "source": [
    "%%time\n",
    "pv_slice=ds.PV.sel(latitude=slice(70,50),longitude=slice(70,125))\n",
    "pv1=pv_slice.mean(dim=('longitude','latitude')).groupby('time.day').mean('time').load()"
   ]
  },
  {
   "cell_type": "markdown",
   "metadata": {},
   "source": [
    "Method 2:"
   ]
  },
  {
   "cell_type": "code",
   "execution_count": null,
   "metadata": {},
   "outputs": [],
   "source": [
    "%%time\n",
    "pv_slice=ds.PV.sel(latitude=slice(70,50),longitude=slice(70,125))\n",
    "pv2=pv_slice.groupby('time.day').mean('time').mean(dim=('longitude','latitude')).load()"
   ]
  },
  {
   "cell_type": "markdown",
   "metadata": {},
   "source": [
    "#### Question for the class\n",
    "Why do these computations take different amounts of time?"
   ]
  },
  {
   "cell_type": "code",
   "execution_count": null,
   "metadata": {},
   "outputs": [],
   "source": []
  },
  {
   "cell_type": "markdown",
   "metadata": {},
   "source": [
    "---"
   ]
  },
  {
   "cell_type": "markdown",
   "metadata": {},
   "source": [
    "## 4. Distributing your computations across multiple cores"
   ]
  },
  {
   "cell_type": "markdown",
   "metadata": {},
   "source": [
    "### dask.distributed\n",
    "\n",
    "By default dask computes each chunk in series rather than in parallel. If you want to change that behavior, that's where [dask.distributed](https://distributed.dask.org/en/stable/) comes in--it allows us to spread our processes over multiple cores, so that multiple dask chunks can be operated upon simultaneously. \n",
    "\n",
    "Let's import what we need from dask.distributed:"
   ]
  },
  {
   "cell_type": "code",
   "execution_count": 12,
   "metadata": {
    "tags": []
   },
   "outputs": [],
   "source": [
    "#import dask.distributed methods\n",
    "from dask.distributed import Client, LocalCluster"
   ]
  },
  {
   "cell_type": "markdown",
   "metadata": {},
   "source": [
    "In our case we are going set up a [local cluster](https://distributed.dask.org/en/stable/api.html#cluster) with 1 thread per worker (1 worker = 1 core), 2 GB memory per worker, with 4 workers. \n",
    "\n",
    "Each of you has 8 cores and a total of 16GB of memory available on the jupyterhub we are working on, but we don't want to set up a cluster that uses all of the available memory.\n",
    "\n",
    "<b>Some important arguments in `LocalCluster`:</b>\n",
    ">1. <b><font color='navy'>threads_per_worker:</font></b> how many processors are part of each worker. \n",
    ">2. <b><font color='navy'>memory_limit:</font></b> the memory assigned to each worker.  Total memory available = n_workers*memory_limit\n",
    "\n",
    "We have 4 cores x 2GB = 8GB for the memory limit. "
   ]
  },
  {
   "cell_type": "code",
   "execution_count": 13,
   "metadata": {
    "tags": []
   },
   "outputs": [],
   "source": [
    "cluster = LocalCluster(memory_limit='2GB', threads_per_worker=1)"
   ]
  },
  {
   "cell_type": "markdown",
   "metadata": {},
   "source": [
    "Once we specify the memory limit and threads per worker, we have two options for how to scale the cluster. We can make it adaptive (the number of workers used scales with the amount of work to be done at the time) or we can reserve a static number of processes:"
   ]
  },
  {
   "cell_type": "code",
   "execution_count": null,
   "metadata": {},
   "outputs": [],
   "source": [
    "cluster.scale(4)  # scale cluster to use 4 workers\n",
    "\n",
    "#OR\n",
    "#Allow your cluster to scale to a max of 4 workers, always with a min of 1 worker:\n",
    "#cluster.adapt(minimum=1, maximum=4)  "
   ]
  },
  {
   "cell_type": "markdown",
   "metadata": {},
   "source": [
    "After our cluster is set up, we need to set up a [client](https://distributed.dask.org/en/stable/api.html#client). The client does the job of assigning our dask chunks to specific workers in our cluster:"
   ]
  },
  {
   "cell_type": "code",
   "execution_count": null,
   "metadata": {},
   "outputs": [],
   "source": [
    "client=Client(cluster)"
   ]
  },
  {
   "cell_type": "code",
   "execution_count": null,
   "metadata": {},
   "outputs": [],
   "source": [
    "client"
   ]
  },
  {
   "cell_type": "markdown",
   "metadata": {},
   "source": [
    "#### Dask widgets\n",
    "Click on the Launch dashboard in Jupyterlab button above to see what shows up. There are a bunch of tools here, and as you become more familiar with dask, several of them will be useful. We'll mostly use the [task stream](https://distributed.dask.org/en/stable/diagnosing-performance.html#task-start-and-stop-times) (assuming it decides to show up today). "
   ]
  },
  {
   "cell_type": "markdown",
   "metadata": {},
   "source": [
    "#### Another example\n",
    "Let's go through another example to get used to working with a dask cluster. In this example we're going to read in all of the hourly August data from a thredds server instead (so we don't have to download it locally) and then do a computation that doesn't allow us to do much data reduction:"
   ]
  },
  {
   "cell_type": "code",
   "execution_count": null,
   "metadata": {},
   "outputs": [],
   "source": [
    "%%time \n",
    "#import TDScatalog from siphon\n",
    "from siphon.catalog import TDSCatalog\n",
    "#get the thredds catalog\n",
    "cat=TDSCatalog('https://rda.ucar.edu/thredds/catalog/files/g/ds633.0/e5.oper.an.pl/202208/catalog.xml')\n",
    "#get the data we want\n",
    "data=[cds.access_urls['OPENDAP'] for cds in cat.datasets[1:62:2]]\n",
    "#open the data\n",
    "ds=xr.open_mfdataset(data,chunks={'time':12,'level':1})\n",
    "\n",
    "#Alternate if siphon refuses to play nice in time\n",
    "#path='/data/aos573/'\n",
    "#ds=xr.open_mfdataset(path+'*.nc',chunks={'time':12, 'level':1})"
   ]
  },
  {
   "cell_type": "code",
   "execution_count": null,
   "metadata": {},
   "outputs": [],
   "source": [
    "ds.PV"
   ]
  },
  {
   "cell_type": "markdown",
   "metadata": {},
   "source": [
    "Let's compute the meridional PV gradient of the 3-hourly mean fields. Because of the nature of our calculation, we aren't reducing any of the spatial dimensions, so we'll reduce time first and then do the gradient calculation:"
   ]
  },
  {
   "cell_type": "code",
   "execution_count": null,
   "metadata": {},
   "outputs": [],
   "source": [
    "#Resample\n",
    "pv_resample=ds.PV.resample({'time':'3H'}).mean()\n",
    "\n",
    "#Compute the gradient\n",
    "dy=6371000*0.25*np.pi/180 #compute dy first (grid is evenly spaced)\n",
    "#Keep track of the fact that latitude in ERA5 starts at 90 not -90, so lat is decreasing, and hence y\n",
    "dy=-dy\n",
    "pv_grad=pv_resample.diff(dim='latitude')/dy"
   ]
  },
  {
   "cell_type": "markdown",
   "metadata": {},
   "source": [
    "Let's look at what the size of our computed output will be _before_ we compute it:"
   ]
  },
  {
   "cell_type": "code",
   "execution_count": null,
   "metadata": {},
   "outputs": [],
   "source": [
    "pv_grad"
   ]
  },
  {
   "cell_type": "code",
   "execution_count": null,
   "metadata": {},
   "outputs": [],
   "source": [
    "%%time\n",
    "#Plot\n",
    "pv_grad_slice=pv_grad.sel(level=500,time='2022-08-01T00')\n",
    "pv_grad_slice.plot(vmin=-0.05e-10,vmax=0.05e-10)"
   ]
  },
  {
   "cell_type": "markdown",
   "metadata": {},
   "source": [
    "### Using functions that aren't built for xarray/dask\n",
    "\n",
    "Because xarray is built upon dask, all xarray functions will parallelize if dask has been invoked. This isn't necessarily the case for more complicated functions built upon normal numpy arrays. To allow these kinds of functions to scale and use dask, there are a couple of methods that can help:\n",
    "\n",
    ">1. [xarray.apply_ufunc()](http://xarray.pydata.org/en/stable/generated/xarray.apply_ufunc.html): apply_ufunc() allows you to apply generic functions to xarray objects\n",
    ">2. [dask.array.map_blocks](https://docs.dask.org/en/latest/generated/dask.array.map_blocks.html) and [xarray.map_blocks](http://xarray.pydata.org/en/stable/generated/xarray.map_blocks.html#xarray.map_blocks\n",
    "): these can be useful for blocking and operating on objects that aren't built on dask arrays already \n",
    "\n",
    "><font color='red'><b>Note:</b></font> It can be very challenging to figure out how to use `apply_ufuncs()` and `map_blocks()` in specific cases!\n",
    "\n",
    "Below I'll demonstrate an example using `apply_ufuncs`. We'll take the [np.gradient](https://numpy.org/doc/stable/reference/generated/numpy.gradient.html#numpy-gradient) function and apply it to our PV fields:"
   ]
  },
  {
   "cell_type": "code",
   "execution_count": null,
   "metadata": {},
   "outputs": [],
   "source": [
    "#Set up the function\n",
    "def grad(da, dim, grid_delta):\n",
    "    #remember that apply ufunc moves input core dimensions to end\n",
    "    #of array\n",
    "    return xr.apply_ufunc(np.gradient, da, grid_delta, kwargs={'axis': -1},\n",
    "            input_core_dims=[[dim], []], output_core_dims=[[dim]],\n",
    "            output_dtypes=[da.dtype],dask = 'parallelized')"
   ]
  },
  {
   "cell_type": "markdown",
   "metadata": {},
   "source": [
    "To demonstrate the functionality, we'll get a single level and time from the data giving us one 2D field:"
   ]
  },
  {
   "cell_type": "code",
   "execution_count": null,
   "metadata": {},
   "outputs": [],
   "source": [
    "pv_slice=ds.PV.sel(level=500,time='2022-08-01T00')"
   ]
  },
  {
   "cell_type": "code",
   "execution_count": null,
   "metadata": {},
   "outputs": [],
   "source": [
    "%%time\n",
    "pv_grad=grad(pv_slice,dim='latitude',grid_delta=-dy) #lat is decreasing from start to finish\n",
    "pv_grad.load()"
   ]
  },
  {
   "cell_type": "code",
   "execution_count": null,
   "metadata": {},
   "outputs": [],
   "source": [
    "pv_grad.T.plot(vmin=-0.05e-10,vmax=0.05e-10)"
   ]
  },
  {
   "cell_type": "markdown",
   "metadata": {},
   "source": [
    "### <font color='red'> When you're all done with your distributed computations you must shut down the client and close the cluster:</font>\n"
   ]
  },
  {
   "cell_type": "code",
   "execution_count": 14,
   "metadata": {
    "tags": []
   },
   "outputs": [
    {
     "ename": "NameError",
     "evalue": "name 'client' is not defined",
     "output_type": "error",
     "traceback": [
      "\u001b[0;31m---------------------------------------------------------------------------\u001b[0m",
      "\u001b[0;31mNameError\u001b[0m                                 Traceback (most recent call last)",
      "Cell \u001b[0;32mIn[14], line 1\u001b[0m\n\u001b[0;32m----> 1\u001b[0m client\u001b[38;5;241m.\u001b[39mshutdown()  \u001b[38;5;66;03m#order matters, stop the client then the cluster\u001b[39;00m\n\u001b[1;32m      2\u001b[0m cluster\u001b[38;5;241m.\u001b[39mclose()\n",
      "\u001b[0;31mNameError\u001b[0m: name 'client' is not defined"
     ]
    }
   ],
   "source": [
    "client.shutdown()  #order matters, stop the client then the cluster\n",
    "cluster.close()"
   ]
  },
  {
   "cell_type": "markdown",
   "metadata": {},
   "source": [
    "---"
   ]
  },
  {
   "cell_type": "markdown",
   "metadata": {},
   "source": [
    "## 5. The rules of the road"
   ]
  },
  {
   "cell_type": "markdown",
   "metadata": {},
   "source": [
    "#### <p style=\"border-width:3px; border-style:solid; border-color:darkmagenta; padding: 1em;\"><font color='purple'>\"With great dask power comes great dask responsibility\"</font><br><font size=2 color='gray'>Elizabeth Maroon</font></p>\n",
    "<b>Dask can lead to significant speedups in your work, but it's very easy to mess things up for both you AND others. </b>\n",
    "\n",
    "If you are on a relatively small server, it is easy to accidentally scale your dask cluster to the entire server and slow/crash everyone else's processes! Or, maybe you accidentally scale to use up all the memory, and crash the server. \n",
    "\n",
    "<b>In general, it's best to keep the following in mind when using dask:</b>\n",
    "\n",
    ">1. Don't use dask just because you can, use it when it's actually necessary. If your data are not huge, it may be more cost-efficient for your time to use more traditional methods and skip dask\n",
    ">2. AVOID USING DASK ON THE 14th FLOOR MACHINES or the AOS jupyterhub. USE DASK ON GROUP RESEARCH SERVERS INSTEAD\n",
    ">3. Be <b>very deliberate</b> in setting up the memory and number of cores that you're using. Don't persist/load an entire dataset into memory. \n",
    ">4. When doing exploratory analysis, use cluster.adapt() rather than cluster.scale() to minimize the time when a maximum number of workers are used\n",
    ">5. <b><font color='red'>Don't take over an entire system!!</font></b>--run top in a terminal to check on your dask processes to make sure that this isn't happening. It also helps to know the specifications of the system you are working on so that you don't get near this limit.\n",
    "\n",
    "<b> Regardless of the platform, always be a polite compute user and be aware of those also using computational resources.</b> "
   ]
  }
 ],
 "metadata": {
  "kernelspec": {
   "display_name": "aos573",
   "language": "python",
   "name": "aos573"
  },
  "language_info": {
   "codemirror_mode": {
    "name": "ipython",
    "version": 3
   },
   "file_extension": ".py",
   "mimetype": "text/x-python",
   "name": "python",
   "nbconvert_exporter": "python",
   "pygments_lexer": "ipython3",
   "version": "3.11.5"
  }
 },
 "nbformat": 4,
 "nbformat_minor": 4
}
