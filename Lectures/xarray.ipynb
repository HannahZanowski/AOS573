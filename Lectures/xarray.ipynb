{
 "cells": [
  {
   "cell_type": "markdown",
   "metadata": {},
   "source": [
    "<b><font size=20, color='#A020F0'>Xarray"
   ]
  },
  {
   "cell_type": "markdown",
   "metadata": {},
   "source": [
    "Hannah Zanowski<br>\n",
    "10/11/21<br>"
   ]
  },
  {
   "cell_type": "markdown",
   "metadata": {},
   "source": [
    "#### Resources\n",
    "[Xarray Documentation](http://xarray.pydata.org/en/stable/)<br>\n",
    "[Xarray API reference](http://xarray.pydata.org/en/stable/api.html)<br>"
   ]
  },
  {
   "cell_type": "markdown",
   "metadata": {},
   "source": [
    "# A little about Xarray"
   ]
  },
  {
   "cell_type": "markdown",
   "metadata": {},
   "source": [
    "Xarray is an extra-glorious library for working with multi-dimensional data that was inspired by Pandas. It uses numpy's N-D arrays, but with _labels_, which makes working with multi-dimensional data much more inuitive and streamlined. It is excellent at handling gridded data, including the [netCDF](https://www.unidata.ucar.edu/software/netcdf/) file format, which is a very common format for atmospheric and oceanic science data. Xarray is one of the packages I use the most in my work."
   ]
  },
  {
   "cell_type": "markdown",
   "metadata": {},
   "source": [
    "Let's begin by importing xarray (and a few others):"
   ]
  },
  {
   "cell_type": "code",
   "execution_count": null,
   "metadata": {},
   "outputs": [],
   "source": [
    "import xarray as xr\n",
    "import numpy as np\n",
    "import matplotlib.pyplot as plt"
   ]
  },
  {
   "cell_type": "markdown",
   "metadata": {},
   "source": [
    "---"
   ]
  },
  {
   "cell_type": "markdown",
   "metadata": {},
   "source": [
    "## 1. DataArrays\n",
    "[DataArray](http://xarray.pydata.org/en/stable/generated/xarray.DataArray.html) objects are a core data structure in xarray. There are 4 key elements associated with a DataArray:\n",
    "1. `values`: the numpy array that holds the data\n",
    "2. `dims`: the names for each axis of your data (e.g., 'x','y')\n",
    "3. `coords`: the coordinates that label each data point (e.g., arrays for latitude, dates)\n",
    "4. `attrs`: the attributes of the data (e.g., metadata like units, descriptions of the variables, etc)"
   ]
  },
  {
   "cell_type": "markdown",
   "metadata": {},
   "source": [
    "### Creating an xarray DataArray\n",
    "It's straightforward to make a DataArray. Here's what one looks like in its simplest form:"
   ]
  },
  {
   "cell_type": "code",
   "execution_count": null,
   "metadata": {},
   "outputs": [],
   "source": [
    "da=xr.DataArray(np.arange(2,22,2))\n",
    "da"
   ]
  },
  {
   "cell_type": "markdown",
   "metadata": {},
   "source": [
    "But this isn't particularly instructive. We need to add arguments for the dimensions, coordinates, and some attributes in order for the values in our DataArray to be meaningful. Let's use our Argo float data from Homework1 to make a DataArray:"
   ]
  },
  {
   "cell_type": "code",
   "execution_count": null,
   "metadata": {},
   "outputs": [],
   "source": [
    "argo=np.load('../Homework/20210901_IndianOcean.npz')\n",
    "list(argo.keys())"
   ]
  },
  {
   "cell_type": "code",
   "execution_count": null,
   "metadata": {},
   "outputs": [],
   "source": [
    "#Make the argo temperature data a data array\n",
    "da=xr.DataArray(argo['temperature'],dims=['pressure'],coords={'pressure':argo['pressure']})\n",
    "da"
   ]
  },
  {
   "cell_type": "markdown",
   "metadata": {},
   "source": [
    "Let's add a units attribute to our DataArray:"
   ]
  },
  {
   "cell_type": "code",
   "execution_count": null,
   "metadata": {},
   "outputs": [],
   "source": []
  },
  {
   "cell_type": "markdown",
   "metadata": {},
   "source": [
    "You can access the values, coordinates, dimensions,and attributes of your DataArray with the following commands:"
   ]
  },
  {
   "cell_type": "code",
   "execution_count": null,
   "metadata": {},
   "outputs": [],
   "source": []
  },
  {
   "cell_type": "code",
   "execution_count": null,
   "metadata": {},
   "outputs": [],
   "source": []
  },
  {
   "cell_type": "code",
   "execution_count": null,
   "metadata": {},
   "outputs": [],
   "source": []
  },
  {
   "cell_type": "code",
   "execution_count": null,
   "metadata": {},
   "outputs": [],
   "source": []
  },
  {
   "cell_type": "markdown",
   "metadata": {},
   "source": [
    "Like Pandas, there is built-in plotting with xarray:"
   ]
  },
  {
   "cell_type": "code",
   "execution_count": null,
   "metadata": {},
   "outputs": [],
   "source": [
    "da.plot(y='pressure',yincrease=False)"
   ]
  },
  {
   "cell_type": "markdown",
   "metadata": {},
   "source": [
    "---"
   ]
  },
  {
   "cell_type": "markdown",
   "metadata": {},
   "source": [
    "## 2. Datasets\n",
    "[Dataset](http://xarray.pydata.org/en/stable/generated/xarray.Dataset.html) objects are another core data structure in xarray. Like the Pandas Dataframe, an xarray Dataset is just a container for a collection of xarray DataArrays that share coordinates."
   ]
  },
  {
   "cell_type": "markdown",
   "metadata": {},
   "source": [
    "### Creating an xarray Dataset\n",
    "Let's use our argo data to make our first xarray Dataset. Datasets need the following information:\n",
    "1. `data_vars`: a dictionary `{}` that maps variable names to the data they represent\n",
    "2. `coords`: the coordinates of the data variables<br>\n",
    "\n",
    "As with DataArrays, you can also set attributes with `attrs`. Attributes are techincally not _required_ to create a Dataset (just like for DataArrays), but you should include them! They can be set globally for the dataset and for individual data variables. For some common attributes, check out the [CF Conventions](http://cfconventions.org/Data/cf-conventions/cf-conventions-1.7/cf-conventions.html#_description_of_the_data)\n",
    "\n",
    "<b>Note:</b> The data that you provide in `data_vars` can be DataArrays, pandas objects, etc, or you can create new data as long as it is a tuple of the form `(dims, data[, attrs])`, which xarray will interpret."
   ]
  },
  {
   "cell_type": "code",
   "execution_count": null,
   "metadata": {},
   "outputs": [],
   "source": [
    "ds=xr.Dataset(data_vars={'temp':('pressure',argo['temperature'],{'units':'degC'}),\n",
    "                         'salt':('pressure',argo['salinity'],{'units':'PSU'})},\n",
    "             coords={'pressure':('pressure',argo['pressure'])},\n",
    "             attrs={'Description':'Argo salinity and temperature data from the equatorial Indian Ocean'})\n",
    "ds"
   ]
  },
  {
   "cell_type": "markdown",
   "metadata": {},
   "source": [
    "Awesome! But what did we just _do_? Let's unpack the `data_vars` argument in `xr.Dataset()`:<br>\n",
    "\n",
    "As mentioned above, `data_vars` is a dictionary, and it maps the names of variables to the data from those variables. It does this in the form {key:tuple}. For just the variable 'temp' this looks like `{'temp':('pressure',argo['temperature'],{'units':'degC'})}`<br>\n",
    "\n",
    "Here `'temp'` is the dictionary key (the name of the variable) and the tuple contains the pieces of information we are assigning to that variable name. In this case the tuple for `'temp'` contains three pieces of information:\n",
    "1. The dimensions--in this case the only dimension our data has is `'pressure'`<b><font color='red'>NOTE:</font></b> If your data variable has more than 1 dimension, you will need to provide these as a tuple, e.g. (dim1,dim2,...)\n",
    "2. The data itself--in this case it's the temperature data from our argo float, `argo['temperature']`\n",
    "3. The attributes of our data variable, which is _another_ dictionary--in this case we only gave the argo temeprature data variable a 'units' attribute. Because this is another dictionary, it maps the key (`'units'`) to the value (`'degC'`)"
   ]
  },
  {
   "cell_type": "markdown",
   "metadata": {},
   "source": [
    "#### Adding/dropping data variables\n",
    "You can add data variables to a dataset after you've created it:"
   ]
  },
  {
   "cell_type": "code",
   "execution_count": null,
   "metadata": {},
   "outputs": [],
   "source": [
    "#Add a data variable for the square of the temperature\n",
    "ds['temp_squared']=ds.temp*ds.temp\n",
    "ds"
   ]
  },
  {
   "cell_type": "markdown",
   "metadata": {},
   "source": [
    "You can also drop data variables:"
   ]
  },
  {
   "cell_type": "code",
   "execution_count": null,
   "metadata": {},
   "outputs": [],
   "source": [
    "ds=ds.drop('temp_squared')\n",
    "ds"
   ]
  },
  {
   "cell_type": "markdown",
   "metadata": {},
   "source": [
    "#### Using to_dataset() with DataArrays\n",
    "If you have some defined DataArrays, you can use xarray's [to_dataset()](http://xarray.pydata.org/en/stable/generated/xarray.DataArray.to_dataset.html) to create a dataset directly from them:"
   ]
  },
  {
   "cell_type": "code",
   "execution_count": null,
   "metadata": {},
   "outputs": [],
   "source": [
    "ds2=da.to_dataset(name='temp')\n",
    "ds2"
   ]
  },
  {
   "cell_type": "markdown",
   "metadata": {},
   "source": [
    "---"
   ]
  },
  {
   "cell_type": "markdown",
   "metadata": {},
   "source": [
    "## 3. Working with xarray datasets\n",
    "To show you the real power of xarray, we'll be using [HadISST1](https://www.metoffice.gov.uk/hadobs/hadisst/data/download.html) sea surface temperature data from Jan 2000 to Dec 2020 in the following examples"
   ]
  },
  {
   "cell_type": "markdown",
   "metadata": {},
   "source": [
    "### Reading in data\n",
    "You can read in [netCDF](https://www.unidata.ucar.edu/software/netcdf/) data using [open_dataset](http://xarray.pydata.org/en/stable/generated/xarray.open_dataset.html) (or [open_mfdataset](http://xarray.pydata.org/en/stable/generated/xarray.open_mfdataset.html) to open multiple files at once!)"
   ]
  },
  {
   "cell_type": "code",
   "execution_count": null,
   "metadata": {},
   "outputs": [],
   "source": []
  },
  {
   "cell_type": "markdown",
   "metadata": {},
   "source": [
    "### Accessing data"
   ]
  },
  {
   "cell_type": "markdown",
   "metadata": {},
   "source": [
    "There's a lot of information in this dataset, but how do we interpret it? Let's start by getting the attributes of the data variable `sst`:"
   ]
  },
  {
   "cell_type": "code",
   "execution_count": null,
   "metadata": {},
   "outputs": [],
   "source": []
  },
  {
   "cell_type": "markdown",
   "metadata": {},
   "source": [
    "Because the attributes are a dictionary, we can also access a specific attribute if we know its name:"
   ]
  },
  {
   "cell_type": "code",
   "execution_count": null,
   "metadata": {},
   "outputs": [],
   "source": [
    "#Get only the units attribute of SST\n"
   ]
  },
  {
   "cell_type": "markdown",
   "metadata": {},
   "source": [
    "Acessing specific data variables is much like in pandas when we access columns:"
   ]
  },
  {
   "cell_type": "code",
   "execution_count": null,
   "metadata": {},
   "outputs": [],
   "source": [
    "\n",
    "#or\n",
    "#ds.sst"
   ]
  },
  {
   "cell_type": "markdown",
   "metadata": {},
   "source": [
    "#### Selecting data\n",
    "You can [select data from a Dataset or DataArray using](http://xarray.pydata.org/en/stable/user-guide/indexing.html) `.sel()` or `.isel()`. Like pandas, `.sel()` allows you to select based on variables names, etc and `.isel()` allows you to select data based on its integer index."
   ]
  },
  {
   "cell_type": "code",
   "execution_count": null,
   "metadata": {},
   "outputs": [],
   "source": [
    "\n",
    "#or\n",
    "#ds['sst'].sel({'time':'2015'})"
   ]
  },
  {
   "cell_type": "code",
   "execution_count": null,
   "metadata": {},
   "outputs": [],
   "source": [
    "#Get SST data at the first time\n",
    "\n",
    "#or\n",
    "#ds['sst'].isel({'time':0})"
   ]
  },
  {
   "cell_type": "markdown",
   "metadata": {},
   "source": [
    "Both `.sel()` and `.isel()` can take multiple inputs:"
   ]
  },
  {
   "cell_type": "code",
   "execution_count": null,
   "metadata": {},
   "outputs": [],
   "source": [
    "#Choose sst data at a specific time and point\n"
   ]
  },
  {
   "cell_type": "markdown",
   "metadata": {},
   "source": [
    "But what if you don't remember or know the _exact_ coordinate values? You can set the 'method' keyword argument!"
   ]
  },
  {
   "cell_type": "code",
   "execution_count": null,
   "metadata": {},
   "outputs": [],
   "source": []
  },
  {
   "cell_type": "markdown",
   "metadata": {},
   "source": [
    "#### Slicing\n",
    "If you want to select a range of data you need to use xarray's `slice()`. Let's use slice to select a subset of data for our entire dataset."
   ]
  },
  {
   "cell_type": "code",
   "execution_count": null,
   "metadata": {},
   "outputs": [],
   "source": [
    "ds_slice=ds.sel(time=slice('2015-01-16','2016-12-16'),longitude=slice(30.5,179.5),latitude=slice(45,None))\n",
    "#or\n",
    "#ds_slice=ds.sel({'time':slice('2015-01-16','2016-12-16'),'longitude':slice(30.5,60.5),'latitude':slice(45,None)})"
   ]
  },
  {
   "cell_type": "markdown",
   "metadata": {},
   "source": [
    "Let's make a quick 2D plot of SST using the first date:"
   ]
  },
  {
   "cell_type": "code",
   "execution_count": null,
   "metadata": {},
   "outputs": [],
   "source": [
    "\n",
    "\n",
    "#This is equivalent to\n",
    "#ds_slice.sst.isel(time=0).plot()\n",
    "#ds.slice.sst.sel(time='2015-01-16').plot()"
   ]
  },
  {
   "cell_type": "markdown",
   "metadata": {},
   "source": [
    "Hmmmm, this isn't quite what we wanted...If you look closely at the dataset output, you'll see that this is because of the order that our latitude values are provided in the dataset--they go from 90N to 90S, _not_ 90S to 90N! We can fix this a couple of different ways:\n",
    "\n",
    "1. We can change the slice argument for latitude slightly: slice(None,45)\n",
    "2. We can just reset the latitude coordinate for the entire dataset\n",
    "\n",
    "Let's use option 2 so we don't have to deal with it again. Here we'll be using [reindex()](http://xarray.pydata.org/en/stable/generated/xarray.Dataset.reindex.html) to reindex the dataset based on our new latitude coordinate that starts at -89.5 and ends at 89.5:"
   ]
  },
  {
   "cell_type": "code",
   "execution_count": null,
   "metadata": {},
   "outputs": [],
   "source": [
    "ds=ds.reindex(latitude=list(reversed(ds.latitude)))\n",
    "ds"
   ]
  },
  {
   "cell_type": "markdown",
   "metadata": {},
   "source": [
    "#### Filtering with where()\n",
    "The other, more obvious thing you probably noticed about your plot is that the range of SST values is enormous and unphysical. This is because this dataset has some missing values under sea ice, and these are set to -1000. Let's get rid of those using xarray's [where()](http://xarray.pydata.org/en/stable/generated/xarray.where.html) function. `where()` takes as input a condition on your data and replaces the values that <font color='red'><b>_DO NOT_</b></font> meet that condition with nan. If you want those values to be replaced with a value other than nan, use the `other` keyword argument.\n",
    "\n",
    "Before we use `where()` to get rid of the missing values, we want to make a mask for land, which is currently set as nan. If we don't keep track of the land separately, then once we use `where()` both the missing values and land values will be the same."
   ]
  },
  {
   "cell_type": "code",
   "execution_count": null,
   "metadata": {},
   "outputs": [],
   "source": [
    "land=np.isnan(ds.sst[0])"
   ]
  },
  {
   "cell_type": "code",
   "execution_count": null,
   "metadata": {},
   "outputs": [],
   "source": [
    "#make a quick plot with matplotlib's pcolormesh\n"
   ]
  },
  {
   "cell_type": "markdown",
   "metadata": {},
   "source": [
    "Now that we have our land mask let's use `.where()` to turn the missing values into nan:"
   ]
  },
  {
   "cell_type": "code",
   "execution_count": null,
   "metadata": {},
   "outputs": [],
   "source": [
    "ds=ds.where(ds.sst>-1000)"
   ]
  },
  {
   "cell_type": "markdown",
   "metadata": {},
   "source": [
    "Let's add our land mask to the dataset:"
   ]
  },
  {
   "cell_type": "code",
   "execution_count": null,
   "metadata": {},
   "outputs": [],
   "source": [
    "ds['land']=land\n",
    "ds"
   ]
  },
  {
   "cell_type": "markdown",
   "metadata": {},
   "source": [
    "And finally, let's make another plot, but now using our SSTs without the missing values:"
   ]
  },
  {
   "cell_type": "code",
   "execution_count": null,
   "metadata": {},
   "outputs": [],
   "source": [
    "fig,ax=plt.subplots()\n",
    "#add land first\n",
    "ax.pcolormesh(ds.land,cmap=plt.cm.gray_r)\n",
    "#then plot over the land with SSTs\n",
    "cs=ax.pcolormesh(ds['sst'].sel(time='2015-01-16').squeeze(),cmap=plt.cm.plasma)\n",
    "cbar=plt.colorbar(cs)"
   ]
  },
  {
   "cell_type": "markdown",
   "metadata": {},
   "source": [
    "<b>Note:</b> In this particular case, if all you wanted to do was plot the data and _not_ bother with `where()` you could just do the following once you read in your data:\n",
    "\n",
    "```bash\n",
    "cmap=plt.cm.plasma.copy()\n",
    "cmap.set_under('0.5') #set values under the minimum value to be gray\n",
    "fig,ax=plt.subplots()\n",
    "#plot the SSTs, but set the min and max values for the colorbar\n",
    "cs=ax.pcolormesh(ds['sst'].sel(time='2015-01-16').squeeze(),cmap=cmap,vmin=-2, vmax=ds.sst.max())\n",
    "cbar=plt.colorbar(cs)\n",
    "```"
   ]
  },
  {
   "cell_type": "markdown",
   "metadata": {},
   "source": [
    "#### Using where() for multiple conditions\n",
    "If you want to filter your data based on multiple conditions at once, all you need to do is chain several `where()` functions together:"
   ]
  },
  {
   "cell_type": "code",
   "execution_count": null,
   "metadata": {},
   "outputs": [],
   "source": [
    "#Get only the SST values that fall between 5˚C and 20˚C that are south of the Equator\n"
   ]
  },
  {
   "cell_type": "code",
   "execution_count": null,
   "metadata": {},
   "outputs": [],
   "source": [
    "#Plot your SST subset at a single time\n"
   ]
  },
  {
   "cell_type": "markdown",
   "metadata": {},
   "source": [
    "### Doing computations on xarray Datasets and DataArrays"
   ]
  },
  {
   "cell_type": "markdown",
   "metadata": {},
   "source": [
    "When you do computations on xarray objects, the coordinates are preserved. You can apply most numpy functions to Datasets and Datarrays. Like Pandas though, not every function from a package is designed to work with xarray objects. You can still apply these functions to your xarray data, but the output will not be an xarray DataArray or Dataset unless you use [apply_ufunc](http://xarray.pydata.org/en/stable/generated/xarray.apply_ufunc.html)"
   ]
  },
  {
   "cell_type": "code",
   "execution_count": null,
   "metadata": {},
   "outputs": [],
   "source": [
    "sst_mn=ds.sst.mean(dim='time') #you can supply dimension names instead of numerical axes indices"
   ]
  },
  {
   "cell_type": "code",
   "execution_count": null,
   "metadata": {},
   "outputs": [],
   "source": [
    "sst_mn.plot()\n",
    "plt.gca().set_facecolor('0.7') #make the plot background light gray"
   ]
  },
  {
   "cell_type": "markdown",
   "metadata": {},
   "source": [
    "If you supply more than one dimension at a time, it needs to be a tuple:"
   ]
  },
  {
   "cell_type": "code",
   "execution_count": null,
   "metadata": {},
   "outputs": [],
   "source": [
    "#Plot the zonal mean, time mean SSTs\n"
   ]
  },
  {
   "cell_type": "code",
   "execution_count": null,
   "metadata": {},
   "outputs": [],
   "source": [
    "#Plot SST anomalies at a point in the equatorial Pacific Ocean\n",
    "sst_pac=ds.sst.sel(latitude=0.5,longitude=-150.5)\n",
    "sst_anom=sst_pac-sst_pac.mean()\n",
    "sst_anom.plot()"
   ]
  },
  {
   "cell_type": "markdown",
   "metadata": {},
   "source": [
    "#### Broadcasting no more!\n",
    "Because our data is labeled, xarray can handle broadcasting internally. The hell that is broadcasting with numpy arrays is not a problem in xarray!"
   ]
  },
  {
   "cell_type": "code",
   "execution_count": null,
   "metadata": {},
   "outputs": [],
   "source": [
    "print(ds.longitude.shape)\n",
    "print(ds.sst.shape)"
   ]
  },
  {
   "cell_type": "code",
   "execution_count": null,
   "metadata": {},
   "outputs": [],
   "source": [
    "sst_lon_weighted=ds.sst*np.cos(ds.longitude*np.pi/180)\n",
    "sst_lon_weighted.shape"
   ]
  },
  {
   "cell_type": "code",
   "execution_count": null,
   "metadata": {},
   "outputs": [],
   "source": [
    "#plot the longitude-weighted SSTs at one time\n"
   ]
  },
  {
   "cell_type": "markdown",
   "metadata": {},
   "source": [
    "#### Groupby\n",
    "[Groupby](http://xarray.pydata.org/en/stable/user-guide/groupby.html) also exists in xarray, and it works much the same way it does in pandas:"
   ]
  },
  {
   "cell_type": "code",
   "execution_count": null,
   "metadata": {},
   "outputs": [],
   "source": [
    "#Get the mean SST for each year\n",
    "sst_ann_mn=ds.sst.groupby('time.year').mean('time')\n",
    "sst_ann_mn.shape"
   ]
  },
  {
   "cell_type": "code",
   "execution_count": null,
   "metadata": {},
   "outputs": [],
   "source": [
    "#Get seasonal SSTs\n",
    "sst_seasonal_mn=ds.sst.groupby('time.season').mean('time')"
   ]
  },
  {
   "cell_type": "code",
   "execution_count": null,
   "metadata": {},
   "outputs": [],
   "source": [
    "#Look at the dimensions of seasonal mean SSTs\n"
   ]
  },
  {
   "cell_type": "code",
   "execution_count": null,
   "metadata": {},
   "outputs": [],
   "source": [
    "#Access the contents of the 'season' dimension\n"
   ]
  },
  {
   "cell_type": "code",
   "execution_count": null,
   "metadata": {},
   "outputs": [],
   "source": [
    "#Plot the difference between (Southern Hemisphere) summer and winter SSTs\n",
    "plt.gca().set_facecolor('0.7')\n",
    "cs=plt.contourf(ds.longitude, ds.latitude,sst_seasonal_mn.sel(season='DJF')-sst_seasonal_mn.sel(season='JJA'),\n",
    "                  cmap=plt.cm.RdBu_r,levels=np.arange(-10,11,1),extend='both')\n",
    "plt.colorbar()\n",
    "plt.title('SH Summer (DJF) - Winter (JJA) SSTs')"
   ]
  },
  {
   "cell_type": "markdown",
   "metadata": {},
   "source": [
    "### Saving your data\n",
    "You can [save your xarray Datasets in many formats](http://xarray.pydata.org/en/stable/user-guide/io.html), including netcdf. To save your Dataset to a netcdf file, use [to_netcdf](http://xarray.pydata.org/en/stable/generated/xarray.Dataset.to_netcdf.html). For practice, let's save one year of SSTs to a netcdf file:"
   ]
  },
  {
   "cell_type": "code",
   "execution_count": null,
   "metadata": {},
   "outputs": [],
   "source": [
    "ds_to_save=ds.sel(time=slice('2015-01','2015-12'))"
   ]
  },
  {
   "cell_type": "code",
   "execution_count": null,
   "metadata": {},
   "outputs": [],
   "source": []
  },
  {
   "cell_type": "markdown",
   "metadata": {},
   "source": [
    "Now try opening your saved dataset:"
   ]
  },
  {
   "cell_type": "code",
   "execution_count": null,
   "metadata": {},
   "outputs": [],
   "source": []
  },
  {
   "cell_type": "markdown",
   "metadata": {},
   "source": [
    "---"
   ]
  }
 ],
 "metadata": {
  "kernelspec": {
   "display_name": "Python 3 (ipykernel)",
   "language": "python",
   "name": "python3"
  },
  "language_info": {
   "codemirror_mode": {
    "name": "ipython",
    "version": 3
   },
   "file_extension": ".py",
   "mimetype": "text/x-python",
   "name": "python",
   "nbconvert_exporter": "python",
   "pygments_lexer": "ipython3",
   "version": "3.7.10"
  }
 },
 "nbformat": 4,
 "nbformat_minor": 4
}
