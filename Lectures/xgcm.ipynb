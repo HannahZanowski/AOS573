{
 "cells": [
  {
   "cell_type": "markdown",
   "metadata": {},
   "source": [
    "<b><font size=20, color='#A020F0'>xgcm</font></b>"
   ]
  },
  {
   "cell_type": "markdown",
   "metadata": {},
   "source": [
    "Hannah Zanowski<br>\n",
    "11/11/24<br>"
   ]
  },
  {
   "cell_type": "markdown",
   "metadata": {},
   "source": [
    "#### <span style=\"color:green\">Learning Goals</span>\n",
    "By the end of this notebook you will\n",
    "1. Become familiar with the standard discretizations for climate model grids\n",
    "2. Understand the basic data structures in xgcm and how to create them\n",
    "3. Practice using xgcm to do grid-aware calculations with climate model output"
   ]
  },
  {
   "cell_type": "markdown",
   "metadata": {},
   "source": [
    "#### Resources\n",
    "[xgcm Documentation](https://xgcm.readthedocs.io/en/latest/index.html)<br>\n",
    "[xgcm API](https://xgcm.readthedocs.io/en/latest/api.html)"
   ]
  },
  {
   "cell_type": "markdown",
   "metadata": {},
   "source": [
    "#### Acknowledgements\n",
    "Much of today's lecture borrows from the examples on the [xgcm website](https://xgcm.readthedocs.io/en/latest/index.html)"
   ]
  },
  {
   "cell_type": "markdown",
   "metadata": {},
   "source": [
    "# A little about xgcm"
   ]
  },
  {
   "cell_type": "markdown",
   "metadata": {},
   "source": [
    "xgcm is a package developed for working with general circulation model (GCM) output. Like many of the packages we've seen before, it uses xarray under the hood. The power of xgcm is that it allows you to do grid-aware computations on your data, which you'll almost certainly need when working with climate model output."
   ]
  },
  {
   "cell_type": "markdown",
   "metadata": {},
   "source": [
    "Let's begin by importing xgcm (and a few others):"
   ]
  },
  {
   "cell_type": "code",
   "execution_count": null,
   "metadata": {
    "tags": []
   },
   "outputs": [],
   "source": [
    "import xgcm\n",
    "import xarray as xr\n",
    "import numpy as np\n",
    "import matplotlib.pyplot as plt"
   ]
  },
  {
   "cell_type": "markdown",
   "metadata": {},
   "source": [
    "---"
   ]
  },
  {
   "cell_type": "markdown",
   "metadata": {},
   "source": [
    "## 1. Climate model grids\n",
    "\n",
    "Climate models integrate the discretized Navier-Stokes equations. There are a number of ways in which you can set up the discretizations, but the most common are those below, and they are known as the Arakawa grids (see, e.g., [Arakawa and Lamb 1977](https://www.sciencedirect.com/science/article/pii/B9780124608177500094#bbib1)). Different grids have different properties and behaviors when it comes to integrating, which is why there are several options. We will not go into those details here as they are more suited to a numerical methods class."
   ]
  },
  {
   "cell_type": "markdown",
   "metadata": {},
   "source": [
    "<img src='Images/Arakawa_grids.png' width='750' height='750'/>"
   ]
  },
  {
   "cell_type": "markdown",
   "metadata": {},
   "source": [
    "B and C-grid discretizations are the most common among ocean models, and many use the C-grid because of its conservation properties. In either case, the velocity and scalar/tracer points are staggered relative to each other, which means that their spatial coordinates (longitudes and latitudes) are not the same. \n",
    "\n",
    "This means that if you want to do, say, computations that involve scalars and velocities (advection, anyone?), you need to interpolate your scalar points or your velocity points so that they will be co-located. At the same time, <b>standard operations such as averaging, differencing, and derivatives shift your output by half a grid cell relative to the inputs (this is related to [finite differencing](https://en.wikipedia.org/wiki/Finite_difference))</b>. Keeping track of this can get really frustrating really fast, so that's where xgcm comes in. But before we do that let's stop and think about things for a moment."
   ]
  },
  {
   "cell_type": "markdown",
   "metadata": {},
   "source": [
    "---"
   ]
  },
  {
   "cell_type": "markdown",
   "metadata": {},
   "source": [
    "#### <font color='blue'>Question for the class</font>\n",
    "The vertical component of relative vorticity is\n",
    "\n",
    "$\\zeta=\\frac{\\partial v}{\\partial x}-\\frac{\\partial u}{\\partial y}$\n",
    "\n",
    "If you were to do this computation on each of the five grids, where would the result of each derivative be located (assume x and y are in their standard directions)? Are there any grids where your derivatives are co-located? If so which one(s)?"
   ]
  },
  {
   "cell_type": "code",
   "execution_count": null,
   "metadata": {},
   "outputs": [],
   "source": []
  },
  {
   "cell_type": "markdown",
   "metadata": {},
   "source": [
    "---"
   ]
  },
  {
   "cell_type": "markdown",
   "metadata": {},
   "source": [
    "## 2. Getting started with xgcm\n",
    "xgcm helps you keep track of the different grid cell locations in climate model output by leveraging relationships between the discretized fields."
   ]
  },
  {
   "cell_type": "markdown",
   "metadata": {},
   "source": [
    "### xgcm axes\n",
    "xgcm heavily relies on the notion of axes. For a single <b>physical axis</b> (e.g. longitude) there can be multiple <b>_coordinate axes_</b> associated with it that describe positions relative to a grid cell. The five positions that xgcm currently supports throug [xgcm.Axis](https://xgcm.readthedocs.io/en/latest/api.html#xgcm.Axis) are the following:\n",
    "\n",
    "1. `center`: points fall at the center of a grid cell\n",
    "2. `left`: points fall on the left or lower face of a grid cell\n",
    "3. `right`: points fall on the right or upper face of a grid cell\n",
    "4. `inner`: points are located on cell faces, excluding all outer boundaries\n",
    "5. `outer`: points are located on cell faces, including all outer boundaries\n",
    "\n",
    "Here is a visualization of each from the xgcm site:<br>\n",
    "<center><img src='https://xgcm.readthedocs.io/en/latest/_images/axis_positions.svg'></img></center>\n",
    "\n",
    "From your regridding exercises in last week's in-class notebook, you are familiar with the `center` and `outer` axes options--these correspond to your data lat/lons and their bounds, respectively."
   ]
  },
  {
   "cell_type": "markdown",
   "metadata": {},
   "source": [
    "### Creating an xgcm grid\n",
    "[xgcm.Grid objects](https://xgcm.readthedocs.io/en/latest/api.html#xgcm.Grid) are the core data structure in xgcm. They consist of <b>_multiple coordinates_</b> associated with the same <b>physical axis</b>. xgcm keeps track of how the coordinates are related so that operations with your data are grid-aware.\n",
    "\n",
    "<b>When creating an xgcm grid, you need to do the following:</b>\n",
    ">1. Provide xgcm with an xarray dataset that contains all of the coordinates for the different axes that are connected to your data\n",
    ">2. Tell xgcm how the coordinates are related by noting the positions (left, outer, etc) they occupy\n",
    "\n",
    "This can be done by hand or by having xgcm look for certain attributes in your dataset. We'll build our own grid from scratch below. First we'll create an xarray Dataset with one physical axis, but two coordinates, `x_c` and `x_g`, which represent the x-axis locations of the cell centers and the left cell edges, respectively:"
   ]
  },
  {
   "cell_type": "code",
   "execution_count": null,
   "metadata": {
    "tags": []
   },
   "outputs": [],
   "source": [
    "dsg=xr.Dataset(coords={'x_c': (['x_c',], np.arange(0, 360),),'x_g': (['x_g',],np.arange(-0.5,359))})\n",
    "dsg"
   ]
  },
  {
   "cell_type": "markdown",
   "metadata": {},
   "source": [
    "In the above dataset, xarray has no idea that x_c and x_g are related, but they clearly are: each x_g is half a point to the left of each x_c:"
   ]
  },
  {
   "cell_type": "code",
   "execution_count": null,
   "metadata": {},
   "outputs": [],
   "source": [
    "xpts=0.5*np.ones(10)\n",
    "fig,ax=plt.subplots(2,1,figsize=(8,2),sharex=True)\n",
    "axs=ax.flatten()\n",
    "axs[0].plot(dsg.x_c[0:10],xpts,color='k',marker='o',label='x_c')\n",
    "axs[0].legend(frameon=False,loc='upper left')\n",
    "axs[0].set_yticklabels('')\n",
    "axs[0].set_xticks(np.arange(-0.5,10))\n",
    "axs[0].grid()\n",
    "axs[1].plot(dsg.x_g[0:10],xpts,color='r',marker='o',label='x_g')\n",
    "axs[1].legend(frameon=False, loc='lower right')\n",
    "plt.subplots_adjust(hspace=0)\n",
    "axs[1].set_yticklabels('');\n",
    "axs[1].grid()"
   ]
  },
  {
   "cell_type": "markdown",
   "metadata": {},
   "source": [
    "When we create an xgcm grid, we can specify that x_c and x_g are related (and we must) through the `coords` argument:"
   ]
  },
  {
   "cell_type": "code",
   "execution_count": null,
   "metadata": {
    "tags": []
   },
   "outputs": [],
   "source": [
    "#Tell the grid that both x_c and x_g are coordinates and both are on the 'x' axis\n",
    "grid=xgcm.Grid(dsg, coords={'x': {'center': 'x_c', 'left': 'x_g'}})\n",
    "grid"
   ]
  },
  {
   "cell_type": "markdown",
   "metadata": {},
   "source": [
    "<b>The arrows indicate how your grid will change when doing computations that will result in your original data being shifted (such as interpolation and differencing):</b>\n",
    "\n",
    "1. For these types of computations on cell centers (x_c), the results will be on the x_g grid\n",
    "2. For these types of computations on cell edges (x_g), the results will be on the x_c grid\n",
    "\n",
    "><b><font color ='red'>Note:</font></b> xgcm.Grid assumes that all axes are periodic unless you specify differently with the `periodic` keyword argument!"
   ]
  },
  {
   "cell_type": "markdown",
   "metadata": {},
   "source": [
    "### Creating an xgcm grid from data attributes\n",
    "You can also create an xgcm grid as long as your data have two attributes defined that xgcm needs to build the grid:\n",
    "1. `axis`\n",
    "2. `c_grid_axis_shift` (valid options for this attribute are only -0.5 and 0.5)"
   ]
  },
  {
   "cell_type": "code",
   "execution_count": null,
   "metadata": {
    "tags": []
   },
   "outputs": [],
   "source": [
    "#Set up the dataset but this time with axis and x_grid_axis_shift attributes\n",
    "dsg=xr.Dataset(coords={'x_c': (['x_c',], np.arange(0,360),{'axis': 'x'}),\n",
    "    'x_g': (['x_g',],np.arange(-0.5,359),{'axis':'x', 'c_grid_axis_shift': -0.5})})"
   ]
  },
  {
   "cell_type": "code",
   "execution_count": null,
   "metadata": {
    "tags": []
   },
   "outputs": [],
   "source": [
    "#Create the grid\n",
    "grid=xgcm.Grid(dsg)\n",
    "grid"
   ]
  },
  {
   "cell_type": "markdown",
   "metadata": {},
   "source": [
    "### Grid-aware computations\n",
    "Now that we have our xgcm grid set up, we can create some data and do some grid-aware computations"
   ]
  },
  {
   "cell_type": "code",
   "execution_count": null,
   "metadata": {
    "tags": []
   },
   "outputs": [],
   "source": [
    "#set up some values that are defined at the cell centers (x_c points)\n",
    "data=np.sin(dsg.x_c*np.pi/180)\n",
    "data[0:10]"
   ]
  },
  {
   "cell_type": "markdown",
   "metadata": {},
   "source": [
    "#### Differencing\n",
    "You can difference your data with [grid.diff()](https://xgcm.readthedocs.io/en/latest/api.html#xgcm.Grid.diff)\n",
    "\n",
    "><b><font color='red'>Note:</font></b> When doing xgcm grid operations, we must provide the axis over which we want to do the computation"
   ]
  },
  {
   "cell_type": "code",
   "execution_count": null,
   "metadata": {
    "tags": []
   },
   "outputs": [],
   "source": [
    "data_diff=grid.diff(data,axis='x')\n",
    "data_diff[0:5]"
   ]
  },
  {
   "cell_type": "markdown",
   "metadata": {},
   "source": [
    "#### Interpolating\n",
    "You can interpolate your data using [grid.interp()](https://xgcm.readthedocs.io/en/latest/api.html#xgcm.Grid.interp)"
   ]
  },
  {
   "cell_type": "code",
   "execution_count": null,
   "metadata": {
    "tags": []
   },
   "outputs": [],
   "source": [
    "data_interp=grid.interp(data,axis='x')\n",
    "data_interp[0:5]"
   ]
  },
  {
   "cell_type": "markdown",
   "metadata": {},
   "source": [
    "---"
   ]
  },
  {
   "cell_type": "markdown",
   "metadata": {},
   "source": [
    "## 3. Using xgcm with climate model output\n",
    "At this point you are probably wondering why I made you go through all that work just to show you that you can interpolate with xgcm, when we've already covered several other options in this class that allow us to interpolate and difference, etc. At best, xgcm seems like overkill. However, the examples above are only meant to be illustrative so that you can get a sense of what xgcm is doing before things get more complex. In reality you probably wouldn't use xgcm for something like the above cases, even though you could. In this section we'll work with some ocean output from the [Community Earth System Model Large Ensemble](https://www.cesm.ucar.edu/) (CESM-LE) so that you can see how xgcm is useful in the context for which it was designed.\n",
    "\n",
    "Let's read in some data:"
   ]
  },
  {
   "cell_type": "code",
   "execution_count": null,
   "metadata": {
    "tags": []
   },
   "outputs": [],
   "source": [
    "ds=xr.open_dataset('data/cesmLE.001.ocn.210012.nc')\n",
    "ds"
   ]
  },
  {
   "cell_type": "markdown",
   "metadata": {},
   "source": [
    "### Creating the xgcm grid\n",
    "\n",
    "The CESM ocean model (currently [POP2](https://www.cesm.ucar.edu/models/cesm2/ocean), but that's changing) is on a B-grid. In the image below, you can see how each of the quantities in the dataset are related to each other:"
   ]
  },
  {
   "cell_type": "markdown",
   "metadata": {},
   "source": [
    "<img src='Images/cesm_b_grid_cells.png' width='500' height='500'/>"
   ]
  },
  {
   "cell_type": "markdown",
   "metadata": {},
   "source": [
    "Based on this information, let's set up the xgcm grid for our model output below. This time we have 3-D output so we'll have information for the x, y, and z axes:"
   ]
  },
  {
   "cell_type": "code",
   "execution_count": null,
   "metadata": {
    "tags": []
   },
   "outputs": [],
   "source": [
    "grid=xgcm.Grid(ds, coords={'x': {'center': 'xt', 'right': 'xu'},\n",
    "                           'y':{'center':'yt','right':'yu'},\n",
    "                           'z':{'center':'z_t','right':'z_w'}},periodic=['x'])\n",
    "\n",
    "grid"
   ]
  },
  {
   "cell_type": "markdown",
   "metadata": {},
   "source": [
    "### Grid-aware computations again\n",
    "\n",
    "Now that we have our grid we can do computations like we did before. As a simple example, let's interpolate the temperature field onto the locations of the velocities. Because the ouput is on a B-grid, we need to interpolate in x and y to do so:"
   ]
  },
  {
   "cell_type": "code",
   "execution_count": null,
   "metadata": {
    "tags": []
   },
   "outputs": [],
   "source": [
    "temp_interp=grid.interp(ds.TEMP,axis=['x','y'],boundary='fill') #provide both axes and a boundary option for the non-periodic y-direction"
   ]
  },
  {
   "cell_type": "markdown",
   "metadata": {},
   "source": [
    "Let's make sure our output is on the velocity grid:"
   ]
  },
  {
   "cell_type": "code",
   "execution_count": null,
   "metadata": {
    "tags": []
   },
   "outputs": [],
   "source": [
    "temp_interp.dims"
   ]
  },
  {
   "cell_type": "markdown",
   "metadata": {},
   "source": [
    "And now let's plot it:"
   ]
  },
  {
   "cell_type": "code",
   "execution_count": null,
   "metadata": {
    "tags": []
   },
   "outputs": [],
   "source": [
    "temp_interp.isel(z_t=0).plot()"
   ]
  },
  {
   "cell_type": "markdown",
   "metadata": {},
   "source": [
    "### Metrics\n",
    "xgcm also handles grid metrics. Metrics provide information about grid cell geometry--things like distances, areas, and volumes. By keeping track of the grid metrics, xgcm can use these when doing computations where these weights are necessary. As usual, we need to tell xgcm what these metrics are and then add them to the xgcm grid. Fortunately for us, these metrics are standard for CESM output so we won't have to compute them.\n",
    "\n",
    "In xgcm, grid metrics are stored in a dictionary that maps them to the particular axis they are associated with:"
   ]
  },
  {
   "cell_type": "code",
   "execution_count": null,
   "metadata": {
    "tags": []
   },
   "outputs": [],
   "source": [
    "grid_metrics = {('x',): ['DXU', 'DXT','HTN','HUS'], # grid cell widths in x-direction\n",
    "           ('y',): ['DYU', 'DYT','HTE','HUW'], # grid cell widths in y-direction\n",
    "           ('z',): ['dz'], # grid cell width in z-direction     \n",
    "           ('x', 'y'): ['UAREA', 'TAREA']} # Areas of velocity and tracer grid cells, respectively"
   ]
  },
  {
   "cell_type": "markdown",
   "metadata": {},
   "source": [
    "Once you have your metrics, all you need to do is add them to the grid. Here we're creating the same grid we did earlier, but now with the `metrics` keyword argument"
   ]
  },
  {
   "cell_type": "code",
   "execution_count": null,
   "metadata": {
    "tags": []
   },
   "outputs": [],
   "source": [
    "grid=xgcm.Grid(ds, coords={'x': {'center': 'xt', 'right': 'xu'},\n",
    "                           'y':{'center':'yt','right':'yu'},\n",
    "                           'z':{'center':'z_t','right':'z_w'}},\n",
    "                           periodic=['x'],metrics=grid_metrics)"
   ]
  },
  {
   "cell_type": "markdown",
   "metadata": {},
   "source": [
    "#### Integration\n",
    "We can integrate with [grid.integrate()](https://xgcm.readthedocs.io/en/latest/api.html#xgcm.Grid.integrate)"
   ]
  },
  {
   "cell_type": "code",
   "execution_count": null,
   "metadata": {
    "tags": []
   },
   "outputs": [],
   "source": [
    "#Vertically integrate the zonal velocity as an example\n",
    "#Quick land mask first\n",
    "land=np.isnan(ds.UVEL[0])\n",
    "grid.integrate(ds.UVEL, 'z').where(~land).plot()\n",
    "\n",
    "#this is the same as\n",
    "#(ds.UVEL*ds.dz).sum('z_t').plot()"
   ]
  },
  {
   "cell_type": "markdown",
   "metadata": {},
   "source": [
    "#### Weighted averages\n",
    "For weighted averages, use [grid.average()](https://xgcm.readthedocs.io/en/latest/api.html#xgcm.Grid.average). When it comes to averaging, xgcm will automatically do a weighted mean now that the grid has metrics. This is really important, especially if your grid is not evenly spaced, which is the case for the x, y, and z directions in this model!"
   ]
  },
  {
   "cell_type": "code",
   "execution_count": null,
   "metadata": {
    "tags": []
   },
   "outputs": [],
   "source": [
    "grid.average(ds.TEMP, 'z').plot()"
   ]
  },
  {
   "cell_type": "markdown",
   "metadata": {},
   "source": [
    "#### Revisiting Vorticity\n",
    "We can also do more complex operations, like computing the relative vorticity. In case you forgot, the vertical component of relative vorticity is <br>\n",
    "\n",
    "$\\zeta=\\frac{\\partial v}{\\partial x}-\\frac{\\partial u}{\\partial y}$\n",
    "\n",
    "As we saw earlier, this is a somewhat irritating calculation on a B-grid because of the co-located velocities. Once you compute the derivatives, the results won't be at the same grid locations anymore, so you need to interpolate them before you can do the difference."
   ]
  },
  {
   "cell_type": "markdown",
   "metadata": {},
   "source": [
    "1. Compute the derivatives"
   ]
  },
  {
   "cell_type": "code",
   "execution_count": null,
   "metadata": {
    "tags": []
   },
   "outputs": [],
   "source": [
    "#compute dv/dx and du/dy\n",
    "dvdx=grid.diff(ds.VVEL.isel(z_t=0), 'x', metric_weighted='x', boundary='fill')/ds.HTN\n",
    "dudy=grid.diff(ds.UVEL.isel(z_t=0), 'y', metric_weighted='y', boundary='fill')/ds.HTE"
   ]
  },
  {
   "cell_type": "markdown",
   "metadata": {},
   "source": [
    "2. Interpolate onto tracer points"
   ]
  },
  {
   "cell_type": "code",
   "execution_count": null,
   "metadata": {
    "tags": []
   },
   "outputs": [],
   "source": [
    "#Interpolate onto the tracer points\n",
    "dvdx_interp=grid.interp(dvdx,axis='y',metric_weighted='y',boundary='fill')\n",
    "dudy_interp=grid.interp(dudy,axis='x',metric_weighted='x')"
   ]
  },
  {
   "cell_type": "markdown",
   "metadata": {},
   "source": [
    "3. Make sure you're on the grid you think you are"
   ]
  },
  {
   "cell_type": "code",
   "execution_count": null,
   "metadata": {
    "tags": []
   },
   "outputs": [],
   "source": [
    "#Check that I'm not making shit up\n",
    "dudy_interp.dims"
   ]
  },
  {
   "cell_type": "markdown",
   "metadata": {},
   "source": [
    "4. Compute the relative vorticity"
   ]
  },
  {
   "cell_type": "code",
   "execution_count": null,
   "metadata": {
    "tags": []
   },
   "outputs": [],
   "source": [
    "#Compute the relative vorticity\n",
    "zeta=dvdx_interp-dudy_interp"
   ]
  },
  {
   "cell_type": "markdown",
   "metadata": {},
   "source": [
    "5. Make a plot of your results!"
   ]
  },
  {
   "cell_type": "code",
   "execution_count": null,
   "metadata": {
    "tags": []
   },
   "outputs": [],
   "source": [
    "#Plot it\n",
    "plt.pcolormesh(zeta*1e5,vmin=-0.5,vmax=0.5,cmap=plt.cm.RdBu_r)\n",
    "plt.colorbar()"
   ]
  },
  {
   "cell_type": "markdown",
   "metadata": {},
   "source": [
    "---"
   ]
  }
 ],
 "metadata": {
  "kernelspec": {
   "display_name": "Python [conda env:uw-fall-2024]",
   "language": "python",
   "name": "conda-env-uw-fall-2024-py"
  },
  "language_info": {
   "codemirror_mode": {
    "name": "ipython",
    "version": 3
   },
   "file_extension": ".py",
   "mimetype": "text/x-python",
   "name": "python",
   "nbconvert_exporter": "python",
   "pygments_lexer": "ipython3",
   "version": "3.11.10"
  }
 },
 "nbformat": 4,
 "nbformat_minor": 4
}
