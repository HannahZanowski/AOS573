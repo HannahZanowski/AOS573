{
 "cells": [
  {
   "cell_type": "markdown",
   "metadata": {},
   "source": [
    "<b><font size=20, color='#A020F0'>Introduction to Git and Github</font></b>"
   ]
  },
  {
   "cell_type": "markdown",
   "metadata": {},
   "source": [
    "Hannah Zanowski<br>\n",
    "9/6/24<br>\n",
    "Today's content has been heavily borrowed from the NCAR git tutorial"
   ]
  },
  {
   "cell_type": "markdown",
   "metadata": {},
   "source": [
    "#### <span style=\"color:green\">Learning Goals</span>\n",
    "By the end of this notebook you will\n",
    "1. Learn how to set up a git repository\n",
    "2. Learn how to use git to track file changes and revert to previous versions\n",
    "3. Learn how to set up a remote repository on the university's gitlab instance and push code to it"
   ]
  },
  {
   "cell_type": "markdown",
   "metadata": {},
   "source": [
    "#### Resources\n",
    "[Version control with git tutorial](https://swcarpentry.github.io/git-novice/) from Software Carpentry<br>\n",
    "[Gitlab Documentation](https://docs.gitlab.com/)<br>\n",
    "[Gitlab Training Resources](https://kb.wisc.edu/shared-tools/110428) from UW-Madison Knowledge Base<br>\n",
    "Git documentation on [diffing](https://git-scm.com/docs/git-diff) and [merging](https://git-scm.com/docs/git-merge)<br>\n",
    "[nbdime](https://nbdime.readthedocs.io/en/latest/): command line and web-based diffing and merging of jupyter notebooks<br>\n",
    "Git repo for [jupyterlab git integration](https://github.com/jupyterlab/jupyterlab-git)"
   ]
  },
  {
   "cell_type": "markdown",
   "metadata": {},
   "source": [
    "## What is Git? \n",
    "\n",
    "Git is a version control system. It allows you to track and store incremental changes to files/directories and revert to previous versions. The files/directories are contained in a repository, which is where they are tracked. Any changes you commit to the repository are saved, which is what allows you to go back to previous versions."
   ]
  },
  {
   "cell_type": "markdown",
   "metadata": {},
   "source": [
    "---"
   ]
  },
  {
   "cell_type": "markdown",
   "metadata": {},
   "source": [
    "## 1. Create a directory with a file in it"
   ]
  },
  {
   "cell_type": "markdown",
   "metadata": {},
   "source": [
    "First let's create a directory and add a file to it.\n",
    ">Make sure you're in the directory where you want to create your repository. I do not mean that you should click a folder on the jupyterhub bar on the left. You need to make sure you are in the correct directory by changing directories using the standard unix commands (see below)!\n",
    "\n",
    "><b><font color='red'>OUR CLASS REPO (aos573_f24) IS ALREADY A GIT REPO--DO NOT CREATE ANOTHER ONE INSIDE THIS</font></b>"
   ]
  },
  {
   "cell_type": "code",
   "execution_count": null,
   "metadata": {},
   "outputs": [],
   "source": [
    "#print working directory\n",
    "pwd"
   ]
  },
  {
   "cell_type": "code",
   "execution_count": null,
   "metadata": {},
   "outputs": [],
   "source": [
    "#change directories if needed\n",
    "cd ../../"
   ]
  },
  {
   "cell_type": "code",
   "execution_count": null,
   "metadata": {},
   "outputs": [],
   "source": [
    "#make a new directory\n",
    "mkdir test_project"
   ]
  },
  {
   "cell_type": "code",
   "execution_count": null,
   "metadata": {},
   "outputs": [],
   "source": [
    "#move into that directory\n",
    "cd test_project/"
   ]
  },
  {
   "cell_type": "code",
   "execution_count": null,
   "metadata": {},
   "outputs": [],
   "source": [
    "#Create a new file in tets_project and add some text to the file\n",
    "!echo 'Some text' > file1.txt"
   ]
  },
  {
   "cell_type": "markdown",
   "metadata": {},
   "source": [
    "<b>Note: In jupyter notebooks, to execute unix commands, put an exclamation point at the front.</b> You need not do this with a few basic commands like `cd`, `ls`, `pwd`, and `mkdir` because these are part of python's magic functions.\n",
    "\n",
    "<b><font size=3> If you are entering git commands on the command line in a terminal, no exclamation point is needed!!</font></b>"
   ]
  },
  {
   "cell_type": "markdown",
   "metadata": {},
   "source": [
    "Check that everything worked out, by \n",
    "1. Checking what directory you're in\n",
    "2. Listing all files including the hidden ones"
   ]
  },
  {
   "cell_type": "code",
   "execution_count": null,
   "metadata": {},
   "outputs": [],
   "source": [
    "pwd"
   ]
  },
  {
   "cell_type": "code",
   "execution_count": null,
   "metadata": {},
   "outputs": [],
   "source": [
    "ls -a"
   ]
  },
  {
   "cell_type": "markdown",
   "metadata": {},
   "source": [
    "---"
   ]
  },
  {
   "cell_type": "markdown",
   "metadata": {},
   "source": [
    "## 2. Set up Git"
   ]
  },
  {
   "cell_type": "markdown",
   "metadata": {},
   "source": [
    "Run the following commands to see if you have a git username and email address set for your commits:"
   ]
  },
  {
   "cell_type": "code",
   "execution_count": null,
   "metadata": {},
   "outputs": [],
   "source": [
    "!git config --global --get user.name\n",
    "!git config --global --get user.email"
   ]
  },
  {
   "cell_type": "markdown",
   "metadata": {},
   "source": [
    "If the above lines print nothing for you, you need to set these parameters. This sets the username and email address associated with your commits. Edit and run the commands below to change this. Then run the previous commands to check if your name and email have been set"
   ]
  },
  {
   "cell_type": "code",
   "execution_count": null,
   "metadata": {},
   "outputs": [],
   "source": [
    "!git config --global user.name \"FirstName LastName\"\n",
    "!git config --global user.email you@domain.example.com "
   ]
  },
  {
   "cell_type": "markdown",
   "metadata": {},
   "source": [
    "Finally, one last thing we want to do is to tell git to always set up a new repository to have a default branch called `main`:"
   ]
  },
  {
   "cell_type": "code",
   "execution_count": null,
   "metadata": {},
   "outputs": [],
   "source": [
    "!git config --global init.defaultBranch main"
   ]
  },
  {
   "cell_type": "markdown",
   "metadata": {},
   "source": [
    "<b>A note about git's move away from calling the initial branch 'master'</b><br>\n",
    "Sometimes older versions of git still initialize repositories with the branch name 'master' instead of 'main'. This is undesireable as it can lead to some confusion when pushing changes to a remote repository on github (remote repositories created on github default to 'main' as the initial branch name).\n",
    "\n",
    "If you didn't set the global parameter like we did above and you initalize a repo with a branch initially called 'master' that's not an issue--you can change it with the command below (if you get an error, you just need to run this command _after_ doing your first commit):\n",
    "\n",
    "```bash\n",
    "git branch -m master main\n",
    "````"
   ]
  },
  {
   "cell_type": "markdown",
   "metadata": {},
   "source": [
    "---"
   ]
  },
  {
   "cell_type": "markdown",
   "metadata": {},
   "source": [
    "## 3. Now turn your directory into a git repository"
   ]
  },
  {
   "cell_type": "code",
   "execution_count": null,
   "metadata": {},
   "outputs": [],
   "source": [
    "!git init"
   ]
  },
  {
   "cell_type": "markdown",
   "metadata": {},
   "source": [
    "Type `ls -a` below. There should be a new .git repository there. This means your directory is now a git repository, and you will be able to track your changes!"
   ]
  },
  {
   "cell_type": "code",
   "execution_count": null,
   "metadata": {},
   "outputs": [],
   "source": [
    "ls -a"
   ]
  },
  {
   "cell_type": "markdown",
   "metadata": {},
   "source": [
    "However, just because your directory _is_ a git repository doesn't mean that it automatically tracks files that are there. You have to add these yourself. Run the following command below:"
   ]
  },
  {
   "cell_type": "code",
   "execution_count": null,
   "metadata": {},
   "outputs": [],
   "source": [
    "!git status"
   ]
  },
  {
   "cell_type": "markdown",
   "metadata": {},
   "source": [
    "#### <p style=\"border-width:3px; border-style:solid; border-color:green; padding: 1em;\">`git status` is your friend. It will tell you where you are and whether or not you have files you need to commit:</p>\n",
    "1. It tells you you're on branch 'main' (if you have an old version of git it might say you are on branch 'master', but earlier in Section 2 we told git to call our initial branch main). Don't worry about branches for now, but think of all of the changes made in your repository as being saved to a single, linear history. This main history is the branch called 'main' in our current example.\n",
    "\n",
    "2. It tells you where you are in the history. You haven't made any commits yet  (\"No commits yet\"), so there's nothing in your history\n",
    "\n",
    "3. It tells you which files are 'untracked', meaning they haven't been added to your repository and git is not keeping track of them\n",
    "\n",
    "4. It gives you hints about what to do next, e.g., \"(use 'git add' to track)\""
   ]
  },
  {
   "cell_type": "markdown",
   "metadata": {},
   "source": [
    "---"
   ]
  },
  {
   "cell_type": "markdown",
   "metadata": {},
   "source": [
    "## 4. Adding and committing files to your repository\n",
    "There are two steps you need to do for every file that you want git to track:\n",
    ">1. Staging (adding a file)\n",
    ">2. Committing (telling git to track the current version of the file)"
   ]
  },
  {
   "cell_type": "markdown",
   "metadata": {},
   "source": [
    "Let's _add_ file1.txt to our repository:"
   ]
  },
  {
   "cell_type": "code",
   "execution_count": null,
   "metadata": {},
   "outputs": [],
   "source": [
    "!git add file1.txt"
   ]
  },
  {
   "cell_type": "markdown",
   "metadata": {},
   "source": [
    "What did we just do? Type `!git status` below to find out"
   ]
  },
  {
   "cell_type": "code",
   "execution_count": null,
   "metadata": {},
   "outputs": [],
   "source": [
    "!git status"
   ]
  },
  {
   "cell_type": "markdown",
   "metadata": {},
   "source": [
    "So you've added the file to be tracked but it won't be tracked until you commit it! All you've done is _stage_ your file for tracking. Now commit it to your repository:"
   ]
  },
  {
   "cell_type": "code",
   "execution_count": null,
   "metadata": {},
   "outputs": [],
   "source": [
    "!git commit -m 'adding file1.txt'"
   ]
  },
  {
   "cell_type": "code",
   "execution_count": null,
   "metadata": {},
   "outputs": [],
   "source": [
    "!git status"
   ]
  },
  {
   "cell_type": "markdown",
   "metadata": {},
   "source": [
    "In the above we used the -m option to create a commit message. You must commit with a message. If you don't use the -m option git will open the default text editor and you'll have to add a message there. \n",
    "\n",
    "#### <b><font color='red'>Messages should make it clear what you've done in a particular commit, so think carefully about what you want your messages to say so that your future self can figure it out!</font></b>\n",
    "\n",
    "><b><font color='blue'>Note:</font></b> You can set your default text editor for git to be something that isn't nano, but we won't do this here. However, if you use a different text editor locally on your laptop, you can type the following in the command line (assuming you have git on your laptop!):\n",
    "```bash\n",
    "git config --global core.editor your_text_editor # Choose or type the name of whatever text editor you use\n",
    "```"
   ]
  },
  {
   "cell_type": "markdown",
   "metadata": {},
   "source": [
    "---"
   ]
  },
  {
   "cell_type": "markdown",
   "metadata": {},
   "source": [
    "## 5. Add some changes!"
   ]
  },
  {
   "cell_type": "markdown",
   "metadata": {},
   "source": [
    "Let's make some changes to our file and commit them so we can add a bit more to our history"
   ]
  },
  {
   "cell_type": "code",
   "execution_count": null,
   "metadata": {},
   "outputs": [],
   "source": [
    "!echo \"Stuff\" >> file1.txt\n",
    "!echo \"\" >> file1.txt\n",
    "!echo \"Git is lit.\" >> file1.txt\n",
    "!cat file1.txt"
   ]
  },
  {
   "cell_type": "markdown",
   "metadata": {},
   "source": [
    "Now let's see what git status tells us:"
   ]
  },
  {
   "cell_type": "code",
   "execution_count": null,
   "metadata": {},
   "outputs": [],
   "source": [
    "!git status"
   ]
  },
  {
   "cell_type": "markdown",
   "metadata": {},
   "source": [
    "Alright we have changes we need to stage (add) and commit! So let's do that!"
   ]
  },
  {
   "cell_type": "code",
   "execution_count": null,
   "metadata": {},
   "outputs": [],
   "source": [
    "!git add file1.txt\n",
    "!git commit -m 'updated file1.txt'"
   ]
  },
  {
   "cell_type": "markdown",
   "metadata": {},
   "source": [
    "<p style=\"border-width:3px; border-style:solid; border-color:red; padding: 1em;\"> What happens if you create a bunch of new stuff at once? <b>In general it's best to add and commit each change separately so that if/when you need to revert to a previous version, it will be easier for you to tell which file, and at which change, you want to go back to.</b> However, no one will tell you that you *have* to do this, but it is good practice, and if you get in the habit now it's likely that your future self (or your future collaborators!) will thank you.</p>"
   ]
  },
  {
   "cell_type": "markdown",
   "metadata": {},
   "source": [
    "Regardless, committing more than one thing at once is definitely possible, <b><font color='red'>BUT NOT RECOMMENDED</font></b>:"
   ]
  },
  {
   "cell_type": "code",
   "execution_count": null,
   "metadata": {},
   "outputs": [],
   "source": [
    "!echo 'this is file2' > file2.txt\n",
    "!echo 'this is file3' > file3.txt"
   ]
  },
  {
   "cell_type": "code",
   "execution_count": null,
   "metadata": {},
   "outputs": [],
   "source": [
    "!git add file2.txt file3.txt\n",
    "!git commit -m 'adding file2.txt and file3.txt'\n",
    "!git status"
   ]
  },
  {
   "cell_type": "markdown",
   "metadata": {},
   "source": [
    "---"
   ]
  },
  {
   "cell_type": "markdown",
   "metadata": {},
   "source": [
    "## 6. How do we look at our history?"
   ]
  },
  {
   "cell_type": "markdown",
   "metadata": {},
   "source": [
    "Use git log to tell you about the changes you've committed"
   ]
  },
  {
   "cell_type": "code",
   "execution_count": null,
   "metadata": {},
   "outputs": [],
   "source": [
    "!git log"
   ]
  },
  {
   "cell_type": "markdown",
   "metadata": {},
   "source": [
    "History is in reverse chronological order, with the latest commit FIRST. Characters following the `commit` text are a unique hash that identifies the commit.  You can specify commits using the entire hash string, or just the first ~7 characters of the hash that uniquely identify it."
   ]
  },
  {
   "cell_type": "markdown",
   "metadata": {},
   "source": [
    "When your history gets long you can have it print a shorter version:"
   ]
  },
  {
   "cell_type": "code",
   "execution_count": null,
   "metadata": {},
   "outputs": [],
   "source": [
    "!git log --oneline"
   ]
  },
  {
   "cell_type": "markdown",
   "metadata": {},
   "source": [
    "Or even better you can get the history of a single file:"
   ]
  },
  {
   "cell_type": "code",
   "execution_count": null,
   "metadata": {},
   "outputs": [],
   "source": [
    "!git log file1.txt "
   ]
  },
  {
   "cell_type": "markdown",
   "metadata": {},
   "source": [
    "`git log` is super useful, so if you want to explore what options are available type `!git log --help` (or just `git log --help` if you're on the command line)\n"
   ]
  },
  {
   "cell_type": "markdown",
   "metadata": {},
   "source": [
    "---"
   ]
  },
  {
   "cell_type": "markdown",
   "metadata": {},
   "source": [
    "## 7. Let's go back to the past"
   ]
  },
  {
   "cell_type": "markdown",
   "metadata": {},
   "source": [
    "Say we made some changes to a file and we commit them and then realize we don't need them and want an earlier version."
   ]
  },
  {
   "cell_type": "markdown",
   "metadata": {},
   "source": [
    "To be able to find a previous version of a commited file, we need to get the commit hash and do a `git checkout`. Let's find the commit hash for the commit with the message `adding file1.txt` (you can use grep in git log!)"
   ]
  },
  {
   "cell_type": "code",
   "execution_count": null,
   "metadata": {},
   "outputs": [],
   "source": [
    "!git log --grep='adding file1.txt'"
   ]
  },
  {
   "cell_type": "markdown",
   "metadata": {},
   "source": [
    "Get the 1st few characters of the hash and run `git checkout` (replace ```your_6_digit_hash_here```with your 6 digit hash):"
   ]
  },
  {
   "cell_type": "code",
   "execution_count": null,
   "metadata": {},
   "outputs": [],
   "source": [
    "!git checkout your_6_digit_hash_here"
   ]
  },
  {
   "cell_type": "markdown",
   "metadata": {},
   "source": [
    "<b>Well that sounds..._ominous_...</b> I'll explain what's going on, but first let's see what happened to file1.txt"
   ]
  },
  {
   "cell_type": "code",
   "execution_count": null,
   "metadata": {},
   "outputs": [],
   "source": [
    "cat file1.txt"
   ]
  },
  {
   "cell_type": "markdown",
   "metadata": {},
   "source": [
    "Cool! It's the earlier version!\n",
    "\n",
    "And now about this detached HEAD business...When you are in a 'detached HEAD' state it basically means that your 'HEAD' is no longer pointing to the latest commit in your repository (the latter is its normal state).  \n",
    "\n",
    "To see what I mean by \"HEAD is no longer pointing to the latest commit in your repository\", type ```!git log``` below:"
   ]
  },
  {
   "cell_type": "code",
   "execution_count": null,
   "metadata": {},
   "outputs": [],
   "source": [
    "!git log"
   ]
  },
  {
   "cell_type": "markdown",
   "metadata": {},
   "source": [
    "Having a detached HEAD isn't actually a problem, and you can make experimental commits from this point without messing up the stuff you did after.\n",
    "\n",
    "<b><font color='red'>HOWEVER</font> if you DO NOT want to retain the changes you made in this state (or if you just want to go back because a detached HEAD still sounds pretty awful) then just checkout the branch you were on (main in this case)!</b>\n",
    "    \n",
    "If you DO want to keep the changes, then you should create a new branch like the message above suggests using the following commands:\n",
    "1. Create a new branch at the point you are in your history: ```git branch my-new-branch```\n",
    "2. Checkout the new branch you created to start adding and committing changes you want to keep on your new branch: ```git checkout my-new-branch```\n",
    "\n",
    "Later you can _merge_ your new changes on this branch with the original branch using [git merge](https://git-scm.com/docs/git-merge)). \n",
    "\n",
    "We aren't going to make any changes in this state, so let's just go back to the front of our history:"
   ]
  },
  {
   "cell_type": "code",
   "execution_count": null,
   "metadata": {},
   "outputs": [],
   "source": [
    "!git checkout main"
   ]
  },
  {
   "cell_type": "code",
   "execution_count": null,
   "metadata": {},
   "outputs": [],
   "source": [
    "!git status"
   ]
  },
  {
   "cell_type": "markdown",
   "metadata": {},
   "source": [
    "Print the contents of file1.txt to the screen:"
   ]
  },
  {
   "cell_type": "code",
   "execution_count": null,
   "metadata": {},
   "outputs": [],
   "source": [
    "cat file1.txt"
   ]
  },
  {
   "cell_type": "markdown",
   "metadata": {},
   "source": [
    "Whew! Back where we started. Now, what if we make some changes to a file and royally mess up our code so that it no longer works, but we've already saved everything by trying to run it and we just want to go back to where we were before that happened. git can do that too! Let's first add some text to file1.txt:"
   ]
  },
  {
   "cell_type": "code",
   "execution_count": null,
   "metadata": {},
   "outputs": [],
   "source": [
    "!echo \"bad stuff\" > file1.txt"
   ]
  },
  {
   "cell_type": "code",
   "execution_count": null,
   "metadata": {},
   "outputs": [],
   "source": [
    "cat file1.txt"
   ]
  },
  {
   "cell_type": "markdown",
   "metadata": {},
   "source": [
    "Oh no we forgot the second `>` and just over-wrote the file! No big deal though, just run:"
   ]
  },
  {
   "cell_type": "code",
   "execution_count": null,
   "metadata": {},
   "outputs": [],
   "source": [
    "!git checkout -- file1.txt"
   ]
  },
  {
   "cell_type": "markdown",
   "metadata": {},
   "source": [
    "This will check out the version of your file from your last commit, so this is why it's good to commit often!"
   ]
  },
  {
   "cell_type": "code",
   "execution_count": null,
   "metadata": {},
   "outputs": [],
   "source": [
    "cat file1.txt"
   ]
  },
  {
   "cell_type": "code",
   "execution_count": null,
   "metadata": {},
   "outputs": [],
   "source": [
    "!git status"
   ]
  },
  {
   "cell_type": "markdown",
   "metadata": {},
   "source": [
    "---"
   ]
  },
  {
   "cell_type": "markdown",
   "metadata": {},
   "source": [
    "## 8. Comparing changes in files"
   ]
  },
  {
   "cell_type": "markdown",
   "metadata": {},
   "source": [
    "If we want to look at the difference between a current file and a previous version, we use `git diff`<br>Usage: `git diff filename`\n",
    "\n",
    "Let's make a short example to see what `git diff` actually does. \n",
    "\n",
    "<u><b><font color='red'>In your test_project repo</font></b></u> run the following:"
   ]
  },
  {
   "cell_type": "code",
   "execution_count": null,
   "metadata": {},
   "outputs": [],
   "source": [
    "!touch git_diff_file.txt\n",
    "!echo 'first line' > git_diff_file.txt\n",
    "!git add git_diff_file.txt\n",
    "!git commit -m 'adding git_diff_file.txt for testing git diff'"
   ]
  },
  {
   "cell_type": "markdown",
   "metadata": {},
   "source": [
    "Now add some new text to this file and run `git diff`:"
   ]
  },
  {
   "cell_type": "code",
   "execution_count": null,
   "metadata": {},
   "outputs": [],
   "source": [
    "!echo 'blah blah blah' >> git_diff_file.txt\n",
    "!git diff git_diff_file.txt"
   ]
  },
  {
   "cell_type": "markdown",
   "metadata": {},
   "source": [
    "<b>Ok great, but what does this output _mean_? How do we interpret this?</b>\n",
    "1. The first line tells you what git is comparing. In this case it's git_diff_file.txt (The first name in the list `a/...` corresponds to the commit we made before, and the second `b/...` to the changes we just made but haven't yet committed)\n",
    "2. The second is the hash identifier for the file (stuff you probably won't need)\n",
    "3. The next two lines (those beginning with `---` and `+++`) are the legend that git assigns to the two versions of the file, (`a/git_diff_file.txt` is associated with the `-` sign and `b/git_diff_file.txt` with the `+` sign)\n",
    "4. The remaining lines tell you <b>_where_</b> in the file the changes were made and <b>_what_</b> changes were made. The stuff in the `@` symbols summarizes the changes made in the file. It's of the form `<starting line in A file>,<number of lines> <starting line in B file>,<number of lines>`. Here it tells us that line 1 in the A file had no changes (there's nothing after it meaning zero lines were changed), and then in the B file, starting at line 1, there's 2 lines (there were changes). The changes are then presented below that. `First line` has no symbol next to it because it is the same in both files, and the second line has a `+` next to it, meaning this line is missing in the A file and was added to our newest version (B file).<br>\n",
    "<b>To help you remember:</b>`-` = appears in A but removed in B, `+`= missing in A but added to B"
   ]
  },
  {
   "cell_type": "markdown",
   "metadata": {},
   "source": [
    "<p style=\"border-width:3px; border-style:solid; border-color:purple; padding: 1em;\"><b>It's ok if interpreting the code changes isn't very intuitive to you!</b></p>\n",
    "\n",
    "We generally won't be using diffing and merging in this class, largely because it's even worse to deal with in jupyter notebooks. If you're interested, there are several tools that work well for diffing and merging jupyter notebooks, including [nbdime](https://nbdime.readthedocs.io/en/latest/), which can be integrated into a jupyterhub environment."
   ]
  },
  {
   "cell_type": "markdown",
   "metadata": {},
   "source": [
    "---"
   ]
  },
  {
   "cell_type": "markdown",
   "metadata": {},
   "source": [
    "## 9. Removing files, ignoring files, cloning"
   ]
  },
  {
   "cell_type": "markdown",
   "metadata": {},
   "source": [
    "### <p style=\"border-width:3px; border-style:solid; border-color:red; padding: 1em;\"><font color='red'>IMPORTANT:</font> Removing things in a git repository</p>\n",
    "\n",
    "#### If you want to remove a file from being _tracked_ by git:\n",
    ">`git rm --cached filename`<br>\n",
    ">`git commit -m 'removed filename from tracking'`\n",
    "\n",
    "#### If you want to remove the file from being tracked by git *and* remove it from the filesystem (a regular `rm`):\n",
    ">`rm filename`<br>\n",
    ">`git add filename`<br>\n",
    ">`git commit -m 'deleting filename'`\n",
    "\n",
    "<b><font color>Note:</font></b> In older versions of git you have to use `git rm` instead of just `rm` to remove files! \n",
    ">`git rm filename`<br>\n",
    ">`git commit -m 'deleted filename'`\n",
    "Or, if you forgot: `git add -u filename` to update the file"
   ]
  },
  {
   "cell_type": "markdown",
   "metadata": {},
   "source": [
    "As an example, say we want to remove ```file3.txt``` from our repository. We can do this like we normally would in the command line with ```rm```:"
   ]
  },
  {
   "cell_type": "code",
   "execution_count": null,
   "metadata": {},
   "outputs": [],
   "source": [
    "rm file3.txt"
   ]
  },
  {
   "cell_type": "markdown",
   "metadata": {},
   "source": [
    "But how does git respond when you remove a file? Let's determine our repo status to find out!"
   ]
  },
  {
   "cell_type": "code",
   "execution_count": null,
   "metadata": {},
   "outputs": [],
   "source": [
    "!git status"
   ]
  },
  {
   "cell_type": "markdown",
   "metadata": {},
   "source": [
    "Based on the output, git understands that the file has been deleted, but you still made changes to your repository by deleting the file.<b><font color='red'> Exactly like making any other types of file changes in a git repo, you must also _add and commit_ any deletions!</font></b>"
   ]
  },
  {
   "cell_type": "code",
   "execution_count": null,
   "metadata": {},
   "outputs": [],
   "source": [
    "!git add 'file3.txt'\n",
    "!git commit -m 'deleting file3.txt'"
   ]
  },
  {
   "cell_type": "code",
   "execution_count": null,
   "metadata": {},
   "outputs": [],
   "source": [
    "!git status"
   ]
  },
  {
   "cell_type": "markdown",
   "metadata": {},
   "source": [
    "### Ignoring things with .gitignore\n",
    "\n",
    "What if you have some files that you want to keep in your local git repository but that you don't want to track? You can tell git to ignore certain types of files with a ```.gitignore``` file that you add to your repository! Let's make up some files we want to ignore:"
   ]
  },
  {
   "cell_type": "code",
   "execution_count": null,
   "metadata": {},
   "outputs": [],
   "source": [
    "!touch results1.dat results2.dat"
   ]
  },
  {
   "cell_type": "code",
   "execution_count": null,
   "metadata": {},
   "outputs": [],
   "source": [
    "!git status"
   ]
  },
  {
   "cell_type": "markdown",
   "metadata": {},
   "source": [
    "The way git is designed, it's always going to tell us we have these untracked files in our repository, unless we tell it to stop paying attention to them. So let's create a ```.gitignore``` file and add the `.dat` files to it"
   ]
  },
  {
   "cell_type": "code",
   "execution_count": null,
   "metadata": {},
   "outputs": [],
   "source": [
    "!echo \"*.dat\"> .gitignore"
   ]
  },
  {
   "cell_type": "code",
   "execution_count": null,
   "metadata": {},
   "outputs": [],
   "source": [
    "!cat .gitignore"
   ]
  },
  {
   "cell_type": "markdown",
   "metadata": {},
   "source": [
    "What we've done above is to tell git to ignore all files that have the `.dat` suffix. Let's see what `git status` says now:"
   ]
  },
  {
   "cell_type": "code",
   "execution_count": null,
   "metadata": {},
   "outputs": [],
   "source": [
    "!git status"
   ]
  },
  {
   "cell_type": "markdown",
   "metadata": {},
   "source": [
    "Ok, well that's better but now we need to add and commit ```.gitignore``` so that we can track this as well!"
   ]
  },
  {
   "cell_type": "code",
   "execution_count": null,
   "metadata": {},
   "outputs": [],
   "source": [
    "!git add .gitignore\n",
    "!git commit -m 'adding .gitignore, now ignoring .dat files'\n",
    "!git status"
   ]
  },
  {
   "cell_type": "markdown",
   "metadata": {},
   "source": [
    "><b>Note:</b> If you already started tracking some files and then add those files to .gitignore, they <b><font color='red'>will not</b></font> be ignored unless you unstage them and remove them from tracking (see the previous section on removing things from git)<br>\n",
    "\n",
    "To see what you are currently ignoring type `git status --ignored`"
   ]
  },
  {
   "cell_type": "markdown",
   "metadata": {},
   "source": [
    "### Cloning someone else's remote repository\n",
    "\n",
    "Usage: `git clone url_of_remote_repo_you_want_to_clone_here` \n",
    "\n",
    "You've already done this by cloning our class repository! \n",
    "\n",
    "Let's do another example by cloning the [NCAR python tutorial git repository](https://github.com/NCAR/ncar-python-tutorial.git) below\n",
    "\n",
    "><b>CAUTION: <font color='red'>Make sure your current directory isn't already a git repository!</font></b> Cloning a git repository inside a git repository will make git very upset"
   ]
  },
  {
   "cell_type": "code",
   "execution_count": null,
   "metadata": {},
   "outputs": [],
   "source": []
  },
  {
   "cell_type": "markdown",
   "metadata": {},
   "source": [
    "---"
   ]
  },
  {
   "cell_type": "markdown",
   "metadata": {},
   "source": [
    "## 10. Enter GitHub (or Gitlab)!"
   ]
  },
  {
   "cell_type": "markdown",
   "metadata": {},
   "source": [
    "It's great that we now have our local git repo to track files in our test_project directory but what if we want to keep it somewhere else where others can find it and access our code? That's where GitHub/Gitlab comes in. You'll need to access your UW Madison Gitlab account for this, so bring up [Gitlab](https://git.doit.wisc.edu/users/sign_in) in another tab and log in to your account!"
   ]
  },
  {
   "cell_type": "markdown",
   "metadata": {},
   "source": [
    "Once you are logged in, <b>create an _empty_ <font color='red'><u>(initialize without a readme)</u></font></b> gitlab repo called `test_project`, and let's add this remote repository so that we can push our local changes to it. \n",
    "\n",
    "You'll first need to get the url of the repo on gitlab, and you can do that by clicking on the 'clone' button in your repo and copying the url by the ```Clone with HTTPS``` option. Once you do that, go on over to your _local_ git repo on our jupyterhub and run the following command (paste your git repo url where it says ```your_git_repo_url_here```):"
   ]
  },
  {
   "cell_type": "code",
   "execution_count": null,
   "metadata": {},
   "outputs": [],
   "source": [
    "!git remote add origin your_git_repo_url_here"
   ]
  },
  {
   "cell_type": "markdown",
   "metadata": {},
   "source": [
    "Let's see what that did by asking git what our remote repository (called `origin`) is"
   ]
  },
  {
   "cell_type": "code",
   "execution_count": null,
   "metadata": {},
   "outputs": [],
   "source": [
    "!git remote -v"
   ]
  },
  {
   "cell_type": "markdown",
   "metadata": {},
   "source": [
    "Now open a terminal and <font color='red'>in the command line</font> push your local changes to gitlab by typing `git push origin main`. \n",
    "\n",
    "You'll need to authenticate with your UW-Madison NetID and password. Once you do that go back to your repo on gitlab and see what happened (you may need to refresh the page)!"
   ]
  },
  {
   "cell_type": "markdown",
   "metadata": {},
   "source": [
    "#### <p style=\"border-width:3px; border-style:solid; border-color:blue; padding: 1em;\"><font color='black'>Here are some useful commands for naming/setting/renaming remote repositories:</font></p> \n",
    "1. <b>Add a new repository:</b> `git remote add [name] [remote_repo_url]`\n",
    "2. <b> Remove a remote repository:</b>`git remote remove [name]` \n",
    ">Note: this doesn’t impact the remote repository itself; it just removes the link to it from your local repository, so that when you type `git remote -v` the remote you just removed will no longer show up<br>\n",
    "3. <b>Change remote repository url:</b> `git remote set-url [name] [new_url]` \n",
    ">This is especially useful if you put in the wrong remote repository url!<br>\n",
    "4. <b>Change the local name of your remote repository:</b> `git remote rename [old_name] [new_name]`\n",
    ">For example, we've been calling our remote repository 'origin' but you could call it whatever you want"
   ]
  },
  {
   "cell_type": "markdown",
   "metadata": {},
   "source": [
    "---"
   ]
  },
  {
   "cell_type": "markdown",
   "metadata": {},
   "source": [
    "## 11. A few extra notes"
   ]
  },
  {
   "cell_type": "markdown",
   "metadata": {},
   "source": [
    "1. If you aren't a fan of using the command line, I recommend checking out [GitHub for Desktop](https://desktop.github.com/) for use on your personal computer. It's still good to practice using git at the command line though, so keep working on that even if you do go the GitHub Desktop route"
   ]
  },
  {
   "cell_type": "markdown",
   "metadata": {},
   "source": [
    "2. Github sometimes requires you to create a personal access token (rather than authenticating with a password) to push changes to your remote repositories. If you don't like having to enter a personal access token every time you push to your remote respository, there are some steps you can take to remedy this, particularly by setting up [SSH keys](https://docs.github.com/en/github/authenticating-to-github/connecting-to-github-with-ssh). \n",
    "><b>Note:</b> This is a somewhat involved process (especially if you are not very familiar with unix and using a terminal), but I had no problem getting it set up on my mac, so if you want to set it up on your personal computer for your future work outside of this class I am happy to chat about it."
   ]
  },
  {
   "cell_type": "markdown",
   "metadata": {},
   "source": [
    "---"
   ]
  },
  {
   "cell_type": "code",
   "execution_count": null,
   "metadata": {},
   "outputs": [],
   "source": []
  }
 ],
 "metadata": {
  "kernelspec": {
   "display_name": "Python [conda env:uw-fall-2024]",
   "language": "python",
   "name": "conda-env-uw-fall-2024-py"
  },
  "language_info": {
   "codemirror_mode": {
    "name": "ipython",
    "version": 3
   },
   "file_extension": ".py",
   "mimetype": "text/x-python",
   "name": "python",
   "nbconvert_exporter": "python",
   "pygments_lexer": "ipython3",
   "version": "3.11.9"
  }
 },
 "nbformat": 4,
 "nbformat_minor": 4
}
