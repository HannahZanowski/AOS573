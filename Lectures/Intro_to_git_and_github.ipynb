{
 "cells": [
  {
   "cell_type": "markdown",
   "metadata": {},
   "source": [
    "<b><font size=20, color='#A020F0'>Introduction to Git and Github</font></b>"
   ]
  },
  {
   "cell_type": "markdown",
   "metadata": {},
   "source": [
    "Hannah Zanowski<br>\n",
    "9/12/22<br>\n",
    "Today's content has been heavily borrowed from the NCAR git tutorial"
   ]
  },
  {
   "cell_type": "markdown",
   "metadata": {},
   "source": [
    "#### <span style=\"color:green\">Learning Goals</span>\n",
    "By the end of this notebook you will\n",
    "1. Learn how to set up a git repository\n",
    "2. Learn how to use git to track file changes and revert to previous versions\n",
    "3. Learn how to set up a remote repository on github and push code to it"
   ]
  },
  {
   "cell_type": "markdown",
   "metadata": {},
   "source": [
    "#### Resources\n",
    "[Version control with git tutorial](https://swcarpentry.github.io/git-novice/) from Software Carpentry<br>\n",
    "[Gitlab Documentation](https://docs.gitlab.com/ee/topics/index.html)<br>\n",
    "[Gitlab Training Resources](https://kb.wisc.edu/shared-tools/110428) from UW-Madison Knowledge Base"
   ]
  },
  {
   "cell_type": "markdown",
   "metadata": {},
   "source": [
    "## What is Git? \n",
    "\n",
    "Git is a version control system. It allows you to track and store incremental changes to files/directories and revert to previous versions. The files/directories are contained in a repository, which is where they are tracked. Any changes you commit to the repository are saved, which is what allows you to go back to previous versions."
   ]
  },
  {
   "cell_type": "markdown",
   "metadata": {},
   "source": [
    "---"
   ]
  },
  {
   "cell_type": "markdown",
   "metadata": {},
   "source": [
    "## 1. Create a directory with a file in it"
   ]
  },
  {
   "cell_type": "markdown",
   "metadata": {},
   "source": [
    "First let's create a directory and add a file to it (make sure you're in the directory where you want to create your repository. <b><font color='red'>OUR AOS573 REPO IS ALREADY A GIT REPO--DO NOT CREATE ANOTHER ONE INSIDE THIS</font></b>):"
   ]
  },
  {
   "cell_type": "code",
   "execution_count": null,
   "metadata": {},
   "outputs": [],
   "source": [
    "pwd"
   ]
  },
  {
   "cell_type": "code",
   "execution_count": null,
   "metadata": {},
   "outputs": [],
   "source": [
    "mkdir test_project"
   ]
  },
  {
   "cell_type": "code",
   "execution_count": null,
   "metadata": {},
   "outputs": [],
   "source": [
    "cd test_project/"
   ]
  },
  {
   "cell_type": "code",
   "execution_count": null,
   "metadata": {},
   "outputs": [],
   "source": [
    "!echo 'Some text' > file1.txt"
   ]
  },
  {
   "cell_type": "markdown",
   "metadata": {},
   "source": [
    "<b>Note: In jupyter notebooks, to execute unix commands, put an exclamation point at the front.</b> You need not do this with a few basic commands like `cd`, `ls`, `pwd`, and `mkdir` because these are part of python's magic functions.<b><br><font size=3> If you are entering git commands on the command line, no exclamation point is needed!!"
   ]
  },
  {
   "cell_type": "markdown",
   "metadata": {},
   "source": [
    "Check that everything worked out, by \n",
    "1. Checking what directory you're in\n",
    "2. Listing all files including the hidden ones"
   ]
  },
  {
   "cell_type": "code",
   "execution_count": null,
   "metadata": {},
   "outputs": [],
   "source": [
    "pwd"
   ]
  },
  {
   "cell_type": "code",
   "execution_count": null,
   "metadata": {},
   "outputs": [],
   "source": [
    "ls -a"
   ]
  },
  {
   "cell_type": "markdown",
   "metadata": {},
   "source": [
    "---"
   ]
  },
  {
   "cell_type": "markdown",
   "metadata": {},
   "source": [
    "## 2. Set up Git"
   ]
  },
  {
   "cell_type": "markdown",
   "metadata": {},
   "source": [
    "Run the following commands to see if you have a git username and email address set for your commits"
   ]
  },
  {
   "cell_type": "code",
   "execution_count": null,
   "metadata": {},
   "outputs": [],
   "source": [
    "!git config --global --get user.name\n",
    "!git config --global --get user.email"
   ]
  },
  {
   "cell_type": "markdown",
   "metadata": {},
   "source": [
    "If the above lines print nothing for you, you need to set these parameters. This sets the username and email address associated with your commits. Edit and run the commands below to change this. Then run the previous commands to check if your name and email have been set"
   ]
  },
  {
   "cell_type": "code",
   "execution_count": null,
   "metadata": {},
   "outputs": [],
   "source": [
    "!git config --global user.name \"FirstName LastName\"\n",
    "!git config --global user.email you@domain.example.com "
   ]
  },
  {
   "cell_type": "markdown",
   "metadata": {},
   "source": [
    "---"
   ]
  },
  {
   "cell_type": "markdown",
   "metadata": {},
   "source": [
    "## 3. Now turn your directory into a git repository"
   ]
  },
  {
   "cell_type": "code",
   "execution_count": null,
   "metadata": {},
   "outputs": [],
   "source": [
    "!git init"
   ]
  },
  {
   "cell_type": "markdown",
   "metadata": {},
   "source": [
    "Type `ls -a` below. There should be a new .git repository there. This means your directory is now a git repository, and you will be able to track your changes!"
   ]
  },
  {
   "cell_type": "code",
   "execution_count": null,
   "metadata": {},
   "outputs": [],
   "source": [
    "ls -a"
   ]
  },
  {
   "cell_type": "markdown",
   "metadata": {},
   "source": [
    "However, just because your directory _is_ a git repository doesn't mean that it automatically tracks files that are there. You have to add these yourself. Run the following command below:"
   ]
  },
  {
   "cell_type": "code",
   "execution_count": null,
   "metadata": {},
   "outputs": [],
   "source": [
    "!git status"
   ]
  },
  {
   "cell_type": "markdown",
   "metadata": {},
   "source": [
    "#### `git status` is your friend. It will tell you where you are and whether or not you have files you need to commit:\n",
    "\n",
    "1. It tells you you're on branch 'main' (if you have an old version of git it might say you are on branch 'master'). Don't worry about branches for now, but think of all of the changes made in your repository as being saved to a single, linear history. This main history is the branch called 'main' in our current example.\n",
    "\n",
    "2. It tells you where you are in the history. You haven't made any commits yet  (\"Initial commit\"), so there's nothing in your history\n",
    "\n",
    "3. It tells you which files are 'untracked', meaning they haven't been added to your repository and git is not keeping track of them\n",
    "\n",
    "4. It gives you hints about what to do next, e.g., \"(use 'git add' to track)\""
   ]
  },
  {
   "cell_type": "markdown",
   "metadata": {},
   "source": [
    "<b>A note about git's move away from calling the initial branch 'master'</b><br>\n",
    "As mentioned before, sometimes older versions of git still initialize repositories with the branch name 'master' instead of 'main'. This is undesireable as it can lead to some confusion when pushing changes to a remote repository on github (remote repositories created on github default to 'main' as the initial branch name). To change this run the following command (if you get an error, you'll just need to run it _after_ doing your first commit): `!git branch -m master main`\n",
    "\n",
    "<b> Note:</b> If you want all your default branches to be called 'main' from now on you can set that as a global parameter in your git config file by running \n",
    "```bash \n",
    "git config --global init.defaultBranch main\n",
    "```"
   ]
  },
  {
   "cell_type": "code",
   "execution_count": null,
   "metadata": {},
   "outputs": [],
   "source": [
    "#!git branch -m master main"
   ]
  },
  {
   "cell_type": "code",
   "execution_count": null,
   "metadata": {},
   "outputs": [],
   "source": [
    "#!git status"
   ]
  },
  {
   "cell_type": "markdown",
   "metadata": {},
   "source": [
    "---"
   ]
  },
  {
   "cell_type": "markdown",
   "metadata": {},
   "source": [
    "## 4. Adding and committing files to your repository\n",
    "There are two steps you need to do for every file that you want git to track:\n",
    "1. Staging (adding a file)\n",
    "2. Committing (tellig git to track the current version of the file)"
   ]
  },
  {
   "cell_type": "markdown",
   "metadata": {},
   "source": [
    "Let's add file1.txt to our repository:"
   ]
  },
  {
   "cell_type": "code",
   "execution_count": null,
   "metadata": {},
   "outputs": [],
   "source": [
    "!git add file1.txt"
   ]
  },
  {
   "cell_type": "markdown",
   "metadata": {},
   "source": [
    "What did we just do? Type `!git status` below to find out"
   ]
  },
  {
   "cell_type": "code",
   "execution_count": null,
   "metadata": {},
   "outputs": [],
   "source": [
    "!git status"
   ]
  },
  {
   "cell_type": "markdown",
   "metadata": {},
   "source": [
    "So you've added the file to be tracked but it won't be tracked until you commit it! All you've done is _stage_ your file for tracking. Now commit it to your repository:"
   ]
  },
  {
   "cell_type": "code",
   "execution_count": null,
   "metadata": {},
   "outputs": [],
   "source": [
    "!git commit -m 'adding file1.txt'"
   ]
  },
  {
   "cell_type": "code",
   "execution_count": null,
   "metadata": {},
   "outputs": [],
   "source": [
    "!git status"
   ]
  },
  {
   "cell_type": "markdown",
   "metadata": {},
   "source": [
    "In the above we used the -m option to create a commit message. You must commit with a message. If you don't use the -m option git will open the default text editor (and remember on here it's vi) and you'll have to add a message there. Messages should make it clear what you've done in a particular commit, so think carefully about what you want your messages to say so that your future self can figure it out!\n",
    "\n",
    "Note: You can set your default text editor for git to be something that isn't vi, but we won't do this here. However, if you use a different text editor locally on your laptop, you can type the following in the command line (assuming you have git on your laptop!):\n",
    "\n",
    "```bash\n",
    "git config --global core.editor your_text_editor # Choose or type the name of whatever text editor you use\n",
    "```"
   ]
  },
  {
   "cell_type": "markdown",
   "metadata": {},
   "source": [
    "---"
   ]
  },
  {
   "cell_type": "markdown",
   "metadata": {},
   "source": [
    "## 5. Add some changes!"
   ]
  },
  {
   "cell_type": "markdown",
   "metadata": {},
   "source": [
    "Let's make some changes to our file and commit them so we can add a bit more to our history"
   ]
  },
  {
   "cell_type": "code",
   "execution_count": null,
   "metadata": {},
   "outputs": [],
   "source": [
    "!echo \"Stuff\" >> file1.txt\n",
    "!echo \"\" >> file1.txt\n",
    "!echo \"Git is lit.\" >> file1.txt\n",
    "!cat file1.txt"
   ]
  },
  {
   "cell_type": "markdown",
   "metadata": {},
   "source": [
    "Now let's see what git status tells us:"
   ]
  },
  {
   "cell_type": "code",
   "execution_count": null,
   "metadata": {},
   "outputs": [],
   "source": [
    "!git status"
   ]
  },
  {
   "cell_type": "markdown",
   "metadata": {},
   "source": [
    "Alright we have changes we need to stage (add) and commit! So let's do that!"
   ]
  },
  {
   "cell_type": "code",
   "execution_count": null,
   "metadata": {},
   "outputs": [],
   "source": [
    "!git add file1.txt\n",
    "!git commit -m 'updated file1.txt'"
   ]
  },
  {
   "cell_type": "markdown",
   "metadata": {},
   "source": [
    "<b> Note</b>: What happens if you create a bunch of new stuff at once? In general it's best to add and commit each change separately so that if/when you need to revert to a previous version, it will be easier for you to tell which file, and at which change, you want to go back to. However, no one will tell you that you *have* to do this, but it is good practice, and if you get in the habit now it's likely that your future self (or your future collaborators!) will thank you."
   ]
  },
  {
   "cell_type": "markdown",
   "metadata": {},
   "source": [
    "Regardless, committing more than one thing at once is definitely possible:"
   ]
  },
  {
   "cell_type": "code",
   "execution_count": null,
   "metadata": {},
   "outputs": [],
   "source": [
    "!echo 'this is file2' > file2.txt\n",
    "!echo 'this is file3' > file3.txt"
   ]
  },
  {
   "cell_type": "code",
   "execution_count": null,
   "metadata": {},
   "outputs": [],
   "source": [
    "!git add file2.txt file3.txt\n",
    "!git commit -m 'adding file2.txt and file3.txt'\n",
    "!git status"
   ]
  },
  {
   "cell_type": "markdown",
   "metadata": {},
   "source": [
    "---"
   ]
  },
  {
   "cell_type": "markdown",
   "metadata": {},
   "source": [
    "## 6. How do we look at our history?"
   ]
  },
  {
   "cell_type": "markdown",
   "metadata": {},
   "source": [
    "Use git log to tell you about the changes you've committed"
   ]
  },
  {
   "cell_type": "code",
   "execution_count": null,
   "metadata": {},
   "outputs": [],
   "source": [
    "!git log"
   ]
  },
  {
   "cell_type": "markdown",
   "metadata": {},
   "source": [
    "History is in reverse chronological order, with the latest commit FIRST. Characters following the `commit` text are a unique hash that identifies the commit.  You can specify commits using the entire hash string, or just the first ~7 characters of the hash that uniquely identify it."
   ]
  },
  {
   "cell_type": "markdown",
   "metadata": {},
   "source": [
    "When your history gets long you can have it print a shorter version:"
   ]
  },
  {
   "cell_type": "code",
   "execution_count": null,
   "metadata": {},
   "outputs": [],
   "source": [
    "!git log --oneline"
   ]
  },
  {
   "cell_type": "markdown",
   "metadata": {},
   "source": [
    "Or even better you can get the history of a single file:"
   ]
  },
  {
   "cell_type": "code",
   "execution_count": null,
   "metadata": {},
   "outputs": [],
   "source": [
    "!git log file1.txt "
   ]
  },
  {
   "cell_type": "markdown",
   "metadata": {},
   "source": [
    "`git log` is super useful, so if you want to explore what options are available type `!git log --help` (or just `git log --help` if you're on the command line)\n"
   ]
  },
  {
   "cell_type": "markdown",
   "metadata": {},
   "source": [
    "---"
   ]
  },
  {
   "cell_type": "markdown",
   "metadata": {},
   "source": [
    "## 7. Let's go back to the past"
   ]
  },
  {
   "cell_type": "markdown",
   "metadata": {},
   "source": [
    "Say we made some changes to a file and we commit them and then realize we don't need them and want an earlier version."
   ]
  },
  {
   "cell_type": "markdown",
   "metadata": {},
   "source": [
    "To be able to find a previous version of a commited file, we need to get the commit hash and do a `git checkout`. Let's find the commit hash for the commit with the message `adding file1.txt` (you can use grep in git log!)"
   ]
  },
  {
   "cell_type": "code",
   "execution_count": null,
   "metadata": {},
   "outputs": [],
   "source": [
    "!git log --grep='adding file1.txt'"
   ]
  },
  {
   "cell_type": "markdown",
   "metadata": {},
   "source": [
    "Get the 1st few characters of the hash and run `git checkout`"
   ]
  },
  {
   "cell_type": "code",
   "execution_count": null,
   "metadata": {},
   "outputs": [],
   "source": [
    "!git checkout your_6_digit_hash_here"
   ]
  },
  {
   "cell_type": "markdown",
   "metadata": {},
   "source": [
    "Well that sounds..._ominous_...I'll explain what's going on, but first let's see what happened to file1.txt"
   ]
  },
  {
   "cell_type": "code",
   "execution_count": null,
   "metadata": {},
   "outputs": [],
   "source": [
    "cat file1.txt"
   ]
  },
  {
   "cell_type": "markdown",
   "metadata": {},
   "source": [
    "Cool! It's the earlier version! \n",
    "\n",
    "And now about this detached HEAD business...When you are in a 'detached HEAD' state it basically means that your 'HEAD' is no longer pointing to the latest commit in your repository (the latter is its normal state). Having a detached HEAD isn't actually a problem, and you can make experimental commits from this point without messing up the stuff you did after. \n",
    "\n",
    "<b><font color='red'>HOWEVER</b> if you DO NOT want to retain the changes you made in this state (or if you just want to go back because a detached HEAD still sounds pretty awful) then just checkout the branch you were on (main in this case), and if you DO want to keep the changes, then you should create a new branch like the message above suggests (you can then later _merge_ your new changes on this branch with the original branch using [git merge](https://git-scm.com/docs/git-merge)). We aren't going to make any changes in this state, so let's just go back to the front of our history:"
   ]
  },
  {
   "cell_type": "code",
   "execution_count": null,
   "metadata": {},
   "outputs": [],
   "source": [
    "!git checkout main"
   ]
  },
  {
   "cell_type": "code",
   "execution_count": null,
   "metadata": {},
   "outputs": [],
   "source": [
    "!git status"
   ]
  },
  {
   "cell_type": "markdown",
   "metadata": {},
   "source": [
    "Print the contents of file1.txt to the screen:"
   ]
  },
  {
   "cell_type": "code",
   "execution_count": null,
   "metadata": {},
   "outputs": [],
   "source": [
    "cat file1.txt"
   ]
  },
  {
   "cell_type": "markdown",
   "metadata": {},
   "source": [
    "Whew! Back where we started. Now, what if we make some changes to a file and royally mess up our code so that it now longer works, but we've already saved everything by trying to run it and we just want to go back to where we were before that happened. git can do that too! Let's first add some text to file1.txt:"
   ]
  },
  {
   "cell_type": "code",
   "execution_count": null,
   "metadata": {},
   "outputs": [],
   "source": [
    "!echo \"bad stuff\" > file1.txt"
   ]
  },
  {
   "cell_type": "code",
   "execution_count": null,
   "metadata": {},
   "outputs": [],
   "source": [
    "cat file1.txt"
   ]
  },
  {
   "cell_type": "markdown",
   "metadata": {},
   "source": [
    "Oh no we forgot the second `>` and just over-wrote the file! No big deal though, just run:"
   ]
  },
  {
   "cell_type": "code",
   "execution_count": null,
   "metadata": {},
   "outputs": [],
   "source": [
    "!git checkout -- file1.txt"
   ]
  },
  {
   "cell_type": "markdown",
   "metadata": {},
   "source": [
    "This will check out the version of your file from your last commit, so this is why it's good to commit often!"
   ]
  },
  {
   "cell_type": "code",
   "execution_count": null,
   "metadata": {},
   "outputs": [],
   "source": [
    "cat file1.txt"
   ]
  },
  {
   "cell_type": "markdown",
   "metadata": {},
   "source": [
    "---"
   ]
  },
  {
   "cell_type": "markdown",
   "metadata": {},
   "source": [
    "## 8. Other useful things in git"
   ]
  },
  {
   "cell_type": "markdown",
   "metadata": {},
   "source": [
    "#### Cloning someone else's remote repository\n",
    "\n",
    "Usage: `git clone url_of_remote_repo_you_want_to_clone_here`. For example, say you wanted to clone the NCAR python tutorial, you could do that by running the following command (<b><font color='red'>just make sure your current directory isn't already a git repository!</font></b>):"
   ]
  },
  {
   "cell_type": "code",
   "execution_count": null,
   "metadata": {},
   "outputs": [],
   "source": [
    "!git clone https://github.com/NCAR/ncar-python-tutorial.git"
   ]
  },
  {
   "cell_type": "markdown",
   "metadata": {},
   "source": [
    "#### Ignoring things with .gitignore\n",
    "\n",
    "What if you have some files that you want to keep in your local git repository but that you don't want to track? You can tell git to ignore certain types of files with a .gitignore file that you add to your repository! Let's make up some files we want to ignore:"
   ]
  },
  {
   "cell_type": "code",
   "execution_count": null,
   "metadata": {},
   "outputs": [],
   "source": [
    "!touch results1.dat results2.dat"
   ]
  },
  {
   "cell_type": "code",
   "execution_count": null,
   "metadata": {},
   "outputs": [],
   "source": [
    "!git status"
   ]
  },
  {
   "cell_type": "markdown",
   "metadata": {},
   "source": [
    "The way git is designed, it's always going to tell us we have these untracked files in our repository, unless we tell it to stop paying attention to them. So let's create a .gitignore file and add the `.dat` files to it"
   ]
  },
  {
   "cell_type": "code",
   "execution_count": null,
   "metadata": {},
   "outputs": [],
   "source": [
    "!echo \"*.dat\"> .gitignore"
   ]
  },
  {
   "cell_type": "code",
   "execution_count": null,
   "metadata": {},
   "outputs": [],
   "source": [
    "!cat .gitignore"
   ]
  },
  {
   "cell_type": "markdown",
   "metadata": {},
   "source": [
    "What we've done above is to tell git to ignore all files that have the `.dat` suffix. Let's see what `git status` says now:"
   ]
  },
  {
   "cell_type": "code",
   "execution_count": null,
   "metadata": {},
   "outputs": [],
   "source": []
  },
  {
   "cell_type": "markdown",
   "metadata": {},
   "source": [
    "Ok, well that's better but now we need to add and commit .gitignore so that we can track this as well!"
   ]
  },
  {
   "cell_type": "code",
   "execution_count": null,
   "metadata": {},
   "outputs": [],
   "source": [
    "!git add .gitignore\n",
    "!git commit -m 'adding .gitignore, now ignoring .dat files'\n",
    "!git status"
   ]
  },
  {
   "cell_type": "markdown",
   "metadata": {},
   "source": [
    "<b>Note:</b> If you already started tracking some files and then add those files to .gitignore, they <b><font color='red'>will not</b></font> be ignored unless you unstage them and remove them from tracking (see the following section on removing things from git)<br>\n",
    "\n",
    "To see what you are currently ignoring type `git status --ignored`"
   ]
  },
  {
   "cell_type": "markdown",
   "metadata": {},
   "source": [
    "#### <font color='red'>IMPORTANT:</font> Removing things with `git rm`\n",
    "\n",
    "If you want to remove a file from being tracked by git:\n",
    "\n",
    "`git rm --cached filename`<br>\n",
    "`git commit -m 'removed filename from tracking'`\n",
    "\n",
    "If you want to remove the file from being tracked by git *and* remove it from the filesystem (a regular `rm`):\n",
    "\n",
    "`git rm filename`<br>\n",
    "`git commit -m 'deleted filename'`"
   ]
  },
  {
   "cell_type": "markdown",
   "metadata": {},
   "source": [
    "---"
   ]
  },
  {
   "cell_type": "markdown",
   "metadata": {},
   "source": [
    "## 9. Enter GitHub (or gitlab)!"
   ]
  },
  {
   "cell_type": "markdown",
   "metadata": {},
   "source": [
    "It's great that we now have our local git repo to track files in our test_project directory but what if we want to keep it somewhere else where others can find it and access our code? That's where GitHub/Gitlab comes in. You'll need to access your UW Madison Gitlab account for this, so bring up [Gitlab](https://git.doit.wisc.edu/users/sign_in) in another tab and log in to your account!"
   ]
  },
  {
   "cell_type": "markdown",
   "metadata": {},
   "source": [
    "Once you are logged in, create an _empty_ (initialize without a readme) gitlab repo called test_project, and let's add this remote repository so that we can push our local changes to it. \n",
    "\n",
    "You'll first need to get the url of the repo on gitlab, and you can do that by clicking on the 'clone' button in your repo and copying the url by the ```Clone with HTTPS``` option. Once you do that, go on over to your _local_ git repo on the AOS jupyterhub and run the following command (paste your git repo url where it says ```your_git_repo_url_here```):"
   ]
  },
  {
   "cell_type": "code",
   "execution_count": null,
   "metadata": {},
   "outputs": [],
   "source": [
    "!git remote add origin your_git_repo_url_here"
   ]
  },
  {
   "cell_type": "markdown",
   "metadata": {},
   "source": [
    "Let's see what that did by asking git what our remote repository (called 'origin') is"
   ]
  },
  {
   "cell_type": "code",
   "execution_count": null,
   "metadata": {},
   "outputs": [],
   "source": [
    "!git remote -v"
   ]
  },
  {
   "cell_type": "markdown",
   "metadata": {},
   "source": [
    "Now open a terminal and push your local changes to gitlab by typing `git push -u origin main` <font color='red'>into the command line</font>. You'll need to authenticate with your username and <font color='red'><u>when prompted for your password you should enter your personal access token</u></font> (just copy and paste it). Once you do that go back to your repo on gitlab and see what happened!"
   ]
  },
  {
   "cell_type": "markdown",
   "metadata": {},
   "source": [
    "#### Here are some useful commands for naming/setting/renaming remote repositories\n",
    "`git remote add [name] [remote_repo_url]` adds a new remote repository <br>\n",
    "`git remote remove [name]` removes a remote repository. This doesn’t impact the remote repository itself; it just removes the link to it from your local repositorty, so that when you type `git remote -v` the remote you just removed will no longer show up<br>\n",
    "`git remote set-url [name] [new_url]` changes the url of your remote repository. Especially useful if you put in the wrong remote repository url!<br>\n",
    "`git remote rename [old_name] [new_name]` changes the local name of your remote repository. For example, we've been calling our remote repository 'origin' but you could call it whatever you want"
   ]
  },
  {
   "cell_type": "markdown",
   "metadata": {},
   "source": [
    "---"
   ]
  },
  {
   "cell_type": "markdown",
   "metadata": {},
   "source": [
    "## 10. A few notes"
   ]
  },
  {
   "cell_type": "markdown",
   "metadata": {},
   "source": [
    "1. If you aren't a fan of using the command line, I recommend checking out [GitHub for Desktop](https://desktop.github.com/) for use on your personal computer. It's still good to get practice using git at the command line though, so keep working on that even if you do go the GitHub Desktop route"
   ]
  },
  {
   "cell_type": "markdown",
   "metadata": {},
   "source": [
    "2. If you don't like having to enter your personal access token every time you push to your remote respository, there are some steps you can take to remedy this, particularly by setting up [SSH keys](https://docs.github.com/en/github/authenticating-to-github/connecting-to-github-with-ssh). <b>Note:</b> This is a somewhat involved process, and one that I have tried to set up unsuccessfully for myself on the AOS Jupyterhub, but I had no problem getting it set up on my mac, so if you want to set it up on your personal computer for your future work outside of this class I am happy to chat about it."
   ]
  }
 ],
 "metadata": {
  "kernelspec": {
   "display_name": "Python 3 (ipykernel)",
   "language": "python",
   "name": "python3"
  },
  "language_info": {
   "codemirror_mode": {
    "name": "ipython",
    "version": 3
   },
   "file_extension": ".py",
   "mimetype": "text/x-python",
   "name": "python",
   "nbconvert_exporter": "python",
   "pygments_lexer": "ipython3",
   "version": "3.7.10"
  }
 },
 "nbformat": 4,
 "nbformat_minor": 4
}
