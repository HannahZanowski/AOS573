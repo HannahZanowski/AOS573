{
 "cells": [
  {
   "cell_type": "markdown",
   "metadata": {},
   "source": [
    "<b><font size=20, color='#A020F0'>3D plotting with Matplotlib"
   ]
  },
  {
   "cell_type": "markdown",
   "metadata": {},
   "source": [
    "Hannah Zanowski<br>\n",
    "12/1/21<br>"
   ]
  },
  {
   "cell_type": "markdown",
   "metadata": {},
   "source": [
    "#### Resources\n",
    "[mplot3d toolkit](https://matplotlib.org/stable/tutorials/toolkits/mplot3d.html#sphx-glr-tutorials-toolkits-mplot3d-py)<br>"
   ]
  },
  {
   "cell_type": "markdown",
   "metadata": {},
   "source": [
    "# A little about today's lecture\n",
    "\n",
    "As the name a suggests, we'll be using matplotlib to learn how to make plots in 3D today. This can be a really useful tool for visualizing complex data, but it isn't always something we use in the day-to-day. Also, at this point in the semester, we've gotten through all of the major course material, so now it's time for miscellaneous fun things (i.e., I did not prepare a lecture)!"
   ]
  },
  {
   "cell_type": "markdown",
   "metadata": {},
   "source": [
    "## The mplot3d toolkit\n",
    "Matplotlib has a toolkit for plotting in 3d called [mplot3d](https://matplotlib.org/stable/tutorials/toolkits/mplot3d.html#sphx-glr-tutorials-toolkits-mplot3d-py). You can import it like you import anything else:"
   ]
  },
  {
   "cell_type": "code",
   "execution_count": null,
   "metadata": {},
   "outputs": [],
   "source": [
    "# %matplotlib notebook #for making the 3d figures interactive, currently not working\n",
    "import numpy as np\n",
    "import matplotlib.pyplot as plt\n",
    "from mpl_toolkits import mplot3d"
   ]
  },
  {
   "cell_type": "markdown",
   "metadata": {},
   "source": [
    "### Setting up a 3d plot axis\n",
    "You can set up a 3d plot by setting the `projection` keyword in the call to your plot axes:"
   ]
  },
  {
   "cell_type": "code",
   "execution_count": null,
   "metadata": {},
   "outputs": [],
   "source": [
    "fig=plt.figure()\n",
    "ax=plt.axes(projection='3d')\n",
    "\n",
    "#or\n",
    "#fig=plt.figure()\n",
    "#ax=fig.add_subplot(111,projection='3d')"
   ]
  },
  {
   "cell_type": "markdown",
   "metadata": {},
   "source": [
    "Let's look at what the type of the axis is..."
   ]
  },
  {
   "cell_type": "code",
   "execution_count": null,
   "metadata": {},
   "outputs": [],
   "source": []
  },
  {
   "cell_type": "markdown",
   "metadata": {},
   "source": [
    "<b>Note:</b> There is a lot you can do with [Axes3D](https://matplotlib.org/stable/api/_as_gen/mpl_toolkits.mplot3d.axes3d.Axes3D.html)!"
   ]
  },
  {
   "cell_type": "markdown",
   "metadata": {},
   "source": [
    "For multiple axes, use the `subplot_kw` argument, in the same way we did for setting up cartopy projections."
   ]
  },
  {
   "cell_type": "code",
   "execution_count": null,
   "metadata": {},
   "outputs": [],
   "source": [
    "fig,ax=plt.subplots(2,2,subplot_kw={'projection':'3d'})"
   ]
  },
  {
   "cell_type": "markdown",
   "metadata": {},
   "source": [
    "## Making the plot"
   ]
  },
  {
   "cell_type": "markdown",
   "metadata": {},
   "source": [
    "### Example 1: A 3D line plot\n",
    "The plotting command for creating a 3d line plot is still [plot](https://matplotlib.org/stable/tutorials/toolkits/mplot3d.html#mpl_toolkits.mplot3d.Axes3D.plot) as in 2D plotting, but you need to feed a 3rd argument to the command. "
   ]
  },
  {
   "cell_type": "code",
   "execution_count": null,
   "metadata": {},
   "outputs": [],
   "source": [
    "#create some data for plotting\n",
    "z=np.arange(0,10*np.pi,np.pi/12)\n",
    "x=np.sin(z)\n",
    "y=np.cos(z)\n",
    "\n",
    "#set up axis\n",
    "fig,ax=plt.subplots(subplot_kw={'projection':'3d'},figsize=(6,6))\n",
    "\n",
    "#do the 3d plot\n",
    "ax.plot(x,y,z,color='m')"
   ]
  },
  {
   "cell_type": "markdown",
   "metadata": {},
   "source": [
    "<b>Note:</b> If you provide 3 arguments to `plot()` when your axis is only 2D, python will try to make a plot, but it's not going to be what you wanted"
   ]
  },
  {
   "cell_type": "code",
   "execution_count": null,
   "metadata": {},
   "outputs": [],
   "source": [
    "fig,ax=plt.subplots()\n",
    "ax.plot(x,y,z)"
   ]
  },
  {
   "cell_type": "markdown",
   "metadata": {},
   "source": [
    "### Example 2: 3D contour plots\n",
    "For 3D contour plots, independent variables need to be <b>2D regular grids</b> and the value of the function needs to be defined at those points, i.e. it should be of the form $z=f(x,y)$"
   ]
  },
  {
   "cell_type": "code",
   "execution_count": null,
   "metadata": {},
   "outputs": [],
   "source": [
    "#create some data for plotting\n",
    "x=np.linspace(-10,10,100)\n",
    "y=x\n",
    "x,y=np.meshgrid(x,y)\n",
    "z=np.sqrt(x**2+y**2)"
   ]
  },
  {
   "cell_type": "code",
   "execution_count": null,
   "metadata": {},
   "outputs": [],
   "source": [
    "#set up axis\n",
    "fig,ax=plt.subplots(subplot_kw={'projection':'3d'},figsize=(6,6))\n",
    "\n",
    "#make the contour plot\n",
    "ax.contour(x, y, z, 30) #last argument is number of contour levels\n",
    "\n",
    "#add labels\n",
    "ax.set_xlabel('x')\n",
    "ax.set_ylabel('y')\n",
    "ax.set_zlabel('z')"
   ]
  },
  {
   "cell_type": "markdown",
   "metadata": {},
   "source": [
    "If you want to change the viewing angle after you set up the plot, you can use `view_init`"
   ]
  },
  {
   "cell_type": "code",
   "execution_count": null,
   "metadata": {},
   "outputs": [],
   "source": [
    "ax.view_init(45, 15) #elevation, azimuth\n",
    "fig"
   ]
  },
  {
   "cell_type": "markdown",
   "metadata": {},
   "source": [
    "You can also do filled contour plots:"
   ]
  },
  {
   "cell_type": "code",
   "execution_count": null,
   "metadata": {},
   "outputs": [],
   "source": []
  },
  {
   "cell_type": "markdown",
   "metadata": {},
   "source": [
    "### Example 3: Surface plots\n",
    "These types of plots project a 2D grid of values onto a 3D surface rather than having disparate contours. You can make a wireframe plot with [plot_wireframe()](https://matplotlib.org/stable/tutorials/toolkits/mplot3d.html#wireframe-plots) or a filled surface plot with [plot_surface()](https://matplotlib.org/stable/tutorials/toolkits/mplot3d.html#surface-plots)"
   ]
  },
  {
   "cell_type": "code",
   "execution_count": null,
   "metadata": {},
   "outputs": [],
   "source": [
    "#wireframe example\n",
    "#set up axis\n",
    "fig,ax=plt.subplots(subplot_kw={'projection':'3d'},figsize=(6,6))\n",
    "\n",
    "#make the wireframe plot\n",
    "ax.plot_wireframe(x, y, z,color='navy')\n",
    "\n",
    "#add labels\n",
    "ax.set_xlabel('x')\n",
    "ax.set_ylabel('y')\n",
    "ax.set_zlabel('z')"
   ]
  },
  {
   "cell_type": "code",
   "execution_count": null,
   "metadata": {},
   "outputs": [],
   "source": [
    "#surface plot example\n"
   ]
  },
  {
   "cell_type": "markdown",
   "metadata": {},
   "source": [
    "### Example 4: triangulation \n",
    "What if your data aren't on an evenly-spaced grid? Matplotlib has a triangulation option! The command is [plot_trisurf()](https://matplotlib.org/stable/tutorials/toolkits/mplot3d.html#surface-plots)"
   ]
  },
  {
   "cell_type": "code",
   "execution_count": null,
   "metadata": {},
   "outputs": [],
   "source": [
    "#create the data\n",
    "#this time choose random points instead of having a grid\n",
    "theta=2*np.pi*np.random.random(1000)\n",
    "r=4.5*np.random.random(1000)\n",
    "x=r*np.sin(theta)\n",
    "y=r*np.cos(theta)\n",
    "z=(10*np.sqrt(2)*np.pi)*np.exp(-0.5*x**2)*np.exp(-0.5*y**2)"
   ]
  },
  {
   "cell_type": "markdown",
   "metadata": {},
   "source": [
    "Let's make a quick 3D scatterplot first to visualize the data"
   ]
  },
  {
   "cell_type": "code",
   "execution_count": null,
   "metadata": {},
   "outputs": [],
   "source": [
    "#set up axis\n",
    "fig,ax=plt.subplots(subplot_kw={'projection':'3d'},figsize=(8,8))\n",
    "\n",
    "#make the plot\n",
    "ax.scatter(x, y, z, c=z) #c is the color"
   ]
  },
  {
   "cell_type": "markdown",
   "metadata": {},
   "source": [
    "Now make a plot of the surface with `plot_trisurf`:"
   ]
  },
  {
   "cell_type": "code",
   "execution_count": null,
   "metadata": {},
   "outputs": [],
   "source": []
  },
  {
   "cell_type": "markdown",
   "metadata": {},
   "source": [
    "---"
   ]
  },
  {
   "cell_type": "markdown",
   "metadata": {},
   "source": [
    "## Now you get to try it!"
   ]
  },
  {
   "cell_type": "markdown",
   "metadata": {},
   "source": [
    "Make a 3D surface plot of the following equation:\n",
    "\n",
    "$f(x,y)=\\frac{xy(x^{2}-y^{2})}{(x^{2}+y^{2})}$\n",
    "\n",
    "Where <br>\n",
    "x=np.range(-10.1,10.1,0.5)<br>\n",
    "y=x"
   ]
  },
  {
   "cell_type": "code",
   "execution_count": null,
   "metadata": {},
   "outputs": [],
   "source": []
  }
 ],
 "metadata": {
  "kernelspec": {
   "display_name": "Python [conda env:AOS573_F21] *",
   "language": "python",
   "name": "conda-env-AOS573_F21-py"
  },
  "language_info": {
   "codemirror_mode": {
    "name": "ipython",
    "version": 3
   },
   "file_extension": ".py",
   "mimetype": "text/x-python",
   "name": "python",
   "nbconvert_exporter": "python",
   "pygments_lexer": "ipython3",
   "version": "3.7.10"
  }
 },
 "nbformat": 4,
 "nbformat_minor": 4
}
