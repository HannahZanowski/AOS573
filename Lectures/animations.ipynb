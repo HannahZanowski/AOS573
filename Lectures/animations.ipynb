{
 "cells": [
  {
   "cell_type": "markdown",
   "metadata": {},
   "source": [
    "<b><font size=20, color='#A020F0'>Animations</font></b>"
   ]
  },
  {
   "cell_type": "markdown",
   "metadata": {},
   "source": [
    "Hannah Zanowski<br>\n",
    "12/3/21<br>"
   ]
  },
  {
   "cell_type": "markdown",
   "metadata": {},
   "source": [
    "#### Resources\n",
    "[matplotlib animation](https://matplotlib.org/stable/api/animation_api.html#animation)<br>\n",
    "[ffmpeg download](https://ffmpeg.org/download.html)\n",
    "\n",
    "Other animation tools <br>\n",
    "[Celluloid](https://pypi.org/project/celluloid/)<br>\n",
    "[Plotly](https://plotly.com/python/animations/)<br>\n",
    "[Python CLI for VisIt](https://visit-sphinx-github-user-manual.readthedocs.io/en/develop/cli_manual/index.html)<br>\n",
    "[VisIt](https://visit-dav.github.io/visit-website/index.html) (this is not a python package)\n",
    "\n",
    "Some examples:<br>\n",
    "[Animated Schrödinger Equation](https://jakevdp.github.io/blog/2012/09/05/quantum-python/)<br>\n",
    "[Animation in Jupyter notebooks tutorial](https://jckantor.github.io/CBE30338/A.03-Animation-in-Jupyter-Notebooks.html)<br>"
   ]
  },
  {
   "cell_type": "markdown",
   "metadata": {},
   "source": [
    "# A little about today's lecture\n",
    "Today we'll be using matplotlib to learn how to make animations. Animations are another really useful tool for visualizing data, especially if you want to show how something is changing in time. Unfortunately, because the AOS jupyterhub is being a colossal _tool_, you will not get to run your own animations in class today as you follow along with lecture. However, you'll at least have this code to refer to if you ever want to make animations in your own python environment."
   ]
  },
  {
   "cell_type": "markdown",
   "metadata": {},
   "source": [
    "## matplotlib.animation\n",
    "Matplotlib has a set of tools for making animations called...[animation](https://matplotlib.org/stable/api/animation_api.html). But first let's use a python magic to make things interactive in your notebook:"
   ]
  },
  {
   "cell_type": "code",
   "execution_count": null,
   "metadata": {},
   "outputs": [],
   "source": [
    "#This command makes plots interactive in jupyterlab\n",
    "%matplotlib widget"
   ]
  },
  {
   "cell_type": "code",
   "execution_count": null,
   "metadata": {},
   "outputs": [],
   "source": [
    "import numpy as np\n",
    "import xarray as xr\n",
    "import cartopy.crs as ccrs\n",
    "import cartopy.feature as cfeature\n",
    "import matplotlib.pyplot as plt\n",
    "from matplotlib import animation"
   ]
  },
  {
   "cell_type": "markdown",
   "metadata": {},
   "source": [
    "## Basic Animation\n",
    "Matplotlib has several ways to make an animation, but a common method is to use [FuncAnimation](https://matplotlib.org/stable/api/_as_gen/matplotlib.animation.FuncAnimation.html#matplotlib.animation.FuncAnimation) to create an animation by repeatedly calling a function that creates a frame for the animation. \n",
    "\n",
    "In this example, we'll animate the location of a point on a circle over time. Below we'll go through the steps you need to follow in order to create an animation:"
   ]
  },
  {
   "cell_type": "markdown",
   "metadata": {},
   "source": [
    "### 1. Set up the figure\n",
    "This is where you create the initial setup for your plot. Think of it as a snapshot of the first frame in your animation"
   ]
  },
  {
   "cell_type": "code",
   "execution_count": null,
   "metadata": {},
   "outputs": [],
   "source": [
    "#make the circle for the plot\n",
    "r=2\n",
    "theta=np.linspace(0,2*np.pi,100)\n",
    "x=r*np.cos(theta)\n",
    "y=r*np.sin(theta)\n",
    "\n",
    "fig,ax=plt.subplots()\n",
    "plt.plot(x,y,color='goldenrod')\n",
    "pt,=ax.plot(x[0],y[0],marker='o',color='k',zorder=3) #zorder sets the layer number, i.e, whether or not your\n",
    "#point is behind the circle or on top of it)\n",
    "ax.set_xlim(-3,3)\n",
    "ax.set_ylim(-3,3)\n",
    "ax.set_aspect('equal')\n",
    "plt.title('My Animation');\n",
    "plt.xlabel('x');\n",
    "plt.ylabel('y');"
   ]
  },
  {
   "cell_type": "markdown",
   "metadata": {},
   "source": [
    "### 2. Initialize the background for each frame\n",
    "Here you want to set the parts of the plot that _will_ change to be blank, by setting up a function that draws a clean frame. In this case the only thing we need to make blank is our single plot point as that's the only thing that will be changing in our animation."
   ]
  },
  {
   "cell_type": "code",
   "execution_count": null,
   "metadata": {},
   "outputs": [],
   "source": [
    "def frame_init():\n",
    "    pt.set_data([],[]) #set the data for the plot point to be empty\n",
    "    return pt"
   ]
  },
  {
   "cell_type": "markdown",
   "metadata": {},
   "source": [
    "### 3. Create the animation function\n",
    "This is the function that creates each new frame with the updated location of the scatterplot point"
   ]
  },
  {
   "cell_type": "code",
   "execution_count": null,
   "metadata": {},
   "outputs": [],
   "source": [
    "def animate(i):\n",
    "    pt.set_data(x[i],y[i]) #set the data for the plot point to be at each x,y from above\n",
    "    return pt"
   ]
  },
  {
   "cell_type": "markdown",
   "metadata": {},
   "source": [
    "### 4. Put it all together\n",
    "Once you have your intialization function and your animation function, provide these as arguments to `FuncAnimation()` and then use `plt.show()` to show the animation.\n",
    "\n",
    "<font size=3><b>NOTE:</b> To <b><font color='red'>_stop_</font></b> an animation, hit the stop button in the top panel of your notebook or run `anim.event_source.stop()`</font>\n",
    "\n",
    "\n",
    "Arguments to `FuncAnimation()`\n",
    "1. `frames` is the number of frames that will be generated. This is the value that `i` takes on in your animate function in step 3. In this case I've set frames to be the length of the data so that the point can make it all the way around the circle!\n",
    "2. `interval` is the interval between frames in milliseconds\n",
    "3. `blit=True` tells python to only redraw things that have changed from one frame to the next. This can save a lot of time!\n",
    "4. `repeat=True` although not set below, this is the default. It tells python to repreat the animation once the sequence of frames is completed"
   ]
  },
  {
   "cell_type": "code",
   "execution_count": null,
   "metadata": {},
   "outputs": [],
   "source": [
    "anim=animation.FuncAnimation(fig,animate,init_func=frame_init,frames=100,interval=10,blit=True)\n",
    "plt.show()"
   ]
  },
  {
   "cell_type": "code",
   "execution_count": null,
   "metadata": {},
   "outputs": [],
   "source": [
    "anim.event_source.stop()"
   ]
  },
  {
   "cell_type": "markdown",
   "metadata": {},
   "source": [
    "### Saving animations\n",
    "You can save the animations, but it requires an encoder like [ffmpeg](https://ffmpeg.org/download.html) to be installed, which is not the case on the AOS jupyterhub. However, here is an example of what the code to save an animation as an mp4 could look like:\n",
    "```bash\n",
    "anim.save('my_animation.mp4', fps=20, extra_args=['-vcodec', 'libx264'])\n",
    "```"
   ]
  },
  {
   "cell_type": "markdown",
   "metadata": {},
   "source": [
    "---"
   ]
  },
  {
   "cell_type": "markdown",
   "metadata": {},
   "source": [
    "## An example with data!\n",
    "Here I'll show you how to make an animation using the HadISST data we used in an earlier lecture."
   ]
  },
  {
   "cell_type": "code",
   "execution_count": null,
   "metadata": {},
   "outputs": [],
   "source": [
    "ds=xr.open_dataset('HadISST_201501_201912.nc')\n",
    "ds"
   ]
  },
  {
   "cell_type": "markdown",
   "metadata": {},
   "source": [
    "For this example, let's make a \"climatology\" out of the 5 years of SST data that we have. We'll also need to reindex the latitudes and get rid of the missing values"
   ]
  },
  {
   "cell_type": "code",
   "execution_count": null,
   "metadata": {},
   "outputs": [],
   "source": [
    "ds=ds.reindex(latitude=list(reversed(ds.latitude))) #reindex latitude\n",
    "land=np.isnan(ds.sst[0]) #land mask\n",
    "ds=ds.where(ds.sst>-1000) #\n",
    "ds=ds.groupby('time.month').mean('time')\n",
    "ds"
   ]
  },
  {
   "cell_type": "markdown",
   "metadata": {},
   "source": [
    "### Make a plot\n",
    "First we'll set up a nice cartopy plot for showing the SSTs"
   ]
  },
  {
   "cell_type": "code",
   "execution_count": null,
   "metadata": {},
   "outputs": [],
   "source": [
    "fig,ax=plt.subplots(subplot_kw={'projection':ccrs.Mollweide()})\n",
    "cs0=ax.pcolormesh(ds.longitude,ds.latitude,land,cmap=plt.cm.gray_r,transform=ccrs.PlateCarree())\n",
    "cs1=ax.pcolormesh(ds.longitude,ds.latitude,ds.sst[0],transform=ccrs.PlateCarree(),vmin=-2,vmax=30)\n",
    "cbar=plt.colorbar(cs1,orientation='horizontal',pad=0.03)\n",
    "cbar.set_label('SST ($\\degree$C)')\n",
    "plt.title('Jan')"
   ]
  },
  {
   "cell_type": "markdown",
   "metadata": {},
   "source": [
    "### Set up the animation function\n",
    "Instead of making an initialization function like we did last time, here we'll just redraw the contour plot for each frame by first setting the pcolormesh contour collections to an empty set. This helps keep the animation from running really slowly."
   ]
  },
  {
   "cell_type": "code",
   "execution_count": null,
   "metadata": {},
   "outputs": [],
   "source": [
    "titles=['Jan','Feb','Mar','Apr','May','Jun','Jul','Aug','Sep','Oct','Nov','Dec']\n",
    "def animate(i):\n",
    "    ax.collections=[] #reset all the contour collections\n",
    "    cs0=ax.pcolormesh(ds.longitude,ds.latitude,land,cmap=plt.cm.gray_r,transform=ccrs.PlateCarree())\n",
    "    cs1=ax.pcolormesh(ds.longitude,ds.latitude,ds.sst[i],transform=ccrs.PlateCarree(),vmin=-2,vmax=30)\n",
    "    plt.title(titles[i])\n",
    "    return cs1"
   ]
  },
  {
   "cell_type": "markdown",
   "metadata": {},
   "source": [
    "### Make the animation"
   ]
  },
  {
   "cell_type": "code",
   "execution_count": null,
   "metadata": {},
   "outputs": [],
   "source": [
    "anim=animation.FuncAnimation(fig,animate,frames=12,interval=10,blit=True)\n",
    "plt.show()"
   ]
  },
  {
   "cell_type": "code",
   "execution_count": null,
   "metadata": {},
   "outputs": [],
   "source": [
    "#stop the animation\n",
    "anim.event_source.stop()"
   ]
  }
 ],
 "metadata": {
  "kernelspec": {
    "display_name": "Python [conda env:/home/jovyan]",
    "language": "python",
    "name": "conda-env-/home/jovyan-py"
},
  "language_info": {
   "codemirror_mode": {
    "name": "ipython",
    "version": 3
   },
   "file_extension": ".py",
   "mimetype": "text/x-python",
   "name": "python",
   "nbconvert_exporter": "python",
   "pygments_lexer": "ipython3",
   "version": "3.7.10"
  }
 },
 "nbformat": 4,
 "nbformat_minor": 4
}
